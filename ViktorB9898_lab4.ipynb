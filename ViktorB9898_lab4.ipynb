{
  "cells": [
    {
      "cell_type": "markdown",
      "metadata": {
        "id": "view-in-github",
        "colab_type": "text"
      },
      "source": [
        "<a href=\"https://colab.research.google.com/github/johanhoffman/DD2363_VT23/blob/ViktorB9898-Lab4/ViktorB9898_lab4.ipynb\" target=\"_parent\"><img src=\"https://colab.research.google.com/assets/colab-badge.svg\" alt=\"Open In Colab\"/></a>"
      ]
    },
    {
      "cell_type": "markdown",
      "metadata": {
        "id": "6RgtXlfYO_i7"
      },
      "source": [
        "# **Lab 4: Integration**\n",
        "**Viktor Beck**"
      ]
    },
    {
      "cell_type": "markdown",
      "metadata": {
        "id": "9x_J5FVuPzbm"
      },
      "source": [
        "# **Abstract**"
      ]
    },
    {
      "cell_type": "markdown",
      "metadata": {
        "id": "6UFTSzW7P8kL"
      },
      "source": [
        "This report features a method to approximate integrals of functions."
      ]
    },
    {
      "cell_type": "markdown",
      "metadata": {
        "id": "OkT8J7uOWpT3"
      },
      "source": [
        "#**About the code**"
      ]
    },
    {
      "cell_type": "code",
      "execution_count": 8,
      "metadata": {
        "colab": {
          "base_uri": "https://localhost:8080/",
          "height": 35
        },
        "id": "Pdll1Xc9WP0e",
        "outputId": "d9f30218-1e32-4636-9a85-8bf794191d69"
      },
      "outputs": [
        {
          "output_type": "execute_result",
          "data": {
            "text/plain": [
              "'KTH Royal Institute of Technology, Stockholm, Sweden.'"
            ],
            "application/vnd.google.colaboratory.intrinsic+json": {
              "type": "string"
            }
          },
          "metadata": {},
          "execution_count": 8
        }
      ],
      "source": [
        "\"\"\"This program is a lab report in the course\"\"\"\n",
        "\"\"\"DD2363 Methods in Scientific Computing, \"\"\"\n",
        "\"\"\"KTH Royal Institute of Technology, Stockholm, Sweden.\"\"\"\n",
        "\n",
        "# Copyright (C) 2023 Viktor Beck (vbeck@kth.se / viktor.beck98@gmail.com)\n",
        "\n",
        "# This file is part of the course DD2363 Methods in Scientific Computing\n",
        "# KTH Royal Institute of Technology, Stockholm, Sweden"
      ]
    },
    {
      "cell_type": "markdown",
      "metadata": {
        "id": "28xLGz8JX3Hh"
      },
      "source": [
        "# **Set up environment**"
      ]
    },
    {
      "cell_type": "markdown",
      "metadata": {
        "id": "D2PYNusD08Wa"
      },
      "source": [
        "To have access to the neccessary modules you have to run this cell."
      ]
    },
    {
      "cell_type": "code",
      "execution_count": 9,
      "metadata": {
        "id": "Xw7VlErAX7NS"
      },
      "outputs": [],
      "source": [
        "# Load neccessary modules.\n",
        "from google.colab import files\n",
        "\n",
        "import time\n",
        "import numpy as np\n",
        "from scipy.integrate import quad\n",
        "import random\n",
        "\n",
        "from matplotlib import pyplot as plt"
      ]
    },
    {
      "cell_type": "markdown",
      "metadata": {
        "id": "gnO3lhAigLev"
      },
      "source": [
        "# **Introduction**"
      ]
    },
    {
      "cell_type": "markdown",
      "metadata": {
        "id": "l5zMzgPlRAF6"
      },
      "source": [
        "This report is about numerical respectively approximative integration methods. Such methods are widely used by Python libraries like Numpy and Scipy and are very important for scientific computing.\n",
        "\n",
        "The input for this Lab report was taken from the book of Professor Hoffman (https://doi-org.focus.lib.kth.se/10.1137/1.9781611976724) which corresponds to the content of the course:\n",
        "\n",
        "[Hyperlink to DD2363 course website.](https://kth.instructure.com/courses/17068)"
      ]
    },
    {
      "cell_type": "markdown",
      "metadata": {
        "id": "jOQvukXZq5U5"
      },
      "source": [
        "# **Method**"
      ]
    },
    {
      "cell_type": "markdown",
      "metadata": {
        "id": "hr4KvrOk50Vj"
      },
      "source": [
        "### **1. Function: 2-point Gauss quadrature over a unit interval**"
      ]
    },
    {
      "cell_type": "markdown",
      "metadata": {
        "id": "JaR1Gzks50Vk"
      },
      "source": [
        "The two point Gauss quadrature formula is given by\n",
        "\\begin{equation}\n",
        "\\int_{-1}^1 f(x)dx = \\sum_{i=0}^q f(x_i)w_i\n",
        "\\end{equation}\n",
        "where $f(x)$ is some polynomial, the $w_i$ are the quadrature weights and the $x_i$ the quadrature points.\n",
        "\n",
        "The 2-point Gauss quadrature has the following properties for the interval [-1,1]:\n",
        "\\begin{equation}\n",
        "x_1 = -\\frac{1}{\\sqrt 3},\\quad x_2 = \\frac{1}{\\sqrt 3}, \\quad w_1 = w_2 = 1.\n",
        "\\end{equation}\n",
        "To get the right $x_i$ for the given interval [0,1] we can perform a coordinate mapping which is simply done by shifting and rescaling the coordinates. By that we get:\n",
        "\\begin{equation}\n",
        "x_1 = \\frac{(1-\\frac{1}{\\sqrt 3})}{2}, \\quad x_2 = \\frac{(1+\\frac{1}{\\sqrt 3})}{2},\n",
        "\\end{equation}\n",
        "\n",
        "\\begin{equation}\n",
        "\\int_{0}^1 f(x)dx = \\frac{1}{2} \\Bigg[ f(\\frac{(1-\\frac{1}{\\sqrt 3})}{2}) + f \\frac{(1+\\frac{1}{\\sqrt 3})}{2} \\Bigg]\n",
        "\\end{equation}"
      ]
    },
    {
      "cell_type": "code",
      "execution_count": 10,
      "metadata": {
        "id": "5wYxO-Ik50Vk"
      },
      "outputs": [],
      "source": [
        "def quadrature(f):\n",
        "    x1 = (1-1/np.sqrt(3))/2\n",
        "    x2 = (1+1/np.sqrt(3))/2\n",
        "    return (f(x1) + f(x2))/2"
      ]
    },
    {
      "cell_type": "markdown",
      "metadata": {
        "id": "_khJTBHx50Vl"
      },
      "source": [
        "### **3. Function: Monte Carlo quadrature over a unit interval**"
      ]
    },
    {
      "cell_type": "markdown",
      "metadata": {
        "id": "PMurAMyJ50Vl"
      },
      "source": [
        "Monte Carlo integration is based on a stochasitc approach. The formula is the following:\n",
        "\\begin{equation}\n",
        "\\int_D g(x)dx \\approx \\frac{|D|}{n}\\sum_{i=0}^n g(x_i)\n",
        "\\end{equation}\n",
        "where the $x_i$ are random samples within the range of D."
      ]
    },
    {
      "cell_type": "code",
      "execution_count": 11,
      "metadata": {
        "id": "LqPOh4T150Vl"
      },
      "outputs": [],
      "source": [
        "def monte_carlo_integration(f, n, a=0, b=1):\n",
        "    sum = 0\n",
        "    for i in range(n):\n",
        "        sum += f(random.uniform(a, b))\n",
        "    return sum / n * (b-a)"
      ]
    },
    {
      "cell_type": "markdown",
      "metadata": {
        "id": "SsQLT38gVbn_"
      },
      "source": [
        "# **Results**"
      ]
    },
    {
      "cell_type": "markdown",
      "metadata": {
        "id": "ADD6t6YQ50Vm"
      },
      "source": [
        "### **1. Function: 2-point Gauss quadrature over a unit interval**"
      ]
    },
    {
      "cell_type": "code",
      "execution_count": 12,
      "metadata": {
        "colab": {
          "base_uri": "https://localhost:8080/"
        },
        "id": "WX3ukfW350Vm",
        "outputId": "ba10374d-b982-444a-e0a4-2df231c84637"
      },
      "outputs": [
        {
          "output_type": "stream",
          "name": "stdout",
          "text": [
            "F1: 2.9999999999999996 \n",
            "F1: approximation - exact = -4.440892098500626e-16 \n",
            "\n",
            "F2: -0.9999999999999999 \n",
            "F2: approximation - exact = 3.3306690738754696e-16 \n",
            "\n",
            "F3: 1.9444444444444444 \n",
            "F3: approximation - exact = -0.055555555555556024 \n",
            "\n"
          ]
        }
      ],
      "source": [
        "\n",
        "def f1(x):\n",
        "    return 4*x**3 + 3*x**2 + 2*x\n",
        "\n",
        "def f2(x): \n",
        "    return -4*x**3 - 3*x**2 + 2*x\n",
        "\n",
        "def f3(x):\n",
        "    return 10*x**4\n",
        "\n",
        "x = np.linspace(0,1,100)\n",
        "\n",
        "F1 = quadrature(f1)\n",
        "F1_exact = quad(f1, 0, 1)\n",
        "\n",
        "F2 = quadrature(f2)\n",
        "F2_exact = quad(f2, 0, 1)\n",
        "\n",
        "F3 = quadrature(f3)\n",
        "F3_exact = quad(f3, 0, 1)\n",
        "\n",
        "print(\"F1:\", F1, \"\\nF1: approximation - exact =\", F1-F1_exact[0], \"\\n\")\n",
        "\n",
        "print(\"F2:\", F2, \"\\nF2: approximation - exact =\", F2-F2_exact[0], \"\\n\")\n",
        "\n",
        "print(\"F3:\", F3, \"\\nF3: approximation - exact =\", F3-F3_exact[0], \"\\n\")\n"
      ]
    },
    {
      "cell_type": "markdown",
      "metadata": {
        "id": "J0iI6fy-50Vn"
      },
      "source": [
        "... one can see that 2-point Gauss quadrature is exact for polynomials up to degree 3 but not for higher degrees. In fact, it is exact for polynomials of degree 2q+1 and we have q=1 for the 2-point Gauss quadrature."
      ]
    },
    {
      "cell_type": "markdown",
      "metadata": {
        "id": "Oq9d6Ipe50Vn"
      },
      "source": [
        "### **3. Function: Monte Carlo quadrature over a unit interval**"
      ]
    },
    {
      "cell_type": "code",
      "execution_count": 13,
      "metadata": {
        "colab": {
          "base_uri": "https://localhost:8080/",
          "height": 338
        },
        "id": "3GSYl2Ca50Vn",
        "outputId": "3a81cb88-7e0f-4f4f-969e-bf6352b5b098"
      },
      "outputs": [
        {
          "output_type": "stream",
          "name": "stdout",
          "text": [
            "Integral of x² from 0 to 1 (n=10000): 0.3267322612954727\n",
            "Exact: 0.3333333333333333\n"
          ]
        },
        {
          "output_type": "execute_result",
          "data": {
            "text/plain": [
              "Text(0, 0.5, 'abs error')"
            ]
          },
          "metadata": {},
          "execution_count": 13
        },
        {
          "output_type": "display_data",
          "data": {
            "text/plain": [
              "<Figure size 432x288 with 1 Axes>"
            ],
            "image/png": "[encoded data removed]"
          },
          "metadata": {
            "needs_background": "light"
          }
        }
      ],
      "source": [
        "def f(x):\n",
        "    return x**2\n",
        "\n",
        "res = monte_carlo_integration(f, 10000)\n",
        "\n",
        "print(\"Integral of x² from 0 to 1 (n=10000):\", res)\n",
        "print(\"Exact:\", 1/3)\n",
        "\n",
        "n_list = [2**k for k in range(1, 25)]\n",
        "error = [abs(monte_carlo_integration(f,n)-1/3) for n in n_list]\n",
        "convergence = [1/np.sqrt(n) for n in n_list]\n",
        "\n",
        "plt.loglog(n_list, error, label=\"error\")\n",
        "plt.loglog(n_list, convergence, \"--\", label=\"convergence rate\")\n",
        "plt.legend()\n",
        "plt.xlabel('n')\n",
        "plt.ylabel('abs error')"
      ]
    },
    {
      "cell_type": "markdown",
      "metadata": {
        "id": "CsRT5v6l50Vo"
      },
      "source": [
        "... the curve is a little bit edgy but it follows the convergence rate of $\\frac{1}{\\sqrt{n}}$."
      ]
    },
    {
      "cell_type": "markdown",
      "metadata": {
        "id": "_4GLBv0zWr7m"
      },
      "source": [
        "# **Discussion**"
      ]
    },
    {
      "cell_type": "markdown",
      "metadata": {
        "id": "6bcsDSoRXHZe"
      },
      "source": [
        "Both methods have their usecases but in general if applicable the Gauss quadrature seems to be more efficient and faster than the Monte Carlo method since it only converges with $\\frac{1}{\\sqrt n}$."
      ]
    }
  ],
  "metadata": {
    "colab": {
      "provenance": [],
      "include_colab_link": true
    },
    "kernelspec": {
      "display_name": "Python 3",
      "language": "python",
      "name": "python3"
    },
    "language_info": {
      "codemirror_mode": {
        "name": "ipython",
        "version": 3
      },
      "file_extension": ".py",
      "mimetype": "text/x-python",
      "name": "python",
      "nbconvert_exporter": "python",
      "pygments_lexer": "ipython3",
      "version": "3.10.6"
    },
    "vscode": {
      "interpreter": {
        "hash": "916dbcbb3f70747c44a77c7bcd40155683ae19c65e1c03b4aa3499c5328201f1"
      }
    }
  },
  "nbformat": 4,
  "nbformat_minor": 0
}