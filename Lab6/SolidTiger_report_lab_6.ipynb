{
  "nbformat": 4,
  "nbformat_minor": 0,
  "metadata": {
    "colab": {
      "provenance": []
    },
    "kernelspec": {
      "name": "python3",
      "display_name": "Python 3"
    }
  },
  "cells": [
    {
      "cell_type": "markdown",
      "metadata": {
        "id": "6RgtXlfYO_i7"
      },
      "source": [
        "# **Lab 6: optimization and learning**\n",
        "**Jesper Lidbaum**"
      ]
    },
    {
      "cell_type": "markdown",
      "metadata": {
        "id": "9x_J5FVuPzbm"
      },
      "source": [
        "# **Abstract**"
      ]
    },
    {
      "cell_type": "markdown",
      "metadata": {
        "id": "6UFTSzW7P8kL"
      },
      "source": [
        "In this report, we present the Gradient descent method for finding local minimum points on a function $f : \\mathcal{R}^n → \\mathcal{R}$. We also use Newtons method to find a local minimum by finding the root of the gradient."
      ]
    },
    {
      "cell_type": "markdown",
      "metadata": {
        "id": "OkT8J7uOWpT3"
      },
      "source": [
        "#**About the code**"
      ]
    },
    {
      "cell_type": "markdown",
      "metadata": {
        "id": "HmB2noTr1Oyo"
      },
      "source": [
        "A short statement on who is the author of the file, and if the code is distributed under a certain license. "
      ]
    },
    {
      "cell_type": "code",
      "metadata": {
        "id": "Pdll1Xc9WP0e",
        "colab": {
          "base_uri": "https://localhost:8080/",
          "height": 36
        },
        "outputId": "9e3cfa63-6667-4e31-8d7a-bca1cd80ba0b"
      },
      "source": [
        "\"\"\"This program is a template for lab reports in the course\"\"\"\n",
        "\"\"\"DD2363 Methods in Scientific Computing, \"\"\"\n",
        "\"\"\"KTH Royal Institute of Technology, Stockholm, Sweden.\"\"\"\n",
        "\n",
        "# Copyright (C) 2023 Jesper Lidbaum (jlidbaum@kth.se)\n",
        "\n",
        "# This file is part of the course DD2365 Advanced Computation in Fluid Mechanics\n",
        "# KTH Royal Institute of Technology, Stockholm, Sweden\n",
        "#\n",
        "# This is free software: you can redistribute it and/or modify\n",
        "# it under the terms of the GNU Lesser General Public License as published by\n",
        "# the Free Software Foundation, either version 3 of the License, or\n",
        "# (at your option) any later version.\n",
        "\n",
        "# This template is maintained by Johan Hoffman\n",
        "# Please report problems to jhoffman@kth.se"
      ],
      "execution_count": 79,
      "outputs": [
        {
          "output_type": "execute_result",
          "data": {
            "text/plain": [
              "'KTH Royal Institute of Technology, Stockholm, Sweden.'"
            ],
            "application/vnd.google.colaboratory.intrinsic+json": {
              "type": "string"
            }
          },
          "metadata": {},
          "execution_count": 79
        }
      ]
    },
    {
      "cell_type": "markdown",
      "metadata": {
        "id": "28xLGz8JX3Hh"
      },
      "source": [
        "# **Set up environment**"
      ]
    },
    {
      "cell_type": "markdown",
      "metadata": {
        "id": "D2PYNusD08Wa"
      },
      "source": [
        "To have access to the neccessary modules you have to run this cell. If you need \n",
        "additional modules, this is where you add them. "
      ]
    },
    {
      "cell_type": "code",
      "metadata": {
        "id": "Xw7VlErAX7NS"
      },
      "source": [
        "# Load neccessary modules.\n",
        "from google.colab import files\n",
        "\n",
        "import time\n",
        "import numpy as np\n",
        "\n",
        "#try:\n",
        "#    from dolfin import *; from mshr import *\n",
        "#except ImportError as e:\n",
        "#    !apt-get install -y -qq software-properties-common \n",
        "#    !add-apt-repository -y ppa:fenics-packages/fenics\n",
        "#    !apt-get update -qq\n",
        "#    !apt install -y --no-install-recommends fenics\n",
        "#    from dolfin import *; from mshr import *\n",
        "    \n",
        "#import dolfin.common.plotting as fenicsplot\n",
        "\n",
        "from matplotlib import pyplot as plt\n",
        "from matplotlib import tri\n",
        "from matplotlib import axes\n",
        "from mpl_toolkits.mplot3d import Axes3D\n",
        "import random"
      ],
      "execution_count": 80,
      "outputs": []
    },
    {
      "cell_type": "markdown",
      "metadata": {
        "id": "gnO3lhAigLev"
      },
      "source": [
        "# **Introduction**"
      ]
    },
    {
      "cell_type": "markdown",
      "metadata": {
        "id": "l5zMzgPlRAF6"
      },
      "source": [
        "The idea for the algorithm Gradient descent is that we move down the gradient with some step size until the gradient becomes sufficiently close to zero, then we have reached a stationary point. There are two things to consider with the algorithm, first is the step size. If the step size is too large we could miss a stationary point and if it is too small it will take a long time to converge. The step size could be calculated in each step or be chosen at the start. In this lab, it is chosen from the start to be some small constant.\n",
        "\n",
        "The code is based on algorithm 15.1 in the course book, but with a constant step size.\n",
        "\n",
        "We also use Newtons method to find stationary points. To do that we need to solve for when the gradient is zero. This is done with the Hessian matrix. The algorithm in this report is based on 15.3 from the course book."
      ]
    },
    {
      "cell_type": "markdown",
      "metadata": {
        "id": "jOQvukXZq5U5"
      },
      "source": [
        "# **Method**\n",
        "\n",
        "## Gradient descent\n",
        "Here we present the code for the algorithm. The code takes a function and its gradient function $Df : \\mathcal{R}^n → \\mathcal{R}^n$, a starting point, a step size, a tolerance, and max_iterations. The code is based on algorithm 15.1 in the course book, but with a constant step size."
      ]
    },
    {
      "cell_type": "code",
      "source": [
        "def gradient_descent(f, Df, x0, alpha, TOL , max_iter = 10000):\n",
        "    x = x0\n",
        "    while(np.linalg.norm(Df(x)) > TOL and max_iter > 0):\n",
        "        x = x - alpha * Df(x)\n",
        "        max_iter = max_iter - 1\n",
        "    return x"
      ],
      "metadata": {
        "id": "lBp43tYjWYNB"
      },
      "execution_count": 81,
      "outputs": []
    },
    {
      "cell_type": "markdown",
      "source": [
        "## Newtons method\n",
        "\n",
        "In this method we use a generalization of newtons method in more variables. However we want to find a stationary point which is the same as solving for a root of the gradient. The algorithm presented here is based on 15.3 in the course book. Local changes of the gradient are described by the Hessian of the function and we use that to find where $\\nabla f = 0$. The iteration step is described by $x_{n+1} = x_{n} - (Hf(x_{n})^{-1})\\nabla f(x_{n})$ we let the iteration step be $\\Delta \\vec{x} = -(Hf(x_{n})^{-1})\\nabla f(x_{n})$ then we can solve for $\\Delta x$ with $-Hf(x_{n})\\Delta \\vec{x} = \\nabla f(x_{n})$."
      ],
      "metadata": {
        "id": "L0pcSUlwnnmD"
      }
    },
    {
      "cell_type": "code",
      "source": [
        "def newton_minimization(Df, Hf, x0, TOL, max_iter = 100):\n",
        "    x = x0\n",
        "    while(np.linalg.norm(Df(x)) > TOL and max_iter > 0):\n",
        "        dx = np.linalg.solve(Hf(x), -Df(x))\n",
        "        x = x + dx\n",
        "        max_iter = max_iter - 1\n",
        "    return x"
      ],
      "metadata": {
        "id": "aqTfMssFoZBU"
      },
      "execution_count": 82,
      "outputs": []
    },
    {
      "cell_type": "markdown",
      "metadata": {
        "id": "SsQLT38gVbn_"
      },
      "source": [
        "# **Results**\n",
        "Here we test the algorithms.\n",
        "\n",
        "## Gradient descent\n",
        "We test gradient descent it against the cubic function $ax^3 + bx^2 + cx + d$ which we can determine the exact stationary points with the derivative. We also test it against the 2 dimensional polynomial $(x-a)^2 + (y-b)^2$ which has the global minimum $(a,b)$. Lastly we plot the convergence for the 2 dimensional polynomial. We can see for the first test that it converges to one of the solutions since there could be several stationary points. For the second one we see that it converges to the global minimum. In the plot of the error where we start quite far from the solution we can see that it takes quite some iterations to get there. "
      ]
    },
    {
      "cell_type": "code",
      "source": [
        "def test_gradient_descent(a, b, c, d):\n",
        "    f = lambda x: a * x**3 + b * x**2 + c*x + d\n",
        "    Df = lambda x: 3 * a * x**2 + 2 * b * x + c\n",
        "    #Plot the function with pyplot\n",
        "    x = np.linspace(-10, 10, 100)\n",
        "    y = f(x)\n",
        "    plt.plot(x,y)\n",
        "    if(b**2/(9 * a **2) - c/(3 * a) < 0):\n",
        "        print(\"No real solutions\")\n",
        "    else:\n",
        "        real_olution1 = -b/(3 * a) + np.sqrt(b**2/(9 * a **2) - c/(3 * a))\n",
        "        real_solution2 = -b/(3 * a) - np.sqrt(b**2/(9 * a **2) - c/(3 * a))\n",
        "        solution = gradient_descent(f, Df, 0, 0.001, 0.0001)\n",
        "        #Plot the solutions points with pyplot\n",
        "        plt.plot(solution, f(solution), 'ro')\n",
        "        plt.plot(real_olution1, f(real_olution1), 'bo')\n",
        "        plt.plot(real_solution2, f(real_solution2), 'bo')\n",
        "        print(\"The real solutions are: \", real_olution1, real_solution2)\n",
        "        print(\"The solution found by gradient descent is: \", solution)\n",
        "        print(\"The error is: \", np.abs(real_olution1 - solution), np.abs(real_solution2 - solution))\n",
        "    plt.show()\n",
        "\n",
        "        \n",
        "def test_gradient_descent2(a, b):\n",
        "    f = lambda x : (x[0]- a)**2 + (x[1] - b)**2\n",
        "    Df = lambda x : np.array([2 * (x[0] - a), 2 * (x[1] - b)])\n",
        "    print(\"The real solution is: \", a, b)\n",
        "    solution = gradient_descent(f, Df, np.array([0, 0]), 0.001, 0.0001)\n",
        "    print(\"The solution found by gradient descent is: \", solution)\n",
        "    print(\"The error is: \", np.abs(a - solution[0]), np.abs(b - solution[1]))\n",
        "\n",
        "def test_gradient_descent3(a, b):\n",
        "  x = np.linspace(1, 10000, 100)\n",
        "  y = np.zeros(x.size)\n",
        "  f = lambda x : (x[0]- a)**2 + (y[1] - b)**2\n",
        "  Df = lambda x : np.array([2 * (x[0] - a), 2 * (x[1] - b)])\n",
        "  for i in range(x.size):\n",
        "    y[i] = np.linalg.norm(np.array([a,b]) - gradient_descent(f, Df, np.array([0, 0]), 0.001, 0.0001, x[i]))\n",
        "  \n",
        "  plt.plot(x,y)\n",
        "  plt.show()\n",
        "\n",
        "test_gradient_descent(1, 0, 0, 0)\n",
        "test_gradient_descent(1, -1, 0, 1)\n",
        "test_gradient_descent(1, 1, 0, -1)\n",
        "\n",
        "test_gradient_descent2(1, 1)\n",
        "test_gradient_descent2(1, -1)\n",
        "test_gradient_descent2(-100, 100)\n",
        "\n",
        "\n",
        "test_gradient_descent3(-100, 100)"
      ],
      "metadata": {
        "colab": {
          "base_uri": "https://localhost:8080/",
          "height": 1000
        },
        "id": "ONb-EqvjWnLp",
        "outputId": "7c12d120-f141-4442-8cc1-7468516127fa"
      },
      "execution_count": 83,
      "outputs": [
        {
          "output_type": "stream",
          "name": "stdout",
          "text": [
            "The real solutions are:  0.0 0.0\n",
            "The solution found by gradient descent is:  0\n",
            "The error is:  0.0 0.0\n"
          ]
        },
        {
          "output_type": "display_data",
          "data": {
            "text/plain": [
              "<Figure size 432x288 with 1 Axes>"
            ],
            "image/png": "[encoded data removed]"
          },
          "metadata": {
            "needs_background": "light"
          }
        },
        {
          "output_type": "stream",
          "name": "stdout",
          "text": [
            "The real solutions are:  0.6666666666666666 0.0\n",
            "The solution found by gradient descent is:  0\n",
            "The error is:  0.6666666666666666 0.0\n"
          ]
        },
        {
          "output_type": "display_data",
          "data": {
            "text/plain": [
              "<Figure size 432x288 with 1 Axes>"
            ],
            "image/png": "[encoded data removed]"
          },
          "metadata": {
            "needs_background": "light"
          }
        },
        {
          "output_type": "stream",
          "name": "stdout",
          "text": [
            "The real solutions are:  0.0 -0.6666666666666666\n",
            "The solution found by gradient descent is:  0\n",
            "The error is:  0.0 0.6666666666666666\n"
          ]
        },
        {
          "output_type": "display_data",
          "data": {
            "text/plain": [
              "<Figure size 432x288 with 1 Axes>"
            ],
            "image/png": "[encoded data removed]"
          },
          "metadata": {
            "needs_background": "light"
          }
        },
        {
          "output_type": "stream",
          "name": "stdout",
          "text": [
            "The real solution is:  1 1\n",
            "The solution found by gradient descent is:  [0.99996465 0.99996465]\n",
            "The error is:  3.534853271514038e-05 3.534853271514038e-05\n",
            "The real solution is:  1 -1\n",
            "The solution found by gradient descent is:  [ 0.99996465 -0.99996465]\n",
            "The error is:  3.534853271514038e-05 3.534853271514038e-05\n",
            "The real solution is:  -100 100\n",
            "The solution found by gradient descent is:  [-99.9999647  99.9999647]\n",
            "The error is:  3.529773938737435e-05 3.529773938737435e-05\n"
          ]
        },
        {
          "output_type": "display_data",
          "data": {
            "text/plain": [
              "<Figure size 432x288 with 1 Axes>"
            ],
            "image/png": "[encoded data removed]"
          },
          "metadata": {
            "needs_background": "light"
          }
        }
      ]
    },
    {
      "cell_type": "markdown",
      "source": [
        "## Newtons method\n",
        "Here we test newtons method. We test the convergence and error against the polynomial $f(x,y) = (a - x^2) + (b - y^2) + c$ which has.\n",
        "$$\\nabla f = \\begin{bmatrix} 2(x-a) & 2(y - b) \\end{bmatrix}^T$$\n",
        "$$Hf = \\begin{bmatrix}\n",
        "2 & 0 \\\\\n",
        "0 & 2\n",
        "\\end{bmatrix}$$\n",
        "And a global minimum $\\begin{bmatrix} a & b \\end{bmatrix}^T$.\n",
        "We also test against the function $f(x,y) = sin(x) - sin(y)$ which has\n",
        "$$\n",
        "\\nabla f = \\begin{bmatrix} cos(x) & -cos(y) \\end{bmatrix}^T\n",
        "$$\n",
        "$$ Hf = \\begin{bmatrix}\n",
        "-sin(x) & 0 \\\\\n",
        "0 & sin(y)\n",
        "\\end{bmatrix}\n",
        "$$\n",
        "There are many stationary point for this but we attempt to get $(\\pi/2, -\\pi/2)^T$ so we start close to there.\n",
        "\n",
        "We can see that we converge very quickly to the solution."
      ],
      "metadata": {
        "id": "LlG6z-rprYO_"
      }
    },
    {
      "cell_type": "code",
      "source": [
        "def test_newton_minimization(a, b):\n",
        "    x = np.linspace(1, 10, 10)\n",
        "    y = np.zeros(x.size)\n",
        "    Df = lambda x : np.array([2 * (x[0] - a), 2 * (x[1] - b)])\n",
        "    Hf = lambda x : np.array([[2, 0], [0, 2]])\n",
        "    for i in range(x.size):\n",
        "      y[i] = np.linalg.norm(np.array([a,b]) - newton_minimization(Df, Hf, np.array([0, 0]), 0.000001, x[i]))\n",
        "    print(\"Error by iteration, real solution: \" + str(a) + \", \" +str(b))\n",
        "    plt.plot(x,y)\n",
        "    plt.show()\n",
        "\n",
        "def test_newton_minimization2():\n",
        "    x = np.linspace(1, 10, 10)\n",
        "    y = np.zeros(x.size)\n",
        "    Df = lambda x : np.array([np.cos(x[0]), -np.cos(x[1])])\n",
        "    Hf = lambda x : np.array([[-np.sin(x[0]), 0], [0, np.sin(x[1])]])\n",
        "    for i in range(x.size):\n",
        "      y[i] = np.linalg.norm(np.array([np.pi/2,-np.pi/2]) - newton_minimization(Df, Hf, np.array([1.3, -1.3]), 0.000001, x[i]))\n",
        "    print(\"Error by iteration, real solution: $(\\pi/2, -\\pi/2)^T$\")\n",
        "    plt.plot(x,y)\n",
        "    plt.show()\n",
        "    \n",
        "test_newton_minimization(1, -1)\n",
        "test_newton_minimization(-100, 100)\n",
        "test_newton_minimization(-10000, 10000)\n",
        "test_newton_minimization2()\n"
      ],
      "metadata": {
        "colab": {
          "base_uri": "https://localhost:8080/",
          "height": 1000
        },
        "id": "6qAKFNeptGfk",
        "outputId": "438e0da9-8c20-457a-e85f-e048c1cd12f1"
      },
      "execution_count": 84,
      "outputs": [
        {
          "output_type": "stream",
          "name": "stdout",
          "text": [
            "Error by iteration, real solution: 1, -1\n"
          ]
        },
        {
          "output_type": "display_data",
          "data": {
            "text/plain": [
              "<Figure size 432x288 with 1 Axes>"
            ],
            "image/png": "[encoded data removed]"
          },
          "metadata": {
            "needs_background": "light"
          }
        },
        {
          "output_type": "stream",
          "name": "stdout",
          "text": [
            "Error by iteration, real solution: -100, 100\n"
          ]
        },
        {
          "output_type": "display_data",
          "data": {
            "text/plain": [
              "<Figure size 432x288 with 1 Axes>"
            ],
            "image/png": "[encoded data removed]"
          },
          "metadata": {
            "needs_background": "light"
          }
        },
        {
          "output_type": "stream",
          "name": "stdout",
          "text": [
            "Error by iteration, real solution: -10000, 10000\n"
          ]
        },
        {
          "output_type": "display_data",
          "data": {
            "text/plain": [
              "<Figure size 432x288 with 1 Axes>"
            ],
            "image/png": "[encoded data removed]"
          },
          "metadata": {
            "needs_background": "light"
          }
        },
        {
          "output_type": "stream",
          "name": "stdout",
          "text": [
            "Error by iteration, real solution: $(\\pi/2, -\\pi/2)^T$\n"
          ]
        },
        {
          "output_type": "display_data",
          "data": {
            "text/plain": [
              "<Figure size 432x288 with 1 Axes>"
            ],
            "image/png": "[encoded data removed]"
          },
          "metadata": {
            "needs_background": "light"
          }
        }
      ]
    },
    {
      "cell_type": "markdown",
      "source": [
        "# **Discussion**\n",
        "Gradient descent is a method that can prove effective to find the local minimum points. However, you have to consider some parameters. The starting position will impact what local minimum we find if there exist several. The step size is also important. A better implementation could use line search to determine the step size in each step which will help with convergence and not overshooting the solution. As we saw with the last plot we could have benefited from a larger step size in the begning to get better convergence.\n",
        "\n",
        "The convergence of Newton's method was not that surprising given that it is quadratic. But again you have to be mindful if there is more than one solution since you will only converge on one."
      ],
      "metadata": {
        "id": "js3nfuAqOvQB"
      }
    }
  ]
}