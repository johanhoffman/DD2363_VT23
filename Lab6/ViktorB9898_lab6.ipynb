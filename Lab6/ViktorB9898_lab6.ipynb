{
  "cells": [
    {
      "cell_type": "markdown",
      "metadata": {
        "id": "view-in-github",
        "colab_type": "text"
      },
      "source": [
        "<a href=\"https://colab.research.google.com/github/johanhoffman/DD2363_VT23/blob/ViktorB9898-Lab6/Lab6/ViktorB9898_lab6.ipynb\" target=\"_parent\"><img src=\"https://colab.research.google.com/assets/colab-badge.svg\" alt=\"Open In Colab\"/></a>"
      ]
    },
    {
      "cell_type": "markdown",
      "metadata": {
        "id": "6RgtXlfYO_i7"
      },
      "source": [
        "# **Lab 6: Optimization and Learning**\n",
        "**Viktor Beck**"
      ]
    },
    {
      "cell_type": "markdown",
      "metadata": {
        "id": "9x_J5FVuPzbm"
      },
      "source": [
        "# **Abstract**"
      ]
    },
    {
      "cell_type": "markdown",
      "metadata": {
        "id": "6UFTSzW7P8kL"
      },
      "source": [
        "This report features an implementation of the Gradient descent method."
      ]
    },
    {
      "cell_type": "markdown",
      "metadata": {
        "id": "OkT8J7uOWpT3"
      },
      "source": [
        "#**About the code**"
      ]
    },
    {
      "cell_type": "code",
      "execution_count": 1,
      "metadata": {
        "colab": {
          "base_uri": "https://localhost:8080/",
          "height": 35
        },
        "id": "Pdll1Xc9WP0e",
        "outputId": "5407c1d2-cba3-49de-9ff9-52189fb8d438"
      },
      "outputs": [
        {
          "output_type": "execute_result",
          "data": {
            "text/plain": [
              "'KTH Royal Institute of Technology, Stockholm, Sweden.'"
            ],
            "application/vnd.google.colaboratory.intrinsic+json": {
              "type": "string"
            }
          },
          "metadata": {},
          "execution_count": 1
        }
      ],
      "source": [
        "\"\"\"This program is a lab report in the course\"\"\"\n",
        "\"\"\"DD2363 Methods in Scientific Computing, \"\"\"\n",
        "\"\"\"KTH Royal Institute of Technology, Stockholm, Sweden.\"\"\"\n",
        "\n",
        "# Copyright (C) 2023 Viktor Beck (vbeck@kth.se / viktor.beck98@gmail.com)\n",
        "\n",
        "# This file is part of the course DD2363 Methods in Scientific Computing\n",
        "# KTH Royal Institute of Technology, Stockholm, Sweden"
      ]
    },
    {
      "cell_type": "markdown",
      "metadata": {
        "id": "28xLGz8JX3Hh"
      },
      "source": [
        "# **Set up environment**"
      ]
    },
    {
      "cell_type": "markdown",
      "metadata": {
        "id": "D2PYNusD08Wa"
      },
      "source": [
        "To have access to the neccessary modules you have to run this cell."
      ]
    },
    {
      "cell_type": "code",
      "execution_count": 2,
      "metadata": {
        "id": "Xw7VlErAX7NS"
      },
      "outputs": [],
      "source": [
        "# Load neccessary modules.\n",
        "from google.colab import files\n",
        "\n",
        "#import time\n",
        "import numpy as np\n",
        "#from scipy.optimize import line_search\n",
        "#import numdifftools as nd\n",
        "#from scipy.misc import derivative\n",
        "#import random\n",
        "\n",
        "from matplotlib import pyplot as plt"
      ]
    },
    {
      "cell_type": "markdown",
      "metadata": {
        "id": "gnO3lhAigLev"
      },
      "source": [
        "# **Introduction**"
      ]
    },
    {
      "cell_type": "markdown",
      "metadata": {
        "id": "l5zMzgPlRAF6"
      },
      "source": [
        "This report is about the Gradient Descent method which is widely used in Machine Learning. It is fast and easy to understand because it is a linear model. This means that it can be useful for learning on very big (but not too complex) datasets if the executon time is important. It can be used in both regression and classification tasks or in general for minimization problems.\n",
        "\n",
        "[Hyperlink to DD2363 course website.](https://kth.instructure.com/courses/17068)"
      ]
    },
    {
      "cell_type": "markdown",
      "metadata": {
        "id": "jOQvukXZq5U5"
      },
      "source": [
        "# **Method**"
      ]
    },
    {
      "cell_type": "markdown",
      "metadata": {
        "id": "sSThPqXG2a7Y"
      },
      "source": [
        "### **1. Function: Gradient descent method in Rn**"
      ]
    },
    {
      "cell_type": "markdown",
      "metadata": {
        "id": "UhodNl1l2a7Z"
      },
      "source": [
        "Gradient descent is an iterative method for minimizing a cost function. In each iteration the x is shifted into the opposite direction of the gradient which will ultimately lead to the minimizing point, given that the learning rate $\\alpha$ is small enough and the initial guess is not close to a local minimum. $\\alpha$ can be computed in each iteration by \"line_search\" which will lead to faster convergence but it can also be chosen constant and adapted by a certain condition that is checked in each iteration: If $f(x_{new}) > f(x)$ then make $\\alpha$ smaller. Here we can see $f()$ as the cost function that we want to mimnimize. Mathematically speaking:\n",
        "\\begin{equation}\n",
        "x_{k+1}=x_k-\\alpha * \\nabla f(x_k).\n",
        "\\end{equation}"
      ]
    },
    {
      "cell_type": "code",
      "execution_count": 3,
      "metadata": {
        "id": "G8X1mDqS2a7Z"
      },
      "outputs": [],
      "source": [
        " #central difference for calculating the gradient\n",
        "def gradient(f, x):\n",
        "    dx = 1e-6\n",
        "    Df = (f(x+dx) - f(x-dx)) / (2*dx)\n",
        "    return Df\n",
        "\n",
        "# constant learning rate (easier than line_search)\n",
        "def gradient_descent(f, x0, tol=1e-8, alpha=0.1, exact=[0,0]):\n",
        "    x = x0\n",
        "    Df = 1\n",
        "\n",
        "    # for plotting\n",
        "    err = []\n",
        "\n",
        "    while np.linalg.norm(Df) > tol:\n",
        "        Df = gradient(f, x)\n",
        "        x_new = x - alpha * Df\n",
        "        if f(x_new) > f(x):\n",
        "            print(\"Adapting alpha\")\n",
        "            alpha = alpha * 0.5 #adapt alpha if f(x) gets bigger \n",
        "        x = x_new\n",
        "        #print(Df)\n",
        "\n",
        "        # for plotting\n",
        "        err.append(np.linalg.norm(exact-x))\n",
        "\n",
        "    return x, err"
      ]
    },
    {
      "cell_type": "markdown",
      "metadata": {
        "id": "SsQLT38gVbn_"
      },
      "source": [
        "# **Results**"
      ]
    },
    {
      "cell_type": "markdown",
      "metadata": {
        "id": "hfOSW69-2a7a"
      },
      "source": [
        "### **1. Function: Gradient descent method in Rn**"
      ]
    },
    {
      "cell_type": "code",
      "execution_count": 4,
      "metadata": {
        "colab": {
          "base_uri": "https://localhost:8080/"
        },
        "id": "pV7BTxnr2a7a",
        "outputId": "d28c2d03-9a91-4b90-fe40-0425ba0b6a06"
      },
      "outputs": [
        {
          "output_type": "stream",
          "name": "stdout",
          "text": [
            "f1: x* = [1.33674945e-09 1.33674945e-09]\n",
            "f1 error: 1.8904492071613707e-09 \n",
            "\n",
            "f2: x* = [-1.]\n",
            "f2 error: 3.794275227342325e-09\n"
          ]
        }
      ],
      "source": [
        "def f1(x):\n",
        "    return x[1]**2 + (x[0])**2 \n",
        "\n",
        "f1_res = np.array([0,0])\n",
        "\n",
        "def f2(x):\n",
        "    return (x+1)**2\n",
        "\n",
        "f2_res = -1\n",
        "\n",
        "res1 = gradient_descent(f1, np.array([1,1]), exact=f1_res)\n",
        "res2 = gradient_descent(f2, np.array([1]), exact=f2_res)\n",
        "\n",
        "print(\"f1: x* =\", res1[0])\n",
        "print(\"f1 error:\", np.linalg.norm(res1[0]-f1_res), \"\\n\")\n",
        "print(\"f2: x* =\", res2[0])\n",
        "print(\"f2 error:\", np.linalg.norm(res2[0]-f2_res))"
      ]
    },
    {
      "cell_type": "markdown",
      "metadata": {
        "id": "hGAEeDVo2a7a"
      },
      "source": [
        "We can see exponential convergence for functions f1 and f2:"
      ]
    },
    {
      "cell_type": "code",
      "execution_count": 5,
      "metadata": {
        "colab": {
          "base_uri": "https://localhost:8080/",
          "height": 296
        },
        "id": "Efut0ZZp2a7a",
        "outputId": "5057bb11-36d9-4105-b72b-7ba43f7f10b6"
      },
      "outputs": [
        {
          "output_type": "execute_result",
          "data": {
            "text/plain": [
              "<matplotlib.legend.Legend at 0x7f189830deb0>"
            ]
          },
          "metadata": {},
          "execution_count": 5
        },
        {
          "output_type": "display_data",
          "data": {
            "text/plain": [
              "<Figure size 432x288 with 1 Axes>"
            ],
            "image/png": "[encoded data removed]"
          },
          "metadata": {
            "needs_background": "light"
          }
        }
      ],
      "source": [
        "plt.semilogy(range(len(res1[1])),res1[1], label=\"error f1\")\n",
        "plt.semilogy(range(len(res2[1])),res2[1], label=\"error f2\")\n",
        "plt.xlabel(\"steps\")\n",
        "plt.ylabel(\"error\")\n",
        "plt.legend()"
      ]
    },
    {
      "cell_type": "markdown",
      "metadata": {
        "id": "4Y__7kM72a7b"
      },
      "source": [
        "To show how the adaptive learning rate works:"
      ]
    },
    {
      "cell_type": "code",
      "execution_count": 6,
      "metadata": {
        "colab": {
          "base_uri": "https://localhost:8080/"
        },
        "id": "0qpSgTPW2a7b",
        "outputId": "2441ac81-28be-4fbd-ff9c-57087179ba37"
      },
      "outputs": [
        {
          "output_type": "stream",
          "name": "stdout",
          "text": [
            "f1:\n",
            "Adapting alpha\n",
            "Adapting alpha\n",
            "Adapting alpha\n",
            "Adapting alpha\n",
            "Adapting alpha\n",
            "\n",
            "f2:\n",
            "Adapting alpha\n",
            "Adapting alpha\n",
            "Adapting alpha\n",
            "Adapting alpha\n",
            "\n",
            "f1: x* = [5.68636904e-10 5.68636904e-10]\n",
            "f1 error: 8.041740216399777e-10 \n",
            "\n",
            "f2: x* = [-1.]\n",
            "f2 error: 4.665705599649073e-10\n"
          ]
        }
      ],
      "source": [
        "# choose alpha=10 which is way too large\n",
        "print(\"f1:\")\n",
        "res1 = gradient_descent(f1, np.array([1,1]), alpha=10)\n",
        "print(\"\\nf2:\")\n",
        "res2 = gradient_descent(f2, np.array([1]), alpha=10)\n",
        "\n",
        "print(\"\\nf1: x* =\", res1[0])\n",
        "print(\"f1 error:\", np.linalg.norm(res1[0]-f1_res), \"\\n\")\n",
        "print(\"f2: x* =\", res2[0])\n",
        "print(\"f2 error:\", np.linalg.norm(res2[0]-f2_res))"
      ]
    },
    {
      "cell_type": "markdown",
      "metadata": {
        "id": "_4GLBv0zWr7m"
      },
      "source": [
        "# **Discussion**"
      ]
    },
    {
      "cell_type": "markdown",
      "metadata": {
        "id": "6bcsDSoRXHZe"
      },
      "source": [
        "One can see that the gradient descent method works quite well. A weakness of this method is that it can't distinguish between a local and a global minimum. So if the learning rate is chosen too small it could \"fall\" into a local minimum and if it is too big it could miss the minimum and never converge. A counteract to this is to choose the alpha adaptively or with line_search in each iteration but even then we do not have a guarantee that it will find the right minimum."
      ]
    }
  ],
  "metadata": {
    "colab": {
      "provenance": [],
      "include_colab_link": true
    },
    "kernelspec": {
      "display_name": "Python 3",
      "language": "python",
      "name": "python3"
    },
    "language_info": {
      "codemirror_mode": {
        "name": "ipython",
        "version": 3
      },
      "file_extension": ".py",
      "mimetype": "text/x-python",
      "name": "python",
      "nbconvert_exporter": "python",
      "pygments_lexer": "ipython3",
      "version": "3.10.6"
    },
    "vscode": {
      "interpreter": {
        "hash": "916dbcbb3f70747c44a77c7bcd40155683ae19c65e1c03b4aa3499c5328201f1"
      }
    }
  },
  "nbformat": 4,
  "nbformat_minor": 0
}