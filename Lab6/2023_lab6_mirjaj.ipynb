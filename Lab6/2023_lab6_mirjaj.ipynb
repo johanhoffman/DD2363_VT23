{
  "nbformat": 4,
  "nbformat_minor": 0,
  "metadata": {
    "colab": {
      "provenance": []
    },
    "kernelspec": {
      "name": "python3",
      "display_name": "Python 3"
    }
  },
  "cells": [
    {
      "cell_type": "markdown",
      "metadata": {
        "id": "6RgtXlfYO_i7"
      },
      "source": [
        "# **Lab 6: Optimization and Learning**\n",
        "**Mirja Johnsson**"
      ]
    },
    {
      "cell_type": "markdown",
      "metadata": {
        "id": "9x_J5FVuPzbm"
      },
      "source": [
        "# **Abstract**\n",
        "\n",
        "In lab 6 for *Methods in Scientific Computation* the Gradient Descent method for minimization was implemented."
      ]
    },
    {
      "cell_type": "markdown",
      "metadata": {
        "id": "OkT8J7uOWpT3"
      },
      "source": [
        "#**About the code**"
      ]
    },
    {
      "cell_type": "markdown",
      "metadata": {
        "id": "HmB2noTr1Oyo"
      },
      "source": [
        "A short statement on who is the author of the file, and if the code is distributed under a certain license. "
      ]
    },
    {
      "cell_type": "code",
      "metadata": {
        "id": "Pdll1Xc9WP0e",
        "colab": {
          "base_uri": "https://localhost:8080/",
          "height": 35
        },
        "outputId": "7306dd5f-3751-438a-cabc-c6cd3e48f2bb"
      },
      "source": [
        "\"\"\"This program is a template for lab reports in the course\"\"\"\n",
        "\"\"\"DD2363 Methods in Scientific Computing, \"\"\"\n",
        "\"\"\"KTH Royal Institute of Technology, Stockholm, Sweden.\"\"\"\n",
        "\n",
        "# Copyright (C) 2020 Johan Hoffman (jhoffman@kth.se)\n",
        "\n",
        "# This file is part of the course DD2365 Advanced Computation in Fluid Mechanics\n",
        "# KTH Royal Institute of Technology, Stockholm, Sweden\n",
        "#\n",
        "# This is free software: you can redistribute it and/or modify\n",
        "# it under the terms of the GNU Lesser General Public License as published by\n",
        "# the Free Software Foundation, either version 3 of the License, or\n",
        "# (at your option) any later version.\n",
        "\n",
        "# This template is maintained by Johan Hoffman\n",
        "# Please report problems to jhoffman@kth.se"
      ],
      "execution_count": null,
      "outputs": [
        {
          "output_type": "execute_result",
          "data": {
            "text/plain": [
              "'KTH Royal Institute of Technology, Stockholm, Sweden.'"
            ],
            "application/vnd.google.colaboratory.intrinsic+json": {
              "type": "string"
            }
          },
          "metadata": {},
          "execution_count": 1
        }
      ]
    },
    {
      "cell_type": "markdown",
      "metadata": {
        "id": "28xLGz8JX3Hh"
      },
      "source": [
        "# **Set up environment**"
      ]
    },
    {
      "cell_type": "markdown",
      "metadata": {
        "id": "l5zMzgPlRAF6"
      },
      "source": [
        "\n",
        "\n",
        "[Hyperlink to DD2363 course website.](https://kth.instructure.com/courses/17068)\n",
        "\n",
        "$\n",
        "{\\displaystyle \\frac{\\partial u}{\\partial t}} + u\\cdot \\nabla u +\\nabla p = f, \\quad \\nabla \\cdot u=0$\n",
        "\n"
      ]
    },
    {
      "cell_type": "code",
      "metadata": {
        "id": "Xw7VlErAX7NS"
      },
      "source": [
        "# Load neccessary modules.\n",
        "from google.colab import files\n",
        "\n",
        "import time\n",
        "import numpy as np\n",
        "\n",
        "#try:\n",
        "#    from dolfin import *; from mshr import *\n",
        "#except ImportError as e:\n",
        "#    !apt-get install -y -qq software-properties-common \n",
        "#    !add-apt-repository -y ppa:fenics-packages/fenics\n",
        "#    !apt-get update -qq\n",
        "#    !apt install -y --no-install-recommends fenics\n",
        "#    from dolfin import *; from mshr import *\n",
        "    \n",
        "#import dolfin.common.plotting as fenicsplot\n",
        "\n",
        "from matplotlib import pyplot as plt\n",
        "from matplotlib import tri\n",
        "from matplotlib import axes\n",
        "from mpl_toolkits.mplot3d import Axes3D"
      ],
      "execution_count": 1,
      "outputs": []
    },
    {
      "cell_type": "code",
      "source": [],
      "metadata": {
        "id": "mZNLgJkeflH4"
      },
      "execution_count": null,
      "outputs": []
    },
    {
      "cell_type": "markdown",
      "metadata": {
        "id": "gnO3lhAigLev"
      },
      "source": [
        "# **Introduction**\n",
        "The Gradient Descent Minimization method takes a function in R^n and searches for its (local or hopefully global) minima by evaluating the derivatives and updating x with the negative of the direction, multiplied by the step size alpha. The logic behind this is that the derivative tells you how fast the funtion is changing in that point. If it is increasing it is likely decreasing in the opposite direction, and if it is shrinking you want to follow it. The algorithm starts on a supplied starting-value x0, evaluates the derivative at x0, and updates according to this value. \n",
        "\n",
        "\n",
        "There is a clear trade-off in performance when it comes to the step size alpha. If alpha is very small the algorithm will require many iterations before it terminates, this might be so many that it takes a considerable long time. On the other hand, if alpha is too large there is the risk that the calculation overshoots the minima and oscillates around the point but never reaches it. For this assignment it should be ok to use a fixed-length step, but this can be done more dynamically as well.\n",
        "\n",
        "\n",
        "The simple version of Gradient Descentcan be improved upon by making it stochastic. This can be beneficial when the order of dimensions (n) is very high thus making it time and resource-consuming to evaluate all of them in every iteration. \n"
      ]
    },
    {
      "cell_type": "markdown",
      "source": [
        "#**Method**\n",
        "The function is implemented from algorithm 15.1 in the book, with a few modifications. (e.g. Alpha is static and not updated via line search.) Since the requirement is to solve functions in R^n no dimensions are specified for the function f or the initial guess x0 so the input-function can have arbitrary dimensions."
      ],
      "metadata": {
        "id": "OKTRZGRj-7wo"
      }
    },
    {
      "cell_type": "code",
      "source": [
        "#ALGORITHM 15.1  \n",
        "#x = gradient_descent_method(f, x0).\n",
        "#Input: objective function f and initial guess x0.\n",
        "#Output: solution vector x.\n",
        "\n",
        "def gradient_descent_method(f, x0):\n",
        "  x = x0\n",
        "  TOL = 1e-3\n",
        "  alpha = 0.1\n",
        "  Df = compute_gradient(f, x)\n",
        "  func_values = []\n",
        "  while np.linalg.norm(Df) > TOL:\n",
        "    Df = compute_gradient(f, x)\n",
        "    x -= alpha*Df\n",
        "    #func_values.append(x)\n",
        "    func_values.append(Df)\n",
        "  #end while\n",
        "  #print(func_values)\n",
        "  return x, func_values\n",
        "\n",
        "#Compute the gradient by evaluating delta_x with step-size h \n",
        "def compute_gradient(f, x):\n",
        "  h = 1e-6\n",
        "  #n = x.shape[0]\n",
        "  #gradient = np.zeros((n))\n",
        "  gradient = np.zeros(x.shape[0])\n",
        "  for i in range(len(gradient)):\n",
        "    minus = np.copy(x)\n",
        "    plus = np.copy(x)\n",
        "    minus[i] -= h\n",
        "    plus[i] += h\n",
        "    gradient[i] = (f(plus) - f(minus)) / (h*2)\n",
        "  return gradient\n",
        "\n"
      ],
      "metadata": {
        "id": "rMX04NSYGgM8"
      },
      "execution_count": 37,
      "outputs": []
    },
    {
      "cell_type": "markdown",
      "metadata": {
        "id": "SsQLT38gVbn_"
      },
      "source": [
        "# **Results**\n",
        "To test the functionality of the method I defined a function in R^3 where it is easy to see that the function has a minima in the point (1/3, 2, -3). To test that the function works I modified the gradient descent method to save every iterative value of the gradient to be able to plot how it increments closer to the stable point x*. "
      ]
    },
    {
      "cell_type": "markdown",
      "source": [],
      "metadata": {
        "id": "wYbUsC9OTWUk"
      }
    },
    {
      "cell_type": "code",
      "source": [
        "#Test \n",
        "def f(x):\n",
        "  return (3*x[0]-1)**2 + (x[1]-2)**2 + (x[2] +3)**2\n",
        "\n",
        "actual = np.array([1/3, 2, -3])\n",
        "solution, x_vals = gradient_descent_method(f, np.array([10.0,0, -100.0]))\n",
        "print(\"Returned solution: \", solution, \"\\n\")\n",
        "print(\"Difference to the actual solution: \\n\",actual, \" is \" ,np.round(np.abs(solution - actual),6))\n",
        "diff = np.copy(x_vals)\n",
        "#for i in range(len(x_vals)): \n",
        " # for j in range(1,3):\n",
        "  #  diff[i][j] = x_vals[i][j]-actual[j]\n",
        "#print(diff)\n",
        "plt.grid()\n",
        "\n",
        "plt.plot(x_vals)\n",
        "plt.xlabel(\"Step\")\n",
        "plt.ylabel(\"Function gradient at step t\")\n"
      ],
      "metadata": {
        "colab": {
          "base_uri": "https://localhost:8080/",
          "height": 366
        },
        "id": "HcFo_gOQaarN",
        "outputId": "c58a5c80-bf50-41b3-d8ae-1078ffdf85a3"
      },
      "execution_count": 53,
      "outputs": [
        {
          "output_type": "stream",
          "name": "stdout",
          "text": [
            "Returned solution:  [ 0.3333044   1.99999401 -3.00029034] \n",
            "\n",
            "Difference to the actual solution: \n",
            " [ 0.33333333  2.         -3.        ]  is  [2.9e-05 6.0e-06 2.9e-04]\n"
          ]
        },
        {
          "output_type": "execute_result",
          "data": {
            "text/plain": [
              "Text(0, 0.5, 'Function gradient at step t')"
            ]
          },
          "metadata": {},
          "execution_count": 53
        },
        {
          "output_type": "display_data",
          "data": {
            "text/plain": [
              "<Figure size 432x288 with 1 Axes>"
            ],
            "image/png": "[encoded data removed]"
          },
          "metadata": {
            "needs_background": "light"
          }
        }
      ]
    },
    {
      "cell_type": "markdown",
      "metadata": {
        "id": "_4GLBv0zWr7m"
      },
      "source": [
        "# **Discussion**\n",
        "When setting the step-size alpha to 0.01, and the tolerance for error TOL to 10^-6 it requires more than 200 iterations to converge. When TOL is 10^-3 it finishes after ca 120 iterations.\n",
        "\n",
        "\n",
        "In the plot I have increased alpha to 0.1. As we can see one of the x:es overshoots the stable point X* and oscillates around it, while converging. Under these conditions the functions stops after ca 50 iterations. "
      ]
    }
  ]
}