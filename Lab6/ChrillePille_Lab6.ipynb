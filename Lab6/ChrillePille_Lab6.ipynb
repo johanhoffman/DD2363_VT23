{
  "nbformat": 4,
  "nbformat_minor": 0,
  "metadata": {
    "colab": {
      "provenance": []
    },
    "kernelspec": {
      "name": "python3",
      "display_name": "Python 3"
    }
  },
  "cells": [
    {
      "cell_type": "markdown",
      "metadata": {
        "id": "6RgtXlfYO_i7"
      },
      "source": [
        "# **Lab 6: Optimization and Learning**\n",
        "**Christian Weigelt**"
      ]
    },
    {
      "cell_type": "markdown",
      "source": [
        "#***About the code*** "
      ],
      "metadata": {
        "id": "15HDM9KW6WGg"
      }
    },
    {
      "cell_type": "code",
      "source": [
        "\"\"\"This program is a template for lab reports in the course\"\"\"\n",
        "\"\"\"DD2363 Methods in Scientific Computing, \"\"\"\n",
        "\"\"\"KTH Royal Institute of Technology, Stockholm, Sweden.\"\"\"\n",
        "\n",
        "# Copyright (C) 2023 Christian Weigelt (weigelt@kth.se)\n",
        "\n",
        "# This file is part of the course DD2363 DD2363 Methods in Scientific Computing\n",
        "# KTH Royal Institute of Technology, Stockholm, Sweden"
      ],
      "metadata": {
        "colab": {
          "base_uri": "https://localhost:8080/",
          "height": 36
        },
        "id": "bOUMrFYy6VKJ",
        "outputId": "bee2a6c0-42ad-4969-90b4-a8d924b8b281"
      },
      "execution_count": 1,
      "outputs": [
        {
          "output_type": "execute_result",
          "data": {
            "text/plain": [
              "'KTH Royal Institute of Technology, Stockholm, Sweden.'"
            ],
            "application/vnd.google.colaboratory.intrinsic+json": {
              "type": "string"
            }
          },
          "metadata": {},
          "execution_count": 1
        }
      ]
    },
    {
      "cell_type": "markdown",
      "metadata": {
        "id": "9x_J5FVuPzbm"
      },
      "source": [
        "# **Abstract**"
      ]
    },
    {
      "cell_type": "markdown",
      "metadata": {
        "id": "6UFTSzW7P8kL"
      },
      "source": [
        "This lab consisted of implementing a set of optimization algorithms.\n",
        "  Test code was written to verify function outputs.\n",
        "  \n",
        "  In the introduction section, the function is given a brief description, both of input/output, and what is to be tested.\n",
        "  \n",
        "  In the method section, short definitions of the functions are given, and their implementations are presented.\n",
        "  \n",
        "  In the results section, the test cases and their output are presented."
      ]
    },
    {
      "cell_type": "markdown",
      "metadata": {
        "id": "28xLGz8JX3Hh"
      },
      "source": [
        "# **Set up environment**"
      ]
    },
    {
      "cell_type": "code",
      "metadata": {
        "id": "Xw7VlErAX7NS"
      },
      "source": [
        "import numpy as np\n",
        "from numpy import random as rng\n",
        "import math\n",
        "from scipy import optimize, integrate\n",
        "from matplotlib import pyplot as plt\n",
        "from matplotlib import tri\n",
        "from matplotlib import axes"
      ],
      "execution_count": 2,
      "outputs": []
    },
    {
      "cell_type": "markdown",
      "metadata": {
        "id": "gnO3lhAigLev"
      },
      "source": [
        "# **Introduction**\n",
        "\n",
        "  In the course book, different methods of finding arguments which minimize an objective function are presented.\n",
        "  This is the minimization problem, and we can solve maximization problems as an equivalent minimization problem, in which the sign of the objective function reversed.\n",
        "\n",
        "  In $R^n$, the minimization problem takes the following form:\n",
        "  \n",
        "  Find $x^* \\in D$, such that\n",
        "\n",
        "  $f(x^*) \\leq f(x)$, $∀x \\in D$\n",
        "\n",
        "  with the search space $D ⊂ R^n$, the optimal solution $x^* \\in D$, and the objective function $f:D→R$"
      ]
    },
    {
      "cell_type": "markdown",
      "metadata": {
        "id": "l5zMzgPlRAF6"
      },
      "source": [
        "In this lab, the assignment was to implement two functions, with input and output as defined in the lab instructions, as well as write code tests to test output.\n",
        "\n",
        "1. Function: Gradient descent method in $R^n$ \n",
        "\n",
        "  Input: objective function $f(x)$\n",
        "  \n",
        "  Output: stationary point $x^*$ such that $|| grad(f)(x^*) || < TOL$\n",
        "  \n",
        "  Test: verify accuracy and convergence with respect to exact solution \n",
        "\n",
        "2. Function: Newton's method in $R^n$\n",
        "\n",
        "  Input: objective function $f(x)$\n",
        "  \n",
        "  Output: stationary point $x^*$ such that $|| grad(f)(x*) || < TOL$\n",
        "  \n",
        "  Test: verify accuracy and convergence with respect to exact solution "
      ]
    },
    {
      "cell_type": "markdown",
      "metadata": {
        "id": "jOQvukXZq5U5"
      },
      "source": [
        "# **Method**"
      ]
    },
    {
      "cell_type": "markdown",
      "metadata": {
        "id": "zF4iBj5VURZx"
      },
      "source": [
        "Here the code for the assignment is provided."
      ]
    },
    {
      "cell_type": "markdown",
      "source": [
        "###Function: Gradient descent method in $R^n$ \n",
        "  Function 1 is 'Function: Gradient descent method in $R^n$'.\n",
        "\n",
        "  The *gradient descent method*, or *steepest descent method*, finds a critical point of $f(x)$ by searching in the direction opposite to $∇f(x)$.\n",
        "\n",
        "  Using the update formula from **Equation 15.4** in the course book:\n",
        "\n",
        "  $x^{(k+1)} = x^{(k)} - α^{k}∇f(x^{(k)}$\n",
        "\n",
        "  We can iteratively improve an approximation $x^*$.\n",
        "  \n",
        "  The step length $α^{(k)}$ is determined by finding the step $s$ which minimizes $f(s)$:\n",
        "\n",
        "  $f(s) = f(x^{(x)} - α^{(k)}∇f(x^{(k)}))$\n",
        "  \n",
        "  The implementation is based on the pseudo-code in **Algorithm 15.1** from the course book, and uses finite difference to approximate the *gradient* $∇f(x)$.\n",
        "\n",
        "  The line search method here gives a length at iteration $k$ which is always lesser or equal to the previous step length:\n",
        "  \n",
        "  $0 \\leq \\alpha^{(k)} \\leq \\alpha^{(k-1)}$"
      ],
      "metadata": {
        "id": "obyPiP_kn4Ud"
      }
    },
    {
      "cell_type": "code",
      "source": [
        "def gradient(f, x, h=1e-6):\n",
        "  n = x.size\n",
        "  diff = h * np.identity(n)\n",
        "  ret = np.zeros(n)\n",
        "  for i in range(n):\n",
        "    #dx = np.array(x)\n",
        "    #dx[i] = dx[i] + h\n",
        "    ret[i] = (f(x + diff[i]) - f(x))/h\n",
        "  return ret\n",
        "\n",
        "def line_search(f, D_f, x, last=1, step=1e-3):\n",
        "  alpha = last\n",
        "  line = np.arange(0, last, step) # look at step lengths up to last step length a\n",
        "  for s in line:\n",
        "    c = f(x - s*D_f)\n",
        "    if c < f(x - alpha*D_f):\n",
        "      alpha = s\n",
        "  return alpha\n",
        "\n",
        "def grad_descent(f, x_0, TOL=1e-6):\n",
        "  x = x_0 # initial x\n",
        "  x_list = [x_0]\n",
        "\n",
        "  alpha = 1 # initial step length\n",
        "\n",
        "  D_f = gradient(f, x) # for initial stop condition check\n",
        "  spins = 0 # iteration counter\n",
        "  while np.linalg.norm(D_f) > TOL and spins < 100:\n",
        "    D_f = gradient(f, x) # calculate gradient at x\n",
        "    alpha = line_search(f, D_f, x, last=alpha) # find step length\n",
        "    x = x - alpha*D_f # new x\n",
        "    x_list.append(x)\n",
        "    spins += 1\n",
        "  return x_list, spins"
      ],
      "metadata": {
        "id": "Iu5mGXkb6RNZ"
      },
      "execution_count": 3,
      "outputs": []
    },
    {
      "cell_type": "markdown",
      "source": [
        "###Function: Newton's method in $R^n$ \n",
        "  Function 2 is 'Function: Newton's method in $R^n$'.\n",
        "\n",
        "  Newton's method is formulated by using Taylor's formula to approximate the objective function, with $x, y$ in Taylor's formula replaced by $x = x^{(k+1)}$ and $y = y^{(k)}$. \n",
        "  \n",
        "  The increment $Δx = x^{(k+1)} - x^{(k)}$ is selected to minimize the approximation of the objective function.\n",
        "\n",
        "  From the course book, we are given:\n",
        "\n",
        "  $x^{(k + 1)} = x^{(k)} + Δx$\n",
        "\n",
        "  with the increment $Δx$:\n",
        "\n",
        "  $Δx = -(Hf(x^{(k)}))^{-1}∇f(x^{(k)})$\n",
        "\n",
        "  The implementation is based on the pseudo-code in **Algorithm 15.3** from the course book.\n",
        "\n",
        "  Here I reused an implementation of a function using finite difference to approximate the Jacobian of a function, from Lab 2. Since the *Hessian* $H$ of a function $f(x)$ is equivalent to the *Jacobian* $J$ of the *gradient* $∇f(x)$, we can approximate the *Hessian* of $f$ using this approximation function with the gradient $∇f(x)$ as parameter."
      ],
      "metadata": {
        "id": "Muj4K6Shs5p9"
      }
    },
    {
      "cell_type": "code",
      "source": [
        "# reuse jac_approx() from lab 2\n",
        "def jac_approx(f, x, h=1e-6):\n",
        "  n = x.size\n",
        "  diff = h * np.identity(n)\n",
        "  J = np.zeros((n, n))\n",
        "  for i in range(n):\n",
        "      J[i, :] = (f(x + diff[i, :]) - f(x))/h\n",
        "  return J\n",
        "\n",
        "# hessian of f(x) <=> jacobian of D_f(x)\n",
        "def hessian(f, x, h=1e-6):\n",
        "  grad = lambda x: gradient(f, x)\n",
        "  H = jac_approx(grad, x)\n",
        "  return H\n",
        "\n",
        "def newton_minim(f, x_0, TOL=1e-6):\n",
        "  x = x_0\n",
        "  x_list = [x_0]\n",
        "\n",
        "  D_f = gradient(f, x) # for initial stop condition check\n",
        "  spins = 0 # iteration counter\n",
        "  while np.linalg.norm(D_f) > TOL and spins < 100:\n",
        "    D_f = gradient(f, x) # calculate gradient\n",
        "    H_f = hessian(f, x) # calculate hessian\n",
        "\n",
        "    x = x + np.linalg.solve(H_f, -D_f) # new x\n",
        "    x_list.append(x)\n",
        "    spins += 1\n",
        "  return x_list, spins"
      ],
      "metadata": {
        "id": "jreQkClny7up"
      },
      "execution_count": 4,
      "outputs": []
    },
    {
      "cell_type": "markdown",
      "metadata": {
        "id": "SsQLT38gVbn_"
      },
      "source": [
        "# **Results**\n",
        "\n",
        "To test, we use an arbitrary function $f:R^3→R$, with a random initial guess $x_0$."
      ]
    },
    {
      "cell_type": "code",
      "source": [
        "# Init function f, initial guess x_0\n",
        "f = lambda x: ((2 + x[0])**2)/5 + ((3 - x[1])**2)/2 + ((5 + x[2])**2)/3\n",
        "x_0 = (np.random.rand(3) - [0.5, 0.5, 0.5]) * 10\n",
        "print(\"f(x) = ((2 + x_0)^2)/5 + ((3 - x_1)^2)/2 + ((5 + x_2)^2)/3\")\n",
        "print(f\"initial guess: x = {x_0}\")\n",
        "\n",
        "# exact solution\n",
        "sol = [-2, 3, -5]\n",
        "err = lambda x: np.linalg.norm(sol - x)"
      ],
      "metadata": {
        "colab": {
          "base_uri": "https://localhost:8080/"
        },
        "id": "cEq2CVHFdiCD",
        "outputId": "d064b846-12e8-46f0-e089-8cc9908769b8"
      },
      "execution_count": 5,
      "outputs": [
        {
          "output_type": "stream",
          "name": "stdout",
          "text": [
            "f(x) = ((2 + x_0)^2)/5 + ((3 - x_1)^2)/2 + ((5 + x_2)^2)/3\n",
            "initial guess: x = [0.80606352 3.45908295 1.19875557]\n"
          ]
        }
      ]
    },
    {
      "cell_type": "code",
      "source": [
        "# Gradient descent minimization\n",
        "x_grad, spins_grad = grad_descent(f, x_0)\n",
        "print(f\"Gradient descent result x* = {x_grad[-1]}\")\n",
        "print(f\"f(x*) = {err(x_grad[-1])}\")\n",
        "print(f\"D_f(x*) = {gradient(f, x_grad[-1])}\")\n",
        "print(f\"iterations performed: {spins_grad}\")\n",
        "\n",
        "errors_grad = list(map(err, x_grad))\n",
        "N = range(spins_grad + 1)\n",
        "\n",
        "plt.title(f\"Gradient descent in R^2\")\n",
        "plt.plot(N, errors_grad, label=\"grad_descent error\")\n",
        "plt.legend()\n",
        "plt.show()"
      ],
      "metadata": {
        "id": "ZaRGCFr7f2IJ",
        "colab": {
          "base_uri": "https://localhost:8080/",
          "height": 350
        },
        "outputId": "0090afd6-c1b0-4796-f82c-09abbb61b560"
      },
      "execution_count": 6,
      "outputs": [
        {
          "output_type": "stream",
          "name": "stdout",
          "text": [
            "Gradient descent result x* = [-1.99999947  2.9999995  -5.0000005 ]\n",
            "f(x*) = 8.860375823466905e-07\n",
            "D_f(x*) = [4.13565049e-07 0.00000000e+00 6.01000731e-14]\n",
            "iterations performed: 29\n"
          ]
        },
        {
          "output_type": "display_data",
          "data": {
            "text/plain": [
              "<Figure size 432x288 with 1 Axes>"
            ],
            "image/png": "[encoded data removed]"
          },
          "metadata": {
            "needs_background": "light"
          }
        }
      ]
    },
    {
      "cell_type": "markdown",
      "source": [
        "Here, the gradient descent method produces an accurate solution, and we can see that the convergence towards the exact solution in the plot above."
      ],
      "metadata": {
        "id": "Q1_y8noXsCtB"
      }
    },
    {
      "cell_type": "markdown",
      "source": [
        "For Newton minimization, use same test case:"
      ],
      "metadata": {
        "id": "EKAz84SQowVL"
      }
    },
    {
      "cell_type": "code",
      "source": [
        "# Newton minimization\n",
        "x_newt, spins_newt = newton_minim(f, x_0)\n",
        "print(f\"Newton minimization result x* = {x_newt[-1]}\")\n",
        "print(f\"||solution - x*|| = {err(x_newt[-1])}\")\n",
        "print(f\"D_f(x*) = {gradient(f, x_newt[-1])}\")\n",
        "print(f\"iterations performed: {spins_newt}\")\n",
        "\n",
        "errors_newt = list(map(err, x_newt))\n",
        "M = range(spins_newt + 1)\n",
        "\n",
        "plt.title(f\"Newton minimization in R^2\")\n",
        "plt.plot(M, errors_newt, label=\"newton_minim error\")\n",
        "plt.xticks(M)\n",
        "\n",
        "plt.legend()\n",
        "plt.show()"
      ],
      "metadata": {
        "colab": {
          "base_uri": "https://localhost:8080/",
          "height": 350
        },
        "id": "M9BnO--AReUo",
        "outputId": "9e2307c6-586d-48e0-9d71-9c90950ffb90"
      },
      "execution_count": 7,
      "outputs": [
        {
          "output_type": "stream",
          "name": "stdout",
          "text": [
            "Newton minimization result x* = [-2.0000005  2.9999995 -5.0000005]\n",
            "||solution - x*|| = 8.660254041618849e-07\n",
            "D_f(x*) = [-4.44089057e-17  0.00000000e+00 -2.96059472e-16]\n",
            "iterations performed: 3\n"
          ]
        },
        {
          "output_type": "display_data",
          "data": {
            "text/plain": [
              "<Figure size 432x288 with 1 Axes>"
            ],
            "image/png": "[encoded data removed]"
          },
          "metadata": {
            "needs_background": "light"
          }
        }
      ]
    },
    {
      "cell_type": "markdown",
      "source": [
        "The Newton minimization method also produces an accurate result, and in the above plot we can see that it converges towards the exact solution very quickly, in fact it only needs a couple of iterations to find a critical point from the initial guess."
      ],
      "metadata": {
        "id": "oWQC4j6MtLcD"
      }
    },
    {
      "cell_type": "markdown",
      "source": [
        "Comparing the two:"
      ],
      "metadata": {
        "id": "zJLrWvoGoswq"
      }
    },
    {
      "cell_type": "code",
      "source": [
        "print(f\"gradient descent ||solution - x*|| = {err(x_grad[-1])}\")\n",
        "print(f\"newton minimization: ||solution - x*|| = {err(x_newt[-1])}\")\n",
        "plt.title(\"Error comparison\")\n",
        "plt.plot(N, errors_grad, label=\"grad_descent error\")\n",
        "plt.plot(M, errors_newt, label=\"newton_minim error\")\n",
        "plt.legend()\n",
        "plt.show()"
      ],
      "metadata": {
        "colab": {
          "base_uri": "https://localhost:8080/",
          "height": 316
        },
        "id": "4GI_x3FAdoqF",
        "outputId": "534b879c-e8ea-4957-83c6-4ed3db9d8d6c"
      },
      "execution_count": 8,
      "outputs": [
        {
          "output_type": "stream",
          "name": "stdout",
          "text": [
            "gradient descent ||solution - x*|| = 8.860375823466905e-07\n",
            "newton minimization: ||solution - x*|| = 8.660254041618849e-07\n"
          ]
        },
        {
          "output_type": "display_data",
          "data": {
            "text/plain": [
              "<Figure size 432x288 with 1 Axes>"
            ],
            "image/png": "[encoded data removed]"
          },
          "metadata": {
            "needs_background": "light"
          }
        }
      ]
    },
    {
      "cell_type": "markdown",
      "source": [
        "Here we can clearly see that the Newton minimization converges towards the exact solution much faster than the gradient descent method."
      ],
      "metadata": {
        "id": "ovxrqIX4b5sL"
      }
    },
    {
      "cell_type": "markdown",
      "metadata": {
        "id": "_4GLBv0zWr7m"
      },
      "source": [
        "# **Discussion**"
      ]
    },
    {
      "cell_type": "markdown",
      "metadata": {
        "id": "6bcsDSoRXHZe"
      },
      "source": [
        "Newton's method was very effective at solving the constructed minimization problem. Selecting an interesting enough function $f$ took a little while, but the implementation should work for any function $f:R^n → R$.\n",
        "\n",
        "Implementing these minimization functions was quite straightforward, although I got stuck for a while when working on the second functions, since at small values of $h$, approximating the *Hessian* was not very reliable."
      ]
    }
  ]
}