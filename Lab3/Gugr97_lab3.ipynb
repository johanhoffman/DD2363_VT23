{
  "nbformat": 4,
  "nbformat_minor": 0,
  "metadata": {
    "colab": {
      "provenance": []
    },
    "kernelspec": {
      "name": "python3",
      "display_name": "Python 3"
    },
    "language_info": {
      "name": "python"
    }
  },
  "cells": [
    {
      "cell_type": "markdown",
      "source": [
        "# **Lab 3: approximations**\n",
        "**Gustav Grevsten**"
      ],
      "metadata": {
        "id": "sSxSkm8d7OtY"
      }
    },
    {
      "cell_type": "markdown",
      "source": [
        "# **Abstract**\n",
        "\n",
        "The purpose of this lab is to implement and test a method for approximating a real-valued function $f(x)$ using projections onto orthogonal vectors that span the $L^2$ function space. Specifically, we will approximate the function over a $1D$ mesh using piecewise linear functions derived from the projection of the function over the first two vectors in the set of Legendre polynomials. In the end, we conclude that the approximation yeilds accurate results that converge as the size of the mesh grows larger."
      ],
      "metadata": {
        "id": "q5f0sheF7Y_v"
      }
    },
    {
      "cell_type": "markdown",
      "source": [
        "# **Set up environment**"
      ],
      "metadata": {
        "id": "QyyFK94H9grB"
      }
    },
    {
      "cell_type": "code",
      "source": [
        "# Load neccessary modules.\n",
        "import numpy as np"
      ],
      "metadata": {
        "id": "y4YhuRSh9kdl"
      },
      "execution_count": 46,
      "outputs": []
    },
    {
      "cell_type": "markdown",
      "source": [
        "# **Introduction**\n",
        "\n",
        "For many problems of scientific computations, it is necessary to discretize the problem that is being worked on so that it can be handled by a computer. For this purpose, it might be necessary to create a piecewise linear approximation to the problem\n",
        "\n",
        "Within the $L^2$ function space, it is possible to approximate functions that are members of this vector space by projecting them onto orthogonal basis vectors. A set of orthogonal basis vectors for this space are the Legendre polynomials, which can be used to find linear approximations of any square integrable functions. Using this fact, we will be able to construct an algorithm for finding piecewise linear approximation functions for arbitrary functions within this space."
      ],
      "metadata": {
        "id": "cAJCI9Lw9mEF"
      }
    },
    {
      "cell_type": "markdown",
      "source": [
        "# **Method**\n",
        "\n",
        "The algorithm we will employ in this lab involves a projection of the function $f(x)$ onto the Legendre polynomials of degree 0 and 1, which are the vectors $P_0(x) = 1$ and $P_1(x) = x$. Since the Legendre polynomials are orthogonal and span the function space $L^2$, we can approximate any other function in the space by projecting it onto a subset of the set of Legendre polynomials using the inner product $(f(x), P_n(x)) = \\int_{-1}^{1}P_n(x)f(x)dx$ to construct the projection $Proj(f(x), P_n(x)) = \\frac{(f(x), P_n(x))}{||P_n(x)||}P_n(x)$. We can approximate this integral using the trapezoid rule. The sum of these projections thus approximate the function $f(x)$ in the range $[-1, 1]$.\n",
        "\n",
        "(OBS: It should be noted that we wish to approximate functions in arbitrary intervalls $[a,b]$, where $a$ and $b$ are real values. In the implementation, we thus need to compensate for the fact that the Legendre polynomials are only orthogonal in $L^2(-1, 1)$ by performing a coordinate shift and calculating the integral $\\int_{-1}^{1}P_n(x)f(\\frac{(b-a)x}{2} - \\frac{a+b}{2})dx$, thus giving us the approximate values $f(a) ≈ P_n(-1)$ and $f(b) ≈ P_n(1)$)\n",
        "\n",
        "The algorithm is implemented as python code below:"
      ],
      "metadata": {
        "id": "sw49Mbij-L0-"
      }
    },
    {
      "cell_type": "code",
      "execution_count": 41,
      "metadata": {
        "id": "izsD5KweoDUF"
      },
      "outputs": [],
      "source": [
        "def integral(f, x0, x1, n, shift = [-1,1], x = False):\n",
        "    \"\"\"Integration using trapezoidal rule.\"\"\"\n",
        "    step = np.absolute((x0 - x1) / n)\n",
        "    a, b = shift[0], shift[1]\n",
        "    area = f(0.5*(b-a)*(x0) + 0.5*(a+b))\n",
        "\n",
        "    for i in range(1,n):\n",
        "        if x:\n",
        "          area += 2 * f(0.5*(b-a)*(x0 + i*step) + 0.5*(a+b))*(x0 + i*step)\n",
        "        else:\n",
        "          area += 2 * f(0.5*(b-a)*(x0 + i*step) + 0.5*(a+b))\n",
        "    \n",
        "    area *= (step/2)\n",
        "    \n",
        "    return area\n",
        "\n",
        "def pw_linear_one_d(f, mesh):\n",
        "  steps = len(mesh)\n",
        "  A = np.zeros((2, steps))\n",
        "  for i in range(steps-1):\n",
        "    A[0,i] = (1/2)*integral(f, -1, 1, 5000, [mesh[i], mesh[i+1]])\n",
        "    A[1,i] = (3/2)*integral(f, -1, 1, 5000, [mesh[i], mesh[i+1]], True)\n",
        "  result = []\n",
        "  for j in range(steps-1):\n",
        "    result.append(A[0,j] + A[1,j]*-1)\n",
        "  result.append(A[0,j] + A[1,j]*1)\n",
        "  return result"
      ]
    },
    {
      "cell_type": "markdown",
      "source": [
        "# **Results**\n",
        "\n",
        "We test the algorithm presented in the Methods section below. We show that the resulting function will converge towards the exact function for a mesh of higher resolution. We will test it on an arbitrary function $sin(x)$ within the range $[0,π]$. This is done by generating the values of the projections at the points in the mesh and comparing the approximated value to the exact solution using the numpy library:"
      ],
      "metadata": {
        "id": "y92a94snIfY8"
      }
    },
    {
      "cell_type": "code",
      "source": [
        "def f(x):\n",
        "  return np.sin(x)\n",
        "\n",
        "test = [3, 5, 10, 100]\n",
        "\n",
        "for t in test:\n",
        "  mesh = np.linspace(0, np.pi, t)\n",
        "\n",
        "  result = pw_linear_one_d(f, mesh)\n",
        "\n",
        "  exact = []\n",
        "\n",
        "  for x in mesh:\n",
        "    exact.append(f(x))\n",
        "\n",
        "  avg = 0\n",
        "  for i in range(len(result)):\n",
        "    avg += np.absolute(result[i] - exact[i])\n",
        "  print(\"Average error for a mesh of \" + str(len(mesh)) + \" points: \" + str(avg/len(result)))\n"
      ],
      "metadata": {
        "colab": {
          "base_uri": "https://localhost:8080/"
        },
        "id": "QyTEreElI2I4",
        "outputId": "21240a21-83d3-43ed-e716-69afceda8bcb"
      },
      "execution_count": 45,
      "outputs": [
        {
          "output_type": "stream",
          "name": "stdout",
          "text": [
            "Average error for a mesh of 3 points: 0.12940339179115076\n",
            "Average error for a mesh of 5 points: 0.02948097288685485\n",
            "Average error for a mesh of 10 points: 0.005764236359716309\n",
            "Average error for a mesh of 100 points: 0.0001995398183419503\n"
          ]
        }
      ]
    },
    {
      "cell_type": "markdown",
      "source": [
        "As can be seen from these results, the algorithm produces an accurate result that converges as the mesh grows larger."
      ],
      "metadata": {
        "id": "EJ0XefTQvsq1"
      }
    },
    {
      "cell_type": "markdown",
      "source": [
        "# **Discussion**\n",
        "\n",
        "As expected, we were able to closely approximate the function in $L^2$ using projections onto the first two Legendre polynomials to create piecewise linear approximations. It should be noted that other basis functions for $L^2$ can be utilized for this purpose, and more terms can easily be added in order to increase the accuracy of the results for any given mesh."
      ],
      "metadata": {
        "id": "LfTn0l5Qfwpd"
      }
    }
  ]
}