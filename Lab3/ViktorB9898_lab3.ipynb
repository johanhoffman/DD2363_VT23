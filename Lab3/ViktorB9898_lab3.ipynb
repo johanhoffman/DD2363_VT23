{
  "cells": [
    {
      "cell_type": "markdown",
      "metadata": {
        "id": "view-in-github",
        "colab_type": "text"
      },
      "source": [
        "<a href=\"https://colab.research.google.com/github/johanhoffman/DD2363_VT23/blob/ViktorB9898-Lab3/Lab3/ViktorB9898_lab3.ipynb\" target=\"_parent\"><img src=\"https://colab.research.google.com/assets/colab-badge.svg\" alt=\"Open In Colab\"/></a>"
      ]
    },
    {
      "cell_type": "markdown",
      "metadata": {
        "id": "6RgtXlfYO_i7"
      },
      "source": [
        "# **Lab 3: Approximation**\n",
        "**Viktor Beck**"
      ]
    },
    {
      "cell_type": "markdown",
      "metadata": {
        "id": "9x_J5FVuPzbm"
      },
      "source": [
        "# **Abstract**"
      ]
    },
    {
      "cell_type": "markdown",
      "metadata": {
        "id": "6UFTSzW7P8kL"
      },
      "source": [
        "This report features a method to approximate functions into a finite dimensional subspace."
      ]
    },
    {
      "cell_type": "markdown",
      "metadata": {
        "id": "OkT8J7uOWpT3"
      },
      "source": [
        "#**About the code**"
      ]
    },
    {
      "cell_type": "code",
      "execution_count": 1,
      "metadata": {
        "colab": {
          "base_uri": "https://localhost:8080/",
          "height": 35
        },
        "id": "Pdll1Xc9WP0e",
        "outputId": "a418cdaf-4e66-43dd-86eb-db73d0c36b3b"
      },
      "outputs": [
        {
          "output_type": "execute_result",
          "data": {
            "text/plain": [
              "'KTH Royal Institute of Technology, Stockholm, Sweden.'"
            ],
            "application/vnd.google.colaboratory.intrinsic+json": {
              "type": "string"
            }
          },
          "metadata": {},
          "execution_count": 1
        }
      ],
      "source": [
        "\"\"\"This program is a lab report in the course\"\"\"\n",
        "\"\"\"DD2363 Methods in Scientific Computing, \"\"\"\n",
        "\"\"\"KTH Royal Institute of Technology, Stockholm, Sweden.\"\"\"\n",
        "\n",
        "# Copyright (C) 2023 Viktor Beck (vbeck@kth.se / viktor.beck98@gmail.com)\n",
        "\n",
        "# This file is part of the course DD2363 Methods in Scientific Computing\n",
        "# KTH Royal Institute of Technology, Stockholm, Sweden"
      ]
    },
    {
      "cell_type": "markdown",
      "metadata": {
        "id": "28xLGz8JX3Hh"
      },
      "source": [
        "# **Set up environment**"
      ]
    },
    {
      "cell_type": "markdown",
      "metadata": {
        "id": "D2PYNusD08Wa"
      },
      "source": [
        "To have access to the neccessary modules you have to run this cell."
      ]
    },
    {
      "cell_type": "code",
      "execution_count": 2,
      "metadata": {
        "id": "Xw7VlErAX7NS"
      },
      "outputs": [],
      "source": [
        "# Load neccessary modules.\n",
        "from google.colab import files\n",
        "\n",
        "import time\n",
        "import numpy as np\n",
        "\n",
        "from matplotlib import pyplot as plt"
      ]
    },
    {
      "cell_type": "markdown",
      "metadata": {
        "id": "gnO3lhAigLev"
      },
      "source": [
        "# **Introduction**"
      ]
    },
    {
      "cell_type": "markdown",
      "metadata": {
        "id": "l5zMzgPlRAF6"
      },
      "source": [
        "This report is about approximations, more specifically, about L2 projection to a piecewise linear approximation over a mesh in 1D.\n",
        "\n",
        "The input for this Lab report was taken from the book of Professor Hoffman (https://doi-org.focus.lib.kth.se/10.1137/1.9781611976724) which corresponds to the content of the course:\n",
        "\n",
        "[Hyperlink to DD2363 course website.](https://kth.instructure.com/courses/17068)"
      ]
    },
    {
      "cell_type": "markdown",
      "metadata": {
        "id": "jOQvukXZq5U5"
      },
      "source": [
        "# **Method**"
      ]
    },
    {
      "cell_type": "markdown",
      "metadata": {
        "id": "81lPzv4_MC7_"
      },
      "source": [
        "### **1. Function: L2 projection to pw linear approximation over mesh in 1D**"
      ]
    },
    {
      "cell_type": "markdown",
      "metadata": {
        "id": "5ApKN82uMC7_"
      },
      "source": [
        "The input of this function is the function f(x) and the mesh. The L2 projection is given by the following:\n",
        "\\begin{equation}\n",
        "(P_Nf,v) = (f,v)\n",
        "\\end{equation}\n",
        "which can be rewritten as\n",
        "\\begin{equation}\n",
        "\\sum_{j=1}^N \\alpha_j(\\phi_j,\\phi_i)=(f,\\phi_i).\n",
        "\\end{equation}\n",
        "This corresponds to a matrix equation. To compute the entries of A and b we need the basis functions $\\phi_i$. We will use hat functions as basis functions which are given by $\\phi_i=\\lambda_{k,j}(x)$ if $x \\in I_k$ and 0 otherwise where\n",
        "\\begin{equation}\n",
        "\\lambda_{k,0}(x)=\\frac{x_k-x}{h_k}, \\quad \\lambda_{k,1}(x)=\\frac{x-x_{k-1}}{h_k}.\n",
        "\\end{equation}\n",
        "\n",
        "Now we can calculate the $a_{ij}$. From the lecture notes we know that \n",
        "\\begin{equation}\n",
        "a_{ii}=(\\phi_i,\\phi_i)=\\frac{h_i+h_{i+1}}{3},\\quad a_{ii+1}=\\frac{h_{i+1}}{6},\\quad a_{ii-1}=\\frac{h_i}{6}\n",
        "\\end{equation}\n",
        "and\n",
        "\\begin{equation}\n",
        "b_i = (f(x),\\phi_i) = \\int f(x)\\phi_i(x)dx\n",
        "\\end{equation}\n",
        "which can be rewritten using the Trapezoidal rule (it could also be calculated directly using a predefined Scipy integration function)."
      ]
    },
    {
      "cell_type": "code",
      "execution_count": 3,
      "metadata": {
        "id": "cMR84iVMMC8A"
      },
      "outputs": [],
      "source": [
        "# compute coefficients\n",
        "def L2_projection_coeff(f, mesh):\n",
        "    n = len(mesh) - 1\n",
        "    A = np.zeros((n+1, n+1))\n",
        "    b = np.zeros(n+1)\n",
        "    for i in range(1, n):\n",
        "        hi = mesh[i] - mesh[i-1]\n",
        "        hi1 = mesh[i+1] - mesh[i]\n",
        "        # apply Trapezoidal rule for b[i] to calculate integral\n",
        "        b[i] = (hi*f(mesh[i-1]) + hi1*f(mesh[i+1]))/2 + (hi+hi1)*f(mesh[i])/6\n",
        "        # use A[i,j] from lecture notes\n",
        "        A[i,i-1] = hi/6\n",
        "        A[i,i] = (hi+hi1)/3\n",
        "        A[i,i+1] = hi1/6\n",
        "    # this prevents A being a singular matrix\n",
        "    A[0,0] = 1\n",
        "    A[n,n] = 1\n",
        "    #print(A)\n",
        "    alpha = np.linalg.solve(A, b)\n",
        "    return alpha\n",
        "\n",
        "# compute approximation to f(x)\n",
        "def L2_projection(f, x, mesh):\n",
        "    alpha = L2_projection_coeff(f, mesh)\n",
        "    n = len(mesh)\n",
        "    Pf = 0\n",
        "    for k in range(1,n-1):\n",
        "        if mesh[k-1] <= x < mesh[k]:\n",
        "            Pf += alpha[k]*(x-mesh[k-1])/(mesh[k]-mesh[k-1])\n",
        "        elif mesh[k] <= x < mesh[k+1]:\n",
        "            Pf += alpha[k]*(mesh[k+1]-x)/(mesh[k+1]-mesh[k])\n",
        "    return Pf\n"
      ]
    },
    {
      "cell_type": "markdown",
      "metadata": {
        "id": "SsQLT38gVbn_"
      },
      "source": [
        "# **Results**"
      ]
    },
    {
      "cell_type": "markdown",
      "metadata": {
        "id": "LRL82zSMMC8B"
      },
      "source": [
        "### **1. Function: L2 projection to pw linear approximation over mesh in 1D**"
      ]
    },
    {
      "cell_type": "code",
      "execution_count": 4,
      "metadata": {
        "colab": {
          "base_uri": "https://localhost:8080/",
          "height": 296
        },
        "id": "utUBjOcXMC8B",
        "outputId": "3af37418-8c2e-48b1-f381-bdfe8dbba69a"
      },
      "outputs": [
        {
          "output_type": "execute_result",
          "data": {
            "text/plain": [
              "<matplotlib.legend.Legend at 0x7f5538190f70>"
            ]
          },
          "metadata": {},
          "execution_count": 4
        },
        {
          "output_type": "display_data",
          "data": {
            "text/plain": [
              "<Figure size 432x288 with 1 Axes>"
            ],
            "image/png": "[encoded data removed]"
          },
          "metadata": {
            "needs_background": "light"
          }
        }
      ],
      "source": [
        "# some arbitrary input\n",
        "def f(x):\n",
        "    return x**2\n",
        "\n",
        "\n",
        "# generate mesh\n",
        "mesh = np.linspace(-1,1,101)\n",
        "\n",
        "# evaluate L2 projection of f(x) in the mesh\n",
        "Pf = np.array([L2_projection(f, x, mesh) for x in mesh])\n",
        "\n",
        "plt.plot(mesh, Pf, label=\"approximation\")\n",
        "plt.plot(mesh, f(mesh), label=\"exact\")\n",
        "plt.xlabel(\"x\")\n",
        "plt.ylabel(\"f(x), Pf(x)\")\n",
        "plt.legend()\n"
      ]
    },
    {
      "cell_type": "markdown",
      "metadata": {
        "id": "L6nCsIijMC8B"
      },
      "source": [
        "... one can see that the approximation gets worse at the boundaries. Equally spaced points can lead to clustering of points especially near the boundaries of the interval. A better approximation could be obtained by using Chebychev points. \n",
        "\n",
        "Since the approximation is very bad at the boundary but ok elsewhere the overall error norm would not be a good measure of the error. Therefore, the error is computed for each point of the mesh."
      ]
    },
    {
      "cell_type": "code",
      "execution_count": 5,
      "metadata": {
        "colab": {
          "base_uri": "https://localhost:8080/",
          "height": 296
        },
        "id": "as_Vjy68MC8C",
        "outputId": "7629d6d1-43cd-4249-807b-afba2fefe6a1"
      },
      "outputs": [
        {
          "output_type": "execute_result",
          "data": {
            "text/plain": [
              "<matplotlib.legend.Legend at 0x7f553816bc70>"
            ]
          },
          "metadata": {},
          "execution_count": 5
        },
        {
          "output_type": "display_data",
          "data": {
            "text/plain": [
              "<Figure size 432x288 with 1 Axes>"
            ],
            "image/png": "[encoded data removed]"
          },
          "metadata": {
            "needs_background": "light"
          }
        }
      ],
      "source": [
        "# error\n",
        "err = [abs(x) for x in (Pf-f(mesh))]\n",
        "\n",
        "plt.plot(mesh, err, label=\"error\")\n",
        "plt.xlabel(\"x\")\n",
        "plt.ylabel(\"error\")\n",
        "plt.legend()"
      ]
    },
    {
      "cell_type": "markdown",
      "metadata": {
        "id": "_4GLBv0zWr7m"
      },
      "source": [
        "# **Discussion**"
      ]
    },
    {
      "cell_type": "markdown",
      "metadata": {
        "id": "6bcsDSoRXHZe"
      },
      "source": [
        "See 'Results'."
      ]
    }
  ],
  "metadata": {
    "colab": {
      "provenance": [],
      "include_colab_link": true
    },
    "kernelspec": {
      "display_name": "Python 3",
      "language": "python",
      "name": "python3"
    },
    "language_info": {
      "codemirror_mode": {
        "name": "ipython",
        "version": 3
      },
      "file_extension": ".py",
      "mimetype": "text/x-python",
      "name": "python",
      "nbconvert_exporter": "python",
      "pygments_lexer": "ipython3",
      "version": "3.10.6"
    },
    "vscode": {
      "interpreter": {
        "hash": "916dbcbb3f70747c44a77c7bcd40155683ae19c65e1c03b4aa3499c5328201f1"
      }
    }
  },
  "nbformat": 4,
  "nbformat_minor": 0
}