{
  "nbformat": 4,
  "nbformat_minor": 0,
  "metadata": {
    "colab": {
      "provenance": []
    },
    "kernelspec": {
      "name": "python3",
      "display_name": "Python 3"
    }
  },
  "cells": [
    {
      "cell_type": "markdown",
      "metadata": {
        "id": "6RgtXlfYO_i7"
      },
      "source": [
        "# **Lab 3: approximation**\n",
        "**Jesper Lidbaum**"
      ]
    },
    {
      "cell_type": "markdown",
      "metadata": {
        "id": "9x_J5FVuPzbm"
      },
      "source": [
        "# **Abstract**"
      ]
    },
    {
      "cell_type": "markdown",
      "metadata": {
        "id": "6UFTSzW7P8kL"
      },
      "source": [
        "In this report, we will implement an L2 projection on a one-dimensional real function onto a piecewise linear function space. The error was $< 0.00085$ for the real function $f(x) = sin(x)$ projected onto the piecewise linear space with 100 nodes. And the order of convergence was estimated to be quadratic."
      ]
    },
    {
      "cell_type": "markdown",
      "metadata": {
        "id": "OkT8J7uOWpT3"
      },
      "source": [
        "#**About the code**"
      ]
    },
    {
      "cell_type": "markdown",
      "metadata": {
        "id": "HmB2noTr1Oyo"
      },
      "source": [
        "A short statement on who is the author of the file, and if the code is distributed under a certain license. "
      ]
    },
    {
      "cell_type": "code",
      "metadata": {
        "id": "Pdll1Xc9WP0e",
        "colab": {
          "base_uri": "https://localhost:8080/",
          "height": 36
        },
        "outputId": "c326d734-e92d-49cf-a23b-6653ecdc3d74"
      },
      "source": [
        "\"\"\"This program is a template for lab reports in the course\"\"\"\n",
        "\"\"\"DD2363 Methods in Scientific Computing, \"\"\"\n",
        "\"\"\"KTH Royal Institute of Technology, Stockholm, Sweden.\"\"\"\n",
        "\n",
        "# Copyright (C) 2023 Jesper Lidbaum (jlidbaum@kth.se)\n",
        "\n",
        "# This file is part of the course DD2365 Advanced Computation in Fluid Mechanics\n",
        "# KTH Royal Institute of Technology, Stockholm, Sweden\n",
        "#\n",
        "# This is free software: you can redistribute it and/or modify\n",
        "# it under the terms of the GNU Lesser General Public License as published by\n",
        "# the Free Software Foundation, either version 3 of the License, or\n",
        "# (at your option) any later version.\n",
        "\n",
        "# This template is maintained by Johan Hoffman\n",
        "# Please report problems to jhoffman@kth.se"
      ],
      "execution_count": 17,
      "outputs": [
        {
          "output_type": "execute_result",
          "data": {
            "text/plain": [
              "'KTH Royal Institute of Technology, Stockholm, Sweden.'"
            ],
            "application/vnd.google.colaboratory.intrinsic+json": {
              "type": "string"
            }
          },
          "metadata": {},
          "execution_count": 17
        }
      ]
    },
    {
      "cell_type": "markdown",
      "metadata": {
        "id": "28xLGz8JX3Hh"
      },
      "source": [
        "# **Set up environment**"
      ]
    },
    {
      "cell_type": "markdown",
      "metadata": {
        "id": "D2PYNusD08Wa"
      },
      "source": [
        "To have access to the neccessary modules you have to run this cell. If you need \n",
        "additional modules, this is where you add them. "
      ]
    },
    {
      "cell_type": "code",
      "metadata": {
        "id": "Xw7VlErAX7NS"
      },
      "source": [
        "# Load neccessary modules.\n",
        "from google.colab import files\n",
        "\n",
        "import time\n",
        "import numpy as np\n",
        "\n",
        "#try:\n",
        "#    from dolfin import *; from mshr import *\n",
        "#except ImportError as e:\n",
        "#    !apt-get install -y -qq software-properties-common \n",
        "#    !add-apt-repository -y ppa:fenics-packages/fenics\n",
        "#    !apt-get update -qq\n",
        "#    !apt install -y --no-install-recommends fenics\n",
        "#    from dolfin import *; from mshr import *\n",
        "    \n",
        "#import dolfin.common.plotting as fenicsplot\n",
        "\n",
        "from matplotlib import pyplot as plt\n",
        "from matplotlib import tri\n",
        "from matplotlib import axes\n",
        "from mpl_toolkits.mplot3d import Axes3D"
      ],
      "execution_count": 18,
      "outputs": []
    },
    {
      "cell_type": "markdown",
      "metadata": {
        "id": "gnO3lhAigLev"
      },
      "source": [
        "# **Introduction**"
      ]
    },
    {
      "cell_type": "markdown",
      "metadata": {
        "id": "l5zMzgPlRAF6"
      },
      "source": [
        "The problem we investigate in this report is projecting a real one-dimensional function that we assume is continuous, onto a function space of piecewise linear functions. This is done with the base hat functions $\\phi_i$ for each node. $\\phi_i$ takes on the form of a linear function that goes from 0 to 1 in the interval preceding the node and a linear function from 1 to 0 in the next interval. The special case is in the first and last node where the function is cut in half. "
      ]
    },
    {
      "cell_type": "markdown",
      "metadata": {
        "id": "jOQvukXZq5U5"
      },
      "source": [
        "# **Method**"
      ]
    },
    {
      "cell_type": "markdown",
      "metadata": {
        "id": "zF4iBj5VURZx"
      },
      "source": [
        "First, we define the linear shape functions for a sub-interval they take on an increasing or decreasing form depending on the parameter $p$. They are from example 9.6 in the course book. The x_vector is the vector of all nodes in the interval. x is the parameter for the function. k is the node in the middle of the interval."
      ]
    },
    {
      "cell_type": "code",
      "source": [
        "def lambda_f(k, p, x_vector, x):\n",
        "    if(p == 0):\n",
        "        return (x_vector[k] - x)/(x_vector[k] - x_vector[k-1])\n",
        "    else:\n",
        "        return (x - x_vector[k - 1])/(x_vector[k] - x_vector[k-1])"
      ],
      "metadata": {
        "id": "2qfLbqNa5NkE"
      },
      "execution_count": 19,
      "outputs": []
    },
    {
      "cell_type": "markdown",
      "source": [
        "Next, we define the base functions for the interval. The base functions are from example 9.6 in the course book."
      ],
      "metadata": {
        "id": "qPpgVpr35RL2"
      }
    },
    {
      "cell_type": "code",
      "source": [
        "def phi_f(i, x, x_vector):\n",
        "    if(i == 0):\n",
        "        if(x < x_vector[0] or x > x_vector[1]):\n",
        "            return 0\n",
        "        return lambda_f(1, 0, x_vector, x)\n",
        "    elif(i == len(x_vector) - 1):\n",
        "        if(x < x_vector[i-1] or x > x_vector[i]):\n",
        "            return 0\n",
        "        return lambda_f(i, 1, x_vector, x)\n",
        "    else:\n",
        "        if(x < x_vector[i-1] or x > x_vector[i+1]):\n",
        "            return 0\n",
        "        elif(x < x_vector[i]):\n",
        "            return lambda_f(i, 1, x_vector, x)\n",
        "        else:\n",
        "            return lambda_f(i+1, 0, x_vector, x)"
      ],
      "metadata": {
        "id": "Wb-eoa2J5_Jx"
      },
      "execution_count": 20,
      "outputs": []
    },
    {
      "cell_type": "markdown",
      "source": [
        "Next, we define the inner product for the basis functions $(\\phi_i, \\phi_j)$. By figure 9.6 in the course book, we know that it is zero except when $i=j$, $i=j+1$, and $i=j-1$. The integral can be solved generically for the three cases and returned directly. "
      ],
      "metadata": {
        "id": "sLR9d7VG6DQz"
      }
    },
    {
      "cell_type": "code",
      "source": [
        "def phi_dot(i,j, x_vector):\n",
        "    if(i == 0 and j == 0):\n",
        "        return (x_vector[i+1] - x_vector[i]) / 3\n",
        "    if(i == len(x_vector) - 1 and j == len(x_vector) - 1):\n",
        "        return (x_vector[i] - x_vector[i-1]) / 3\n",
        "    if(i==j):\n",
        "        return (x_vector[i] - x_vector[i-1]) / 3 + (x_vector[i+1] - x_vector[i]) / 3\n",
        "    if(i==j-1):\n",
        "        return (x_vector[j] - x_vector[i]) / 6\n",
        "    if(i==j+1):\n",
        "        return (x_vector[i] - x_vector[j]) / 6\n",
        "    return 0\n"
      ],
      "metadata": {
        "id": "842ZlaeZ6-y2"
      },
      "execution_count": 21,
      "outputs": []
    },
    {
      "cell_type": "markdown",
      "source": [
        "Next, we need the value for $(f, \\phi_i) = \\int_{I_i}f(x)\\phi_i(x)dx$ where f is the function we want to project. Again we have the special cases for the first and last node. The integral is solved with the trapezoidal rule."
      ],
      "metadata": {
        "id": "Ek_HA4Mp7Czw"
      }
    },
    {
      "cell_type": "code",
      "source": [
        "def phi_dot_f(i, f, x_vector):\n",
        "    if(i == 0):\n",
        "        integrand = lambda x: ((x_vector[1] - x) / (x_vector[1] - x_vector[0])) * f(x)\n",
        "        space = np.linspace(x_vector[0], x_vector[1], 100)\n",
        "        return np.trapz(integrand(space), space, dx = 0.01)\n",
        "    elif(i == len(x_vector) - 1):\n",
        "        integrand = lambda x: ((x - x_vector[i-1]) / (x_vector[i] - x_vector[i-1])) * f(x)\n",
        "        space = np.linspace(x_vector[i-1], x_vector[i], 100)\n",
        "        return np.trapz(integrand(space), space, dx = 0.01)\n",
        "\n",
        "    integrand = lambda x: ((x - x_vector[i-1]) / (x_vector[i] - x_vector[i-1])) * f(x)\n",
        "    space = np.linspace(x_vector[i-1], x_vector[i], 100)\n",
        "    left = np.trapz(integrand(space), space, dx = 0.01)\n",
        "    integrand = lambda x: ((x_vector[i+1] - x) / (x_vector[i+1] - x_vector[i])) * f(x)\n",
        "    space = np.linspace(x_vector[i], x_vector[i+1], 100)\n",
        "    right = np.trapz(integrand(space), space, dx = 0.01)\n",
        "    return left + right"
      ],
      "metadata": {
        "id": "6ZrLNTuu7ZPB"
      },
      "execution_count": 22,
      "outputs": []
    },
    {
      "cell_type": "markdown",
      "source": [
        "Lastly, we use equations 9.18 and 9.19 from the course book and use the solution vector $\\alpha$ to perform the projection. "
      ],
      "metadata": {
        "id": "rgB3Ewz98KEy"
      }
    },
    {
      "cell_type": "code",
      "source": [
        "def l2_projection(alpha, x, x_vector, i):\n",
        "    if(i == 0):\n",
        "        return alpha[i] * phi_f(i, x, x_vector) + alpha[i+1] * phi_f(i+1, x, x_vector)\n",
        "    elif(i == len(x_vector) - 1):\n",
        "        return alpha[i-1] * phi_f(i-1, x, x_vector) + alpha[i] * phi_f(i, x, x_vector)\n",
        "    return alpha[i-1] * phi_f(i-1, x, x_vector) + alpha[i] * phi_f(i, x, x_vector) + alpha[i+1] * phi_f(i+1, x, x_vector)\n",
        "\n",
        "\n",
        "def l2_projection_over_points(x_vector, f):\n",
        "    A = np.zeros((len(x_vector), len(x_vector)))\n",
        "    for i in range(len(x_vector)):\n",
        "        for j in range(len(x_vector)):\n",
        "            A[i][j] = phi_dot(i, j, x_vector)\n",
        "    b = np.zeros(len(x_vector))\n",
        "    for i in range(len(x_vector)):\n",
        "        b[i] = phi_dot_f(i, f, x_vector)\n",
        "\n",
        "    alpha = np.linalg.solve(A, b)\n",
        "\n",
        "    ret = np.zeros(len(x_vector))\n",
        "\n",
        "    for i in range(len(x_vector)):\n",
        "        ret[i] = l2_projection(alpha, x_vector[i], x_vector, i)\n",
        "\n",
        "    return ret"
      ],
      "metadata": {
        "id": "2awmMOka8ban"
      },
      "execution_count": 23,
      "outputs": []
    },
    {
      "cell_type": "markdown",
      "metadata": {
        "id": "SsQLT38gVbn_"
      },
      "source": [
        "# **Results**"
      ]
    },
    {
      "cell_type": "markdown",
      "metadata": {
        "id": "RLwlnOzuV-Cd"
      },
      "source": [
        "Now we use the maximal error from the real function in the projected sequence to approximate the order of convergence. We also get the maximum error for sequences with 99 and 100 nodes respectively. We can see that the rate of convergence seems to be quadratic."
      ]
    },
    {
      "cell_type": "code",
      "source": [
        "x_vector = np.linspace(0.0, 10.0, 99)\n",
        "f = lambda x: np.sin(x)\n",
        "real_values = f(x_vector)\n",
        "approx_values = l2_projection_over_points(x_vector, f)\n",
        "\n",
        "x_vector2 = np.linspace(0.0, 10.0, 100)\n",
        "real_values2 = f(x_vector2)\n",
        "approx_values2 = l2_projection_over_points(x_vector2, f)\n",
        "\n",
        "error1 = np.abs(real_values - approx_values)\n",
        "error2 = np.abs(real_values2 - approx_values2)\n",
        "\n",
        "print(\"Error1: \", np.max(error1))\n",
        "print(\"Error2: \", np.max(error2))\n",
        "\n",
        "print(\"Estimated rate of convergence: \", np.log(np.max(error2)/np.max(error1))/np.log(99/100))"
      ],
      "metadata": {
        "colab": {
          "base_uri": "https://localhost:8080/"
        },
        "id": "mCksTrlj8w-Q",
        "outputId": "1c242542-917e-48b2-e5ef-3d42675d6764"
      },
      "execution_count": 24,
      "outputs": [
        {
          "output_type": "stream",
          "name": "stdout",
          "text": [
            "Error1:  0.0008680791260962106\n",
            "Error2:  0.0008503673703786907\n",
            "Estimated rate of convergence:  2.0511168328048033\n"
          ]
        }
      ]
    },
    {
      "cell_type": "markdown",
      "metadata": {
        "id": "_4GLBv0zWr7m"
      },
      "source": [
        "# **Discussion**"
      ]
    },
    {
      "cell_type": "markdown",
      "metadata": {
        "id": "6bcsDSoRXHZe"
      },
      "source": [
        "The interesting part about this lab was that I had to connect the dots in the mathematical formulas from the course book and lectures to create code. I had to in a way convert the math notation to how I think about it as a programmer. There is quite a difference. But when I got it it was pretty simple to implement.\n",
        "\n",
        "The implication that this method has is pretty clear on functions that are either hard to compute. But I see how we could use these approximations to solve differential equations later. \n"
      ]
    }
  ]
}