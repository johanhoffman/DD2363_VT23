{
  "nbformat": 4,
  "nbformat_minor": 0,
  "metadata": {
    "colab": {
      "provenance": [],
      "include_colab_link": true
    },
    "kernelspec": {
      "name": "python3",
      "display_name": "Python 3"
    }
  },
  "cells": [
    {
      "cell_type": "markdown",
      "metadata": {
        "id": "view-in-github",
        "colab_type": "text"
      },
      "source": [
        "<a href=\"https://colab.research.google.com/github/johanhoffman/DD2363_VT23/blob/juliusha/Lab3/report_lab_3.ipynb\" target=\"_parent\"><img src=\"https://colab.research.google.com/assets/colab-badge.svg\" alt=\"Open In Colab\"/></a>"
      ]
    },
    {
      "cell_type": "markdown",
      "metadata": {
        "id": "6RgtXlfYO_i7"
      },
      "source": [
        "# **Lab 2: Approximations**\n",
        "**Julius Häger**"
      ]
    },
    {
      "cell_type": "markdown",
      "metadata": {
        "id": "9x_J5FVuPzbm"
      },
      "source": [
        "# **Abstract**"
      ]
    },
    {
      "cell_type": "markdown",
      "metadata": {
        "id": "yJipbXtnjrJZ"
      },
      "source": [
        "TODO"
      ]
    },
    {
      "cell_type": "markdown",
      "metadata": {
        "id": "OkT8J7uOWpT3"
      },
      "source": [
        "#**About the code**"
      ]
    },
    {
      "cell_type": "code",
      "metadata": {
        "id": "Pdll1Xc9WP0e",
        "colab": {
          "base_uri": "https://localhost:8080/",
          "height": 36
        },
        "outputId": "cf10e583-b185-4fab-c7af-3841da8c46d7"
      },
      "source": [
        "\"\"\"This program is lab report in the course\"\"\"\n",
        "\"\"\"DD2363 Methods in Scientific Computing, \"\"\"\n",
        "\"\"\"KTH Royal Institute of Technology, Stockholm, Sweden.\"\"\"\n",
        "\n",
        "# Copyright (C) 2023 Julius Häger (juliusha@kth.se)\n",
        "\n",
        "# This file is part of the course DD2365 Advanced Computation in Fluid Mechanics\n",
        "# KTH Royal Institute of Technology, Stockholm, Sweden\n",
        "#\n",
        "# This is free software: you can redistribute it and/or modify\n",
        "# it under the terms of the GNU Lesser General Public License as published by\n",
        "# the Free Software Foundation, either version 3 of the License, or\n",
        "# (at your option) any later version."
      ],
      "execution_count": 1,
      "outputs": [
        {
          "output_type": "execute_result",
          "data": {
            "text/plain": [
              "'KTH Royal Institute of Technology, Stockholm, Sweden.'"
            ],
            "application/vnd.google.colaboratory.intrinsic+json": {
              "type": "string"
            }
          },
          "metadata": {},
          "execution_count": 1
        }
      ]
    },
    {
      "cell_type": "markdown",
      "metadata": {
        "id": "28xLGz8JX3Hh"
      },
      "source": [
        "# **Set up environment**"
      ]
    },
    {
      "cell_type": "code",
      "metadata": {
        "id": "Xw7VlErAX7NS"
      },
      "source": [
        "# Load neccessary modules.\n",
        "from google.colab import files\n",
        "\n",
        "import time\n",
        "import numpy as np\n",
        "\n",
        "from IPython.display import display, Math\n",
        "\n",
        "#try:\n",
        "#    from dolfin import *; from mshr import *\n",
        "#except ImportError as e:\n",
        "#    !apt-get install -y -qq software-properties-common \n",
        "#    !add-apt-repository -y ppa:fenics-packages/fenics\n",
        "#    !apt-get update -qq\n",
        "#    !apt install -y --no-install-recommends fenics\n",
        "#    from dolfin import *; from mshr import *\n",
        "    \n",
        "#import dolfin.common.plotting as fenicsplot\n",
        "\n",
        "from matplotlib import pyplot as plt\n",
        "from matplotlib import tri\n",
        "from matplotlib import axes\n",
        "from mpl_toolkits.mplot3d import Axes3D\n",
        "\n",
        "from scipy import integrate\n"
      ],
      "execution_count": 2,
      "outputs": []
    },
    {
      "cell_type": "markdown",
      "metadata": {
        "id": "gnO3lhAigLev"
      },
      "source": [
        "# **Introduction**"
      ]
    },
    {
      "cell_type": "markdown",
      "metadata": {
        "id": "l5zMzgPlRAF6"
      },
      "source": [
        "In this Lab the goal is to create a piecewise linear function approximation using an $L_2$ projection. This projection can be stated as follows:\n",
        "$$\n",
        "P_Nf(x) = \\sum_{j=1}^{N} α_j \\phi_j(x)\n",
        "$$\n",
        "And where the values of $α$ can be found from the following equation:\n",
        "$$\n",
        "\\sum_{j=1}^{N}α_j(\\phi_j, \\phi_i) = (f, \\phi_i) \\forall i = 1, \\dots, N\n",
        "$$\n",
        "\n",
        "Which can be solved as a matrix equation $Aα = b$ where $A=(a_{ij})$ and $b=(b_i)$.\n",
        "$$\n",
        "a_{ij} = (\\phi_j, \\phi_i) = \\int_{a}^{b} \\phi_j(x) \\phi_i(x) \\, dx \\\\\n",
        "b_i = (f, \\phi_i) = \\int_{a}^{b} f(x) \\phi_i(x) \\, dx\n",
        "$$"
      ]
    },
    {
      "cell_type": "markdown",
      "metadata": {
        "id": "jOQvukXZq5U5"
      },
      "source": [
        "# **Method**"
      ]
    },
    {
      "cell_type": "markdown",
      "source": [
        "## Assignment 1: $L_2$ projection to pw linear approximation over mesh in 1D\n",
        "\n"
      ],
      "metadata": {
        "id": "lgT1y4-b9a2p"
      }
    },
    {
      "cell_type": "markdown",
      "metadata": {
        "id": "zF4iBj5VURZx"
      },
      "source": [
        "To implement L2 projection I used to formulation in Chapter 9 Part 5 in Methods in Computational Science. Because we are doing a piecewise linear approximation we know that the basis functions only have local support by the two neighbours, which makes the mass matrix tridiagonal and as such constructable in linear time. The load vector b is computed using scipy.integrate.quad to get a good value for the integral $\\int_{0}^{1} f(x) \\phi_k(x)\\,dx$."
      ]
    },
    {
      "cell_type": "code",
      "source": [
        "# Assignment 1: L2 projection to piece-wise linear approximation over mesh in 1D\n",
        "\n",
        "from typing import Callable\n",
        "\n",
        "# Input: function f(x), 1D mesh with nodes (x0,...,xn)\n",
        "# Output: vector of L2 projection of f(x) evaluated in (x0,...,xn)\n",
        "def λ(mesh : np.ndarray, k, i, x):\n",
        "  if i == 0:\n",
        "    return (mesh[k] - x) / (mesh[k] - mesh[k - 1])\n",
        "  elif i == 1:\n",
        "    return (x - mesh[k - 1]) / (mesh[k] - mesh[k - 1])\n",
        "  else:\n",
        "    raise Exception(\"i is out of bounds\");\n",
        "\n",
        "def hat(start, center, stop, x):\n",
        "  if x > stop:\n",
        "    return 0\n",
        "  elif x > center:\n",
        "    return (stop - x) / (stop - center)\n",
        "  elif x >= start:\n",
        "    return (x - start) / (center - start)\n",
        "  else:\n",
        "    return 0\n",
        "\n",
        "def assemble_system(f : Callable[[np.double], np.double], mesh : np.ndarray):\n",
        "  n = len(mesh);\n",
        "  A = np.zeros((n, n))\n",
        "  b = np.zeros(n)\n",
        "  # we take care of the edges separately\n",
        "  for k in range(1, n - 1):\n",
        "    h_k = mesh[k] - mesh[k-1]\n",
        "    h_k1 = mesh[k+1] - mesh[k]\n",
        "\n",
        "    A[k, k] = h_k / 3 + h_k1 / 3\n",
        "    A[k, k+1] = h_k1 / 6\n",
        "    A[k, k-1] = h_k / 6\n",
        "\n",
        "    b[k] = integrate.quad(lambda x : f(x) * hat(mesh[k-1], mesh[k], mesh[k+1], x), mesh[k-1], mesh[k+1])[0]\n",
        "\n",
        "  A[0, 0] = (mesh[1] - mesh[0]) / 3\n",
        "  A[0, 1] = (mesh[1] - mesh[0]) / 6\n",
        "  A[-1, -1] = (mesh[-1] - mesh[-2]) / 3\n",
        "  A[-1, -2] = (mesh[-1] - mesh[-2]) / 6\n",
        "\n",
        "  b[0]  = integrate.quad(lambda x : f(x) * hat(mesh[ 0], mesh[ 0], mesh[ 1], x), mesh[ 0], mesh[ 1])[0]\n",
        "  b[-1] = integrate.quad(lambda x : f(x) * hat(mesh[-2], mesh[-1], mesh[-1], x), mesh[-2], mesh[-1])[0]\n",
        "\n",
        "  return A, b\n",
        "\n",
        "def project_L2(f : Callable[[np.double], np.double], mesh : np.ndarray, x : np.ndarray):\n",
        "  A, b = assemble_system(f, mesh)\n",
        "  α = np.linalg.solve(A, b)\n",
        "  y = np.interp(x, mesh, α)\n",
        "  return y"
      ],
      "metadata": {
        "id": "Es-YHKleGfzt"
      },
      "execution_count": 81,
      "outputs": []
    },
    {
      "cell_type": "markdown",
      "metadata": {
        "id": "SsQLT38gVbn_"
      },
      "source": [
        "# **Results**"
      ]
    },
    {
      "cell_type": "markdown",
      "source": [
        "## Assignment 1: $L_2$ projection to pw linear approximation over mesh in 1D"
      ],
      "metadata": {
        "id": "KrXRuUqK1Wbs"
      }
    },
    {
      "cell_type": "markdown",
      "source": [
        "To verify that the approximation obtained is good we first compare the integral of the approximation to an analytically calculated integral of the original function.\n",
        "\n",
        "Then we compare the original function $f$ to the approximation $Pf$ through the L2 norm as follows $|| f - Pf ||_{L2}$ to see how big the error is there."
      ],
      "metadata": {
        "id": "gwcQJQ3f7wzn"
      }
    },
    {
      "cell_type": "code",
      "source": [
        "f = lambda x : np.sin(x*2)*40 + np.exp(x)*0.01\n",
        "\n",
        "# Exact integral accuired from Wolfram Alpha:\n",
        "# https://www.wolframalpha.com/input?i=integrate+sin%28x*2%29*40+%2B+exp%28x%29*0.01+dx\n",
        "f_integral = lambda x : 0.01*np.exp(x) - 20*np.cos(2*x)\n",
        "\n",
        "start = 1.0\n",
        "stop = 10.0\n",
        "no_eval_points = 1000\n",
        "no_approx_points = 200\n",
        "dist = stop - start\n",
        "\n",
        "eval_points = np.linspace(start, stop, no_eval_points)\n",
        "\n",
        "approx_points = np.linspace(start, stop, no_approx_points)\n",
        "\n",
        "f_eval = f(eval_points)\n",
        "f_approx = project_L2(f, approx_points, eval_points)\n",
        "\n",
        "plt.title(\"Function compared to approximation\")\n",
        "plt.plot(eval_points, f_eval, label=\"y=f(x)\")\n",
        "plt.plot(eval_points, f_approx, label=\"y=Pf(x))\")\n",
        "plt.xlabel(\"x\")\n",
        "plt.ylabel(\"y\")\n",
        "plt.legend()\n",
        "\n",
        "integral_exact = f_integral(stop) - f_integral(start)\n",
        "integral_approx = np.trapz(f_approx, eval_points)\n",
        "\n",
        "display(Math(rf\"| \\int_{{{start}}}^{{{stop}}} f(x) \\,dx - \\int_{{{start}}}^{{{stop}}} Pf(x) \\,dx | = {np.abs(integral_approx - integral_exact)}\"))\n",
        "print()\n",
        "display(Math(rf\"|| f(x) - Pf(x) ||_{{L2}} = {np.linalg.norm(f_eval - f_approx)}\"))"
      ],
      "metadata": {
        "id": "t2C63BH8C_sh",
        "colab": {
          "base_uri": "https://localhost:8080/",
          "height": 377
        },
        "outputId": "7ece6dad-a4f1-4e64-d25d-8c180c4a08d7"
      },
      "execution_count": 88,
      "outputs": [
        {
          "output_type": "display_data",
          "data": {
            "text/plain": [
              "<IPython.core.display.Math object>"
            ],
            "text/latex": "$\\displaystyle | \\int_{1.0}^{10.0} f(x) \\,dx - \\int_{1.0}^{10.0} Pf(x) \\,dx | = 0.0021224203485132875$"
          },
          "metadata": {}
        },
        {
          "output_type": "stream",
          "name": "stdout",
          "text": [
            "\n"
          ]
        },
        {
          "output_type": "display_data",
          "data": {
            "text/plain": [
              "<IPython.core.display.Math object>"
            ],
            "text/latex": "$\\displaystyle || f(x) - Pf(x) ||_{L2} = 0.2875551249366582$"
          },
          "metadata": {}
        },
        {
          "output_type": "display_data",
          "data": {
            "text/plain": [
              "<Figure size 432x288 with 1 Axes>"
            ],
            "image/png": "[encoded data removed]"
          },
          "metadata": {
            "needs_background": "light"
          }
        }
      ]
    },
    {
      "cell_type": "markdown",
      "source": [
        "We can see that both metrics for the error of the approximation show that the approximation is quite accurate with 200 intervals which is a stepsize of $h = \\frac{9}{200}$. We can also see in the plot the the approximated function quite accurately follow the original function."
      ],
      "metadata": {
        "id": "dAoI8bkRYOAN"
      }
    },
    {
      "cell_type": "markdown",
      "source": [
        "To characterize how well this method works we will investigate the error in terms of the step size $e(h)$. To do this we will calculate the error for consecutive halvings of the step size to be able to approximate the rate of convergence."
      ],
      "metadata": {
        "id": "RTsOX5XcYnSq"
      }
    },
    {
      "cell_type": "code",
      "source": [
        "# convergence rate\n",
        "\n",
        "points = np.array([100, 200, 400, 800, 1600, 3200])\n",
        "\n",
        "values2 = [project_L2(f, np.linspace(start, stop, n), np.linspace(start, stop, n)) for n in points]\n",
        "eval = [f(np.linspace(start, stop, n)) for n in points]\n",
        "\n",
        "error = np.zeros(len(eval))\n",
        "for i in range(len(eval)):\n",
        "  error[i] = np.linalg.norm(values2[i] - eval[i])\n",
        "\n",
        "plt.title(\"Approximation error\")\n",
        "plt.plot(points, error, label=\"e(points)\")\n",
        "plt.xscale(\"log\")\n",
        "plt.xlabel(\"points\")\n",
        "plt.ylabel(\"error\")\n",
        "plt.legend()\n",
        "\n",
        "q = np.log(error[-1] / error[-2]) / np.log((dist / points[-1]) / (dist / points[-2]))\n",
        "display(Math(rf\"\\text{{Error}} \\approx O(h^{{{q}}})\"))"
      ],
      "metadata": {
        "colab": {
          "base_uri": "https://localhost:8080/",
          "height": 321
        },
        "id": "anSmvZV8Th17",
        "outputId": "c7495a50-3866-4c6b-da24-54b338279631"
      },
      "execution_count": 89,
      "outputs": [
        {
          "output_type": "display_data",
          "data": {
            "text/plain": [
              "<IPython.core.display.Math object>"
            ],
            "text/latex": "$\\displaystyle \\text{Error} \\approx O(h^{1.5008825107603894})$"
          },
          "metadata": {}
        },
        {
          "output_type": "display_data",
          "data": {
            "text/plain": [
              "<Figure size 432x288 with 1 Axes>"
            ],
            "image/png": "[encoded data removed]"
          },
          "metadata": {
            "needs_background": "light"
          }
        }
      ]
    },
    {
      "cell_type": "markdown",
      "source": [
        "As we can see the error decreases as we increase the number of intervals (i.e. reduce the step size)."
      ],
      "metadata": {
        "id": "7vfuuH7CZOVY"
      }
    },
    {
      "cell_type": "markdown",
      "metadata": {
        "id": "_4GLBv0zWr7m"
      },
      "source": [
        "# **Discussion**"
      ]
    },
    {
      "cell_type": "markdown",
      "metadata": {
        "id": "6bcsDSoRXHZe"
      },
      "source": [
        "This approximation relies on a good integral calculation which could be constly. Using some kind of higher order piecewise polynomial approximation could make reliance on a good integral function less necessary."
      ]
    }
  ]
}