{
  "nbformat": 4,
  "nbformat_minor": 0,
  "metadata": {
    "colab": {
      "provenance": []
    },
    "kernelspec": {
      "name": "python3",
      "display_name": "Python 3"
    }
  },
  "cells": [
    {
      "cell_type": "markdown",
      "metadata": {
        "id": "6RgtXlfYO_i7"
      },
      "source": [
        "# **Lab 3: Approximation**\n",
        "**Martin Börjeson**"
      ]
    },
    {
      "cell_type": "markdown",
      "metadata": {
        "id": "9x_J5FVuPzbm"
      },
      "source": [
        "# **Abstract**"
      ]
    },
    {
      "cell_type": "markdown",
      "metadata": {
        "id": "6UFTSzW7P8kL"
      },
      "source": [
        "In this lab I implemented an L2-projection algorithm in 1 dimension. I used my own code from previous labs for things such as solving matrix equations. The numpy library was also utilized."
      ]
    },
    {
      "cell_type": "markdown",
      "metadata": {
        "id": "OkT8J7uOWpT3"
      },
      "source": [
        "#**About the code**"
      ]
    },
    {
      "cell_type": "markdown",
      "metadata": {
        "id": "HmB2noTr1Oyo"
      },
      "source": [
        "The code is written by me, Martin Börjeson."
      ]
    },
    {
      "cell_type": "code",
      "metadata": {
        "id": "Pdll1Xc9WP0e",
        "colab": {
          "base_uri": "https://localhost:8080/",
          "height": 35
        },
        "outputId": "6a598295-ec78-47d6-b4be-22e949d16fe2"
      },
      "source": [
        "\"\"\"DD2363 Methods in Scientific Computing, \"\"\"\n",
        "\"\"\"KTH Royal Institute of Technology, Stockholm, Sweden.\"\"\"\n",
        "\n",
        "# This file is part of the course DD2365 Advanced Computation in Fluid Mechanics\n",
        "# KTH Royal Institute of Technology, Stockholm, Sweden\n",
        "#\n",
        "# Report by Martin Börjeson"
      ],
      "execution_count": 107,
      "outputs": [
        {
          "output_type": "execute_result",
          "data": {
            "text/plain": [
              "'KTH Royal Institute of Technology, Stockholm, Sweden.'"
            ],
            "application/vnd.google.colaboratory.intrinsic+json": {
              "type": "string"
            }
          },
          "metadata": {},
          "execution_count": 107
        }
      ]
    },
    {
      "cell_type": "markdown",
      "metadata": {
        "id": "28xLGz8JX3Hh"
      },
      "source": [
        "# **Set up environment**"
      ]
    },
    {
      "cell_type": "markdown",
      "metadata": {
        "id": "D2PYNusD08Wa"
      },
      "source": [
        "I used my implementation of the $Ax = b$ solver from lab1 in this lab."
      ]
    },
    {
      "cell_type": "code",
      "metadata": {
        "id": "Xw7VlErAX7NS"
      },
      "source": [
        "# Load neccessary modules.\n",
        "import numpy as np\n",
        "\n",
        "from matplotlib import pyplot as plt\n",
        "\n",
        "def modified_gram_schmidt_iteration(A: np.ndarray):\n",
        "  dims = A.shape\n",
        "  if(dims[0] != dims[1]):\n",
        "    raise Exception(\"Matrix is not quadratic!\")\n",
        "  if(np.linalg.matrix_rank(A)!=A.shape[0]):\n",
        "    raise Exception(\"Matrix is singular!\")\n",
        "  A = np.copy(A)\n",
        "  n = dims[0]\n",
        "  R = np.zeros(A.shape, dtype = float)\n",
        "  Q = np.zeros(A.shape, dtype = float)\n",
        "  for j in range(n):\n",
        "    v = A[:,j]\n",
        "    for i in range(j):\n",
        "      R[i,j] = np.dot(Q[:,i],v)\n",
        "      v -= R[i,j]*Q[:,i]\n",
        "    R[j,j] = np.linalg.norm(v)\n",
        "    Q[:,j] = v/R[j,j]\n",
        "  return Q,R\n",
        "\n",
        "def backward_substitution(R: np.ndarray, v: np.ndarray) -> np.ndarray:\n",
        "  n = v.shape[0]\n",
        "  x = np.zeros(v.shape, dtype = float)\n",
        "  x[-1] = v[-1]/R[-1,-1]\n",
        "  for i in range(n-2,-1,-1):\n",
        "    sum = 0\n",
        "    for j in range(i+1,n):\n",
        "      sum += R[i,j]*x[j]\n",
        "    x[i] = (v[i]-sum)/R[i,i]\n",
        "  return x\n",
        "\n",
        "def solve(A: np.ndarray, b: np.ndarray) -> np.ndarray:\n",
        "  Q,R = modified_gram_schmidt_iteration(A)\n",
        "  return backward_substitution(R,np.dot(np.transpose(Q),b))"
      ],
      "execution_count": 108,
      "outputs": []
    },
    {
      "cell_type": "markdown",
      "metadata": {
        "id": "gnO3lhAigLev"
      },
      "source": [
        "# **Introduction**"
      ]
    },
    {
      "cell_type": "markdown",
      "metadata": {
        "id": "l5zMzgPlRAF6"
      },
      "source": [
        "Approximations of functions are very useful to make complex functions easier to work with. There are many ways to create approximative functions, though what they have in common is that they are constructed in a way which is meant to be as similar as possible to some function in some characteristic. Tthe L2-projection of a function $f$ will be the function in $V_N$ which minimizes the norm $|| f-P_Nf ||$.\n",
        "\n",
        "The following *numpy* methods were used:\n",
        "\n",
        "`numpy.ndarray` class\n",
        "\n",
        "`numpy.zeros()`\n",
        "\n",
        "`numpy.array()`\n",
        "\n",
        "`numpy.matmul()`\n",
        "\n",
        "`numpy.dot()`\n",
        "\n",
        "`numpy.diag()`\n",
        "\n",
        "`numpy.linalg.norm()`\n"
      ]
    },
    {
      "cell_type": "markdown",
      "metadata": {
        "id": "jOQvukXZq5U5"
      },
      "source": [
        "## **Method**"
      ]
    },
    {
      "cell_type": "markdown",
      "metadata": {
        "id": "zF4iBj5VURZx"
      },
      "source": [
        "The L2 projection can be determined by solving the matrix equation $A \\alpha = b$, where $A$ is the tridiagonal mass matrix, $b$ is the load vector, and $\\alpha$ are the weights of the basis functions. \n",
        "\n",
        "$A$ consists of the pairwise inner products of the lagrange basis functions, which can be exactly expressed as a simple fraction.\n",
        "\n",
        "$b$ consists of the inner products of the lagrange basis functions and the function $f$. The inner products can be written as integrals, which I estimated with Riemann sums.\n",
        "\n",
        "Instead of following the `assemble_system` algorithm from the book, I used a straightforward algorithm which calculates the values in $A$ and $b$, one value at a time."
      ]
    },
    {
      "cell_type": "markdown",
      "source": [
        "#L2 projection to pw linear approximation over mesh in 1D"
      ],
      "metadata": {
        "id": "ESV17MJqqH86"
      }
    },
    {
      "cell_type": "code",
      "source": [
        "from matplotlib.lines import Integral\n",
        "#Partial lagrange polynomial of the first order\n",
        "def lagrange(k,j,X,x):\n",
        "  hk = X[k]-X[k-1]\n",
        "  if(j==0):\n",
        "    return (X[k]-x)/hk\n",
        "  if(j==1):\n",
        "    return (x-X[k-1])/hk\n",
        "\n",
        "#Riemann sum approximation of integral\n",
        "def riemann(f,start,end,steps = 1000):\n",
        "  dx = (end-start)/steps\n",
        "  sum = 0\n",
        "  for x in np.linspace(start,end,steps):\n",
        "    sum += f(x)*dx\n",
        "  return sum\n",
        "\n",
        "#The L2 projection iterates over each point in X and calculates the \n",
        "def L2(f, X):\n",
        "  n = len(X)\n",
        "  A = np.zeros((n,n))\n",
        "  b = np.zeros(n)\n",
        "  h = X[1]-X[0]\n",
        "  A[0,0] = h / 3\n",
        "  A[0,1] = h / 6\n",
        "  b[0] = riemann(lambda x: f(x)*lagrange(1,0,X,x), X[0], X[1])\n",
        "  for i in range(1, n-1):\n",
        "    h1 = X[i] - X[i-1]\n",
        "    h2 = X[i+1] - X[i]\n",
        "    b[i] = riemann(lambda x: f(x)*lagrange(i,1,X,x), X[i-1], X[i]) + riemann(lambda x: f(x)*lagrange(i+1,0,X,x), X[i], X[i+1])\n",
        "    A[i,i-1] = h1/6\n",
        "    A[i,i] = h1/3 + h2/3\n",
        "    A[i,i+1] = h2/6\n",
        "  h = X[-1]-X[-2]\n",
        "  A[-1,-2] = h/6\n",
        "  A[-1,-1] = h/3\n",
        "  b[-1] = riemann(lambda x: f(x) * lagrange(n-1,1,X,x), X[-2], X[-1] )\n",
        "  return solve(A,b)"
      ],
      "metadata": {
        "id": "v62zuu5lqVR6"
      },
      "execution_count": 109,
      "outputs": []
    },
    {
      "cell_type": "markdown",
      "source": [
        "## **Results**"
      ],
      "metadata": {
        "id": "aOPzEH_vg_Lj"
      }
    },
    {
      "cell_type": "markdown",
      "source": [
        "The projection was tested against the Gaussian function, and measured the rate of convergence of the norm of the difference between the approximation and the real function."
      ],
      "metadata": {
        "id": "-mQg_xQRhA2T"
      }
    },
    {
      "cell_type": "code",
      "source": [
        "#TESTS\n",
        "#Normal distribution function\n",
        "f = lambda x: (1/np.sqrt(2*np.pi))*np.exp((-x**2)/2)\n",
        "\n",
        "Xs = np.linspace(-3,3,1000)\n",
        "Ys = f(Xs)\n",
        "\n",
        "X1 = np.linspace(-3.0,3,20)\n",
        "alpha1 = L2(f,X1)\n",
        "plt.plot(X1,alpha1,'-o')\n",
        "plt.plot(Xs,Ys,'--')\n",
        "print(\"Norm with 20 pts:\",np.linalg.norm(f(X1)-alpha1))\n",
        "\n",
        "X2 = np.linspace(-3.0,3,40)\n",
        "alpha2 = L2(f,X2)\n",
        "print(\"Norm with 40 pts:\",np.linalg.norm(f(X2)-alpha2))\n",
        "\n",
        "X3 = np.linspace(-3.0,3,80)\n",
        "alpha3 = L2(f,X3)\n",
        "print(\"Norm with 80 pts:\",np.linalg.norm(f(X3)-alpha3))\n",
        "\n",
        "X4 = np.linspace(-3.0,3,160)\n",
        "alpha4 = L2(f,X4)\n",
        "print(\"Norm with 160 pts:\",np.linalg.norm(f(X4)-alpha4))\n",
        "\n",
        "\n",
        "#Some more functions for fun!\n",
        "\n",
        "#Sine trigonometric function\n",
        "g = lambda x: np.sin(x)\n",
        "\n",
        "#Half circle function\n",
        "h = lambda x: np.sqrt(10-x**2)\n",
        "\n",
        "Ys2 = g(Xs)\n",
        "plt.figure()\n",
        "alpha1 = L2(g,X1)\n",
        "plt.plot(X1,alpha1,'-o')\n",
        "plt.plot(Xs,Ys2,'--')\n",
        "\n",
        "Ys3 = h(Xs)\n",
        "plt.figure()\n",
        "alpha1 = L2(h,X1)\n",
        "plt.plot(X1,alpha1,'-o')\n",
        "plt.plot(Xs,Ys3,'--')"
      ],
      "metadata": {
        "id": "gTO1FZFVhB-j",
        "colab": {
          "base_uri": "https://localhost:8080/",
          "height": 848
        },
        "outputId": "b135364c-ef28-459a-ef68-9e26d6899a51"
      },
      "execution_count": 110,
      "outputs": [
        {
          "output_type": "stream",
          "name": "stdout",
          "text": [
            "Norm with 20 pts: 0.0068636617132177835\n",
            "Norm with 40 pts: 0.002318370967069812\n",
            "Norm with 80 pts: 0.0008027384193939398\n",
            "Norm with 160 pts: 0.0002810002754790287\n"
          ]
        },
        {
          "output_type": "execute_result",
          "data": {
            "text/plain": [
              "[<matplotlib.lines.Line2D at 0x7fc1ad597820>]"
            ]
          },
          "metadata": {},
          "execution_count": 110
        },
        {
          "output_type": "display_data",
          "data": {
            "text/plain": [
              "<Figure size 432x288 with 1 Axes>"
            ],
            "image/png": "[encoded data removed]"
          },
          "metadata": {
            "needs_background": "light"
          }
        },
        {
          "output_type": "display_data",
          "data": {
            "text/plain": [
              "<Figure size 432x288 with 1 Axes>"
            ],
            "image/png": "[encoded data removed]"
          },
          "metadata": {
            "needs_background": "light"
          }
        },
        {
          "output_type": "display_data",
          "data": {
            "text/plain": [
              "<Figure size 432x288 with 1 Axes>"
            ],
            "image/png": "[encoded data removed]"
          },
          "metadata": {
            "needs_background": "light"
          }
        }
      ]
    },
    {
      "cell_type": "markdown",
      "metadata": {
        "id": "_4GLBv0zWr7m"
      },
      "source": [
        "# **Discussion**"
      ]
    },
    {
      "cell_type": "markdown",
      "metadata": {
        "id": "6bcsDSoRXHZe"
      },
      "source": [
        "The projection works as expected, I think. The approximations seem to be correct at least. The $A$ matrix could (and probably should) have been implemtented as a sparse matrix. It would reduce the memory footprint of the algorithm. I wanted to reuse my old code for solving a matrix equation though, which of course used regular dense numpy matrices as input.\n",
        "\n",
        "It was a real pain for me to wrap my head around how everything worked, and I'm glad its over..."
      ]
    }
  ]
}