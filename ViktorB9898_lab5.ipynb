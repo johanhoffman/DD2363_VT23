{
  "cells": [
    {
      "cell_type": "markdown",
      "metadata": {
        "id": "view-in-github",
        "colab_type": "text"
      },
      "source": [
        "<a href=\"https://colab.research.google.com/github/johanhoffman/DD2363_VT23/blob/ViktorB9898-Lab5/ViktorB9898_lab5.ipynb\" target=\"_parent\"><img src=\"https://colab.research.google.com/assets/colab-badge.svg\" alt=\"Open In Colab\"/></a>"
      ]
    },
    {
      "cell_type": "markdown",
      "metadata": {
        "id": "6RgtXlfYO_i7"
      },
      "source": [
        "# **Lab 5: Differential Equations**\n",
        "**Viktor Beck**"
      ]
    },
    {
      "cell_type": "markdown",
      "metadata": {
        "id": "9x_J5FVuPzbm"
      },
      "source": [
        "# **Abstract**"
      ]
    },
    {
      "cell_type": "markdown",
      "metadata": {
        "id": "6UFTSzW7P8kL"
      },
      "source": [
        "This report features methods to compute solutions to differential equation numerically."
      ]
    },
    {
      "cell_type": "markdown",
      "metadata": {
        "id": "OkT8J7uOWpT3"
      },
      "source": [
        "#**About the code**"
      ]
    },
    {
      "cell_type": "code",
      "execution_count": 9,
      "metadata": {
        "colab": {
          "base_uri": "https://localhost:8080/",
          "height": 35
        },
        "id": "Pdll1Xc9WP0e",
        "outputId": "48eebac2-c8f7-4373-c9e4-a3cb3da94845"
      },
      "outputs": [
        {
          "output_type": "execute_result",
          "data": {
            "text/plain": [
              "'KTH Royal Institute of Technology, Stockholm, Sweden.'"
            ],
            "application/vnd.google.colaboratory.intrinsic+json": {
              "type": "string"
            }
          },
          "metadata": {},
          "execution_count": 9
        }
      ],
      "source": [
        "\"\"\"This program is a lab report in the course\"\"\"\n",
        "\"\"\"DD2363 Methods in Scientific Computing, \"\"\"\n",
        "\"\"\"KTH Royal Institute of Technology, Stockholm, Sweden.\"\"\"\n",
        "\n",
        "# Copyright (C) 2023 Viktor Beck (vbeck@kth.se / viktor.beck98@gmail.com)\n",
        "\n",
        "# This file is part of the course DD2363 Methods in Scientific Computing\n",
        "# KTH Royal Institute of Technology, Stockholm, Sweden"
      ]
    },
    {
      "cell_type": "markdown",
      "metadata": {
        "id": "28xLGz8JX3Hh"
      },
      "source": [
        "# **Set up environment**"
      ]
    },
    {
      "cell_type": "markdown",
      "metadata": {
        "id": "D2PYNusD08Wa"
      },
      "source": [
        "To have access to the neccessary modules you have to run this cell."
      ]
    },
    {
      "cell_type": "code",
      "execution_count": 10,
      "metadata": {
        "id": "Xw7VlErAX7NS"
      },
      "outputs": [],
      "source": [
        "# Load neccessary modules.\n",
        "from google.colab import files\n",
        "\n",
        "#import time\n",
        "import numpy as np\n",
        "#from scipy.integrate import quad\n",
        "#import random\n",
        "\n",
        "from matplotlib import pyplot as plt"
      ]
    },
    {
      "cell_type": "markdown",
      "metadata": {
        "id": "gnO3lhAigLev"
      },
      "source": [
        "# **Introduction**"
      ]
    },
    {
      "cell_type": "markdown",
      "metadata": {
        "id": "l5zMzgPlRAF6"
      },
      "source": [
        "This report is about numerical computation of differntial equations. There are a lot of different methods. Usually the higher the converge rate the higher the computational effort. Also, some algorithms are suited better for certain types of problems since they might be unstable for a given problem or unable to converge.\n",
        "\n",
        "[Hyperlink to DD2363 course website.](https://kth.instructure.com/courses/17068)"
      ]
    },
    {
      "cell_type": "markdown",
      "metadata": {
        "id": "jOQvukXZq5U5"
      },
      "source": [
        "# **Method**"
      ]
    },
    {
      "cell_type": "markdown",
      "metadata": {
        "id": "Cm-Yb5Cx__XJ"
      },
      "source": [
        "### **1. Function: Time stepping for scalar initial value problem du/dt = f(u,t)**"
      ]
    },
    {
      "cell_type": "markdown",
      "metadata": {
        "id": "7LhAH8T8__XK"
      },
      "source": [
        "For this we will use the explicit Euler method which is simply given by\n",
        "\\begin{equation}\n",
        "y_{n+1}=y_n+h*f(y_n, t_n)\n",
        "\\end{equation}\n",
        "where $h$ is the stepsize."
      ]
    },
    {
      "cell_type": "code",
      "execution_count": 11,
      "metadata": {
        "id": "-SJpraoQ__XK"
      },
      "outputs": [],
      "source": [
        "def explicit_euler(T, f, u0, dt=0.001, max_iter=30000):\n",
        "    u = u0\n",
        "    u_list = [u]\n",
        "    t = 0\n",
        "    count = 0\n",
        "    while t < T:\n",
        "        u = u + dt*f(u, t)\n",
        "        t += dt\n",
        "        u_list.append(u)\n",
        "        count += 1\n",
        "        if count > max_iter:\n",
        "            print(\"Could not converge in\", max_iter, \"iterations\")\n",
        "            break\n",
        "    return u_list\n"
      ]
    },
    {
      "cell_type": "markdown",
      "metadata": {
        "id": "kwcm2QzB__XL"
      },
      "source": [
        "### **2. Function: Time stepping for a system of  initial value problems du/dt = f(u,t)**"
      ]
    },
    {
      "cell_type": "markdown",
      "metadata": {
        "id": "R1WHOLKS__XL"
      },
      "source": [
        "This is basically the same as the 1D implementation but here we have u and f as vectors."
      ]
    },
    {
      "cell_type": "code",
      "execution_count": 12,
      "metadata": {
        "id": "aKluX-3U__XL"
      },
      "outputs": [],
      "source": [
        "def time_stepping_system_ivp(T, f, u0, dt=0.001):\n",
        "\n",
        "    N = int(T/dt)\n",
        "    dim = len(u0)\n",
        "    u = np.zeros((N+1, dim))\n",
        "    u[0,:] = u0\n",
        "\n",
        "    for n in range(N):\n",
        "        t = n*dt\n",
        "        u[n+1,:] = u[n,:] + dt*f(u[n,:], t)\n",
        "\n",
        "    return u"
      ]
    },
    {
      "cell_type": "markdown",
      "metadata": {
        "id": "SsQLT38gVbn_"
      },
      "source": [
        "# **Results**"
      ]
    },
    {
      "cell_type": "markdown",
      "metadata": {
        "id": "BcDxG5Xc__XL"
      },
      "source": [
        "### **1. Function: Time stepping for scalar initial value problem du/dt = f(u,t)**"
      ]
    },
    {
      "cell_type": "code",
      "execution_count": 13,
      "metadata": {
        "colab": {
          "base_uri": "https://localhost:8080/"
        },
        "id": "iw4Qgs_U__XM",
        "outputId": "14401c03-0480-4249-848d-4ac8ceb45090"
      },
      "outputs": [
        {
          "output_type": "stream",
          "name": "stdout",
          "text": [
            "After 1000 iterations:\n",
            "\n",
            "Solution of to u=f1: 0.36769542477096373\n",
            "Absolute error: 0.0001840164004786038 \n",
            "\n",
            "Solution of to u=f2: 1.6476230382011234\n",
            "Absolute error: 0.0010982324990047587\n"
          ]
        }
      ],
      "source": [
        "# du/dt = -u\n",
        "# exact solution: u = e^-t\n",
        "def f1(u, t):\n",
        "    return -u\n",
        "\n",
        "# u = e^(t^2/2)\n",
        "def f2(u, t):\n",
        "    return u*t\n",
        "\n",
        "T = 1\n",
        "u0 = 1\n",
        "dt = 0.001\n",
        "\n",
        "print(\"After\", int(1/dt), \"iterations:\\n\")\n",
        "\n",
        "res1 = explicit_euler(T, f1, u0, dt=dt)\n",
        "err1 = abs(res1[-1]-np.exp(-T))\n",
        "print(\"Solution of to u=f1:\", res1[-1])\n",
        "print(\"Absolute error:\", err1, \"\\n\")\n",
        "\n",
        "res2 = explicit_euler(T, f2, u0, dt=dt)\n",
        "err2 = abs(res2[-1]-np.exp(T**2/2))\n",
        "print(\"Solution of to u=f2:\", res2[-1])\n",
        "print(\"Absolute error:\", err2)"
      ]
    },
    {
      "cell_type": "markdown",
      "metadata": {
        "id": "a0_kum4y__XM"
      },
      "source": [
        "To show the stability of the Euler method we will adapt the code a little bit:"
      ]
    },
    {
      "cell_type": "code",
      "execution_count": 14,
      "metadata": {
        "colab": {
          "base_uri": "https://localhost:8080/",
          "height": 279
        },
        "id": "HywOtw4s__XM",
        "outputId": "937fee8d-0e08-4432-9c1d-3518823f9429"
      },
      "outputs": [
        {
          "output_type": "display_data",
          "data": {
            "text/plain": [
              "<Figure size 432x288 with 1 Axes>"
            ],
            "image/png": "[encoded data removed]"
          },
          "metadata": {
            "needs_background": "light"
          }
        }
      ],
      "source": [
        "def f(u, t):\n",
        "    return -20*u\n",
        "\n",
        "def f_exact(t):\n",
        "    return np.exp(-20*t)\n",
        "\n",
        "T = 0.5\n",
        "u0 = 1\n",
        "\n",
        "dt_list = [0.01, 0.05, 0.1, 0.5]\n",
        "\n",
        "# exact\n",
        "t_values = np.linspace(0, T, 30)\n",
        "plt.plot(t_values, f_exact(t_values), \"o\", label='exact')\n",
        "\n",
        "for dt in dt_list:\n",
        "    t = np.arange(0, T + dt, dt)\n",
        "    u = np.zeros_like(t)\n",
        "    u[0] = u0\n",
        "    for n in range(0, len(t) - 1):\n",
        "        u[n+1] = u[n] + dt * f(u[n], t[n])\n",
        "    plt.plot(t, u, label=f'dt = {dt:.2f}')\n",
        "    \n",
        "plt.legend()\n",
        "plt.xlabel('t')\n",
        "plt.ylabel('u(t)')\n",
        "#plt.xlim(0,0.3)\n",
        "plt.show()\n"
      ]
    },
    {
      "cell_type": "markdown",
      "metadata": {
        "id": "QWUXNg9Y__XN"
      },
      "source": [
        "... one can see that the convergence is dependent on the stepsize dt since it becomes unstable for larger stepsizes."
      ]
    },
    {
      "cell_type": "markdown",
      "metadata": {
        "id": "Dsl5Qr_M__XN"
      },
      "source": [
        "### **2. Function: Time stepping for a system of  initial value problems du/dt = f(u,t)**"
      ]
    },
    {
      "cell_type": "code",
      "execution_count": 15,
      "metadata": {
        "colab": {
          "base_uri": "https://localhost:8080/",
          "height": 296
        },
        "id": "OGj50aKi__XN",
        "outputId": "0b7d5913-b4c7-49bc-8e8b-39d829316adf"
      },
      "outputs": [
        {
          "output_type": "execute_result",
          "data": {
            "text/plain": [
              "Text(0, 0.5, 'u(t)')"
            ]
          },
          "metadata": {},
          "execution_count": 15
        },
        {
          "output_type": "display_data",
          "data": {
            "text/plain": [
              "<Figure size 432x288 with 1 Axes>"
            ],
            "image/png": "[encoded data removed]"
          },
          "metadata": {
            "needs_background": "light"
          }
        }
      ],
      "source": [
        "def f(u, t):\n",
        "    return np.array([u[1],-u[0]])\n",
        "\n",
        "def f_exact(t):\n",
        "    return np.array([np.sin(t), np.cos(t)])\n",
        "\n",
        "T = 10\n",
        "u0 = np.array([0, 1])\n",
        "dt = 0.01\n",
        "\n",
        "u_approx = time_stepping_system_ivp(T, f, u0, dt)\n",
        "#print(u_approx)\n",
        "\n",
        "t_values = np.linspace(0, T, 100)\n",
        "u_exact_values = f_exact(t_values)\n",
        "plt.plot(t_values, u_exact_values[0,:], \"r\", label='exact u')\n",
        "plt.plot(t_values, u_exact_values[1,:], \"b\", label='exact v')\n",
        "plt.plot(np.arange(0, T+dt, dt), u_approx[:,0], 'r--', label='approximation u')\n",
        "plt.plot(np.arange(0, T+dt, dt), u_approx[:,1], 'b--', label='approximation v')\n",
        "plt.legend()\n",
        "plt.xlabel('t')\n",
        "plt.ylabel('u(t)')"
      ]
    },
    {
      "cell_type": "markdown",
      "metadata": {
        "id": "GmTUboHx__XO"
      },
      "source": [
        "To test the stability we can try higher values for the stepsize:"
      ]
    },
    {
      "cell_type": "code",
      "execution_count": 16,
      "metadata": {
        "colab": {
          "base_uri": "https://localhost:8080/",
          "height": 296
        },
        "id": "q2YUCi00__XO",
        "outputId": "bbee4f7b-8062-4a28-cff8-efaad80d5525"
      },
      "outputs": [
        {
          "output_type": "execute_result",
          "data": {
            "text/plain": [
              "Text(0, 0.5, 'u(t)')"
            ]
          },
          "metadata": {},
          "execution_count": 16
        },
        {
          "output_type": "display_data",
          "data": {
            "text/plain": [
              "<Figure size 432x288 with 1 Axes>"
            ],
            "image/png": "[encoded data removed]"
          },
          "metadata": {
            "needs_background": "light"
          }
        }
      ],
      "source": [
        "T = 10\n",
        "u0 = np.array([0, 1])\n",
        "dt = 0.5\n",
        "\n",
        "u_approx = time_stepping_system_ivp(T, f, u0, dt)\n",
        "#print(u_approx)\n",
        "\n",
        "t_values = np.linspace(0, T, 100)\n",
        "u_exact_values = f_exact(t_values)\n",
        "plt.plot(t_values, u_exact_values[0,:], \"r\", label='exact u')\n",
        "plt.plot(t_values, u_exact_values[1,:], \"b\", label='exact v')\n",
        "plt.plot(np.arange(0, T+dt, dt), u_approx[:,0], 'r--', label='approximation u')\n",
        "plt.plot(np.arange(0, T+dt, dt), u_approx[:,1], 'b--', label='approximation v')\n",
        "plt.legend()\n",
        "plt.xlabel('t')\n",
        "plt.ylabel('u(t)')"
      ]
    },
    {
      "cell_type": "markdown",
      "metadata": {
        "id": "_4GLBv0zWr7m"
      },
      "source": [
        "# **Discussion**"
      ]
    },
    {
      "cell_type": "markdown",
      "metadata": {
        "id": "6bcsDSoRXHZe"
      },
      "source": [
        "The explicit Euler method seems to work fine for the given problems but especially for more complex systems it is probably better to use a more refined algorithm like Runge Kutta or at least the implicit version of the Euler method."
      ]
    }
  ],
  "metadata": {
    "colab": {
      "provenance": [],
      "include_colab_link": true
    },
    "kernelspec": {
      "display_name": "Python 3",
      "language": "python",
      "name": "python3"
    },
    "language_info": {
      "codemirror_mode": {
        "name": "ipython",
        "version": 3
      },
      "file_extension": ".py",
      "mimetype": "text/x-python",
      "name": "python",
      "nbconvert_exporter": "python",
      "pygments_lexer": "ipython3",
      "version": "3.10.6"
    },
    "vscode": {
      "interpreter": {
        "hash": "916dbcbb3f70747c44a77c7bcd40155683ae19c65e1c03b4aa3499c5328201f1"
      }
    }
  },
  "nbformat": 4,
  "nbformat_minor": 0
}