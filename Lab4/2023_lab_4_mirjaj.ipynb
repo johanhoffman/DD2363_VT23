{
  "nbformat": 4,
  "nbformat_minor": 0,
  "metadata": {
    "colab": {
      "provenance": []
    },
    "kernelspec": {
      "name": "python3",
      "display_name": "Python 3"
    }
  },
  "cells": [
    {
      "cell_type": "markdown",
      "metadata": {
        "id": "6RgtXlfYO_i7"
      },
      "source": [
        "# **Lab 4: Integration**\n",
        "**Mirja Johnsson**"
      ]
    },
    {
      "cell_type": "markdown",
      "metadata": {
        "id": "9x_J5FVuPzbm"
      },
      "source": [
        "# **Abstract**\n",
        "\n",
        "In lab 4 for *Methods in Scientific Computation* 3 methods for numerical integration were implemented. They are (Legendre-)Gauss 2-point, and 3-point quadrature, and Monte Carlo Integration."
      ]
    },
    {
      "cell_type": "markdown",
      "metadata": {
        "id": "OkT8J7uOWpT3"
      },
      "source": [
        "#**About the code**"
      ]
    },
    {
      "cell_type": "markdown",
      "metadata": {
        "id": "HmB2noTr1Oyo"
      },
      "source": [
        "A short statement on who is the author of the file, and if the code is distributed under a certain license. "
      ]
    },
    {
      "cell_type": "code",
      "metadata": {
        "id": "Pdll1Xc9WP0e",
        "colab": {
          "base_uri": "https://localhost:8080/",
          "height": 37
        },
        "outputId": "9e782dc7-4ad0-48f9-d45c-2200e83dec4d"
      },
      "source": [
        "\"\"\"This program is a template for lab reports in the course\"\"\"\n",
        "\"\"\"DD2363 Methods in Scientific Computing, \"\"\"\n",
        "\"\"\"KTH Royal Institute of Technology, Stockholm, Sweden.\"\"\"\n",
        "\n",
        "# Copyright (C) 2020 Johan Hoffman (jhoffman@kth.se)\n",
        "\n",
        "# This file is part of the course DD2365 Advanced Computation in Fluid Mechanics\n",
        "# KTH Royal Institute of Technology, Stockholm, Sweden\n",
        "#\n",
        "# This is free software: you can redistribute it and/or modify\n",
        "# it under the terms of the GNU Lesser General Public License as published by\n",
        "# the Free Software Foundation, either version 3 of the License, or\n",
        "# (at your option) any later version.\n",
        "\n",
        "# This template is maintained by Johan Hoffman\n",
        "# Please report problems to jhoffman@kth.se"
      ],
      "execution_count": null,
      "outputs": [
        {
          "output_type": "execute_result",
          "data": {
            "application/vnd.google.colaboratory.intrinsic+json": {
              "type": "string"
            },
            "text/plain": [
              "'KTH Royal Institute of Technology, Stockholm, Sweden.'"
            ]
          },
          "metadata": {},
          "execution_count": 1
        }
      ]
    },
    {
      "cell_type": "markdown",
      "metadata": {
        "id": "28xLGz8JX3Hh"
      },
      "source": [
        "# **Set up environment**"
      ]
    },
    {
      "cell_type": "markdown",
      "metadata": {
        "id": "l5zMzgPlRAF6"
      },
      "source": [
        "\n",
        "\n",
        "[Hyperlink to DD2363 course website.](https://kth.instructure.com/courses/17068)\n",
        "\n",
        "$\n",
        "{\\displaystyle \\frac{\\partial u}{\\partial t}} + u\\cdot \\nabla u +\\nabla p = f, \\quad \\nabla \\cdot u=0$\n",
        "\n"
      ]
    },
    {
      "cell_type": "code",
      "metadata": {
        "id": "Xw7VlErAX7NS"
      },
      "source": [
        "# Load neccessary modules.\n",
        "from google.colab import files\n",
        "\n",
        "import time\n",
        "import numpy as np\n",
        "\n",
        "#try:\n",
        "#    from dolfin import *; from mshr import *\n",
        "#except ImportError as e:\n",
        "#    !apt-get install -y -qq software-properties-common \n",
        "#    !add-apt-repository -y ppa:fenics-packages/fenics\n",
        "#    !apt-get update -qq\n",
        "#    !apt install -y --no-install-recommends fenics\n",
        "#    from dolfin import *; from mshr import *\n",
        "    \n",
        "#import dolfin.common.plotting as fenicsplot\n",
        "\n",
        "from matplotlib import pyplot as plt\n",
        "from matplotlib import tri\n",
        "from matplotlib import axes\n",
        "from mpl_toolkits.mplot3d import Axes3D"
      ],
      "execution_count": 12,
      "outputs": []
    },
    {
      "cell_type": "code",
      "source": [],
      "metadata": {
        "id": "mZNLgJkeflH4"
      },
      "execution_count": null,
      "outputs": []
    },
    {
      "cell_type": "markdown",
      "metadata": {
        "id": "gnO3lhAigLev"
      },
      "source": [
        "# **Introduction**\n",
        "In this lab there are three mandatory assignments, each showcasing different techniques for numerical approximate integration. The first is a 2-point Gauss quadrature over a unit interval; the second is a 3-point edge midpoint quadrature over a reference triangle; the third is a Monte Carlo quadrature over a unit interval. \n"
      ]
    },
    {
      "cell_type": "markdown",
      "metadata": {
        "id": "jOQvukXZq5U5"
      },
      "source": [
        "# **Method**\n",
        "\n",
        "To solve this week's assignments I have used methods described in chapters 11 and 12 in the course-book. For assignment 4.1 example 11.3 gives the quadrature points and the weights to be used when itegrating over the interval [-1,1]. We are asked to integrate over the interval [0,1] instead but new values can be plugged into the derived values to update them to the appropriate ones. I looked at this discussion thread to see how to update the x-values and weights. [länk](https://math.stackexchange.com/questions/1544918/gaussian-quadrature-with-a-to-0-1-reference-domain-instead-of-a-1-1-ref)\n",
        "\n",
        "\n",
        "(I think it might also be possible to use the old values and integrate from [-1,1], and then divide the resulting value in 2. This could work on the basis that the Legendre polynomal ${P_2(x)}$ is symmetric about the y-axis? But I will not gamble with the assignment.)\n",
        "\n",
        "When the integration was over the old interval the roots were \n",
        "${\\displaystyle x_0 = \\frac{1}{\\sqrt 3}, x_1 = -\\frac{1}{\\sqrt 3}}$ but for the reason just described they were changed to ${\\displaystyle \\hat{x}_0 = \\frac{x_0 + 1}{2}, \\hat{x}_1 = \\frac{x_1 + 1 }{2}}$. The weights were changed by halving them from 1 to 0.5."
      ]
    },
    {
      "cell_type": "code",
      "source": [
        "#4.1\n",
        "#Input: function f(x) \n",
        "#Output: quadrature approximation of integral int_0^1 f(x) dx\n",
        "#Test: verify exact integration of cubic polynomials ax^3 + bx^2 + cx + d\n",
        "\n",
        "def two_point_gauss(f):\n",
        "  x_0 = (1.0/np.sqrt(3) +1) /2\n",
        "  x_1 = (-1.0/np.sqrt(3)+1 )/2 \n",
        "  return (fxdx(x_0) + fxdx(x_1)) / 2.0\n",
        "\n"
      ],
      "metadata": {
        "id": "qS_gw7cxs3Lf"
      },
      "execution_count": 16,
      "outputs": []
    },
    {
      "cell_type": "markdown",
      "source": [
        "From course book: \n",
        "(viii)  The 3-point edge midpoint quadrature rule for the reference triangle, with the weights w0=w1=w2=1/6, is exact for quadratic polynomials."
      ],
      "metadata": {
        "id": "O-SVtrD6L-24"
      }
    },
    {
      "cell_type": "code",
      "source": [
        "#4.2 \n",
        "# 3-point edge midpoint quadrature over a reference triangle\n",
        "\n",
        "#Input: function f(x) \n",
        "#Output: quadrature approximation of integral int_ref-triangle f(x) dx\n",
        "#Test: verify exact integration of quadratic polynomials ax^2 + by^2 + cxy + dx + ey + f\n",
        "\n",
        "def three_point_edge_midpoint_triangle(f):\n",
        "  weights = 1/6\n",
        "  return  (f(0.5, 0)+f(0,0.5)+f(0.5,0.5))*weights \n"
      ],
      "metadata": {
        "id": "ov7GQ_SuC7X-"
      },
      "execution_count": 47,
      "outputs": []
    },
    {
      "cell_type": "code",
      "source": [
        "#4.3  \n",
        "#Monte Carlo quadrature over a unit interval\n",
        "#Output: MC quadrature approximation of integral int_0^1 f(x) dx\n",
        "#Test: verify convergence rate 1/sqrt(n) with respect to number of quadrature points n.\n",
        "\n",
        "def monte_carlo_integration(f, n):\n",
        "    sum = 0\n",
        "    for i in range(n):\n",
        "        sum += f(np.random.uniform(0, 1))\n",
        "    sum /= n    \n",
        "    return sum \n"
      ],
      "metadata": {
        "id": "s8eBBTS0C8QB"
      },
      "execution_count": 10,
      "outputs": []
    },
    {
      "cell_type": "markdown",
      "metadata": {
        "id": "SsQLT38gVbn_"
      },
      "source": [
        "# **Results**\n",
        "I decided to test my integrating functions againts specific functions that I defined, instead of using any randomisation. This was because I felt more sure of having solved the implementations correctly when I knew exactly what result was expected to be returned. "
      ]
    },
    {
      "cell_type": "code",
      "source": [
        "#Test 2-point Gauss quadrature\n",
        "\n",
        "def fxdx(x):\n",
        "  return 3*(x**2) + 6*x -1\n",
        "\n",
        "def F(x):\n",
        "  return x**3 + 3*(x**2) -x   \n",
        "\n",
        "print(\"When we integrate f(x) dx from 0 to 1 using two-point Gaussian quadrature we expect the same value as we get when taking F(1) - F(0).\\n Result of integration:\",two_point_gauss(fxdx))\n",
        "print(\"Result of F(1) - F(0): \",F(1.0) - F(0.0))\n",
        "\n"
      ],
      "metadata": {
        "id": "hBDqdXhZ9P-h",
        "colab": {
          "base_uri": "https://localhost:8080/"
        },
        "outputId": "8ee48276-241f-4c31-a4cc-be4013cd0c64"
      },
      "execution_count": 17,
      "outputs": [
        {
          "output_type": "stream",
          "name": "stdout",
          "text": [
            "When we integrate f(x) dx from 0 to 1 using two-point Gaussian quadrature we expect the same value as we get when taking F(1) - F(0).\n",
            " Result of integration: 3.0\n",
            "Result of F(1) - F(0):  3.0\n"
          ]
        }
      ]
    },
    {
      "cell_type": "code",
      "source": [
        "#Test of 3-point edge midpoint quadrature over a reference triangle\n",
        "#Generate \n",
        "\n",
        "def f_triangle(x, y):\n",
        "  return 3*x**2 - 3*y**2 + x*y + 4*y - x + 1\n",
        "\n",
        "print(\"I defined the function f_triangle that I integrated by hand and got the value 1.0417, also verified on wolframalpha.com. \\n Compare this to the resulting value from integrating over the triangle: \\n\")  \n",
        "print(round(three_point_edge_midpoint_triangle(f_triangle),6))"
      ],
      "metadata": {
        "colab": {
          "base_uri": "https://localhost:8080/"
        },
        "id": "HcFo_gOQaarN",
        "outputId": "3a0e3449-01ed-4545-809b-90c0e6c41337"
      },
      "execution_count": 48,
      "outputs": [
        {
          "output_type": "stream",
          "name": "stdout",
          "text": [
            "I defined the function f_triangle that I integrated by hand and got the value 1.0417, also verified on wolframalpha.com. \n",
            " Compare this to the resulting value from integrating over the triangle: \n",
            "\n",
            "1.041667\n"
          ]
        }
      ]
    },
    {
      "cell_type": "markdown",
      "source": [
        "This test uses the same function fxdx and primitive F(x) as the first test."
      ],
      "metadata": {
        "id": "cUDcucTInemz"
      }
    },
    {
      "cell_type": "code",
      "source": [
        "#Test of Monte Carlo Integration\n",
        "\n",
        "#test\n",
        "ns = [4,32, 128, 256, 512, 1024, 2048, 3000, 4000, 5000]\n",
        "rate = np.zeros_like(ns, dtype = float)\n",
        "sums = np.zeros_like(ns, dtype = float)\n",
        "for n in range(len(ns)):\n",
        "  value = round(monte_carlo_integration(fxdx, ns[n]), 6)\n",
        "  sums[n] = value\n",
        "  rate[n] = abs(value-3.0) /np.sqrt(ns[n]) \n",
        "print(\"The correct integrating value is as we already established 3.0 when integrating fxdx from 0 to 1 \\n \")\n",
        "print(\"\\nThese are the values achieved by monte Carlo Integration, with number of samples ranging from 4 to 5000.\\n\", sums)  \n",
        "print(\"\\nThis is the distance of the value to the correct answer, divided by the square root of the number of samples n.\\n\", rate)\n",
        "print(\"After several runs I can see the integration method starts to give reasonable results when we use 512 samples, but even then it still fluctuates too much. \\n\",\n",
        "\"1024 samples and up are more stable.\")"
      ],
      "metadata": {
        "colab": {
          "base_uri": "https://localhost:8080/"
        },
        "id": "O95OyNRDeKYE",
        "outputId": "e372e9d3-d331-4c8a-ee3d-19fc92fee178"
      },
      "execution_count": 42,
      "outputs": [
        {
          "output_type": "stream",
          "name": "stdout",
          "text": [
            "The correct integrating value is as we already established 3.0 when integrating fxdx from 0 to 1 \n",
            " \n",
            "\n",
            "These are the values achieved by monte Carlo Integration, with number of samples ranging from 4 to 5000.\n",
            " [2.519468 2.625866 2.741486 2.995431 3.060373 2.941628 3.031342 3.028981\n",
            " 3.072062 3.028309]\n",
            "\n",
            "This is the distance of the value to the correct answer, divided by the square root of the number of samples n.\n",
            " [0.240266   0.06613817 0.02284963 0.00028556 0.00266813 0.00182412\n",
            " 0.00069257 0.00052912 0.0011394  0.00040035]\n",
            "After several runs I can see the integration method starts to give reasonable results when we use 512 samples, but even then it still fluctuates too much. \n",
            " 1024 samples and up are more stable.\n"
          ]
        }
      ]
    },
    {
      "cell_type": "markdown",
      "metadata": {
        "id": "_4GLBv0zWr7m"
      },
      "source": [
        "# **Discussion**\n",
        "This was a tricky assignment, but once I started to understand more about why we could do what we were supposed to do it became very interesting. I read that the \"naive\" method of sampling randomly-uniformly from the domain can be improved upon. By looking at the function and drawing more samples from the area where the probability density function is concentrated you will converge faster towards the correct integral. This is for example made us of when rendering scenes with Monte Carlo ray tracing."
      ]
    },
    {
      "cell_type": "markdown",
      "metadata": {
        "id": "6bcsDSoRXHZe"
      },
      "source": []
    }
  ]
}