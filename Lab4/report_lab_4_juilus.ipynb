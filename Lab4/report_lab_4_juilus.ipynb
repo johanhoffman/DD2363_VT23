{
  "nbformat": 4,
  "nbformat_minor": 0,
  "metadata": {
    "colab": {
      "provenance": [],
      "collapsed_sections": [
        "6RgtXlfYO_i7",
        "9x_J5FVuPzbm",
        "OkT8J7uOWpT3"
      ],
      "include_colab_link": true
    },
    "kernelspec": {
      "name": "python3",
      "display_name": "Python 3"
    }
  },
  "cells": [
    {
      "cell_type": "markdown",
      "metadata": {
        "id": "view-in-github",
        "colab_type": "text"
      },
      "source": [
        "<a href=\"https://colab.research.google.com/github/johanhoffman/DD2363_VT23/blob/juliusha/Lab4/report_lab_4_juilus.ipynb\" target=\"_parent\"><img src=\"https://colab.research.google.com/assets/colab-badge.svg\" alt=\"Open In Colab\"/></a>"
      ]
    },
    {
      "cell_type": "markdown",
      "metadata": {
        "id": "6RgtXlfYO_i7"
      },
      "source": [
        "# **Lab 4: Integration**\n",
        "**Julius Häger**"
      ]
    },
    {
      "cell_type": "markdown",
      "metadata": {
        "id": "9x_J5FVuPzbm"
      },
      "source": [
        "# **Abstract**"
      ]
    },
    {
      "cell_type": "markdown",
      "metadata": {
        "id": "yJipbXtnjrJZ"
      },
      "source": [
        "In this lab report I implement 2 weighted sum integration methods, one over a unit interval and one over a reference triangle, as well as 2 monte carlo integration methods, over the same unit interval and reference triangle."
      ]
    },
    {
      "cell_type": "markdown",
      "metadata": {
        "id": "OkT8J7uOWpT3"
      },
      "source": [
        "#**About the code**"
      ]
    },
    {
      "cell_type": "code",
      "metadata": {
        "id": "Pdll1Xc9WP0e",
        "colab": {
          "base_uri": "https://localhost:8080/"
        },
        "outputId": "1c3340a3-9059-4fd2-a4cc-4d57da64df00"
      },
      "source": [
        "\"\"\"This program is lab report in the course\"\"\"\n",
        "\"\"\"DD2363 Methods in Scientific Computing, \"\"\"\n",
        "\"\"\"KTH Royal Institute of Technology, Stockholm, Sweden.\"\"\"\n",
        "\n",
        "# Copyright (C) 2023 Julius Häger (juliusha@kth.se)\n",
        "\n",
        "# This file is part of the course DD2365 Advanced Computation in Fluid Mechanics\n",
        "# KTH Royal Institute of Technology, Stockholm, Sweden\n",
        "#\n",
        "# This is free software: you can redistribute it and/or modify\n",
        "# it under the terms of the GNU Lesser General Public License as published by\n",
        "# the Free Software Foundation, either version 3 of the License, or\n",
        "# (at your option) any later version."
      ],
      "execution_count": null,
      "outputs": [
        {
          "output_type": "execute_result",
          "data": {
            "text/plain": [
              "'KTH Royal Institute of Technology, Stockholm, Sweden.'"
            ],
            "application/vnd.google.colaboratory.intrinsic+json": {
              "type": "string"
            }
          },
          "metadata": {},
          "execution_count": 77
        }
      ]
    },
    {
      "cell_type": "markdown",
      "metadata": {
        "id": "28xLGz8JX3Hh"
      },
      "source": [
        "# **Set up environment**"
      ]
    },
    {
      "cell_type": "code",
      "metadata": {
        "id": "Xw7VlErAX7NS"
      },
      "source": [
        "# Load neccessary modules.\n",
        "from google.colab import files\n",
        "\n",
        "import time\n",
        "import numpy as np\n",
        "\n",
        "from IPython.display import display, Math\n",
        "\n",
        "from typing import Callable, Tuple\n",
        "\n",
        "\n",
        "#try:\n",
        "#    from dolfin import *; from mshr import *\n",
        "#except ImportError as e:\n",
        "#    !apt-get install -y -qq software-properties-common \n",
        "#    !add-apt-repository -y ppa:fenics-packages/fenics\n",
        "#    !apt-get update -qq\n",
        "#    !apt install -y --no-install-recommends fenics\n",
        "#    from dolfin import *; from mshr import *\n",
        "    \n",
        "#import dolfin.common.plotting as fenicsplot\n",
        "\n",
        "from matplotlib import pyplot as plt\n",
        "from matplotlib import tri\n",
        "from matplotlib import axes\n",
        "from mpl_toolkits.mplot3d import Axes3D\n",
        "\n",
        "from scipy import integrate\n"
      ],
      "execution_count": null,
      "outputs": []
    },
    {
      "cell_type": "markdown",
      "metadata": {
        "id": "gnO3lhAigLev"
      },
      "source": [
        "# **Introduction**"
      ]
    },
    {
      "cell_type": "markdown",
      "metadata": {
        "id": "l5zMzgPlRAF6"
      },
      "source": [
        "Numerical integration is useful in a lot of contexts. Some functions don't have analytical expressions for their integrals, other times you don't know the exact function that is going to be integrated. Numerical integration can also be very helpful in solving differential equations.\n",
        "\n",
        "For example to solution to the differential equation $u'(x) = f(x),\\, x \\in [a, b]$ is given by $u(x) = u(a) + \\int_{a}^{x}f(y)dy$, this can easily be calculated thorugh numerical integration.\n",
        "\n",
        "One method of numerical integration called the Gauss quadrature uses $q+1$ function evaluations to calculate the exact integral of polynomials of up to degree $2q+1$. It achives this by evaluating the functions at specific points and doing a weighted sum. For higher dimentional integrations $(q+1)^d$ evaluation points are needed, where $d$ is the number of dimentions.\n",
        "\n",
        "For large dimentional spaces this becomes impractical. A method that doesn't suffer from many dimentions is Monte Carlo integration. Monte Carlo integration is a Monte Carlo method which uses random samples to converge on a numerical value, in this case the integral."
      ]
    },
    {
      "cell_type": "markdown",
      "metadata": {
        "id": "jOQvukXZq5U5"
      },
      "source": [
        "# **Method**"
      ]
    },
    {
      "cell_type": "markdown",
      "source": [
        "## Assignment 1: 2-point Gauss quadrature over a unit interval\n",
        "\n"
      ],
      "metadata": {
        "id": "lgT1y4-b9a2p"
      }
    },
    {
      "cell_type": "markdown",
      "metadata": {
        "id": "zF4iBj5VURZx"
      },
      "source": [
        "The 2-point Gauss quadrature uses the fact that a polynomial $p(x)$ can be factorized like the following $p(x) = \\phi(x)s(x) + r(x)$ where $\\phi(x)$ is a $q+1$ degree polynomial with $q+1$ distinct zeros $x_i \\in [a, b]$ and is orthogonal to all polynomials of degree $q$.\n",
        "$$\\int_{a}^{b} \\phi(x)s(x)\\,dx = 0, ~~~~ \\forall_s \\in \\mathcal{P}^d([a,b])$$\n",
        "\n",
        "By chosing evaluation points where $\\phi(x_i) = 0$ which results in $p(x_i) = r(x_i)$. This can then be used to show the following equality<a name=\"cite_ref-1\"></a>[<sup>[1]</sup>](#cite_note-1):\n",
        "$$\n",
        "\\int_{a}^{b} p(x) \\, dx = \\sum_{i=0}^{q} p(x_i)w_i\n",
        "$$\n",
        "\n",
        "Using the above equality we can figure out the evalution points for $q+1=2$ on $[-1, 1]$ to be $x_0 = 1/\\sqrt{3}$ and $x_1 = -1/\\sqrt{3}$, and the weights to be $w_0 = w_1 = 1$. To get this to the unit interval $[0, 1]$ we need to remap the interval $[-1, 1]$ onto the unit interval which can be done by $(x + 1) / 2, x \\in [-1, 1]$ and multiplying by the ratio of size $|[0, 1]|/|[-1, 1]|=1/2$. This gets us $x_0 = \\frac{1}{2}-\\frac{\\sqrt{3}}{6}$ and $x_1 = \\frac{1}{2}+\\frac{\\sqrt{3}}{6}$. This allows us to quite easily compute the 2-point quadrature over the unit interval.\n",
        "\n",
        "<a name=\"cite_note-1\"></a>1. [^](#cite_ref-1) Methods in Computational Science, Chapter 11: Integration methods, p.237-258 https://epubs.siam.org/doi/abs/10.1137/1.9781611976724.ch11"
      ]
    },
    {
      "cell_type": "code",
      "source": [
        "# Assignment 1: 2-point Gauss quadrature over a unit interval\n",
        "\n",
        "def GaussQuad2Point(f : Callable[[np.double], np.double]):\n",
        "  sqrt3div6 = np.sqrt(3) / 6\n",
        "  return (f(0.5 - sqrt3div6) + f(0.5 + sqrt3div6)) * 0.5"
      ],
      "metadata": {
        "id": "Es-YHKleGfzt"
      },
      "execution_count": null,
      "outputs": []
    },
    {
      "cell_type": "markdown",
      "source": [
        "As we can see the resulting code is very simple. By changing the integration interval this method can easily be extended to create a composite 2-point gauss quadrature."
      ],
      "metadata": {
        "id": "7pSfHENp46tj"
      }
    },
    {
      "cell_type": "markdown",
      "source": [
        "## Assignment 2: 3-point edge midpoint quadrature over a reference triangle"
      ],
      "metadata": {
        "id": "83-DDSQicf_9"
      }
    },
    {
      "cell_type": "markdown",
      "source": [
        "For triangles a 3-point edge midpoint quadrature can be constructed with similar methods to the previous 2-point Guass quadrature. This methods evaluates the midpoints of the triangles sides and weights them with weights $w_0 = w_1 = w_2 = 1/6$."
      ],
      "metadata": {
        "id": "tf0R8-sxzUZG"
      }
    },
    {
      "cell_type": "code",
      "source": [
        "# Assignment 2: 3-point edge midpoint quadrature over a reference triangle\n",
        "\n",
        "def EdgeMidpointQuadrature3point(f : Callable[[Tuple[np.double, np.double]], np.double]):\n",
        "  sum = f((0.5, 0)) + f((0, 0.5)) + f((0.5, 0.5))\n",
        "  return sum / 6\n"
      ],
      "metadata": {
        "id": "9OS04EyAcppw"
      },
      "execution_count": null,
      "outputs": []
    },
    {
      "cell_type": "markdown",
      "source": [
        "Extending this method to create a composite method is not as straight forward as it is with the 2-point Gauss quadrature. We need to create a linear transformation $F$ from the triangle we want to integrate to the reference triangle use and then scale the result using $|\\mathrm{det}(F')|$ where $F'$ is the jacobian of $F$."
      ],
      "metadata": {
        "id": "PeWnOG9Q4xI7"
      }
    },
    {
      "cell_type": "markdown",
      "source": [
        "## Assignment 3: Monte Carlo quadrature over unit interval"
      ],
      "metadata": {
        "id": "ogp1eGA2yG_y"
      }
    },
    {
      "cell_type": "markdown",
      "source": [
        "Monte Carlo integration is based on the law of large numbers that states that the mean of an ever increasing number of samples from a random variable $X$ will converge towards the expected value $E(X)$. This is used to relate the mean of a number of samples to the expected value.\n",
        "$$\n",
        "\\overline{f}=\\frac{1}{n}\\sum_{i=1}^{n}g(x_i) \\approx E[f] = \\frac{1}{|D|}\\int_{D} f(x) \\,dx\n",
        "$$\n",
        "\n",
        "This gives a really simple way to compute the integral of the function $f(x)$ by repeatedly sampling random points from the integration interval and taking the mean of the samples multiplied by the size of the interval."
      ],
      "metadata": {
        "id": "D0iG6xWL0Woq"
      }
    },
    {
      "cell_type": "code",
      "source": [
        "# Assignment 3: Monte Carlo quadrature over a unit interval\n",
        "\n",
        "def MonteCarloUnitInterval(f : Callable[[np.ndarray], np.ndarray], samples : int):\n",
        "  xs = np.random.rand(samples)\n",
        "  ys = f(xs)\n",
        "  return np.mean(ys)\n",
        "\n"
      ],
      "metadata": {
        "id": "EeAqMKbRyQfZ"
      },
      "execution_count": null,
      "outputs": []
    },
    {
      "cell_type": "markdown",
      "source": [
        "This method is almost trivial to extend into multiple dimentions only requiring a way to sample points uniformly over the integration domain, and a way to measure the size of the domain. This is why Monte Carlo integration can scale well to multiple dimentions while the Gauss-like quadratures could not scale gracefully."
      ],
      "metadata": {
        "id": "YLa9eOK6bjOg"
      }
    },
    {
      "cell_type": "markdown",
      "source": [
        "## Extra Assignment: Monte Carlo quadrature over a reference triangle"
      ],
      "metadata": {
        "id": "3KqVFrMMtmj_"
      }
    },
    {
      "cell_type": "markdown",
      "source": [
        "As mentioned in the previous assignment, to extend Monte Carlo integration to multiple dimentions is a way to sample locations on the integration domain uniformly and the ability to determine the domains size. In this assignment the integration domain is a reference triangle with area $1/2$. To sample uniform points on this triangle we first generate uniform points on the unit square. For all points outside the unit triangle we use a double reflection to rotate the points 180° around the center of the unit square which maps these points back onto the reference triangle.\n",
        "\n",
        "Aside from the different way of finding random samples and the different domain size the method remains exactly the same as the previous one."
      ],
      "metadata": {
        "id": "TY1swnEa4tLe"
      }
    },
    {
      "cell_type": "code",
      "source": [
        "# Extra Assignment: Monte Carlo quadrature over a reference triangle\n",
        "\n",
        "def MonteCarloRefTriangle(f : Callable[[np.ndarray, np.ndarray], np.ndarray], samples : int):\n",
        "  xs = np.random.rand(samples)\n",
        "  ys = np.random.rand(samples)\n",
        "  ygtx = ys > (1 - xs)\n",
        "  np.subtract(1, xs, out=xs, where=ygtx)\n",
        "  np.subtract(1, ys, out=ys, where=ygtx)\n",
        "\n",
        "  fs = f(xs, ys) * 0.5\n",
        "\n",
        "  return np.mean(fs)"
      ],
      "metadata": {
        "id": "xlCqAbZGt1ZQ"
      },
      "execution_count": null,
      "outputs": []
    },
    {
      "cell_type": "markdown",
      "source": [
        "Vague correlation to $1 / \\sqrt{x}$. TODO"
      ],
      "metadata": {
        "id": "icNv3RmK4lkK"
      }
    },
    {
      "cell_type": "markdown",
      "metadata": {
        "id": "SsQLT38gVbn_"
      },
      "source": [
        "# **Results**"
      ]
    },
    {
      "cell_type": "markdown",
      "source": [
        "## Assignment 1: 2-point Gauss quadrature over a unit interval"
      ],
      "metadata": {
        "id": "KrXRuUqK1Wbs"
      }
    },
    {
      "cell_type": "markdown",
      "source": [
        "To check the accuracy of the 2-point Gauss quadrature we can compare the result to the analytically calculated value of the integral."
      ],
      "metadata": {
        "id": "Em1F3ZOI5OYX"
      }
    },
    {
      "cell_type": "code",
      "source": [
        "p = lambda x : 3*(x**3) - 3*(x**2) - 3*x + 1\n",
        "\n",
        "# Wolfram Alpha: https://www.wolframalpha.com/input?i=integral+from+0+to+1+of+3x%5E3+-+3x%5E2+-+3x+%2B+1\n",
        "exact_integral = -3.0/4.0\n",
        "\n",
        "calculated_integral = GaussQuad2Point(p)\n",
        "\n",
        "diff = np.abs(calculated_integral - exact_integral)\n",
        "\n",
        "display(Math(rf\"| \\mathrm{{gq2p}} - \\mathrm{{exact}} | = {diff}\"))"
      ],
      "metadata": {
        "colab": {
          "base_uri": "https://localhost:8080/",
          "height": 37
        },
        "id": "krq_nmHdRlQ9",
        "outputId": "8e5335dc-5781-4d00-ed74-d9fd9acf31cb"
      },
      "execution_count": null,
      "outputs": [
        {
          "output_type": "display_data",
          "data": {
            "text/plain": [
              "<IPython.core.display.Math object>"
            ],
            "text/latex": "$\\displaystyle | \\mathrm{gq2p} - \\mathrm{exact} | = 0.0$"
          },
          "metadata": {}
        }
      ]
    },
    {
      "cell_type": "markdown",
      "source": [
        "As we can see for a cubic polynomial the 2-point Gauss quadrature gives an exact result."
      ],
      "metadata": {
        "id": "T3IfyBYJemyP"
      }
    },
    {
      "cell_type": "markdown",
      "source": [
        "## Assignment 2: 3-point edge midpoint quadrature over a reference triangle"
      ],
      "metadata": {
        "id": "65HH2UWn5K8A"
      }
    },
    {
      "cell_type": "markdown",
      "source": [
        "A similar method can use used to evaluate the accuracy of the 3-point edge midpoint quadrature. We compare the value of the integral to an analytically calculated integral value."
      ],
      "metadata": {
        "id": "eTeYU_Zd5OOP"
      }
    },
    {
      "cell_type": "code",
      "source": [
        "p = lambda x : 2*x[0] + x[1]**2\n",
        "\n",
        "# Wolfram Alpha: https://www.wolframalpha.com/input?i=integral+from+0+to+1+of+integral+from+0+to+1-y+of+2*x%2By%5E2+dx+dy\n",
        "exact_integral = 5 / 12\n",
        "\n",
        "computed_integral = EdgeMidpointQuadrature3point(p)\n",
        "\n",
        "diff = np.abs(computed_integral - exact_integral)\n",
        "\n",
        "display(Math(rf\"| \\mathrm{{emq3p}} - \\mathrm{{exact}} | = {diff}\"))"
      ],
      "metadata": {
        "colab": {
          "base_uri": "https://localhost:8080/",
          "height": 37
        },
        "id": "LlMQmCZqXKQ7",
        "outputId": "c771983f-be91-49ed-b023-4518ce24a943"
      },
      "execution_count": null,
      "outputs": [
        {
          "output_type": "display_data",
          "data": {
            "text/plain": [
              "<IPython.core.display.Math object>"
            ],
            "text/latex": "$\\displaystyle | \\mathrm{emq3p} - \\mathrm{exact} | = 0.0$"
          },
          "metadata": {}
        }
      ]
    },
    {
      "cell_type": "markdown",
      "source": [
        "And similarly here the 3-point method can calculate integrals of quadratic polynomials exactly."
      ],
      "metadata": {
        "id": "CadRaaEBe-Tu"
      }
    },
    {
      "cell_type": "markdown",
      "source": [
        "## Assignment 3: Monte Carlo quadrature over unit interval"
      ],
      "metadata": {
        "id": "S86lTkRp5K8B"
      }
    },
    {
      "cell_type": "markdown",
      "source": [
        "To evaluate the Monte Carlo integraion method we can compare the calculated value compared to an exact value. We can also look at the convergence rate of the the function as the number of samples taken increases. The expected convergence of the method is $1/\\sqrt{n}$."
      ],
      "metadata": {
        "id": "gwcQJQ3f7wzn"
      }
    },
    {
      "cell_type": "code",
      "source": [
        "f = lambda x : 3*(x**3) - 3*(x**2) - 3*x + 1\n",
        "\n",
        "# Wolfram Alpha: https://www.wolframalpha.com/input?i=integral+from+0+to+1+of+3x%5E3+-+3x%5E2+-+3x+%2B+1\n",
        "exact_integral = -3.0/4.0\n",
        "\n",
        "computed_integral = MonteCarloUnitInterval(f, 10_000)\n",
        "\n",
        "print(computed_integral)\n",
        "\n",
        "diff = np.abs(computed_integral - exact_integral)\n",
        "\n",
        "display(Math(rf\"| \\mathrm{{montecarlo}}_{{10000}} - \\mathrm{{exact}} | = {diff}\"))\n",
        "\n",
        "start = 1_000\n",
        "stop = 200_000\n",
        "step = 500\n",
        "no_samples = np.array(range(start, stop, step))\n",
        "values = np.zeros(len(no_samples))\n",
        "for i, samples in enumerate(no_samples):\n",
        "  values[i] = MonteCarloUnitInterval(f, samples)\n",
        "\n",
        "plt.plot(no_samples, np.abs(exact_integral - values), label=\"error\")\n",
        "plt.plot(no_samples, (1 / np.sqrt(no_samples)), label=r\"$1/\\sqrt{\\mathrm{x}}$\")\n",
        "plt.axhline(0, color='black')\n",
        "plt.xlabel(\"samples\")\n",
        "plt.ylabel(\"error\")\n",
        "plt.legend()\n",
        "plt.show()"
      ],
      "metadata": {
        "colab": {
          "base_uri": "https://localhost:8080/",
          "height": 317
        },
        "id": "aGvxxWd-YYib",
        "outputId": "363737bb-5e5d-4ada-9944-4430968b2705"
      },
      "execution_count": null,
      "outputs": [
        {
          "output_type": "stream",
          "name": "stdout",
          "text": [
            "-0.7508619330337446\n"
          ]
        },
        {
          "output_type": "display_data",
          "data": {
            "text/plain": [
              "<IPython.core.display.Math object>"
            ],
            "text/latex": "$\\displaystyle | \\mathrm{montecarlo}_{10000} - \\mathrm{exact} | = 0.0008619330337445996$"
          },
          "metadata": {}
        },
        {
          "output_type": "display_data",
          "data": {
            "text/plain": [
              "<Figure size 432x288 with 1 Axes>"
            ],
            "image/png": "[encoded data removed]"
          },
          "metadata": {
            "needs_background": "light"
          }
        }
      ]
    },
    {
      "cell_type": "markdown",
      "source": [
        "The error compared to the exact method is larger than the 2-point Gauss quadrature, but the error is less than the expected $1/\\sqrt{10\\,000} = 0.01$.\n",
        "\n",
        "We can also see that the error does indeed seem to decrease at the rate $1/\\sqrt{n}$."
      ],
      "metadata": {
        "id": "JdYuKVisfxuY"
      }
    },
    {
      "cell_type": "markdown",
      "source": [
        "## Extra Assignment: Monte Carlo quadrature over a reference triangle"
      ],
      "metadata": {
        "id": "W5K-xsm5eChm"
      }
    },
    {
      "cell_type": "code",
      "source": [
        "f = lambda x, y : 2*x + y**2\n",
        "\n",
        "# Wolfram Alpha: https://www.wolframalpha.com/input?i=integral+from+0+to+1+of+integral+from+0+to+1-y+of+2*x%2By%5E2+dx+dy\n",
        "exact_integral = 5 / 12\n",
        "\n",
        "computed_integral = MonteCarloRefTriangle(f, 10_000)\n",
        "\n",
        "diff = np.abs(computed_integral - exact_integral)\n",
        "\n",
        "display(Math(rf\"| \\mathrm{{montecarlo}}_{{10000}} - \\mathrm{{exact}} | = {diff}\"))\n",
        "\n",
        "start = 1_000\n",
        "stop = 200_000\n",
        "step = 500\n",
        "no_samples = np.array(range(start, stop, step))\n",
        "values = np.zeros(len(no_samples))\n",
        "for i, samples in enumerate(no_samples):\n",
        "  values[i] = MonteCarloRefTriangle(f, samples)\n",
        "\n",
        "plt.plot(no_samples, np.abs(exact_integral - values), label=\"error\")\n",
        "plt.plot(no_samples, (1 / np.sqrt(no_samples)), label=r\"$1/\\sqrt{\\mathrm{x}}$\")\n",
        "plt.axhline(0, color='black')\n",
        "plt.xlabel(\"samples\")\n",
        "plt.ylabel(\"error\")\n",
        "plt.legend()\n",
        "plt.show()"
      ],
      "metadata": {
        "colab": {
          "base_uri": "https://localhost:8080/",
          "height": 299
        },
        "id": "NP2t9UpBeJIK",
        "outputId": "cd5ca570-a40e-46aa-ab2d-2aec49de731d"
      },
      "execution_count": null,
      "outputs": [
        {
          "output_type": "display_data",
          "data": {
            "text/plain": [
              "<IPython.core.display.Math object>"
            ],
            "text/latex": "$\\displaystyle | \\mathrm{montecarlo}_{10000} - \\mathrm{exact} | = 0.0025367448731719033$"
          },
          "metadata": {}
        },
        {
          "output_type": "display_data",
          "data": {
            "text/plain": [
              "<Figure size 432x288 with 1 Axes>"
            ],
            "image/png": "[encoded data removed]"
          },
          "metadata": {
            "needs_background": "light"
          }
        }
      ]
    },
    {
      "cell_type": "markdown",
      "source": [
        "Similarly to the previous Monte Carlo integration the error compared to the exact value is less than the expected $1 / \\sqrt{10\\,000} = 0.01$.\n",
        "\n",
        "We can also see that the error also decreases of a rate proportional to $1 / \\sqrt(n)$."
      ],
      "metadata": {
        "id": "6hIifIGVgnBs"
      }
    },
    {
      "cell_type": "markdown",
      "metadata": {
        "id": "_4GLBv0zWr7m"
      },
      "source": [
        "# **Discussion**"
      ]
    },
    {
      "cell_type": "markdown",
      "metadata": {
        "id": "6bcsDSoRXHZe"
      },
      "source": [
        "The field of numerical integration is wast, and there are many more method for numerical integration that could be dicussed in this lab. This lab also omitted any implementations of composite integration methods which are often used for large multi-dimentional input domains.\n",
        "\n",
        "Other variations of Monte Carlo integration could also have been dicussed such as importance sampling and multiple importance sampling which are often used in graphics applications to efficiently approximate the integral of a *bidirectional reflectance distribution function* (BRDF) on a hemisphere domain."
      ]
    }
  ]
}