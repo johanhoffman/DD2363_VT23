{
  "nbformat": 4,
  "nbformat_minor": 0,
  "metadata": {
    "colab": {
      "provenance": []
    },
    "kernelspec": {
      "name": "python3",
      "display_name": "Python 3"
    }
  },
  "cells": [
    {
      "cell_type": "markdown",
      "metadata": {
        "id": "6RgtXlfYO_i7"
      },
      "source": [
        "# **Lab 4: Integration**\n",
        "**Martin Börjeson**"
      ]
    },
    {
      "cell_type": "markdown",
      "metadata": {
        "id": "9x_J5FVuPzbm"
      },
      "source": [
        "# **Abstract**"
      ]
    },
    {
      "cell_type": "markdown",
      "metadata": {
        "id": "6UFTSzW7P8kL"
      },
      "source": [
        "In this lab I've implemented quadratures for approximating integrals of functions over the reference interval and reference triangle. It was a fairly straightforward week."
      ]
    },
    {
      "cell_type": "markdown",
      "metadata": {
        "id": "OkT8J7uOWpT3"
      },
      "source": [
        "#**About the code**"
      ]
    },
    {
      "cell_type": "markdown",
      "metadata": {
        "id": "HmB2noTr1Oyo"
      },
      "source": [
        "The code is written by me, Martin Börjeson."
      ]
    },
    {
      "cell_type": "code",
      "metadata": {
        "id": "Pdll1Xc9WP0e",
        "colab": {
          "base_uri": "https://localhost:8080/",
          "height": 35
        },
        "outputId": "246546a7-b132-406b-8bf7-0f26d9cadb64"
      },
      "source": [
        "\"\"\"DD2363 Methods in Scientific Computing, \"\"\"\n",
        "\"\"\"KTH Royal Institute of Technology, Stockholm, Sweden.\"\"\"\n",
        "\n",
        "# This file is part of the course DD2365 Advanced Computation in Fluid Mechanics\n",
        "# KTH Royal Institute of Technology, Stockholm, Sweden\n",
        "#\n",
        "# Report by Martin Börjeson"
      ],
      "execution_count": 48,
      "outputs": [
        {
          "output_type": "execute_result",
          "data": {
            "text/plain": [
              "'KTH Royal Institute of Technology, Stockholm, Sweden.'"
            ],
            "application/vnd.google.colaboratory.intrinsic+json": {
              "type": "string"
            }
          },
          "metadata": {},
          "execution_count": 48
        }
      ]
    },
    {
      "cell_type": "markdown",
      "metadata": {
        "id": "28xLGz8JX3Hh"
      },
      "source": [
        "# **Set up environment**"
      ]
    },
    {
      "cell_type": "markdown",
      "metadata": {
        "id": "D2PYNusD08Wa"
      },
      "source": [
        "To have access to the neccessary modules you have to run this cell. If you need additional modules, this is where you add them. "
      ]
    },
    {
      "cell_type": "code",
      "metadata": {
        "id": "Xw7VlErAX7NS"
      },
      "source": [
        "# Load neccessary modules.\n",
        "import numpy as np\n",
        "\n",
        "from matplotlib import pyplot as plt"
      ],
      "execution_count": 49,
      "outputs": []
    },
    {
      "cell_type": "markdown",
      "metadata": {
        "id": "gnO3lhAigLev"
      },
      "source": [
        "# **Introduction**"
      ]
    },
    {
      "cell_type": "markdown",
      "metadata": {
        "id": "l5zMzgPlRAF6"
      },
      "source": [
        "An integral is a continuation of doing a sum of the values at a function at different points. It has many applications, but calculating an integral exactly is not always possible or feasible. In such cases, an approximation will have to do.\n",
        "\n",
        "In this report, I've implemented an algorithm to perform a selection of quadratures, both in one and two dimensions.\n",
        "\n",
        "Stochastic Monte Carlo Quadratures were also implemented."
      ]
    },
    {
      "cell_type": "markdown",
      "metadata": {
        "id": "jOQvukXZq5U5"
      },
      "source": [
        "## **Method**"
      ]
    },
    {
      "cell_type": "markdown",
      "source": [
        "#2-point Gauss Quadrature"
      ],
      "metadata": {
        "id": "ESV17MJqqH86"
      }
    },
    {
      "cell_type": "markdown",
      "source": [
        "This map of the Gauss quadrature was in the problem assignment this week.\n",
        "\n",
        "The idea is to apply a coordinate map $F: [0,1] -> [-1,1]$ on the function $f$, and integrate that in the span $[-1,1],$ for which the Gauss quadrature formula can be applied.\n",
        "\n",
        "$F(x) = \\frac{1+x}{2}$\n",
        "\n",
        "$\\int_{[0,1]}f(x)dx = \\int_{[-1,1]}f(F(x))|F'|dx=\\frac{1}{2}\\int_{[-1,1]}f(F(x))dx = \\frac{1}{2}(f(F(x_1))+f(F(x_2)))= \\frac{f(\\frac{3-\\sqrt{3}}{6}) + f(\\frac{3+\\sqrt{3}}{6})}{2}$"
      ],
      "metadata": {
        "id": "O0BwfP7Lp_6n"
      }
    },
    {
      "cell_type": "markdown",
      "source": [
        "Input: function $f(x)$\n",
        "\n",
        "Output: quadrature approximation of integral $\\int_0^1 f(x) dx$"
      ],
      "metadata": {
        "id": "HX3uAHaOq2ff"
      }
    },
    {
      "cell_type": "code",
      "source": [
        "def two_point_gauss_quad(f):\n",
        "  return ( f((3-np.sqrt(3))/6) + f((3+np.sqrt(3))/6) )/2"
      ],
      "metadata": {
        "id": "v62zuu5lqVR6"
      },
      "execution_count": 50,
      "outputs": []
    },
    {
      "cell_type": "markdown",
      "source": [
        "# 3-point edge midpoint quadrature over a reference triangle"
      ],
      "metadata": {
        "id": "mGeb7LhMqkLL"
      }
    },
    {
      "cell_type": "markdown",
      "source": [
        "The weights for a 3-point edge midpoint quadrature over a reference triangle are all $\\frac{1}{6}.$"
      ],
      "metadata": {
        "id": "EpTKhXJ5vO64"
      }
    },
    {
      "cell_type": "markdown",
      "source": [
        "Input: function $f(x_1,x_2)$\n",
        "\n",
        "Output: Quadrature approximation of integral $\\int_{triangle} f(x_1,x_2) = \\int_0^1 ( \\int_0^{1-x_2}f(x_1,x_2)dx_1 )dx_2$"
      ],
      "metadata": {
        "id": "VUesy_K4AJPc"
      }
    },
    {
      "cell_type": "code",
      "source": [
        "def three_point_edge_midpoint_quad(f):\n",
        "  return (f(0.5,0) + f(0,0.5) + f(0.5,0.5))/6"
      ],
      "metadata": {
        "id": "oBlnsuC3AIfh"
      },
      "execution_count": 51,
      "outputs": []
    },
    {
      "cell_type": "markdown",
      "source": [
        "# Monte Carlo quadrature over a unit interval"
      ],
      "metadata": {
        "id": "odg2nSw1qsmT"
      }
    },
    {
      "cell_type": "markdown",
      "source": [
        "The Monte Carlo quadrature is a stochastic process which approximates the integeal of a function through a sum of 1-point quadratures evaluated at randomly selected points.\n",
        "\n",
        "$\\int_D g(x)dx \\approx \\frac{|D|}{n} \\sum_{i=1}^n g(x_i)$\n",
        "\n",
        "Where the values in X are sampled from a uniform distribution over the domain $D.$\n",
        "\n",
        "The convergence of the approximation is slow compared to many other approximations, but is unaffected by the dimensions of the domain.\n",
        "\n",
        "In the case of integrating over the unit interval $[0,1],$ the equation can be simplified to $\\int_0^1 g(x)dx \\approx \\frac{1}{n} \\sum_{i=1}^n g(x_i)$"
      ],
      "metadata": {
        "id": "KQxCFHJFw-Ni"
      }
    },
    {
      "cell_type": "markdown",
      "source": [
        "Input: function $f(x)$\n",
        "\n",
        "Output: Monte Carlo quadrature approximation of integral over unit interval $\\int_0^1f(x)dx$"
      ],
      "metadata": {
        "id": "18OArV0hP6he"
      }
    },
    {
      "cell_type": "code",
      "source": [
        "def monte_carlo_quad(f, n = 10000):\n",
        "  sum = 0\n",
        "  for x in np.random.rand(n):\n",
        "    sum += f(x)\n",
        "  return sum/n"
      ],
      "metadata": {
        "id": "CVuslqYkQWkp"
      },
      "execution_count": 52,
      "outputs": []
    },
    {
      "cell_type": "markdown",
      "source": [
        "#Bonus assignment: Monte Carlo quadrature over a reference triangle"
      ],
      "metadata": {
        "id": "oTb3HDxKP1N_"
      }
    },
    {
      "cell_type": "markdown",
      "source": [
        "Doing Monte Carlo over a 2-dimensional domain is fairly straightforward, but you need to make sure that the points really are sampled uniformly. This is very easy to achieve for rectangles, as the X and Y coordinates are linearly independent. Unfortunantely, a triangle is not a rectangle.\n",
        "\n",
        "One easy approach is to uniformly select points in a reference square, and ignore all points where $x+y>1.$ An objectively better approach is to map all points in a reference square to the reference triangle in a way that produces a uniform distribution.\n",
        "\n",
        "A simple map $F$ is $F(x_1,x_2) = (x_1,x_2)$ if $x_1+x_2 \\le 1$ and $(1-x_1,1-x_2)$ if $x_1+x_2 > 1,$ which is equivalent to a reflection on the points above the $x_1=x_2$ line.\n",
        "\n"
      ],
      "metadata": {
        "id": "9U99XiZtztCC"
      }
    },
    {
      "cell_type": "markdown",
      "source": [
        "Input: function $f(x_1,x_2)$\n",
        "\n",
        "Output: Monte Carlo quadrature approximation of function integral over unit triangle"
      ],
      "metadata": {
        "id": "dC2F6IhXULwu"
      }
    },
    {
      "cell_type": "code",
      "source": [
        "def tr_map(x1,x2):\n",
        "  if(x1+x2 <= 1):\n",
        "    return x1,x2\n",
        "  else:\n",
        "    return 1-x1,1-x2\n",
        "\n",
        "def monte_carlo_triangle_quad(f,n = 10000):\n",
        "  sum = 0\n",
        "  for i in range(n):\n",
        "    x1,x2 = tr_map(np.random.rand(),np.random.rand())\n",
        "    sum += f(x1,x2)\n",
        "  return sum/(n*2)"
      ],
      "metadata": {
        "id": "qzBlqe4IP7I8"
      },
      "execution_count": 53,
      "outputs": []
    },
    {
      "cell_type": "markdown",
      "metadata": {
        "id": "SsQLT38gVbn_"
      },
      "source": [
        "# **Results**"
      ]
    },
    {
      "cell_type": "markdown",
      "metadata": {
        "id": "RLwlnOzuV-Cd"
      },
      "source": [
        "Below are a limited set of tests for the varies methods."
      ]
    },
    {
      "cell_type": "markdown",
      "source": [
        "#2-point Gauss Quadrature"
      ],
      "metadata": {
        "id": "HLaz7s9EwlIi"
      }
    },
    {
      "cell_type": "markdown",
      "source": [
        "Test: Verify exact integration of cubic polynomials\n",
        "\n",
        "\n",
        "\n"
      ],
      "metadata": {
        "id": "0h223WH3yZ3R"
      }
    },
    {
      "cell_type": "code",
      "source": [
        "def f1(x):\n",
        "  return x**3+x**2+x+1\n",
        "\n",
        "#Primitive function of f1\n",
        "def F1(x):\n",
        "  return (3*x**4+4*x**3+6*x**2+12*x)/12\n",
        "\n",
        "print(\"Quad:\",two_point_gauss_quad(f1))\n",
        "\n",
        "print(\"Actual:\",F1(1)-F1(0))"
      ],
      "metadata": {
        "colab": {
          "base_uri": "https://localhost:8080/"
        },
        "id": "GhBbbQQ1wl1i",
        "outputId": "b8b2918a-9137-4c6c-a91d-c0d24df42558"
      },
      "execution_count": 54,
      "outputs": [
        {
          "output_type": "stream",
          "name": "stdout",
          "text": [
            "Quad: 2.083333333333333\n",
            "Actual: 2.0833333333333335\n"
          ]
        }
      ]
    },
    {
      "cell_type": "markdown",
      "source": [
        "The quadrature gives the same result as doing the integration by hand."
      ],
      "metadata": {
        "id": "MGWDD38n509r"
      }
    },
    {
      "cell_type": "markdown",
      "source": [
        "# 3-point edge midpoint quadrature over a reference triangle"
      ],
      "metadata": {
        "id": "X64lXdqFwuWq"
      }
    },
    {
      "cell_type": "markdown",
      "source": [
        "Test: Convergence of residual"
      ],
      "metadata": {
        "id": "0HKJ0n2o0ytS"
      }
    },
    {
      "cell_type": "code",
      "source": [
        "def f2(x1,x2):\n",
        "  return x1**2-2*x2+2\n",
        "\n",
        "#Primitive function of f2 evaluated from 0 to 1-x_2\n",
        "def F2(x):\n",
        "  return (-x**3+9*x**2-15*x+7)/3\n",
        "\n",
        "print(\"Triangle quad:\",three_point_edge_midpoint_quad(f2))\n",
        "print(\"Actual:\", two_point_gauss_quad(F2))"
      ],
      "metadata": {
        "colab": {
          "base_uri": "https://localhost:8080/"
        },
        "id": "fx2jUwGgw2t5",
        "outputId": "6d43c688-393e-4350-db34-b97d0371c4f1"
      },
      "execution_count": 58,
      "outputs": [
        {
          "output_type": "stream",
          "name": "stdout",
          "text": [
            "Triangle quad: 0.75\n",
            "Actual: 0.7500000000000002\n"
          ]
        }
      ]
    },
    {
      "cell_type": "markdown",
      "source": [
        "The quadrature gives the same result as doing the first integration by hand, and applying a 2-point Gauss Quadrature."
      ],
      "metadata": {
        "id": "m3If_xPv8jMd"
      }
    },
    {
      "cell_type": "markdown",
      "source": [
        "# Monte Carlo quadrature over a unit interval"
      ],
      "metadata": {
        "id": "0qR3kLWvw7XK"
      }
    },
    {
      "cell_type": "markdown",
      "source": [
        "Test: Convergence of residual"
      ],
      "metadata": {
        "id": "VO5msw9r1awB"
      }
    },
    {
      "cell_type": "markdown",
      "source": [
        "I used the average over 100 runs for each value of n to get the residual at each value of n, as the results would vary wildly for low values otherwise."
      ],
      "metadata": {
        "id": "ZrhwTi_cBknO"
      }
    },
    {
      "cell_type": "code",
      "source": [
        "actual = F1(1) - F1(0)\n",
        "\n",
        "results = []\n",
        "x = []\n",
        "for i in range(1,6):\n",
        "  results.append(np.abs(actual - monte_carlo_quad(f1,10**i)))\n",
        "  for j in range(99):\n",
        "    results[-1] += np.abs(actual - monte_carlo_quad(f1,10**i))\n",
        "  results[-1]/=100\n",
        "  x.append(np.log10(10**i))\n",
        "plt.plot(x,results)"
      ],
      "metadata": {
        "colab": {
          "base_uri": "https://localhost:8080/",
          "height": 282
        },
        "id": "MNV5m_MtxBCR",
        "outputId": "bddb6be9-cdcf-496f-c3ea-e3e76ea1b6fd"
      },
      "execution_count": 82,
      "outputs": [
        {
          "output_type": "execute_result",
          "data": {
            "text/plain": [
              "[<matplotlib.lines.Line2D at 0x7f9935fa5430>]"
            ]
          },
          "metadata": {},
          "execution_count": 82
        },
        {
          "output_type": "display_data",
          "data": {
            "text/plain": [
              "<Figure size 432x288 with 1 Axes>"
            ],
            "image/png": "[encoded data removed]"
          },
          "metadata": {
            "needs_background": "light"
          }
        }
      ]
    },
    {
      "cell_type": "markdown",
      "source": [
        "The convergence seems to check out, I think."
      ],
      "metadata": {
        "id": "L1bRhAxf_tJ-"
      }
    },
    {
      "cell_type": "markdown",
      "source": [
        "#Bonus assignment: Monte Carlo quadrature over a reference triangle"
      ],
      "metadata": {
        "id": "ShLrJxiHxIGi"
      }
    },
    {
      "cell_type": "markdown",
      "source": [
        "Test: Convergence of residual"
      ],
      "metadata": {
        "id": "UXZ2hi7D1q1p"
      }
    },
    {
      "cell_type": "code",
      "source": [
        "actual = two_point_gauss_quad(F2)\n",
        "results = []\n",
        "x = []\n",
        "\n",
        "for i in range(1,6):\n",
        "  results.append(np.abs(actual - monte_carlo_triangle_quad(f2,10**i)))\n",
        "  for j in range(99):\n",
        "    results[-1] += np.abs(actual - monte_carlo_triangle_quad(f2,10**i))\n",
        "  results[-1]/=100\n",
        "  x.append(np.log10(10**i))\n",
        "plt.plot(x,results)"
      ],
      "metadata": {
        "colab": {
          "base_uri": "https://localhost:8080/",
          "height": 282
        },
        "id": "IcLapfSyxLri",
        "outputId": "0960939b-32d4-4163-dbc0-408b1bd3020e"
      },
      "execution_count": 83,
      "outputs": [
        {
          "output_type": "execute_result",
          "data": {
            "text/plain": [
              "[<matplotlib.lines.Line2D at 0x7f9935c62460>]"
            ]
          },
          "metadata": {},
          "execution_count": 83
        },
        {
          "output_type": "display_data",
          "data": {
            "text/plain": [
              "<Figure size 432x288 with 1 Axes>"
            ],
            "image/png": "[encoded data removed]"
          },
          "metadata": {
            "needs_background": "light"
          }
        }
      ]
    },
    {
      "cell_type": "markdown",
      "source": [
        "Again, the convergence seems to check out."
      ],
      "metadata": {
        "id": "qKAXvlhYBg2n"
      }
    },
    {
      "cell_type": "markdown",
      "metadata": {
        "id": "_4GLBv0zWr7m"
      },
      "source": [
        "# **Discussion**"
      ]
    },
    {
      "cell_type": "markdown",
      "metadata": {
        "id": "6bcsDSoRXHZe"
      },
      "source": [
        "The assignments this week were fairly straightforward. The limited test results seem to confirm that the methods work as they should.\n",
        "\n",
        "Most quadratures could be expressed with one or two lines of code, which meant that most of the work was in doing the theoretical legwork, rather than working out bugs in the program, which was a nice change from last week. \n",
        "\n",
        "It's obvious that these approximations can be applied in a lot of different situations. They are so simple to compute, yet can integrate pretty complex functions. It feels almost like magic!\n",
        "\n",
        "It was also fun to experiment with different mapping functions to create a uniform distribution over different shapes."
      ]
    }
  ]
}