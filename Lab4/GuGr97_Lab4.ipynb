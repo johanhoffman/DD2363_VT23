{
  "nbformat": 4,
  "nbformat_minor": 0,
  "metadata": {
    "colab": {
      "provenance": []
    },
    "kernelspec": {
      "name": "python3",
      "display_name": "Python 3"
    },
    "language_info": {
      "name": "python"
    }
  },
  "cells": [
    {
      "cell_type": "markdown",
      "source": [
        "# **Lab 4: integration**\n",
        "**Gustav Grevsten**"
      ],
      "metadata": {
        "id": "SrH2tDMN_Jrl"
      }
    },
    {
      "cell_type": "markdown",
      "source": [
        "# **Abstract**\n",
        "\n",
        "The purpose of this lab is to implement and test various methods for estimating the value of definite integrals using numerical methods. Specifically, it will be focused on applying Gauss quadrature and Monte Carlo quadrature. In the end, we conclude that the algorithms implemented yield results that were expected."
      ],
      "metadata": {
        "id": "ON4hapNb_OAx"
      }
    },
    {
      "cell_type": "markdown",
      "source": [
        "# **Set up environment**"
      ],
      "metadata": {
        "id": "bkb4hLgvGCpS"
      }
    },
    {
      "cell_type": "code",
      "source": [
        "# Load neccessary modules.\n",
        "import numpy as np\n",
        "import matplotlib.pyplot as plt"
      ],
      "metadata": {
        "id": "03Hvzo6uFxWU"
      },
      "execution_count": 49,
      "outputs": []
    },
    {
      "cell_type": "markdown",
      "source": [
        "# **Introduction**\n",
        "\n",
        "Numerical methods for calculating definite integrals have a wide array of applications in the fields of physics, engineering, and computer science. They allow for good approximations of integrals that would otherwise be too difficult or impossible to calculate analytically, making them a powerful tool for solving various computational problems. \n",
        "\n",
        "Gauss quadrature is one of these numerical methods. It relies on choosing a set of nodes and weights that are specifically designed to minimize the error given a certain number of selected nodes $n$. This works by selecting the polynomial of degree $n-1$ that interpolates the function at the nodes and matches the function at as many points as possible.\n",
        "\n",
        "\n",
        "Another method is Monte Carlo quadrature. The method is based on the principle that the integral of a function can be approximated by the average of the function values at a set of randomly chosen points in the integration domain. This requires a large number of points to be randomly sampled from a uniform distribution over the domain, and the function is evaluated at each point. The resulting function values are then averaged to obtain an estimate of the integral."
      ],
      "metadata": {
        "id": "TPfqJ0H5_jeo"
      }
    },
    {
      "cell_type": "markdown",
      "source": [
        "# **Method**\n",
        "\n",
        "In this lab, we will employ Gauss quadrature, both the 2-point Gauss rule to integrate over functions $f: \\mathbb{R} → \\mathbb{R}$ and the 3-point rule to integrate functions $g: \\mathbb{R}^2 → \\mathbb{R}$ over triangles in the plane. We will also employ Monte Carlo integration to integrate over single variable functions.\n",
        "\n",
        "The n-point Gauss rule works by first transforming the interval of integration from the original interval $[b,a]$ to the interval $[-1,1]$ by the coordinate map $f(x) → f(F(\\hat{x})) = \\frac{(a-b)\\hat{x}}{2} + \\frac{a+b}{2}$. This transformed, single variable, real valued function is then evaluated at $n$ points $x_i$ and the results are multiplied by pre-determined weights $w_i$. For the 2-point Gauss rule, these values are given as $w_0 = w_1 = 1, x_0 = \\frac{1}{\\sqrt{3}}, x_1 = -\\frac{1}{\\sqrt{3}}$\n",
        "\n",
        "The algorithm for the 2-point Gauss rule is implemented as python code below:"
      ],
      "metadata": {
        "id": "EPXPOx6kGNQo"
      }
    },
    {
      "cell_type": "code",
      "source": [
        "def gauss_two(f, interval = [0,1]):\n",
        "  x1 = -1/np.sqrt(3)\n",
        "  x2 = 1/np.sqrt(3)\n",
        "  c1 = 1\n",
        "  c2 = 1\n",
        "  a, b = interval[1], interval[0]\n",
        "\n",
        "  result = ((a-b)/2)*(c1*f(0.5*(b-a)*(x1) + 0.5*(a+b)) + c2*f(0.5*(b-a)*(x2) + 0.5*(a+b)))\n",
        "\n",
        "  return result"
      ],
      "metadata": {
        "id": "LGgkPhe_gRad"
      },
      "execution_count": 50,
      "outputs": []
    },
    {
      "cell_type": "markdown",
      "source": [
        "Next, we will implement the 3-point edge midpoint rule for integrating functions over reference triangles in $\\mathbb{R}^2$, defined by three points in the plane. For this method, we evaluate the function $f(x,y)$ at the midpoints of each side of the given triangle and multiply the results by given weights $w_0 = w_1 = w_2 = \\frac{1}{6}$.\n",
        "\n",
        "The algorithm for the 3-point edge midpoint rule is implemented as python code below:"
      ],
      "metadata": {
        "id": "QABAEDt_gUPs"
      }
    },
    {
      "cell_type": "code",
      "source": [
        "def gauss_three(f, triangle = [[0,0], [0,1], [1,0]]):\n",
        "  x0 = np.add(triangle[0], np.multiply(0.5, np.subtract(triangle[1], triangle[0])))\n",
        "  x1 = np.add(triangle[0], np.multiply(0.5, np.subtract(triangle[2], triangle[0])))\n",
        "  x2 = np.add(triangle[1], np.multiply(0.5, np.subtract(triangle[2], triangle[1])))\n",
        "  w0 = 1/6\n",
        "  w1 = 1/6\n",
        "  w2 = 1/6\n",
        "\n",
        "  result = w0 * f(x0) + w1 * f(x1) + w2 * f(x2)\n",
        "\n",
        "  return result"
      ],
      "metadata": {
        "id": "N6bMDl-2hDOi"
      },
      "execution_count": 51,
      "outputs": []
    },
    {
      "cell_type": "markdown",
      "source": [
        "Finally, we implement the Monte Carlo quadrature. For this method, we sample $n$ points $x_i$ from the integration interval $[b,a]$ and evaluate the function at those points. The mean value $\\frac{|a-b|}{n}\\sum_{i=1}^{n} f(x_i)$ thus gives us an approximation for the value of the integral. This works by approximating the \"weighted average height\" of the function multiplied by its width, which corresponds to the area under the curve. \n",
        "\n",
        "The algorithm for the Monte Carlo quadrature is implemented as python code below:"
      ],
      "metadata": {
        "id": "tNUtma4iiiSY"
      }
    },
    {
      "cell_type": "code",
      "source": [
        "def monte_carlo(f, n = 10**5, interval = [0,1]):\n",
        "  a, b = interval[1], interval[0]\n",
        "\n",
        "  result = 0\n",
        "  for i in range(n):\n",
        "    x = np.random.uniform(b,a)\n",
        "    result += f(x)\n",
        "  result *= (1/n) * np.absolute(a-b)\n",
        "\n",
        "  return result"
      ],
      "metadata": {
        "id": "fdu15Vqeiiwk"
      },
      "execution_count": 52,
      "outputs": []
    },
    {
      "cell_type": "markdown",
      "source": [
        "As an additional task, the Monte Carlo quadrature method was implemented as a subroutine for calculating the integral $\\int_{-1}^{1}P_n(x)f(\\frac{(b-a)x}{2} - \\frac{a+b}{2})dx$ and projecting functions onto the legendre polynomials of degree 0 and 1 (As seen in lab 3)."
      ],
      "metadata": {
        "id": "mVAhIH6NoiZp"
      }
    },
    {
      "cell_type": "code",
      "source": [
        "def monte_carlo_pw(f, x0, x1, n, shift, degree):\n",
        "  a, b = shift[1], shift[-1]\n",
        "  determinant = (a-b)/(x1-x0)\n",
        "  result = 0\n",
        "  for i in range(n):\n",
        "    x = np.random.uniform(x0,x1)\n",
        "    if degree:\n",
        "      result += f(0.5*(b-a)*(x) + 0.5*(a+b))*x\n",
        "    else:\n",
        "      result += f(0.5*(b-a)*(x) + 0.5*(a+b))\n",
        "  result *= (1/n) * (x1-x0)\n",
        "\n",
        "  return result\n",
        "\n",
        "def pw_linear_one_d(f, mesh):\n",
        "  steps = len(mesh)\n",
        "  A = np.zeros((2, steps))\n",
        "  for i in range(steps-1):\n",
        "    A[0,i] = (1/2)*monte_carlo_pw(f, -1, 1, 10**4, [mesh[i], mesh[i+1]], 0)\n",
        "    A[1,i] = (3/2)*monte_carlo_pw(f, -1, 1, 10**4, [mesh[i], mesh[i+1]], 1)\n",
        "  result = []\n",
        "  for j in range(steps-1):\n",
        "    result.append(A[0,j] + A[1,j]*-1)\n",
        "  result.append(A[0,j] + A[1,j]*1)\n",
        "  return result"
      ],
      "metadata": {
        "id": "7Am11P4OoiDK"
      },
      "execution_count": 53,
      "outputs": []
    },
    {
      "cell_type": "markdown",
      "source": [
        "# **Results**\n",
        "\n",
        "We test all of the algorithms presented in the Methods section below. To start, 2-point Gauss quadrature should give an exact solution to integrals over cubic polynomials. The integral $\\int_{0}^{1}4x^3 + 3x^2 + 2x + 1 dx$ evaluates exactly to $4$:"
      ],
      "metadata": {
        "id": "gUvCF1wbisXh"
      }
    },
    {
      "cell_type": "code",
      "execution_count": 54,
      "metadata": {
        "colab": {
          "base_uri": "https://localhost:8080/"
        },
        "id": "tScczF4bG3yO",
        "outputId": "9ab0cd08-87fb-41b9-e01e-582b5a6e94a1"
      },
      "outputs": [
        {
          "output_type": "stream",
          "name": "stdout",
          "text": [
            "3.9999999999999996\n"
          ]
        }
      ],
      "source": [
        "def f(x):\n",
        "  return 4*x**3  + 3*x**2 + 2*x + 1\n",
        "\n",
        "print(gauss_two(f, [0,1]))"
      ]
    },
    {
      "cell_type": "markdown",
      "source": [
        "There is a very small discrepancy in this result, but this is likely due to the floating point error that comes from the square root calculation in the 2-point Gauss quadrature function.\n",
        "\n",
        "Next, we will test the 3-point edge midpoint rule over the triangle with corners in the coordinates $(0,0), (1,0), (0,1)$. This one should give exact results over quadratic polynomials. The integral $\\int_{0}^{1-x}\\int_{0}^{1}6x^2 + 5y^2 + 4xy + 3x + 2y + 1 dydx$ evaluates exactly to $\\frac{29}{12} = 2.41\\overline{6}$:"
      ],
      "metadata": {
        "id": "lNm3TvAljucd"
      }
    },
    {
      "cell_type": "code",
      "source": [
        "def g(xy):\n",
        "  x, y = xy[0], xy[1]\n",
        "  return 6*x**2  + 5*y**2 + 4*x*y + 3*x + 2*y + 1\n",
        "\n",
        "print(gauss_three(g, [[0,0], [1,0], [0,1]]))"
      ],
      "metadata": {
        "colab": {
          "base_uri": "https://localhost:8080/"
        },
        "id": "ElIdsPNvjh-y",
        "outputId": "61c6cab0-7872-4975-8520-4ab90f93eda2"
      },
      "execution_count": 55,
      "outputs": [
        {
          "output_type": "stream",
          "name": "stdout",
          "text": [
            "2.4166666666666665\n"
          ]
        }
      ]
    },
    {
      "cell_type": "markdown",
      "source": [
        "Again, we notice a very small error, likely due to floating point inaccuracy.\n",
        "\n",
        "Finally, we test the Monte Carlo quadrature method. We will use it to approximate the integral $\\int_{0}^{\\pi}sin(x)dx = 2$. The error for this one should converge with the rate $\\frac{1}{\\sqrt{n}}$. To check this, we sample $10^3$ solutions for values of $n$ between 1 and $10^3$ and plot the average error:"
      ],
      "metadata": {
        "id": "ijK5xtKPmCVP"
      }
    },
    {
      "cell_type": "code",
      "source": [
        "def h(x):\n",
        "  return np.sin(x)\n",
        "\n",
        "MC = []\n",
        "ROOT = []\n",
        "N = []\n",
        "for n in range(1, 10**3, 100):\n",
        "  avg = []\n",
        "  for i in range(10**3):\n",
        "    avg.append(np.absolute(2 - monte_carlo(h,n,[0,np.pi])))\n",
        "  MC.append(np.mean(avg))\n",
        "  ROOT.append(1/np.sqrt(n))\n",
        "  N.append(n)\n",
        "\n",
        "plt.loglog(N, MC)\n",
        "plt.loglog(N, ROOT, label  = r'$\\frac{1}{\\sqrt{n}}$')\n",
        "plt.title(\"Monte Carlo quadrature convergence\")\n",
        "plt.legend()\n",
        "plt.xlabel(\"n\")\n",
        "plt.ylabel(\"error\")\n",
        "plt.show()"
      ],
      "metadata": {
        "colab": {
          "base_uri": "https://localhost:8080/",
          "height": 299
        },
        "id": "H9VRaB_blgvl",
        "outputId": "efea2c8e-4bd2-434e-b7b5-e4cb2da82038"
      },
      "execution_count": 60,
      "outputs": [
        {
          "output_type": "display_data",
          "data": {
            "text/plain": [
              "<Figure size 432x288 with 1 Axes>"
            ],
            "image/png": "[encoded data removed]"
          },
          "metadata": {
            "needs_background": "light"
          }
        }
      ]
    },
    {
      "cell_type": "markdown",
      "source": [
        "As we can clearly see from the plot, the Monte Carlo quadrature method decreases the error inverse proportional to the square root of $n$."
      ],
      "metadata": {
        "id": "Zy98ezcFobqe"
      }
    },
    {
      "cell_type": "markdown",
      "source": [
        "Additionally, we test the results of generating a piece wise linear interpolation of the function $sin(x)$ using the Monte Carlo Quadrature as a subroutine this time."
      ],
      "metadata": {
        "id": "_sYiw9cShcHd"
      }
    },
    {
      "cell_type": "code",
      "source": [
        "def f(x):\n",
        "  return np.sin(x)\n",
        "\n",
        "test = [3, 5, 10, 100]\n",
        "\n",
        "for t in test:\n",
        "  mesh = np.linspace(0, np.pi, t)\n",
        "\n",
        "  result = pw_linear_one_d(f, mesh)\n",
        "\n",
        "  exact = []\n",
        "\n",
        "  for x in mesh:\n",
        "    exact.append(f(x))\n",
        "\n",
        "  avg = 0\n",
        "  for i in range(len(result)):\n",
        "    avg += np.absolute(result[i] - exact[i])\n",
        "  print(\"Average error for a mesh of \" + str(len(mesh)) + \" points: \" + str(avg/len(result)))"
      ],
      "metadata": {
        "colab": {
          "base_uri": "https://localhost:8080/"
        },
        "id": "Xw7mnXNhcD_a",
        "outputId": "fc9a8532-25e3-4232-f1af-1d42182f89a2"
      },
      "execution_count": 61,
      "outputs": [
        {
          "output_type": "stream",
          "name": "stdout",
          "text": [
            "Average error for a mesh of 3 points: 0.6658663655814095\n",
            "Average error for a mesh of 5 points: 0.4084123084851122\n",
            "Average error for a mesh of 10 points: 0.20519651556977317\n",
            "Average error for a mesh of 100 points: 0.021009226112555228\n"
          ]
        }
      ]
    },
    {
      "cell_type": "markdown",
      "source": [
        "As can be seen, there is still a convergence for the error as the number of points in the mesh increases."
      ],
      "metadata": {
        "id": "Wu1YNuYKh8jp"
      }
    },
    {
      "cell_type": "markdown",
      "source": [
        "# **Discussion**\n",
        "\n",
        "As expected, we were able to find exact solutions to the various polynomials using the Gauss quadrature method and the Monte Carlo quadrature showed correct convergence and worked for calculating inner products in $L^2(-1,1)$. It should be noted that there are many other numerical methods for approximating integrals, some of which may be more easily graspable and easier to implement. For example, for single variable functions, Riemann sums, such as the trapezoidal rule, can also provide accurate results while being easy to implement and intuit."
      ],
      "metadata": {
        "id": "Taux0xqPvCN-"
      }
    }
  ]
}