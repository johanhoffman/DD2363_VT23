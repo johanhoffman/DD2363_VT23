{
  "nbformat": 4,
  "nbformat_minor": 0,
  "metadata": {
    "colab": {
      "provenance": []
    },
    "kernelspec": {
      "name": "python3",
      "display_name": "Python 3"
    }
  },
  "cells": [
    {
      "cell_type": "markdown",
      "metadata": {
        "id": "6RgtXlfYO_i7"
      },
      "source": [
        "# **Lab 4: integration**\n",
        "**Jesper Lidbaum**"
      ]
    },
    {
      "cell_type": "markdown",
      "metadata": {
        "id": "9x_J5FVuPzbm"
      },
      "source": [
        "# **Abstract**"
      ]
    },
    {
      "cell_type": "markdown",
      "metadata": {
        "id": "6UFTSzW7P8kL"
      },
      "source": [
        "In this report we present 4 methods for approximating integrals. The first, 2-point Gauss quadrature will approximate integrals in the unit interval $[0,1]$. The second will approximate integrals with functions $f : R^2 → R$ over the refrence triangle with vertecies $(0,0)$, $(1,0)$ and $(0,1)$. The third is a Monte Carlo quadrature over the unit interval. The last is a Monte Carlo quadrature over a refrence triangle. "
      ]
    },
    {
      "cell_type": "markdown",
      "metadata": {
        "id": "OkT8J7uOWpT3"
      },
      "source": [
        "#**About the code**"
      ]
    },
    {
      "cell_type": "markdown",
      "metadata": {
        "id": "HmB2noTr1Oyo"
      },
      "source": [
        "A short statement on who is the author of the file, and if the code is distributed under a certain license. "
      ]
    },
    {
      "cell_type": "code",
      "metadata": {
        "id": "Pdll1Xc9WP0e",
        "colab": {
          "base_uri": "https://localhost:8080/",
          "height": 36
        },
        "outputId": "dec9f046-cdfe-4493-9e77-2d713e9a1a73"
      },
      "source": [
        "\"\"\"This program is a template for lab reports in the course\"\"\"\n",
        "\"\"\"DD2363 Methods in Scientific Computing, \"\"\"\n",
        "\"\"\"KTH Royal Institute of Technology, Stockholm, Sweden.\"\"\"\n",
        "\n",
        "# Copyright (C) 2023 Jesper Lidbaum (jlidbaum@kth.se)\n",
        "\n",
        "# This file is part of the course DD2365 Advanced Computation in Fluid Mechanics\n",
        "# KTH Royal Institute of Technology, Stockholm, Sweden\n",
        "#\n",
        "# This is free software: you can redistribute it and/or modify\n",
        "# it under the terms of the GNU Lesser General Public License as published by\n",
        "# the Free Software Foundation, either version 3 of the License, or\n",
        "# (at your option) any later version.\n",
        "\n",
        "# This template is maintained by Johan Hoffman\n",
        "# Please report problems to jhoffman@kth.se"
      ],
      "execution_count": 57,
      "outputs": [
        {
          "output_type": "execute_result",
          "data": {
            "text/plain": [
              "'KTH Royal Institute of Technology, Stockholm, Sweden.'"
            ],
            "application/vnd.google.colaboratory.intrinsic+json": {
              "type": "string"
            }
          },
          "metadata": {},
          "execution_count": 57
        }
      ]
    },
    {
      "cell_type": "markdown",
      "metadata": {
        "id": "28xLGz8JX3Hh"
      },
      "source": [
        "# **Set up environment**"
      ]
    },
    {
      "cell_type": "markdown",
      "metadata": {
        "id": "D2PYNusD08Wa"
      },
      "source": [
        "To have access to the neccessary modules you have to run this cell. If you need \n",
        "additional modules, this is where you add them. "
      ]
    },
    {
      "cell_type": "code",
      "metadata": {
        "id": "Xw7VlErAX7NS"
      },
      "source": [
        "# Load neccessary modules.\n",
        "from google.colab import files\n",
        "\n",
        "import time\n",
        "import numpy as np\n",
        "\n",
        "#try:\n",
        "#    from dolfin import *; from mshr import *\n",
        "#except ImportError as e:\n",
        "#    !apt-get install -y -qq software-properties-common \n",
        "#    !add-apt-repository -y ppa:fenics-packages/fenics\n",
        "#    !apt-get update -qq\n",
        "#    !apt install -y --no-install-recommends fenics\n",
        "#    from dolfin import *; from mshr import *\n",
        "    \n",
        "#import dolfin.common.plotting as fenicsplot\n",
        "\n",
        "from matplotlib import pyplot as plt\n",
        "from matplotlib import tri\n",
        "from matplotlib import axes\n",
        "from mpl_toolkits.mplot3d import Axes3D\n",
        "import random"
      ],
      "execution_count": 58,
      "outputs": []
    },
    {
      "cell_type": "markdown",
      "metadata": {
        "id": "gnO3lhAigLev"
      },
      "source": [
        "# **Introduction**"
      ]
    },
    {
      "cell_type": "markdown",
      "metadata": {
        "id": "l5zMzgPlRAF6"
      },
      "source": [
        "## Quadrature rules\n",
        "A general quadrature rule takes the form of an integral over some domain $I$. $\\int_I f(\\hat{x}) d\\hat{x} ≈ \\sum_{i=0}^nw_if(x_i)$. The interval, weights, and points are what define the different rules. \n",
        "\n",
        "## 2-point Gauss quadrature\n",
        "The 2-point Gauss quadrature takes the form $\\int_If(x)dx ≈ \\sum_{i=0}^{1}w_if(x_i)$. We get the weights $w_i$ and points $x_i$ for the interval $[-1,1]$ from example 11.3 in the course book. We can then use a formula from example 11.5 to change the points and weights for the interval $[0,1]$ we get $x_0 = \\frac{1 + \\sqrt{3}}{2}$ and $x_1 = \\frac{1 - \\sqrt{3}}{2}$ and $w_0 = w_1 = 1/2$. This quadrature should be exact for cubic polynomials.\n",
        "\n",
        "## 3-point edge midpoint quadrature\n",
        "From example 11.5 in the course book we get the weights and points for the quadrature. The points are $(0,1/2)$, $(1/2,1/2)$ and $(1/2,0)$. And weights are all 1/6. This should be exact for quadratic polynomials in 2 variables. \n",
        "\n",
        "## Monte carlo quadrature\n",
        "The Monte Carlo quadrature samples random points from the interval and then weights them all with the size of the domain over the number of points. For our case with the unit interval the quadrature becomes $\\int_If(x)dx ≈ \\frac{1}{n}\\sum_{i=0}^{n}f(X_i)$. Where $X_i$ is a random point in the unit interval.\n",
        "\n",
        "## Monte Carlo quadrature over reference triangle\n",
        "The reference triangle domain has a size of $(1*1)/ 2 = 1/2$. This gives us the quadrature rule $\\int_{Triangle}f(\\hat{x})d\\hat{x} ≈ \\frac{1}{2n}\\sum_{i=0}^{n}f((X_i, Y_i))$. To sample the points $X_i, Y_i$ we first sample two points in the unit interval. This gives us a point in the reference square. We can then fold all points that are outside the reference triangle back into it by reflecting them along the line $y = 1 - x$. So if $X_i + Y_i > 1$ we set $X_i \\gets 1-Y_i$ and $Y_i \\gets 1-X_i$. This gives a uniform distribution of points in the triangle.\n"
      ]
    },
    {
      "cell_type": "markdown",
      "metadata": {
        "id": "jOQvukXZq5U5"
      },
      "source": [
        "# **Method**\n",
        "Here we present code for the 3 different methods.\n",
        "\n",
        "## 2-point Gauss quadrature\n",
        "We use the sum mentioned in the introduction to construct the sum for the quadrature."
      ]
    },
    {
      "cell_type": "code",
      "source": [
        "def point_2_gauss_quadrature(f):\n",
        "    X0 = (1.0/np.sqrt(3) + 1.0) / 2.0\n",
        "    X1 = (1.0 - 1.0/np.sqrt(3)) / 2.0\n",
        "    return (f(X0) + f(X1)) / 2.0"
      ],
      "metadata": {
        "id": "yWw3xpB1PZw1"
      },
      "execution_count": 59,
      "outputs": []
    },
    {
      "cell_type": "markdown",
      "source": [
        "## 3-point edge midpoint quadrature\n",
        "We use the points and weights gained from example 11.5 in the course book to construct the sum.\n"
      ],
      "metadata": {
        "id": "4OiyFyF7Pccc"
      }
    },
    {
      "cell_type": "code",
      "source": [
        "def quardature_refrence_triangle(f):\n",
        "    w = 1/6\n",
        "    return w * (f(1.0/2.0, 0) + f(1.0 / 2.0, 1.0 / 2.0) + f(0, 1.0/2.0))"
      ],
      "metadata": {
        "id": "RgqC_JJyPpu7"
      },
      "execution_count": 60,
      "outputs": []
    },
    {
      "cell_type": "markdown",
      "source": [
        "## Monte carlo quadrature\n",
        "We use Python's uniform sampling to sample points from the unit interval. We also have $n$, the number of points as an input parameter."
      ],
      "metadata": {
        "id": "L_NhFi-cPser"
      }
    },
    {
      "cell_type": "code",
      "source": [
        "def mc_integration(f, n):\n",
        "    sum = 0\n",
        "    for i in range(n):\n",
        "        sum += f(random.uniform(0, 1))\n",
        "    return sum / n  "
      ],
      "metadata": {
        "id": "EEEvbOGjP6yb"
      },
      "execution_count": 61,
      "outputs": []
    },
    {
      "cell_type": "markdown",
      "source": [
        "## Monte Carlo quadrature over reference triangle\n",
        "We use the method from the introduction to sample uniform points in a triangle and construct the sum."
      ],
      "metadata": {
        "id": "odJhlS06ayEb"
      }
    },
    {
      "cell_type": "code",
      "source": [
        "def mc_integration_refrence_triangle(f, n):\n",
        "    sum = 0\n",
        "    for i in range(n):\n",
        "        x = random.uniform(0, 1)\n",
        "        y = random.uniform(0, 1)\n",
        "        if(x + y > 1):\n",
        "            tmp = x\n",
        "            x = 1 - y\n",
        "            y = 1 - tmp\n",
        "            sum += f(x, y)\n",
        "        else:\n",
        "            sum += f(x, y)\n",
        "    return sum / n"
      ],
      "metadata": {
        "id": "v5eMs75Ea-fh"
      },
      "execution_count": 62,
      "outputs": []
    },
    {
      "cell_type": "markdown",
      "metadata": {
        "id": "SsQLT38gVbn_"
      },
      "source": [
        "# **Results**\n",
        "In this part, we present the results from the tests of the different methods."
      ]
    },
    {
      "cell_type": "code",
      "source": [
        "test_amount = 10"
      ],
      "metadata": {
        "id": "V4BR-_0dQx-u"
      },
      "execution_count": 63,
      "outputs": []
    },
    {
      "cell_type": "markdown",
      "source": [
        "\n",
        "## 2-point Gauss quadrature\n",
        "We test against some cubic polynomials. And if we get an exact solution. We can see that the errors are always zero."
      ],
      "metadata": {
        "id": "XyyQX16HQzva"
      }
    },
    {
      "cell_type": "code",
      "source": [
        "def test_point_2_gauss_quadrature(a, b, c, d):\n",
        "    f = lambda x: a * x**3 + b * x**2 + c*x + d\n",
        "    F = lambda x: a * x**4 / 4 + b * x**3 / 3 + c * x**2 / 2 + d * x\n",
        "    return np.abs(F(1) - point_2_gauss_quadrature(f))\n",
        "\n",
        "\n",
        "for i in range(test_amount):\n",
        "    a = random.uniform(-10, 10)\n",
        "    b = random.uniform(-10, 10)\n",
        "    c = random.uniform(-10, 10)\n",
        "    d = random.uniform(-10, 10)\n",
        "    print(\"a = \" + str(a) + \", b = \" + str(b) + \", c = \" + str(c) + \", d = \" + str(d))\n",
        "    print(\"Error: \" + str(test_point_2_gauss_quadrature(a, b, c, d)))"
      ],
      "metadata": {
        "colab": {
          "base_uri": "https://localhost:8080/"
        },
        "id": "g1Th8oX5QquO",
        "outputId": "7c6524d5-cb0c-4ddb-ced4-a5eef8339c81"
      },
      "execution_count": 64,
      "outputs": [
        {
          "output_type": "stream",
          "name": "stdout",
          "text": [
            "a = -4.57368301314353, b = -5.082872509270382, c = -8.062533135803749, d = 7.265984349930282\n",
            "Error: 0.0\n",
            "a = -1.4116037851332628, b = -8.624743401370454, c = -6.698610446485991, d = -7.026240252697615\n",
            "Error: 0.0\n",
            "a = -8.953469974283587, b = 8.011520366779404, c = -7.968290774284988, d = 6.302961697570172\n",
            "Error: 0.0\n",
            "a = -4.485340826562103, b = -4.48344773399411, c = 8.733717982586917, d = -0.787108303164807\n",
            "Error: 6.661338147750939e-16\n",
            "a = 9.57566492492165, b = -3.2385195183665267, c = 5.926656733573125, d = 5.432986319934576\n",
            "Error: 0.0\n",
            "a = -6.9481762351198935, b = 4.67147537734548, c = 7.815033588297972, d = 2.0129077583662287\n",
            "Error: 8.881784197001252e-16\n",
            "a = 9.604716526409938, b = -4.659392947733581, c = 5.582578299248254, d = -7.7666640729686005\n",
            "Error: 8.881784197001252e-16\n",
            "a = 8.461924608368555, b = 3.5380570561361218, c = -4.174028059396537, d = 6.472532341022593\n",
            "Error: 0.0\n",
            "a = -0.28134427291412756, b = 4.808279288801083, c = 0.5195763992795364, d = 1.9894969326829344\n",
            "Error: 4.440892098500626e-16\n",
            "a = -3.217266442161433, b = 9.02265227961368, c = 5.31942710773863, d = 6.230364193399833\n",
            "Error: 0.0\n"
          ]
        }
      ]
    },
    {
      "cell_type": "markdown",
      "source": [
        "## 3-point edge midpoint quadrature\n",
        "We test some quadratic polynomials against the exact solution. Integrating $ax^2 + by^2 + cxy + dx + ey + f$ by hand gives the exact solution $(2a + 2b + c + 4d + 4e + 12f)/24$. We can see that the errors are always zero."
      ],
      "metadata": {
        "id": "bTD4xa4KRF32"
      }
    },
    {
      "cell_type": "code",
      "source": [
        "def test_quardature_refrence_triangle(a, b, c, d, e, f):\n",
        "    g = lambda x, y: a * x**2 + b * y**2 + c * x * y + d * x + e * y + f\n",
        "    exact = (2.0 * a + 2.0 * b + c + 4.0 * d + 4.0 * e + 12.0 * f)/24.0\n",
        "\n",
        "    return np.abs(exact - quardature_refrence_triangle(g))\n",
        "\n",
        "\n",
        "for i in range(test_amount):\n",
        "    a = random.uniform(-10, 10)\n",
        "    b = random.uniform(-10, 10)\n",
        "    c = random.uniform(-10, 10)\n",
        "    d = random.uniform(-10, 10)\n",
        "    e = random.uniform(-10, 10)\n",
        "    f = random.uniform(-10, 10)\n",
        "    print(\"a = \" + str(a) + \", b = \" + str(b) + \", c = \" + str(c) + \", d = \" + str(d) + \", e = \" + str(e) + \", f = \" + str(f))\n",
        "    print(\"Error: \" + str(test_quardature_refrence_triangle(a, b, c, d, e, f)))"
      ],
      "metadata": {
        "colab": {
          "base_uri": "https://localhost:8080/"
        },
        "id": "1rKC_y9mRNhc",
        "outputId": "c7233f7a-c73c-4ed9-e5f7-c8215d00e388"
      },
      "execution_count": 65,
      "outputs": [
        {
          "output_type": "stream",
          "name": "stdout",
          "text": [
            "a = -7.682307902035339, b = 1.3730159337824333, c = -4.6712292091801615, d = 4.823340753121437, e = -8.110019773490638, f = 8.031610316414689\n",
            "Error: 4.440892098500626e-16\n",
            "a = 1.169781959548251, b = 9.360166465341358, c = 1.148785227451226, d = -3.2939225904689806, e = 2.178870597004474, f = -6.017030093445472\n",
            "Error: 4.440892098500626e-16\n",
            "a = -7.272643722046171, b = 4.280676057680049, c = 2.4274094525934586, d = 4.924642311686609, e = -3.128748620300927, f = -4.522296246936235\n",
            "Error: 0.0\n",
            "a = 2.315998525582348, b = 7.989019366249565, c = -7.839637313116679, d = -8.588750555798129, e = 8.797686095815255, f = -9.446291827101991\n",
            "Error: 0.0\n",
            "a = -6.122049902801323, b = -3.8334217537527415, c = -7.339160809043359, d = -6.173112401681033, e = -9.707809149131387, f = 1.645512918935573\n",
            "Error: 0.0\n",
            "a = -7.0753294291878905, b = -6.17760552400118, c = 6.904172607633438, d = 4.220515892138806, e = 7.128071164386817, f = 6.5330462728958985\n",
            "Error: 8.881784197001252e-16\n",
            "a = 6.311885204986101, b = -2.307390749266567, c = -0.6512202700747078, d = -2.746752868209694, e = -8.775946756775532, f = 9.028767634825059\n",
            "Error: 0.0\n",
            "a = 8.236794882850553, b = -4.009773892435136, c = -7.136968746577443, d = 0.6203638471701218, e = 5.0111856667939065, f = 7.991263200949195\n",
            "Error: 8.881784197001252e-16\n",
            "a = 8.186838650253588, b = -9.91614921022446, c = 6.107077121661394, d = 8.702329704348948, e = 9.685101720834624, f = 9.503866054920856\n",
            "Error: 8.881784197001252e-16\n",
            "a = 1.3109170675374688, b = 0.2757370479380956, c = -3.9672403181296545, d = 4.996266711085568, e = 7.7710533979632395, f = -8.46911395064815\n",
            "Error: 0.0\n"
          ]
        }
      ]
    },
    {
      "cell_type": "markdown",
      "source": [
        "## Monte carlo quadrature\n",
        "We test the rate of convergence for the quadrature against $\\frac{1}{\\sqrt{n}}$. We can see that the errors seem to follow the same curve."
      ],
      "metadata": {
        "id": "DVTlLssyRONt"
      }
    },
    {
      "cell_type": "code",
      "source": [
        "def test_mc_integration(a, b, c, d):\n",
        "    f = lambda x: a * x**3 + b * x**2 + c*x + d\n",
        "    F = lambda x: a * x**4 / 4 + b * x**3 / 3 + c * x**2 / 2 + d * x\n",
        "\n",
        "    points = []\n",
        "    errors = []\n",
        "\n",
        "    for i in range(1, 10000, 100):\n",
        "        points.append(1/np.sqrt(i))\n",
        "        errors.append(np.abs(F(1) - mc_integration(f, i)))\n",
        "\n",
        "    return points, errors\n",
        "\n",
        "\n",
        "t = np.arange(1, 10000, 100)\n",
        "points, errors = test_mc_integration(1,2,3,4)\n",
        "plt.figure(1)\n",
        "plt.figure(figsize=(20, 10))\n",
        "\n",
        "# Define a subplot structure and choose the first subplot \n",
        "plt.subplot(121)\n",
        "\n",
        "# Plot a standard NumPy function against the parameter t\n",
        "plt.plot(t,points)\n",
        "plt.plot(t, errors)\n",
        "\n",
        "# Set plot labels and title for the subplot\n",
        "plt.xlabel('x')\n",
        "plt.ylabel('y')\n",
        "plt.title('Errors from real value and f(x)=1/sqrt(x)')"
      ],
      "metadata": {
        "colab": {
          "base_uri": "https://localhost:8080/",
          "height": 656
        },
        "id": "WAq_BZd0RUou",
        "outputId": "3da3c297-4adb-4e17-ab66-c11089a4359e"
      },
      "execution_count": 66,
      "outputs": [
        {
          "output_type": "execute_result",
          "data": {
            "text/plain": [
              "Text(0.5, 1.0, 'Errors from real value and f(x)=1/sqrt(x)')"
            ]
          },
          "metadata": {},
          "execution_count": 66
        },
        {
          "output_type": "display_data",
          "data": {
            "text/plain": [
              "<Figure size 432x288 with 0 Axes>"
            ]
          },
          "metadata": {}
        },
        {
          "output_type": "display_data",
          "data": {
            "text/plain": [
              "<Figure size 1440x720 with 1 Axes>"
            ],
            "image/png": "[encoded data removed]"
          },
          "metadata": {
            "needs_background": "light"
          }
        }
      ]
    },
    {
      "cell_type": "markdown",
      "source": [
        "## Monte Carlo quadrature over reference triangle\n",
        "We test the rate of convergence for the quadrature against $\\frac{1}{\\sqrt{n}}$. We can see that the errors seem to follow the same curve."
      ],
      "metadata": {
        "id": "POupEDT2bGqY"
      }
    },
    {
      "cell_type": "code",
      "source": [
        "def test_mc_integration_refrence_triangle(a, b, c, d):\n",
        "    g = lambda x, y: a * x**2 + b * y**2 + c * x * y + d * x + e * y + f\n",
        "    exact = (2.0 * a + 2.0 * b + c + 4.0 * d + 4.0 * e + 12.0 * f)/24.0\n",
        "\n",
        "    points = []\n",
        "    errors = []\n",
        "\n",
        "    for i in range(1, 100, 3):\n",
        "        points.append(1/np.sqrt(i))\n",
        "        errors.append(np.abs(exact - mc_integration_refrence_triangle(g, i)))\n",
        "\n",
        "    return points, errors\n",
        "\n",
        "\n",
        "t2 = np.arange(1, 10000, 100)\n",
        "points2, errors2 = test_mc_integration(1,2,3,4)\n",
        "plt.figure(2)\n",
        "plt.figure(figsize=(20, 10))\n",
        "\n",
        "# Define a subplot structure and choose the first subplot \n",
        "plt.subplot(122)\n",
        "\n",
        "# Plot a standard NumPy function against the parameter t\n",
        "plt.plot(t2, points2)\n",
        "plt.plot(t2, errors2)\n",
        "\n",
        "# Set plot labels and title for the subplot\n",
        "plt.xlabel('x')\n",
        "plt.ylabel('y')\n",
        "plt.title('Errors from real value and f(x)=1/sqrt(x)')"
      ],
      "metadata": {
        "colab": {
          "base_uri": "https://localhost:8080/",
          "height": 656
        },
        "id": "cDvhaQbYbRUF",
        "outputId": "29b6d4c0-9750-4e7f-c395-37356d87dbe5"
      },
      "execution_count": 67,
      "outputs": [
        {
          "output_type": "execute_result",
          "data": {
            "text/plain": [
              "Text(0.5, 1.0, 'Errors from real value and f(x)=1/sqrt(x)')"
            ]
          },
          "metadata": {},
          "execution_count": 67
        },
        {
          "output_type": "display_data",
          "data": {
            "text/plain": [
              "<Figure size 432x288 with 0 Axes>"
            ]
          },
          "metadata": {}
        },
        {
          "output_type": "display_data",
          "data": {
            "text/plain": [
              "<Figure size 1440x720 with 1 Axes>"
            ],
            "image/png": "[encoded data removed]"
          },
          "metadata": {
            "needs_background": "light"
          }
        }
      ]
    },
    {
      "cell_type": "markdown",
      "source": [
        "\n",
        "# **Discussion**\n",
        "\n",
        "For the triangle and unit interval quadratures, we could see that the solution was exact. This could have implications for example when constructing parabolas for simulation of Hookes law or a throwing parabola. The Monte Carlo rules were easy to implement for two different domains which show that this method could be easy to use for many purposes. \n",
        "\n",
        "A possible improvement for showing the errors could be a loglog plot. This would show differences from the real curve more."
      ],
      "metadata": {
        "id": "js3nfuAqOvQB"
      }
    }
  ]
}