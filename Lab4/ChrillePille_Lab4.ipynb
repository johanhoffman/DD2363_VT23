{
  "nbformat": 4,
  "nbformat_minor": 0,
  "metadata": {
    "colab": {
      "provenance": []
    },
    "kernelspec": {
      "name": "python3",
      "display_name": "Python 3"
    }
  },
  "cells": [
    {
      "cell_type": "markdown",
      "source": [],
      "metadata": {
        "id": "RNJwdbwl6bzB"
      }
    },
    {
      "cell_type": "markdown",
      "metadata": {
        "id": "6RgtXlfYO_i7"
      },
      "source": [
        "# **Lab 4: Integration**\n",
        "**Christian Weigelt**"
      ]
    },
    {
      "cell_type": "markdown",
      "source": [
        "#***About the code*** "
      ],
      "metadata": {
        "id": "15HDM9KW6WGg"
      }
    },
    {
      "cell_type": "code",
      "source": [
        "\"\"\"This program is a template for lab reports in the course\"\"\"\n",
        "\"\"\"DD2363 Methods in Scientific Computing, \"\"\"\n",
        "\"\"\"KTH Royal Institute of Technology, Stockholm, Sweden.\"\"\"\n",
        "\n",
        "# Copyright (C) 2023 Christian Weigelt (weigelt@kth.se)\n",
        "\n",
        "# This file is part of the course DD2363 DD2363 Methods in Scientific Computing\n",
        "# KTH Royal Institute of Technology, Stockholm, Sweden"
      ],
      "metadata": {
        "colab": {
          "base_uri": "https://localhost:8080/",
          "height": 36
        },
        "id": "bOUMrFYy6VKJ",
        "outputId": "11630fd0-0a9b-4aca-f638-ae36c8b48400"
      },
      "execution_count": 1,
      "outputs": [
        {
          "output_type": "execute_result",
          "data": {
            "text/plain": [
              "'KTH Royal Institute of Technology, Stockholm, Sweden.'"
            ],
            "application/vnd.google.colaboratory.intrinsic+json": {
              "type": "string"
            }
          },
          "metadata": {},
          "execution_count": 1
        }
      ]
    },
    {
      "cell_type": "markdown",
      "metadata": {
        "id": "9x_J5FVuPzbm"
      },
      "source": [
        "# **Abstract**"
      ]
    },
    {
      "cell_type": "markdown",
      "metadata": {
        "id": "6UFTSzW7P8kL"
      },
      "source": [
        "This lab consisted of implementing a set of quadratures.\n",
        "  \n",
        "  Test code was written to verify function outputs.\n",
        "  \n",
        "  In the introduction section, the function is given a brief description, both of input/output, and what is to be tested.\n",
        "  \n",
        "  In the method section, short definitions of the functions are given, and their respective implementation and test function is presented.\n",
        "  \n",
        "  In the results section, the output of the test cases are presented."
      ]
    },
    {
      "cell_type": "markdown",
      "metadata": {
        "id": "28xLGz8JX3Hh"
      },
      "source": [
        "# **Set up environment**"
      ]
    },
    {
      "cell_type": "code",
      "metadata": {
        "id": "Xw7VlErAX7NS"
      },
      "source": [
        "import numpy as np\n",
        "from numpy import random as rng\n",
        "import math\n",
        "from matplotlib import pyplot as plt\n",
        "from matplotlib import tri\n",
        "from matplotlib import axes"
      ],
      "execution_count": 2,
      "outputs": []
    },
    {
      "cell_type": "markdown",
      "metadata": {
        "id": "gnO3lhAigLev"
      },
      "source": [
        "# **Introduction**"
      ]
    },
    {
      "cell_type": "markdown",
      "metadata": {
        "id": "l5zMzgPlRAF6"
      },
      "source": [
        "In this lab, the assignment was to implement four functions, with input and output as defined in the lab instructions, as well as write code tests to test output.\n",
        "  \n",
        "1. Function: 2-point Gauss quadrature over a unit interval \n",
        "\n",
        "  Input: function $f(x)$ \n",
        "\n",
        "  Output: quadrature approximation of integral $\\int_0^1 f(x) dx$\n",
        "  \n",
        "  Test: verify exact integration of cubic polynomials $ax^3 + bx^2 + cx + d$\n",
        "\n",
        "2. Function: 3-point edge midpoint quadrature over a reference triangle\n",
        "\n",
        "  Input: function $f(x)$\n",
        "  \n",
        "  Output: quadrature approximation of integral $\\int_{ref-triangle} f(x) dx$\n",
        "  \n",
        "  Test: verify exact integration of quadratic polynomials $ax^2 + by^2 + cxy + dx + ey + f$\n",
        "\n",
        "3. Function: Monte Carlo quadrature over a unit interval\n",
        "  \n",
        "  Output: MC quadrature approximation of integral $\\int_0^1 f(x) dx$\n",
        "\n",
        "  Test: verify convergence rate $1/sqrt(n)$ with respect to number of quadrature points n.\n",
        "\n",
        "4. Function: Monte Carlo quadrature over a reference triangle\n",
        "\n",
        "  Input: function $f(x)$\n",
        "  \n",
        "  Output: MC quadrature approximation of  integral $\\int_{ref-triangle} f(x) dx$\n",
        "  \n",
        "  Test: verify convergence rate $1/sqrt(n)$ with respect to number of quadrature points n"
      ]
    },
    {
      "cell_type": "markdown",
      "metadata": {
        "id": "jOQvukXZq5U5"
      },
      "source": [
        "# **Method**"
      ]
    },
    {
      "cell_type": "markdown",
      "metadata": {
        "id": "zF4iBj5VURZx"
      },
      "source": [
        "Here the code for the assignment is provided."
      ]
    },
    {
      "cell_type": "markdown",
      "metadata": {
        "id": "kuNVpbANc566"
      },
      "source": [
        "###2-point Gauss quadrature over a unit interval\n",
        "  Function 1 is '2-point Gauss quadrature over a unit interval'.\n",
        "\n",
        "  2-point gauss is exact for cubic polynomials\n",
        "\n",
        "  We have 2-point Gauss formula for interval [-1, 1]:\n",
        "  $\\int_{-1}^{1}f(x)dx\\approx∑_{i=0}^{1}w_if(x_i)$\n",
        "  \n",
        "  For interval $[a, b]$, we have instead:\n",
        "  $\\int_{a}^{b}f(x)dx\\approx \\frac{b - a}{2} ∑_{i=0}^{1}w_if(\\frac{b - a}{2}x_i + \\frac{a + b}{2})$\n",
        "\n",
        "  For $[a, b] = [0, 1]$ and $w_0 = w_1 = 1, x_0 = - \\frac{1}{\\sqrt 3}, x_1 = \\frac{1}{\\sqrt 3}$, we have: \n",
        "  \n",
        "  $\\int_{0}^{1}f(x)dx\\approx \\frac{1}{2} \\bigg[ f(-\\frac{1}{2\\sqrt{3}} + \\frac{1}{2}) + f(\\frac{1}{2\\sqrt{3}} + \\frac{1}{2})\\bigg]$\n",
        "\n",
        "  To test, we will compare the approximation to exact solution for cubic polynomial $p(x) = c_3x^3 + c_2x^2 + c_1x + c_0$:\n",
        "\n",
        "  $∫_{0}^{1}p(x)dx = \\bigg[\\frac{c_3 x^4} 4 + \\frac{c_2 x^3} 3 + \\frac{c_1 x^2} 2 + c_0 x \\bigg]_0^1 \n",
        "  = \\frac{c_3} 4 + \\frac{c_2} 3 + \\frac{c_1} 2 + c_0$"
      ]
    },
    {
      "cell_type": "code",
      "metadata": {
        "id": "UhXMPubWft4P"
      },
      "source": [
        "def gauss_quad2_ab(f, a, b):\n",
        "  # f(x)\n",
        "  # 2-point over interval [a, b]\n",
        "  return ((b-a)/2) * (f(((b-a)/2)*(-1/math.sqrt(3)) + ((a + b)/2)) + f(((b-a)/2)*(1/math.sqrt(3)) + ((a + b)/2)) )\n",
        "\n",
        "def gauss_quad2_unit(f):\n",
        "  # f(x)\n",
        "  # 2-point over interval [0, 1]\n",
        "  return gauss_quad2_ab(f, 0, 1)\n"
      ],
      "execution_count": 3,
      "outputs": []
    },
    {
      "cell_type": "markdown",
      "metadata": {
        "id": "3G7WZ4hRmDmT"
      },
      "source": [
        "To test the above code, we can run the following test function:"
      ]
    },
    {
      "cell_type": "code",
      "source": [
        "def test_gauss_quad2_unit():\n",
        "  print(\"Testing 2-point Gauss quadrature over unit interval\")\n",
        "  # run \n",
        "  c = rng.rand(4)\n",
        "  f = lambda x: c[3]*x**3 + c[2]*x**2 + c[1]*x + c[0]\n",
        "  test = gauss_quad2_unit(f)\n",
        "  exact_solution = c[3]*(1/4) + c[2]*(1/3) + c[1]*(1/2) + c[0]\n",
        "  # compare\n",
        "  error = abs(exact_solution - test)\n",
        "  print(f\"\\terror: {error}\")\n",
        "  assert np.isclose(error, 0.) == True, f\"gauss_quad inaccurate\""
      ],
      "metadata": {
        "id": "bb7-vC5pTmjg"
      },
      "execution_count": 138,
      "outputs": []
    },
    {
      "cell_type": "markdown",
      "source": [
        "###3-point edge midpoint quadrature over a reference triangle\n",
        "  Function 2 is '3-point edge midpoint quadrature over a reference triangle'\n",
        "\n",
        "  Reference triangle: $△_r(a, b, c) = △_r((0,0), (1, 0), (0, 1))$\n",
        "\n",
        "  3-point edge midpoint quadrature rule for the reference triangle, with the weights $w_0 = w_1 = w_2 = \\frac{1}{6}$ is exact for quadratic polynomials.\n",
        "\n",
        "  Midpoints: $x_i = (a + (b-a)/2), (a + (c-a)/2), (b + (c - b)/2)$\n",
        "\n",
        "  Reference triangle midpoints $x_i = (\\frac1 2, 0), (0, \\frac1 2), (\\frac1 2, \\frac1 2)$\n",
        "\n",
        "  We then have the quadrature formula:\n",
        "\n",
        "  $\\int_{△_r} f(x, y) dydx ≈ ∑_{i=0}^{2}w_if(x_i, y_i)$\n",
        "\n",
        "  Use $w_0 = w_1 = w_2 = \\frac{1}{6}$ and reference triangle ($△_r$) $x_i = (\\frac1 2, 0), (0, \\frac1 2), (\\frac1 2, \\frac1 2)$\n",
        "\n",
        "  $\\int_{△_r} f(x, y) dydx ≈ \\frac{1}{6}\\bigg[f(\\frac1 2, 0) + f(0, \\frac1 2) + f(\\frac1 2, \\frac1 2) \\bigg]$\n",
        "\n",
        "  To test, we will compare the approximation to exact solution for quadratic polynomial $q(x_0, x_1) = c_5x_0^2  + c_4x_1^2 + c_3x_0x_1 + c_2x_0 + c_1x_1 + c_0$:\n",
        "\n",
        "  $∫_{△_r}q(x, y)dydx = \\frac1 {12}c_5 + \\frac1 {12}c_4 + \\frac1 {24}c_3 + \\frac1 6c_2 + \\frac1 6c_1 + \\frac1 2c_0 = \\frac1 {24}\\bigg( 2c_5 + 2c_4 + c_3 + 4c_2 + 4c_1 + 12c_0 \\bigg)$\n"
      ],
      "metadata": {
        "id": "3-Nh5qF8Tr8X"
      }
    },
    {
      "cell_type": "code",
      "source": [
        "def edge_midpoint_quad(f):\n",
        "  # f(x, y)\n",
        "  # 3-point edge midpoint over reference triangle [(0, 0), (1, 0), (0, 1)]\n",
        "  return (1/6) * (f(1/2, 0) + f(0, 1/2) + f(1/2, 1/2))"
      ],
      "metadata": {
        "id": "mfwNUNstWX8h"
      },
      "execution_count": 5,
      "outputs": []
    },
    {
      "cell_type": "markdown",
      "source": [
        "To test the above code, we can run the following test function:"
      ],
      "metadata": {
        "id": "Jz1ithmYa5Dz"
      }
    },
    {
      "cell_type": "code",
      "source": [
        "def test_edge_midpoint_quad():\n",
        "  print(\"Testing 3-edge midpoint Gauss quadrature over reference triangle\")\n",
        "  c = rng.rand(6) # coefficients\n",
        "  f = lambda x, y: c[5]*x**2 + c[4]*y**2 + c[3]*x*y + c[2]*x + c[1]*y + c[0]\n",
        "  test = edge_midpoint_quad(f)\n",
        "  exact_solution = (1/24) * (2*c[5] + 2*c[4] + c[3] + 4*c[2] + 4*c[1] + 12*c[0])\n",
        "  # compare\n",
        "  error = abs(exact_solution - test)\n",
        "  print(f\"\\terror: {error}\")\n",
        "  assert np.isclose(error, 0.) == True, f\"edge_midpoint inaccurate\""
      ],
      "metadata": {
        "id": "syKYhlF2a5jZ"
      },
      "execution_count": 137,
      "outputs": []
    },
    {
      "cell_type": "markdown",
      "source": [
        "### Monte Carlo quadrature over a unit interval\n",
        "  Function 3 is ' Monte Carlo quadrature over a unit interval'\n",
        "\n",
        "  The Monte Carlo quadrature, unlike the above quadratures, is a stochastic method.\n",
        "\n",
        "  To approximate $\\int_D g(x)dx$, we use $n$ random sample points in the interval $D = [a, b]$, and the weight function $w_i = \\frac{|D|}{n}$. Following is the general form of Monte Carl quadrature (from 12.3):\n",
        "\n",
        "  $\\int_Dg (x)dx \\approx \\frac{|D|}{n}∑_{i=1}^{n}g(x_i) = \\frac{1}{n}∑_{i=1}^{n}g(x_i)|D|$\n",
        "\n",
        "  For $D = [a, b]$ we have:\n",
        "  $\\int_a^bg(x)dx \\approx \\frac{1}{n}∑_{i=1}^{n}g(x_i)|b - a|$"
      ],
      "metadata": {
        "id": "ZfU6wkBP9QYI"
      }
    },
    {
      "cell_type": "code",
      "source": [
        "def monte_carlo_quad_1d(g, a, b, n):\n",
        "  w_d = abs(b - a)\n",
        "  w_n = 1/n\n",
        "  mean = 0\n",
        "  for i in range(n):\n",
        "    x = rng.uniform(a, b)\n",
        "    mean += g(x) * w_d\n",
        "  return mean * w_n"
      ],
      "metadata": {
        "id": "gc3IqRXICUm_"
      },
      "execution_count": 124,
      "outputs": []
    },
    {
      "cell_type": "markdown",
      "source": [
        "To test the above code, we can run the following test function:"
      ],
      "metadata": {
        "id": "LTojDRslFQu8"
      }
    },
    {
      "cell_type": "code",
      "source": [
        "def test_monte_carlo_1d():\n",
        "  print(\"Testing Monte Carlo quadrature over unit interval\")\n",
        "  # init x_axis\n",
        "  x_axis = [i for i in range(1, 101)]\n",
        "  \n",
        "  # define polynomial function f\n",
        "  f = lambda x: np.sin(x)**2 - np.cos(x)\n",
        "  # Exact solution for integral of f(x) over [0, 1]\n",
        "  # F(x) = (1/2) * (x - (2 + cos(x))*sin(x))\n",
        "  exact = (1/2) * (1 - (2 + np.cos(1))*np.sin(1))\n",
        "  \n",
        "  # init errors\n",
        "  errors = []\n",
        "  \n",
        "  for n in x_axis:\n",
        "    avg_error = 0\n",
        "    # n = 1 to 100 points\n",
        "    # for each n, take average error for m = 20 tests\n",
        "    m = 20\n",
        "    for i in range(m):\n",
        "      res_quad = monte_carlo_quad_1d(f, 0, 1, n)\n",
        "      avg_error += abs(exact - res_quad)\n",
        "    errors.append(avg_error/m)\n",
        "\n",
        "  # expected convergence = initial error * 1/sqrt(x)\n",
        "  exp_conv = [errors[0]/np.sqrt(x) for x in x_axis]\n",
        "\n",
        "  print(f\"n = 1 to 100 sample points, average of {m} trials at each n\")\n",
        "  #plot avg_errors\n",
        "  plt.title(\"Plot of average errors of monte carlo quadrature\")\n",
        "  plt.yscale(\"log\")\n",
        "  plt.plot(x_axis, errors)\n",
        "  plt.plot(x_axis, exp_conv)\n",
        "  plt.gca().legend((\"average error\", \"expected convergence rate\"))\n",
        "  plt.ylabel(\"avg_error\")\n",
        "  plt.yticks([0.01, 0.1, 1])\n",
        "  plt.xlabel(\"# of sample points\")\n",
        "  \n",
        "  plt.show()"
      ],
      "metadata": {
        "id": "FVQots90FRSr"
      },
      "execution_count": 133,
      "outputs": []
    },
    {
      "cell_type": "markdown",
      "source": [
        "### Monte Carlo quadrature over a reference triangle\n",
        "  Function 4 is 'Monte Carlo quadrature over a reference triangle'\n",
        "\n",
        "  Here, the domain $D$ is an area, and $|D|$ is the area of that triangle.\n",
        "\n",
        "  Again, we use the same form as the above function:\n",
        "  \n",
        "  $\\int_Dg (x, y)dydx \\approx \\frac{|D|}{n}∑_{i=1}^{n}g(x_i, y_i) = \\frac{1}{n}∑_{i=1}^{n}g(x_i, y_i)|D|$\n",
        "\n",
        "  For $D = △_r$ we have:\n",
        "\n",
        "  $ \\int_{△_r}g(x, y)dydx\\approx \\frac{1}{n}∑_{i=1}^{n}g(x_i, y_i) area (△_r)$\n",
        "\n",
        "  To solve this, we implement a couple of helper functions to calculate the area of the triangle, and to generate random sample points in the triangle."
      ],
      "metadata": {
        "id": "vkJxtvhv9GzG"
      }
    },
    {
      "cell_type": "code",
      "source": [
        "def tri_area(a, b, c):\n",
        "  return abs((0.5)*(a[0]*(b[1]-c[1])+b[0]*(c[1]-a[1])+c[0]*(a[1]-b[1])))\n",
        "\n",
        "def tri_rand_point(a, b, c):\n",
        "  p = rng.random((2))\n",
        "  d = abs(p[0] - p[1])\n",
        "  s, t, u = d, 0.5 * (p[0] + p[1] - d), 1 - 0.5*(d + p[0] + p[1])\n",
        "  return s * a[0] + t * b[0] + u * c[0], s * a[1] + t * b[1] + u * c[1]\n",
        "  \n",
        "def monte_carlo_quad_tri(g, a, b, c, n):\n",
        "  w_d = tri_area(a, b, c)\n",
        "  w_n = 1/n\n",
        "  mean = 0\n",
        "  for i in range(n):\n",
        "    p = tri_rand_point(a, b, c)\n",
        "    mean += g(p[0], p[1]) * w_d\n",
        "  return mean * w_n"
      ],
      "metadata": {
        "id": "Dsn2v__u-H-L"
      },
      "execution_count": 128,
      "outputs": []
    },
    {
      "cell_type": "markdown",
      "source": [
        "To test the above code, we can run the following test function:"
      ],
      "metadata": {
        "id": "xQgA6d4-Iw5u"
      }
    },
    {
      "cell_type": "code",
      "source": [
        "def test_monte_carlo_tri():\n",
        "  print(\"Testing Monte Carlo quadrature over reference triangle\")\n",
        "  # init x_axis\n",
        "  x_axis = [i for i in range(1, 101)]\n",
        "  # reference triangle [a, b, c] = [[0, 0], [1, 0], [0, 1]]\n",
        "  a, b, c = [0, 0], [1, 0], [0, 1]\n",
        "  \n",
        "  # define polynomial function f\n",
        "  f = lambda x, y: np.sin(x)**2 - np.cos(y)\n",
        "  # Exact solution for integral of f(x) over reference triangle\n",
        "  exact = (1/8) * (-7 + 8*np.cos(1) + np.cos(2))\n",
        "  \n",
        "  # init errors\n",
        "  errors = []\n",
        "  \n",
        "  for n in x_axis:\n",
        "    avg_error = 0\n",
        "    # n = 1 to 100 points\n",
        "    # for each n, take average error for m = 20 tests\n",
        "    m = 20\n",
        "    for i in range(m):\n",
        "      res_quad = monte_carlo_quad_tri(f, a, b, c, n)\n",
        "      avg_error += abs(exact - res_quad)\n",
        "    errors.append(avg_error/m)\n",
        "\n",
        "  # expected convergence = initial error * 1/sqrt(x)\n",
        "  exp_conv = [errors[0]/np.sqrt(x) for x in x_axis]\n",
        "\n",
        "  print(f\"n = 1 to 100 sample points, average of {m} trials at each n\")\n",
        "  #plot avg_errors\n",
        "  plt.title(\"Plot of average errors of monte carlo quadrature over ref-triangle\")\n",
        "  plt.yscale(\"log\")\n",
        "  plt.plot(x_axis, errors)\n",
        "  plt.plot(x_axis, exp_conv)\n",
        "  plt.gca().legend((\"average error\", \"expected convergence rate\"))\n",
        "  plt.ylabel(\"avg_error\")\n",
        "  plt.yticks([0.01, 0.1])\n",
        "  plt.xlabel(\"# of sample points\")\n",
        "  \n",
        "  plt.show()"
      ],
      "metadata": {
        "id": "AmlfkWj8Jup6"
      },
      "execution_count": 145,
      "outputs": []
    },
    {
      "cell_type": "markdown",
      "metadata": {
        "id": "SsQLT38gVbn_"
      },
      "source": [
        "# **Results**"
      ]
    },
    {
      "cell_type": "markdown",
      "metadata": {
        "id": "RLwlnOzuV-Cd"
      },
      "source": [
        "Running the test cases here in google colab, after importing required libraries, defining all functions, etc., generates the following output:"
      ]
    },
    {
      "cell_type": "code",
      "source": [
        "test_gauss_quad2_unit()\n",
        "test_edge_midpoint_quad()"
      ],
      "metadata": {
        "colab": {
          "base_uri": "https://localhost:8080/"
        },
        "id": "z2bfb3T_1FGi",
        "outputId": "ed834da9-cde2-4ee7-c750-c3b3c6358d91"
      },
      "execution_count": 143,
      "outputs": [
        {
          "output_type": "stream",
          "name": "stdout",
          "text": [
            "Testing 2-point Gauss quadrature over unit interval\n",
            "\terror: 0.0\n",
            "Testing 3-edge midpoint Gauss quadrature over reference triangle\n",
            "\terror: 0.0\n"
          ]
        }
      ]
    },
    {
      "cell_type": "markdown",
      "source": [
        "The Gauss quadrature generate accurate approximations of the input functions, as shown above.\n",
        "\n",
        "Next, the stochastic Monte Carlo quadrature, over a unit interval and a reference triangle:"
      ],
      "metadata": {
        "id": "vmYkeQG0Oolc"
      }
    },
    {
      "cell_type": "code",
      "source": [
        "test_monte_carlo_1d()\n",
        "test_monte_carlo_tri()"
      ],
      "metadata": {
        "colab": {
          "base_uri": "https://localhost:8080/",
          "height": 642
        },
        "id": "NIAS1opHIr6C",
        "outputId": "d18050f4-3c05-4aaf-c2a6-e0394d317f4a"
      },
      "execution_count": 146,
      "outputs": [
        {
          "output_type": "stream",
          "name": "stdout",
          "text": [
            "Testing Monte Carlo quadrature over unit interval\n",
            "n = 1 to 100 sample points, average of 20 trials at each n\n"
          ]
        },
        {
          "output_type": "display_data",
          "data": {
            "text/plain": [
              "<Figure size 432x288 with 1 Axes>"
            ],
            "image/png": "[encoded data removed]"
          },
          "metadata": {
            "needs_background": "light"
          }
        },
        {
          "output_type": "stream",
          "name": "stdout",
          "text": [
            "Testing Monte Carlo quadrature over reference triangle\n",
            "n = 1 to 100 sample points, average of 20 trials at each n\n"
          ]
        },
        {
          "output_type": "display_data",
          "data": {
            "text/plain": [
              "<Figure size 432x288 with 1 Axes>"
            ],
            "image/png": "[encoded data removed]"
          },
          "metadata": {
            "needs_background": "light"
          }
        }
      ]
    },
    {
      "cell_type": "markdown",
      "source": [
        "Here we can see the average error in blue, from 10 trials at every number of sample points n, compared to the expected rate of converge for the error in orange, being the initial error multiplied by the expected convergence rate:\n",
        "\n",
        "$μ = {avg\\_error}_0 * \\frac{1}{\\sqrt n}$\n",
        "\n",
        "The quadrature seems to have the expected rate of convergence."
      ],
      "metadata": {
        "id": "UowYn3SkPAme"
      }
    },
    {
      "cell_type": "markdown",
      "metadata": {
        "id": "_4GLBv0zWr7m"
      },
      "source": [
        "# **Discussion**"
      ]
    },
    {
      "cell_type": "markdown",
      "metadata": {
        "id": "6bcsDSoRXHZe"
      },
      "source": [
        "The quadratures seem like good ways to approximate integrals. The functions were not too difficult to implement, so I decided to make some of them for general intervals, translating from the base case to a unit interval in the first function, and using general intervals for the Monte Carlo implementations.\n",
        "\n",
        "For the Monte Carlo quadratures, I did not get good results at first, with the error being very irregular, especially at low amounts of sample points. Taking an average of around 20 quadratures should show the convergence better. Also, I wasn't sure of exactly how to best compare the error to the expected convergence rate, but starting at the initial error seemed like the best starting point."
      ]
    }
  ]
}