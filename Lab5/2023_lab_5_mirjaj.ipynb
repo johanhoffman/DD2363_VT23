{
  "nbformat": 4,
  "nbformat_minor": 0,
  "metadata": {
    "colab": {
      "provenance": []
    },
    "kernelspec": {
      "name": "python3",
      "display_name": "Python 3"
    }
  },
  "cells": [
    {
      "cell_type": "markdown",
      "metadata": {
        "id": "6RgtXlfYO_i7"
      },
      "source": [
        "# **Lab 5: Differential Equations**\n",
        "**Mirja Johnsson**"
      ]
    },
    {
      "cell_type": "markdown",
      "metadata": {
        "id": "9x_J5FVuPzbm"
      },
      "source": [
        "# **Abstract**\n",
        "\n",
        "In lab 5 for *Methods in Scientific Computation* 2 variations of the method Eplicit Euler for differential equations were implemented. One is for a scalar intitial-value problem, and the other for a system of initial-value problems."
      ]
    },
    {
      "cell_type": "markdown",
      "metadata": {
        "id": "OkT8J7uOWpT3"
      },
      "source": [
        "#**About the code**"
      ]
    },
    {
      "cell_type": "markdown",
      "metadata": {
        "id": "HmB2noTr1Oyo"
      },
      "source": [
        "A short statement on who is the author of the file, and if the code is distributed under a certain license. "
      ]
    },
    {
      "cell_type": "code",
      "metadata": {
        "id": "Pdll1Xc9WP0e",
        "colab": {
          "base_uri": "https://localhost:8080/",
          "height": 35
        },
        "outputId": "7306dd5f-3751-438a-cabc-c6cd3e48f2bb"
      },
      "source": [
        "\"\"\"This program is a template for lab reports in the course\"\"\"\n",
        "\"\"\"DD2363 Methods in Scientific Computing, \"\"\"\n",
        "\"\"\"KTH Royal Institute of Technology, Stockholm, Sweden.\"\"\"\n",
        "\n",
        "# Copyright (C) 2020 Johan Hoffman (jhoffman@kth.se)\n",
        "\n",
        "# This file is part of the course DD2365 Advanced Computation in Fluid Mechanics\n",
        "# KTH Royal Institute of Technology, Stockholm, Sweden\n",
        "#\n",
        "# This is free software: you can redistribute it and/or modify\n",
        "# it under the terms of the GNU Lesser General Public License as published by\n",
        "# the Free Software Foundation, either version 3 of the License, or\n",
        "# (at your option) any later version.\n",
        "\n",
        "# This template is maintained by Johan Hoffman\n",
        "# Please report problems to jhoffman@kth.se"
      ],
      "execution_count": 1,
      "outputs": [
        {
          "output_type": "execute_result",
          "data": {
            "text/plain": [
              "'KTH Royal Institute of Technology, Stockholm, Sweden.'"
            ],
            "application/vnd.google.colaboratory.intrinsic+json": {
              "type": "string"
            }
          },
          "metadata": {},
          "execution_count": 1
        }
      ]
    },
    {
      "cell_type": "markdown",
      "metadata": {
        "id": "28xLGz8JX3Hh"
      },
      "source": [
        "# **Set up environment**"
      ]
    },
    {
      "cell_type": "markdown",
      "metadata": {
        "id": "l5zMzgPlRAF6"
      },
      "source": [
        "\n",
        "\n",
        "[Hyperlink to DD2363 course website.](https://kth.instructure.com/courses/17068)\n",
        "\n",
        "$\n",
        "{\\displaystyle \\frac{\\partial u}{\\partial t}} + u\\cdot \\nabla u +\\nabla p = f, \\quad \\nabla \\cdot u=0$\n",
        "\n"
      ]
    },
    {
      "cell_type": "code",
      "metadata": {
        "id": "Xw7VlErAX7NS"
      },
      "source": [
        "# Load neccessary modules.\n",
        "from google.colab import files\n",
        "\n",
        "import time\n",
        "import numpy as np\n",
        "\n",
        "#try:\n",
        "#    from dolfin import *; from mshr import *\n",
        "#except ImportError as e:\n",
        "#    !apt-get install -y -qq software-properties-common \n",
        "#    !add-apt-repository -y ppa:fenics-packages/fenics\n",
        "#    !apt-get update -qq\n",
        "#    !apt install -y --no-install-recommends fenics\n",
        "#    from dolfin import *; from mshr import *\n",
        "    \n",
        "#import dolfin.common.plotting as fenicsplot\n",
        "\n",
        "from matplotlib import pyplot as plt\n",
        "from matplotlib import tri\n",
        "from matplotlib import axes\n",
        "from mpl_toolkits.mplot3d import Axes3D"
      ],
      "execution_count": 1,
      "outputs": []
    },
    {
      "cell_type": "code",
      "source": [],
      "metadata": {
        "id": "mZNLgJkeflH4"
      },
      "execution_count": null,
      "outputs": []
    },
    {
      "cell_type": "markdown",
      "metadata": {
        "id": "gnO3lhAigLev"
      },
      "source": [
        "# **Introduction**\n",
        "In this lab there are two mandatory assignments for solving differential equations. The first is for a scalar, initial-value problem. The second is for a system of initial-value problems.\n",
        "\n",
        "Problem 1 can be solved using explicit Euler, or Euler forward as it's also known.\n",
        "\n",
        "The function we are trying to solve has the form: u'(t) = f(u(t), t). It needs to be solved in discrete points according to evaluations along the x axis based on the step size k. \n",
        "\n",
        "u'(t_i) ≈ (u(t_i+1) - u(t_i))/k . -> u(t_i+1) = u(t_i) + k* f(u(t_i),t)\n"
      ]
    },
    {
      "cell_type": "markdown",
      "source": [
        "#**Method**\n",
        "With a scalar initial value problem it's possible to approximately solve a first-order differential equation using a time-stepping method like Explicit Euler, which is implemented below. \n",
        "\n",
        "If you expand this from a scalar initial-value problem to a system of initial-values problem it is possibe to use the same time-stepping method to solve higher-order differential equations.  "
      ],
      "metadata": {
        "id": "OKTRZGRj-7wo"
      }
    },
    {
      "cell_type": "code",
      "source": [
        " #1. Function: Time stepping for scalar initial value problem du/dt = f(u,t)\n",
        "\n",
        "#Input: final time T, function f(u,t), initial value u(0)\n",
        "#Output: approximation U(t_n) for the time interval [0,T] \n",
        "#Test: verify accuracy and stability with respect to model problem.\n",
        "#solve u'(t) = f(u,t) in n timesteps from [0,T]. Where u(0) = U0 \n",
        "def euler_forward(func, U0, T, n):\n",
        "    t = np.zeros(n+1) #n steps gives n+1 intervals\n",
        "    u = np.zeros(n+1)\n",
        "    u[0] = U0 #set given initial value\n",
        "    dt = T/n #size of timestep\n",
        "    for k in range(n):\n",
        "        t[k+1] = t[k] + dt\n",
        "        u[k+1] = u[k] + dt*(func(u[k],t[k]))\n",
        "    \n",
        "    return u,t\n",
        "\n",
        "\n",
        "\n"
      ],
      "metadata": {
        "id": "rMX04NSYGgM8"
      },
      "execution_count": 14,
      "outputs": []
    },
    {
      "cell_type": "code",
      "source": [
        "#2. Function: Time stepping for a system of initial value problems du/dt = f(u,t)\n",
        "\n",
        "#Input: final time T, function f(u,t), initial value u(0)\n",
        "#Output: approximation U(t_n) for the time interval [0,T] \n",
        "#Test: verify accuracy and stability with respect to model problem.\n",
        "def euler_forward_system(func2, U0, T, n):\n",
        "    func = lambda u, t: np.asarray(func2(u,t))\n",
        "    t = np.zeros(n+1) #n steps gives n+1 intervals\n",
        "    if isinstance(U0, (int, float)):\n",
        "      u = np.zeros(n+1)\n",
        "    else:\n",
        "      eqs = len(U0)\n",
        "      u = np.zeros((n+1, eqs))\n",
        "\n",
        "    u[0,:] = U0 #set given initial value for every column\n",
        "    \n",
        "    dt = T/n #size of timestep\n",
        "    for k in range(n):\n",
        "        t[k+1] = t[k] + dt\n",
        "        u[k+1,:] = u[k,:] + dt*(func(u[k,:],t[k]))\n",
        "    \n",
        "    return u,t\n",
        "\n",
        "\n",
        "def func(u,t):\n",
        "  return (u[1], -u[0])\n",
        "\n"
      ],
      "metadata": {
        "id": "98NZ4PIrGlpu"
      },
      "execution_count": 15,
      "outputs": []
    },
    {
      "cell_type": "markdown",
      "metadata": {
        "id": "SsQLT38gVbn_"
      },
      "source": [
        "# **Results**\n",
        "To test Forward-Euler it seemed a good idea to test it with the simplest differential equation - the exponential function e. As we can see from the plots we get closer and closer to the real solution when the step-size gets smaller. However, it is not a very reliable solution for problems with a large span [0,T] as the error propagates in every timestep. "
      ]
    },
    {
      "cell_type": "code",
      "source": [
        "#Test Forward Euler (Explicit Euler)\n",
        "%matplotlib inline\n",
        "\n",
        "  #u' = u i.e. the exponential function \n",
        "def func(u,t):\n",
        "    return u\n",
        "for n in [5,10,20,50]:    \n",
        "  u,t = euler_forward(func,U0 = 1, T = 5, n = n)\n",
        "  plt.plot(t,u, '--',label=f\"n={n}\")\n",
        "t = np.linspace(0,5, 100)\n",
        "plt.plot(t, np.e**(t), label = \"e^t\", color = \"red\")\n",
        "plt.grid()  \n",
        "plt.legend()\n",
        "plt.xlabel(\"t\")\n"
      ],
      "metadata": {
        "id": "hBDqdXhZ9P-h",
        "colab": {
          "base_uri": "https://localhost:8080/",
          "height": 296
        },
        "outputId": "371d11ad-4c95-4e6d-8c25-a4e1f2ee887c"
      },
      "execution_count": 26,
      "outputs": [
        {
          "output_type": "execute_result",
          "data": {
            "text/plain": [
              "Text(0.5, 0, 't')"
            ]
          },
          "metadata": {},
          "execution_count": 26
        },
        {
          "output_type": "display_data",
          "data": {
            "text/plain": [
              "<Figure size 432x288 with 1 Axes>"
            ],
            "image/png": "[encoded data removed]"
          },
          "metadata": {
            "needs_background": "light"
          }
        }
      ]
    },
    {
      "cell_type": "markdown",
      "source": [
        "To demonstrate how the function for solving a system of initial values can solve a second-order differential equation I am using the sin function. \n",
        "We have the new condition that u'' + u = 0, u(0) = 0, u'(0) = 1. \n",
        "This is now our system of initial values. \n",
        "\n",
        "\n",
        "\n",
        "u = sin(t) is the known, analytical solution, and u' = cos(t) the exact derivative.\n",
        "\n",
        "\n",
        "\n",
        "We will see how close we get to the sin function using Explicit Euler. "
      ],
      "metadata": {
        "id": "wYbUsC9OTWUk"
      }
    },
    {
      "cell_type": "code",
      "source": [
        "#Test System\n",
        "\n",
        "def func(u,t):\n",
        "  return (u[1],-u[0])\n",
        "    \n",
        "for n in [100,200,700]:    \n",
        "  u,t = euler_forward_system(func,U0 = [0,1], T = 8*np.pi, n = n)\n",
        "  plt.plot(t,u[:,0], label=f\"n={n}\")\n",
        "\n",
        "t = np.linspace(0,8*np.pi, 1001)\n",
        "plt.plot(t, np.sin(t), label = \"sin(t)\", color = \"red\")\n",
        "plt.grid()\n",
        "plt.legend()\n",
        "plt.xlabel(\"t\")\n",
        "plt.ylabel(\"func(u(t),t)\")"
      ],
      "metadata": {
        "colab": {
          "base_uri": "https://localhost:8080/",
          "height": 296
        },
        "id": "HcFo_gOQaarN",
        "outputId": "cf759881-6596-4704-ef5c-617dc2ea47b7"
      },
      "execution_count": 27,
      "outputs": [
        {
          "output_type": "execute_result",
          "data": {
            "text/plain": [
              "Text(0, 0.5, 'func(u(t),t)')"
            ]
          },
          "metadata": {},
          "execution_count": 27
        },
        {
          "output_type": "display_data",
          "data": {
            "text/plain": [
              "<Figure size 432x288 with 1 Axes>"
            ],
            "image/png": "[encoded data removed]"
          },
          "metadata": {
            "needs_background": "light"
          }
        }
      ]
    },
    {
      "cell_type": "markdown",
      "source": [
        "The plot shows how error propagates forwards in this method, and how much faster the function over-shoots and gets away from the correct values when the step size is bigger. The n in the plot is the number of points the function is evaluated on for the interval [0,T], giving a step size that is inversely proportional to n. "
      ],
      "metadata": {
        "id": "cUDcucTInemz"
      }
    },
    {
      "cell_type": "markdown",
      "metadata": {
        "id": "_4GLBv0zWr7m"
      },
      "source": [
        "# **Discussion**\n",
        "In this assignment I chose to implement the simplest version of time-stepping methods - Explicit Euler. From the results it is clear to see why more complex methods have been invented. Explicit Euler works pretty well and does give a somewhat reliable picture of how the actual solution would behave, but it is very far from exact, especially as it goes on. "
      ]
    }
  ]
}