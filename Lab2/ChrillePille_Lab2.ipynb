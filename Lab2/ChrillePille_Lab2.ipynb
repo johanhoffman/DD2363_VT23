{
  "nbformat": 4,
  "nbformat_minor": 0,
  "metadata": {
    "colab": {
      "provenance": []
    },
    "kernelspec": {
      "name": "python3",
      "display_name": "Python 3"
    }
  },
  "cells": [
    {
      "cell_type": "markdown",
      "source": [],
      "metadata": {
        "id": "RNJwdbwl6bzB"
      }
    },
    {
      "cell_type": "markdown",
      "metadata": {
        "id": "6RgtXlfYO_i7"
      },
      "source": [
        "# **Lab 2: Iterative methods**\n",
        "**Christian Weigelt**"
      ]
    },
    {
      "cell_type": "markdown",
      "source": [
        "#***About the code*** "
      ],
      "metadata": {
        "id": "15HDM9KW6WGg"
      }
    },
    {
      "cell_type": "code",
      "source": [
        "\"\"\"This program is a template for lab reports in the course\"\"\"\n",
        "\"\"\"DD2363 Methods in Scientific Computing, \"\"\"\n",
        "\"\"\"KTH Royal Institute of Technology, Stockholm, Sweden.\"\"\"\n",
        "\n",
        "# Copyright (C) 2023 Christian Weigelt (weigelt@kth.se)\n",
        "\n",
        "# This file is part of the course DD2363 DD2363 Methods in Scientific Computing\n",
        "# KTH Royal Institute of Technology, Stockholm, Sweden"
      ],
      "metadata": {
        "colab": {
          "base_uri": "https://localhost:8080/",
          "height": 36
        },
        "id": "bOUMrFYy6VKJ",
        "outputId": "e45f388a-084c-4919-dbdc-f94f1b12f8f4"
      },
      "execution_count": 211,
      "outputs": [
        {
          "output_type": "execute_result",
          "data": {
            "text/plain": [
              "'KTH Royal Institute of Technology, Stockholm, Sweden.'"
            ],
            "application/vnd.google.colaboratory.intrinsic+json": {
              "type": "string"
            }
          },
          "metadata": {},
          "execution_count": 211
        }
      ]
    },
    {
      "cell_type": "markdown",
      "metadata": {
        "id": "9x_J5FVuPzbm"
      },
      "source": [
        "# **Abstract**"
      ]
    },
    {
      "cell_type": "markdown",
      "metadata": {
        "id": "6UFTSzW7P8kL"
      },
      "source": [
        "This lab consisted of the implementation of a selection of iterative methods for solving linear equations, with varying properties.\n",
        "Test code was written to verify function outputs with random, test cases.\n",
        "In the introduction section, the functions are given a brief description, both of input/output, and what is to be tested.\n",
        "In the method section, short definition of the functions are given, and their respective implementation and test function is presented.\n",
        "In the results section, the output of the test cases is presented."
      ]
    },
    {
      "cell_type": "markdown",
      "metadata": {
        "id": "28xLGz8JX3Hh"
      },
      "source": [
        "# **Set up environment**"
      ]
    },
    {
      "cell_type": "code",
      "metadata": {
        "id": "Xw7VlErAX7NS"
      },
      "source": [
        "import numpy as np\n",
        "import math\n",
        "from matplotlib import pyplot as plt\n",
        "from matplotlib import tri\n",
        "from matplotlib import axes"
      ],
      "execution_count": 212,
      "outputs": []
    },
    {
      "cell_type": "markdown",
      "metadata": {
        "id": "gnO3lhAigLev"
      },
      "source": [
        "# **Introduction**"
      ]
    },
    {
      "cell_type": "markdown",
      "metadata": {
        "id": "l5zMzgPlRAF6"
      },
      "source": [
        "In this lab, the assignment was to implement 3 functions, with input and output as defined in the lab instructions, as well as write code tests to test output.\n",
        "  \n",
        "1. Function: Jacobi iteration for Ax=b\n",
        "\n",
        "  Input: matrix A, vector b</br>\n",
        "  Output: vector x\n",
        "\n",
        "  Test: convergence of residual || Ax-b ||, || x-y || for manufactured/exact solution y \n",
        "</br>\n",
        "2. Function: Gauss-Seidel iteration for Ax=b\n",
        "\n",
        "  Input: matrix A, vector b</br>\n",
        "  Output: vector x\n",
        "\n",
        "  Test: convergence of residual || Ax-b ||, || x-y || for manufactured/exact solution y\n",
        "</br>\n",
        "3. Function: Newton's method for scalar nonlinear equation f(x)=0\n",
        "\n",
        "  Input: scalar function f(x)</br>\n",
        "  Output: real number x\n",
        "\n",
        "  Test: convergence of residual |f(x)|, |x-y| for manufactured/exact solution y\n",
        "</br>\n",
        "4. Function: Newton's method for vector nonlinear equation f(x)=0\n",
        "\n",
        "Input: vector function f(x)\n",
        "Output: vector x\n",
        "\n",
        "Test: convergence of residual || f(x) ||, || x-y || for manufactured/exact solution y\n",
        "</br>"
      ]
    },
    {
      "cell_type": "markdown",
      "metadata": {
        "id": "jOQvukXZq5U5"
      },
      "source": [
        "# **Method**"
      ]
    },
    {
      "cell_type": "markdown",
      "metadata": {
        "id": "zF4iBj5VURZx"
      },
      "source": [
        "Here the code for the assignment is provided."
      ]
    },
    {
      "cell_type": "markdown",
      "metadata": {
        "id": "kuNVpbANc566"
      },
      "source": [
        "###Jacobi iteration for $Ax = b$\n",
        "Function 1 is 'Jacobi iteration for $Ax = b$'\n",
        "\n",
        "From chapter 7.7, we get the Jacobi iteration matrix as $M_J = -D^{-1}(A - D) = (I - D^{-1}A)$,\n",
        "and the formula for iteratively calculating $x^{(k+1)}$ is:\n",
        "\n",
        " $x^{(k+1)} = (I - D^{-1}A)x^{k} + D^{-1}b $\n",
        "\n",
        " Where $c = D^{-1}b$ is constant, and we start with $x^{(0)} = c$.\n",
        "\n",
        " For testing we will use a diagonally dominant matrix $A$, which satisfies the convergence criterion, with $B$ being an approximate inverse of $A$."
      ]
    },
    {
      "cell_type": "code",
      "metadata": {
        "id": "UhXMPubWft4P"
      },
      "source": [
        "def jacobi_iteration(A, b, tol):\n",
        "  # Assume A is square (n*n) and b is a vector of length n\n",
        "  I = np.identity(A.shape[0])\n",
        "  d = np.diag(np.diag(A))\n",
        "  # since d is a diagonal matrix, the inverse is simple each element e replaced by 1/e\n",
        "  d_inv = np.linalg.inv(d) \n",
        "  c = np.dot(d_inv, b)\n",
        "  # save x values to a vector for plotting, x_v[-1] is latest\n",
        "  x_v = []\n",
        "  x_v.append(c)\n",
        "  while np.linalg.norm(np.dot(A, x_v[-1]) - b) > tol:\n",
        "    x_v.append(np.dot((I - np.matmul(d_inv, A)), x_v[-1]) + c)\n",
        "  return x_v"
      ],
      "execution_count": 213,
      "outputs": []
    },
    {
      "cell_type": "markdown",
      "metadata": {
        "id": "3G7WZ4hRmDmT"
      },
      "source": [
        "To test the above code, we can run the following test function:"
      ]
    },
    {
      "cell_type": "code",
      "metadata": {
        "id": "Bzbb30oLmHdJ"
      },
      "source": [
        "def test_jacobi_iteration():\n",
        "  print(\"Testing jacobi_iteration()\")\n",
        "  A = np.random.rand(10, 10)\n",
        "  y = np.random.rand(10)\n",
        "\n",
        "  # make a diagonally dominant for convergence\n",
        "  for i in range(A.shape[0]):\n",
        "    sum = np.sum(A[i, :])\n",
        "    sum -= A[i, i]\n",
        "    A[i, i] += sum\n",
        "\n",
        "  b = np.dot(A, y)\n",
        "\n",
        "  x_v = jacobi_iteration(A, b, 1e-10)\n",
        "  x = x_v[-1]\n",
        "\n",
        "  #test if |Ax - b| is close to 0\n",
        "  assert np.isclose(np.linalg.norm(np.dot(A, x) - b), 0.) == True, \"incorrect result from jacobi_iteration\"\n",
        "\n",
        "  #test if |x - y| is close to 0\n",
        "  assert np.less_equal(np.linalg.norm(x - y), 1e-10) == True, \"solution not close to manufactured solution\""
      ],
      "execution_count": 214,
      "outputs": []
    },
    {
      "cell_type": "markdown",
      "source": [
        "Plot of convergence for Jacobi iteration:"
      ],
      "metadata": {
        "id": "tsd9uzn3vQml"
      }
    },
    {
      "cell_type": "code",
      "source": [
        "A = np.random.rand(10, 10)\n",
        "y = np.random.rand(10)\n",
        "\n",
        "for i in range(A.shape[0]):\n",
        "  sum = np.sum(A[i, :])\n",
        "  sum -= A[i, i]\n",
        "  A[i, i] += sum\n",
        "\n",
        "b = np.dot(A, y)\n",
        "\n",
        "x_v = jacobi_iteration(A, b, 1e-10)\n",
        "# calculate norm(error)\n",
        "x_v = [np.linalg.norm(x - y) for x in x_v]\n",
        "\n",
        "plt.plot(range(len(x_v)), x_v)\n",
        "plt.xlabel(\"iterations\")\n",
        "plt.ylabel(\"norm(error)\")"
      ],
      "metadata": {
        "colab": {
          "base_uri": "https://localhost:8080/",
          "height": 298
        },
        "id": "YBhjXTdF9Im2",
        "outputId": "5403588d-4096-4a5d-86b8-43a1c3f88b0b"
      },
      "execution_count": 215,
      "outputs": [
        {
          "output_type": "execute_result",
          "data": {
            "text/plain": [
              "Text(0, 0.5, 'norm(error)')"
            ]
          },
          "metadata": {},
          "execution_count": 215
        },
        {
          "output_type": "display_data",
          "data": {
            "text/plain": [
              "<Figure size 432x288 with 1 Axes>"
            ],
            "image/png": "[encoded data removed]"
          },
          "metadata": {
            "needs_background": "light"
          }
        }
      ]
    },
    {
      "cell_type": "markdown",
      "metadata": {
        "id": "4yqBpLi8M9y4"
      },
      "source": [
        "###Gauss-Seidel iteration for Ax=b\n",
        "\n",
        "Function 2 is 'Gauss-Seidel iteration for Ax=b'\n",
        "\n",
        "From chapter 7.7, we get the Gauss-Seidel iteration matrix as $M_GS = -L^{-1}(A - L) = (I - L^{-1}A)$,\n",
        "and the formula for iteratively calculating $x^{(k+1)}$ is:\n",
        "\n",
        " $x^{(k+1)} = (I - L^{-1}A)x^{k} + L^{-1}b $\n",
        "\n",
        " Where $c = L^{-1}b$ is constant, and we start with $x^{(0)} = c$.\n",
        "\n",
        " For testing we will use a diagonally dominant matrix $A$, which satisfies the convergence criterion, with $B$ being an approximate inverse of $A$."
      ]
    },
    {
      "cell_type": "code",
      "metadata": {
        "id": "dHKYYFdsNPk-"
      },
      "source": [
        "def gauss_seidel_iteration(A, b, tol):\n",
        "  # Assume A is square (n*n) and b is a vector of length n\n",
        "  I = np.identity(A.shape[0])\n",
        "  L = np.zeros_like(A)\n",
        "  for i in range(A.shape[0]):\n",
        "    for j in range(A.shape[0]):\n",
        "      if i >= j:\n",
        "        L[i, j] = A[i, j]\n",
        "  #since L is a lower triangular matrix, it is easily invertible by forward substitution\n",
        "  L_inv = np.linalg.inv(L)\n",
        "  c = np.dot(L_inv, b)\n",
        "  # save x values to a vector for plotting, x_v[-1] is latest\n",
        "  x_v = []\n",
        "  x_v.append(c)\n",
        "  while np.linalg.norm(np.dot(A, x_v[-1]) - b) > tol:\n",
        "    x_v.append(np.dot((I - np.matmul(L_inv, A)), x_v[-1]) + c)\n",
        "  return x_v"
      ],
      "execution_count": 216,
      "outputs": []
    },
    {
      "cell_type": "markdown",
      "metadata": {
        "id": "iaqX39LcOkxo"
      },
      "source": [
        "To test the above code, we can run the following test function:"
      ]
    },
    {
      "cell_type": "code",
      "metadata": {
        "id": "8nezkBjkOlI-"
      },
      "source": [
        "def test_gauss_seidel_iteration():\n",
        "  print(\"Testing gauss_seidel_iteration()\")\n",
        "  A = np.random.rand(10, 10)\n",
        "  y = np.random.rand(10)\n",
        "\n",
        "  # make a diagonally dominant for convergence\n",
        "  for i in range(A.shape[0]):\n",
        "    sum = np.sum(A[i, :])\n",
        "    sum -= A[i, i]\n",
        "    A[i, i] += sum\n",
        "\n",
        "  b = np.dot(A, y)\n",
        "\n",
        "  x_v = gauss_seidel_iteration(A, b, 1e-10)\n",
        "\n",
        "  #test if |Ax - b| is close to 0\n",
        "  assert np.isclose(np.linalg.norm(np.dot(A, x_v[-1]) - b), 0.) == True, \"incorrect result from gauss_seidel_iteration\"\n",
        "  \n",
        "  #test if |x - y| is close to 0\n",
        "  assert np.isclose(np.linalg.norm(x_v[-1] - y), 0.) == True, \"solution not close to manufactured solution\""
      ],
      "execution_count": 217,
      "outputs": []
    },
    {
      "cell_type": "markdown",
      "source": [
        "Plot of convergence for Gauss-Seidel iteration:"
      ],
      "metadata": {
        "id": "1diAOOR95_Xx"
      }
    },
    {
      "cell_type": "code",
      "source": [
        "A = np.random.rand(10, 10)\n",
        "y = np.random.rand(10)\n",
        "\n",
        "for i in range(A.shape[0]):\n",
        "  sum = np.sum(A[i, :])\n",
        "  sum -= A[i, i]\n",
        "  A[i, i] += sum\n",
        "\n",
        "b = np.dot(A, y)\n",
        "\n",
        "x_v = gauss_seidel_iteration(A, b, 1e-10)\n",
        "# calculate norm(error)\n",
        "x_v = [np.linalg.norm(x - y) for x in x_v]\n",
        "\n",
        "plt.plot(range(len(x_v)), x_v)\n",
        "plt.xlabel(\"iterations\")\n",
        "plt.ylabel(\"norm(error)\")"
      ],
      "metadata": {
        "colab": {
          "base_uri": "https://localhost:8080/",
          "height": 296
        },
        "id": "gq34-uwJ59bt",
        "outputId": "7b09fd0b-e72b-4045-838b-11eefc7ca8cb"
      },
      "execution_count": 218,
      "outputs": [
        {
          "output_type": "execute_result",
          "data": {
            "text/plain": [
              "Text(0, 0.5, 'norm(error)')"
            ]
          },
          "metadata": {},
          "execution_count": 218
        },
        {
          "output_type": "display_data",
          "data": {
            "text/plain": [
              "<Figure size 432x288 with 1 Axes>"
            ],
            "image/png": "[encoded data removed]"
          },
          "metadata": {
            "needs_background": "light"
          }
        }
      ]
    },
    {
      "cell_type": "markdown",
      "metadata": {
        "id": "wPJ9zJADXc4n"
      },
      "source": [
        "###Newton's method for scalar nonlinear equation f(x)=0\n",
        "\n",
        "Function 3 is 'Newton's method for scalar nonlinear equation f(x)=0'\n",
        "\n",
        "The function finds a solution to the nonlinear equation $f(x) = 0$ by derivating the function and using a tangent line to the function to find a solution x that solves the equation.\n",
        "\n",
        "The iteration formula is the following:\n",
        "$x^{k + 1} = x^k - f(x^k)/f'(x^k)$\n",
        "\n",
        "A polynomial function is used, by use of 'numpy.polynomial'.\n"
      ]
    },
    {
      "cell_type": "code",
      "metadata": {
        "id": "8pVAsBrTbIe-"
      },
      "source": [
        "def newton_scalar(f, tol):\n",
        "  # Guess x0 = 0\n",
        "  x = 0\n",
        "  while np.abs(f(x)) > tol:\n",
        "    df = np.polyder(f)\n",
        "    x -= f(x)/df(x)\n",
        "  return x"
      ],
      "execution_count": 219,
      "outputs": []
    },
    {
      "cell_type": "markdown",
      "metadata": {
        "id": "5qGl8Z-xd6c-"
      },
      "source": [
        "To test the above code, we can run the following test function:"
      ]
    },
    {
      "cell_type": "code",
      "metadata": {
        "id": "QA6R-mMLd8WD"
      },
      "source": [
        "def test_newton_scalar():\n",
        "  print(\"Testing newton_scalar()\")\n",
        "  size = 4\n",
        "  coeffs = np.random.randint(10, size=size)\n",
        "  f = np.poly1d(coeffs, True) # produces a polynomial with coeffs as roots\n",
        "  x = newton_scalar(f, 1e-10)\n",
        "\n",
        "  # Test if f(x) is very close to zero, i.e. root found\n",
        "  assert np.isclose(f(x), 0), \"No root f(x)=0 found\"\n",
        "\n",
        "  # Check if x is close to a given root to the polynomial function\n",
        "  match = False\n",
        "  for c in coeffs:\n",
        "    if np.isclose(c, x):\n",
        "      print(f\"|y - x| = {np.linalg.norm(c - x)}\")\n",
        "      match = True\n",
        "  assert match == True, \"x not one of f's given roots?\""
      ],
      "execution_count": 360,
      "outputs": []
    },
    {
      "cell_type": "code",
      "source": [
        "test_newton_scalar()"
      ],
      "metadata": {
        "colab": {
          "base_uri": "https://localhost:8080/"
        },
        "id": "j_ShA9YDRyDz",
        "outputId": "b3d2a934-a32c-4552-e91e-603c78d7d97f"
      },
      "execution_count": 365,
      "outputs": [
        {
          "output_type": "stream",
          "name": "stdout",
          "text": [
            "Testing newton_scalar()\n",
            "|y - x| = 1.341149413747189e-13\n"
          ]
        }
      ]
    },
    {
      "cell_type": "markdown",
      "source": [
        "Note that there may be coefficients $c_j, c_k$ where $c_j = c_k$, so "
      ],
      "metadata": {
        "id": "TrSVaQKg2WB1"
      }
    },
    {
      "cell_type": "markdown",
      "source": [
        "###Newton's method for vector nonlinear equation f(x)=0\n",
        "Function 4 is 'Newton's method for vector nonlinear equation f(x)=0'\n",
        "\n",
        "The function finds a solution to the nonlinear equation $f(x) = 0$ in $R^n$. \n",
        "It is analogous to the scalar nonlinear equation, but where the inverse of the derivative is replaced by the inverse of the Jacobian matrix $(f'(x^{(k)}))^{-1}$ \n",
        "\n",
        "The iteration formula is the following:\n",
        "$x^{k + 1} = x^k - (f'(x^{(k)}))^{-1} f(x^k)$\n",
        "\n",
        "A 'np.array'-valued function is used to represent the vector equation.\n"
      ],
      "metadata": {
        "id": "xwUvOSKytmt-"
      }
    },
    {
      "cell_type": "markdown",
      "source": [
        "Calculate Jacobian using finite difference method:"
      ],
      "metadata": {
        "id": "A6x2sATWguOL"
      }
    },
    {
      "cell_type": "code",
      "source": [
        "def jac_approx(f, x, h):\n",
        "  n = x.size\n",
        "  diff = h * np.identity(x.size)\n",
        "  J = np.zeros((2, 2))\n",
        "  for i in range(n):\n",
        "      J[i, :] = (f(x + diff[i, :]) - f(x))/h\n",
        "  return J"
      ],
      "metadata": {
        "id": "v5eZNRqvhyos"
      },
      "execution_count": 313,
      "outputs": []
    },
    {
      "cell_type": "markdown",
      "source": [
        "Newton method:"
      ],
      "metadata": {
        "id": "96j7_Hq6vpSQ"
      }
    },
    {
      "cell_type": "code",
      "source": [
        "def newton_vector(f, x, tol):\n",
        "  # initial guess x\n",
        "  while np.linalg.norm(f(x)) > tol:\n",
        "    df = jac_approx(f, x, 1e-8)\n",
        "    x = x - np.linalg.solve(df, f(x))\n",
        "  return x"
      ],
      "metadata": {
        "id": "i5BIttvnBMVa"
      },
      "execution_count": 326,
      "outputs": []
    },
    {
      "cell_type": "markdown",
      "source": [
        "To test the above code, we can run the following test function:"
      ],
      "metadata": {
        "id": "-IW7GYY8Cnzv"
      }
    },
    {
      "cell_type": "code",
      "source": [
        "def test_newton_vector():\n",
        "  print(\"Testing newton_vector()\")\n",
        "  \n",
        "  # manufactured vector equation, solutions: (0, 0), (3/2 , -5/3)\n",
        "  def f(x):\n",
        "    return np.array([x[0]*(3*x[1] + 5), x[1]*(3 - 2*x[0])])\n",
        "\n",
        "  # should find a solution close to (0, 0)\n",
        "  y1 = np.array([0, 0])\n",
        "  x0 = np.array([-1, 1])\n",
        "  x1 = newton_vector(f, x0, 1e-10)\n",
        "  # norm of f(x1)\n",
        "  norm_f_x1 = np.linalg.norm(f(x1))\n",
        "  print(f\"||f(x1)|| = {norm_f_x1}\")\n",
        "  assert np.isclose(norm_f_x1, 0.) == True, f\"||f(x1)|| not small enough\"\n",
        "  # norm of y - x\n",
        "  norm_y1_x1 = np.linalg.norm(y1 - x1)\n",
        "  print(f\"||y1 - x1|| = {norm_y1_x1}\")\n",
        "  assert np.isclose(norm_y1_x1, 0.) == True, f\"||y1 - x1|| not small enough\"\n",
        "\n",
        "  # should find a solution close to (3/2, -5/3)\n",
        "  y2 = np.array([3/2, -5/3])\n",
        "  x0 = np.array([1, -1])\n",
        "  x2 = newton_vector(f, x0, 1e-10)\n",
        "  # norm of f(x2)\n",
        "  norm_f_x2 = np.linalg.norm(f(x2))\n",
        "  print(f\"||f(x2)|| = {norm_f_x2}\")\n",
        "  assert np.isclose(norm_f_x2, 0.) == True, f\"||f(x2)|| not small enough\"\n",
        "  # norm of y - x\n",
        "  norm_y2_x2 = np.linalg.norm(y2 - x2)\n",
        "  print(f\"||y2 - x2|| = {norm_y2_x2}\")\n",
        "  assert np.isclose(norm_y2_x2, 0.) == True, f\"||y2 - x2|| not small enough\"\n"
      ],
      "metadata": {
        "id": "GDXT94GCCoOX"
      },
      "execution_count": 367,
      "outputs": []
    },
    {
      "cell_type": "code",
      "source": [
        "test_newton_vector()"
      ],
      "metadata": {
        "colab": {
          "base_uri": "https://localhost:8080/"
        },
        "id": "8OqmyM3GSYlS",
        "outputId": "4a9ce0a3-bd57-4e0e-fc99-97b3dc8416f8"
      },
      "execution_count": 371,
      "outputs": [
        {
          "output_type": "stream",
          "name": "stdout",
          "text": [
            "Testing newton_vector()\n",
            "||f(x1)|| = 2.197595230181428e-19\n",
            "||y1 - x1|| = 4.395190460362856e-20\n",
            "||f(x2)|| = 7.329614646376973e-11\n",
            "||y2 - x2|| = 1.62881267694005e-11\n"
          ]
        }
      ]
    },
    {
      "cell_type": "markdown",
      "metadata": {
        "id": "8wXdjY6B7BFN"
      },
      "source": [
        "###Testing\n",
        "Then to perform all the tests, we can run the following code:"
      ]
    },
    {
      "cell_type": "code",
      "metadata": {
        "id": "_ib6wHc-7Gr8",
        "colab": {
          "base_uri": "https://localhost:8080/"
        },
        "outputId": "dcc19f16-5be2-45a9-937b-ab903f9ed260"
      },
      "source": [
        "def run_all_tests():\n",
        "  test_jacobi_iteration()\n",
        "  test_gauss_seidel_iteration()\n",
        "  test_newton_scalar()\n",
        "  test_newton_vector()\n",
        "  print(\"All tests OK\")\n",
        "\n",
        "if __name__ == '__main__':\n",
        "  run_all_tests()"
      ],
      "execution_count": 370,
      "outputs": [
        {
          "output_type": "stream",
          "name": "stdout",
          "text": [
            "Testing jacobi_iteration()\n",
            "Testing gauss_seidel_iteration()\n",
            "Testing newton_scalar()\n",
            "|y - x| = 2.220446049250313e-16\n",
            "Testing newton_vector()\n",
            "||f(x1)|| = 2.197595230181428e-19\n",
            "||y1 - x1|| = 4.395190460362856e-20\n",
            "||f(x2)|| = 7.329614646376973e-11\n",
            "||y2 - x2|| = 1.62881267694005e-11\n",
            "All tests OK\n"
          ]
        }
      ]
    },
    {
      "cell_type": "markdown",
      "metadata": {
        "id": "SsQLT38gVbn_"
      },
      "source": [
        "# **Results**"
      ]
    },
    {
      "cell_type": "markdown",
      "metadata": {
        "id": "RLwlnOzuV-Cd"
      },
      "source": [
        "Running the test cases here in google colab, after importing required libraries, defining all functions, etc., generates the following output:\n",
        "```\n",
        "Testing jacobi_iteration()\n",
        "Testing gauss_seidel_iteration()\n",
        "Testing newton_scalar()\n",
        "|y - x| = 2.220446049250313e-16\n",
        "Testing newton_vector()\n",
        "||f(x1)|| = 2.197595230181428e-19\n",
        "||y1 - x1|| = 4.395190460362856e-20\n",
        "||f(x2)|| = 7.329614646376973e-11\n",
        "||y2 - x2|| = 1.62881267694005e-11\n",
        "All tests OK\n",
        "```\n",
        "From which we can see that all test cases were passed, with printed residuals being very close to zero."
      ]
    },
    {
      "cell_type": "markdown",
      "metadata": {
        "id": "_4GLBv0zWr7m"
      },
      "source": [
        "# **Discussion**"
      ]
    },
    {
      "cell_type": "markdown",
      "metadata": {
        "id": "6bcsDSoRXHZe"
      },
      "source": [
        "The Jacobi iteration method moves at a steady pace at first, but severely slows down when approaching the solution. The Gauss-Seidel iteration method is much faster, converging to the solution at a much faster rate.\n",
        "For scalar nonlinear equations, formulating the equation in python was quite easy, as all that was needed was a polynomial, for which 'np.polynomial' was easy to use.\n",
        "Solving the extra assignment was a challenge, especially in how to represent the linear equation properly. I decided to use an np.array-valued function to do it, which turned out well. I expect there to be an elegant way to do it using 'np.polynomial', but I just couldn't figure out how to do it using that."
      ]
    }
  ]
}