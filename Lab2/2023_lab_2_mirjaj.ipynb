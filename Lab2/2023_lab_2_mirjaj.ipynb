{
  "nbformat": 4,
  "nbformat_minor": 0,
  "metadata": {
    "colab": {
      "provenance": []
    },
    "kernelspec": {
      "name": "python3",
      "display_name": "Python 3"
    }
  },
  "cells": [
    {
      "cell_type": "markdown",
      "metadata": {
        "id": "6RgtXlfYO_i7"
      },
      "source": [
        "# **Lab 2: Iterative Methods**\n",
        "**Mirja Johnsson**"
      ]
    },
    {
      "cell_type": "markdown",
      "metadata": {
        "id": "9x_J5FVuPzbm"
      },
      "source": [
        "# **Abstract**"
      ]
    },
    {
      "cell_type": "markdown",
      "metadata": {
        "id": "yJipbXtnjrJZ"
      },
      "source": [
        "In lab 2 for *Methods in Scientific Computation* 3 iterative methods were implemented. Jacobi- and Gauss-Seidel Iteration both reached the same solutions but Gauss-Seidel converged to the solution faster. Newton's method converges in few turns even if the starting guess is far from the solution. "
      ]
    },
    {
      "cell_type": "markdown",
      "metadata": {
        "id": "OkT8J7uOWpT3"
      },
      "source": [
        "#**About the code**"
      ]
    },
    {
      "cell_type": "markdown",
      "metadata": {
        "id": "HmB2noTr1Oyo"
      },
      "source": [
        "A short statement on who is the author of the file, and if the code is distributed under a certain license. "
      ]
    },
    {
      "cell_type": "code",
      "metadata": {
        "id": "Pdll1Xc9WP0e",
        "colab": {
          "base_uri": "https://localhost:8080/",
          "height": 37
        },
        "outputId": "9e782dc7-4ad0-48f9-d45c-2200e83dec4d"
      },
      "source": [
        "\"\"\"This program is a template for lab reports in the course\"\"\"\n",
        "\"\"\"DD2363 Methods in Scientific Computing, \"\"\"\n",
        "\"\"\"KTH Royal Institute of Technology, Stockholm, Sweden.\"\"\"\n",
        "\n",
        "# Copyright (C) 2020 Johan Hoffman (jhoffman@kth.se)\n",
        "\n",
        "# This file is part of the course DD2365 Advanced Computation in Fluid Mechanics\n",
        "# KTH Royal Institute of Technology, Stockholm, Sweden\n",
        "#\n",
        "# This is free software: you can redistribute it and/or modify\n",
        "# it under the terms of the GNU Lesser General Public License as published by\n",
        "# the Free Software Foundation, either version 3 of the License, or\n",
        "# (at your option) any later version.\n",
        "\n",
        "# This template is maintained by Johan Hoffman\n",
        "# Please report problems to jhoffman@kth.se"
      ],
      "execution_count": null,
      "outputs": [
        {
          "output_type": "execute_result",
          "data": {
            "application/vnd.google.colaboratory.intrinsic+json": {
              "type": "string"
            },
            "text/plain": [
              "'KTH Royal Institute of Technology, Stockholm, Sweden.'"
            ]
          },
          "metadata": {},
          "execution_count": 1
        }
      ]
    },
    {
      "cell_type": "markdown",
      "metadata": {
        "id": "28xLGz8JX3Hh"
      },
      "source": [
        "# **Set up environment**"
      ]
    },
    {
      "cell_type": "markdown",
      "metadata": {
        "id": "D2PYNusD08Wa"
      },
      "source": [
        "To have access to the neccessary modules you have to run this cell. If you need additional modules, this is where you add them. "
      ]
    },
    {
      "cell_type": "markdown",
      "metadata": {
        "id": "l5zMzgPlRAF6"
      },
      "source": [
        "\n",
        "\n",
        "[Hyperlink to DD2363 course website.](https://kth.instructure.com/courses/17068)\n",
        "\n",
        "$\n",
        "{\\displaystyle \\frac{\\partial u}{\\partial t}} + u\\cdot \\nabla u +\\nabla p = f, \\quad \\nabla \\cdot u=0$\n",
        "\n"
      ]
    },
    {
      "cell_type": "code",
      "metadata": {
        "id": "Xw7VlErAX7NS"
      },
      "source": [
        "# Load neccessary modules.\n",
        "from google.colab import files\n",
        "\n",
        "import time\n",
        "import numpy as np\n",
        "\n",
        "#try:\n",
        "#    from dolfin import *; from mshr import *\n",
        "#except ImportError as e:\n",
        "#    !apt-get install -y -qq software-properties-common \n",
        "#    !add-apt-repository -y ppa:fenics-packages/fenics\n",
        "#    !apt-get update -qq\n",
        "#    !apt install -y --no-install-recommends fenics\n",
        "#    from dolfin import *; from mshr import *\n",
        "    \n",
        "#import dolfin.common.plotting as fenicsplot\n",
        "\n",
        "from matplotlib import pyplot as plt\n",
        "from matplotlib import tri\n",
        "from matplotlib import axes\n",
        "from mpl_toolkits.mplot3d import Axes3D"
      ],
      "execution_count": 2,
      "outputs": []
    },
    {
      "cell_type": "markdown",
      "metadata": {
        "id": "gnO3lhAigLev"
      },
      "source": [
        "# **Introduction**\n",
        "In this lab we are looking at different methods to solve systems of linear equations, and one case of solving a scalar non-linear funtion. These are all iterative methods, meaning that the current solution is updated until the change in one iteration is so small that it is deemed close enough to the solution to stop updating. \n",
        "\n",
        "I realised too late that the tests I did aren't exactly what was asked for. However the submission is already delayed so the score is void anyway, and thus the tests that I am plotting should be good enough. If not I'll fix it later!"
      ]
    },
    {
      "cell_type": "markdown",
      "metadata": {
        "id": "jOQvukXZq5U5"
      },
      "source": [
        "# **Method**\n",
        "\n",
        "To solve this week's assignments I have used the algorithms specified in chapters 7, and 8 for Jacobi iteration, Gauss-Seidel iteration, and Newton's method for solving scalar, non-linear systems of equations. \n",
        "\n",
        "Since we are asked to test the convergence of the methods I modified the functions to also save the values for every iteration and return these values together with the solution x. This was to enable the plotting and analysis of the convergence rate. "
      ]
    },
    {
      "cell_type": "code",
      "source": [
        "#2.1  \n",
        "\n",
        "def jacobi(A, b, max_iter=100):\n",
        "  TOL = 1e-11\n",
        "  r, c = A.shape\n",
        "  if (r != c or len(b) != c):\n",
        "    raise Exception(\"Matrix dimensions are incorrect\")\n",
        "  x = np.zeros_like(b, dtype=np.double)\n",
        "  A2 = A - np.diag(np.diagonal(A))  \n",
        "  conv_temp = []\n",
        "  for k in range(max_iter):\n",
        "    x_old  = x.copy()\n",
        "    x = (b - np.dot(A2, x)) / np.diagonal(A)\n",
        "    #print(k)  \n",
        "    conv_temp.append(np.linalg.norm(x-x_old) / np.linalg.norm(x))  \n",
        "    if np.linalg.norm(x - x_old) / np.linalg.norm(x) < TOL:\n",
        "      break      \n",
        "  return x, conv_temp\n"
      ],
      "metadata": {
        "id": "qS_gw7cxs3Lf"
      },
      "execution_count": 36,
      "outputs": []
    },
    {
      "cell_type": "markdown",
      "source": [
        "## Assignment 2.2\n",
        "Function: Gauss-Seidel iteration for Ax=b\n",
        "\n",
        "Input: matrix A, vector b\n",
        "Output: vector x\n",
        "Test: convergence of residual || Ax-b ||, || x-y || for manufactured/exact solution y\n",
        "\n",
        "\n",
        "[... the iteration is equivalent to a left preconditioned Richardson iteration with B = L−1, and α= 1, for which the convergence criterion is ‖I−L−1A‖ < 1. ] \n",
        "\n",
        "Solution based on the description for Example 7.9 in the book."
      ],
      "metadata": {
        "id": "9_ddEfZdXqA4"
      }
    },
    {
      "cell_type": "code",
      "source": [
        "def gauss_seidel(A, b, max_iter):\n",
        "  TOL = 1e-6\n",
        "  x = np.zeros_like(b, dtype=np.double)\n",
        "  r, c = A.shape\n",
        "  if (r != c or len(b) != c):\n",
        "    raise Exception(\"Matrix dimensions are incorrect\")\n",
        "  conv_temp = []\n",
        "  for k in range(max_iter):\n",
        "    x_old  = x.copy()\n",
        "    #print(k)    \n",
        "    for i in range(r): #iterate over rows\n",
        "      x[i] = (b[i] - np.dot(A[i,:i], x[:i]) - np.dot(A[i,(i+1):], x_old[(i+1):])) / A[i ,i] \n",
        "    conv_temp.append(np.linalg.norm(x - x_old, ord=np.inf) / np.linalg.norm(x, ord=np.inf))\n",
        "    if np.linalg.norm(x - x_old) / np.linalg.norm(x) < TOL:\n",
        "      break    \n",
        "  return x, conv_temp"
      ],
      "metadata": {
        "id": "Gyj1_r2VGlt7"
      },
      "execution_count": 50,
      "outputs": []
    },
    {
      "cell_type": "markdown",
      "metadata": {
        "id": "zF4iBj5VURZx"
      },
      "source": [
        "Describe the methods you used to solve the problem. This may be a combination of text, mathematical formulas (Latex), algorithms (code), data and output.  "
      ]
    },
    {
      "cell_type": "markdown",
      "source": [
        "## 2.3\n",
        "Function: Newton's method for scalar nonlinear equation f(x)=0\n",
        "\n",
        "Input: scalar function f(x)\n",
        "Output: real number x\n",
        "Test: convergence of residual |f(x)|, |x-y| for manufactured/exact solution y"
      ],
      "metadata": {
        "id": "JCpSTJDJjraE"
      }
    },
    {
      "cell_type": "code",
      "source": [
        "# 2.3\n",
        "# ALGORITHM 8.2 from the book (with slight tweak)\n",
        "\n",
        "def newtons_method(f, df, start_guess):\n",
        "  TOL = 1e-6\n",
        "  x = start_guess\n",
        "  temp_conv = []\n",
        "  while np.abs(f(x)) > TOL:\n",
        "    if df(x) == 0 and f(x) != 0: #maybe this is not encouraged, but it is a way to get around the risk of dividing by zero\n",
        "       x += 0.1                  # simply push x to the right side of the local min/max, could be to the left as well, only difference is which x that is found\n",
        "    x -= f(x)/df(x)              # In this way the function doesn't get stuck here and can continue looking for a solution\n",
        "    temp_conv.append(f(x))\n",
        "  return x, temp_conv  \n",
        "\n"
      ],
      "metadata": {
        "id": "Y0XSgl_h-rex"
      },
      "execution_count": 52,
      "outputs": []
    },
    {
      "cell_type": "markdown",
      "metadata": {
        "id": "SsQLT38gVbn_"
      },
      "source": [
        "# **Results**"
      ]
    },
    {
      "cell_type": "markdown",
      "source": [
        "# TESTS: \n",
        "####2.1\n",
        "\n",
        "I have written a 4x4 matrix A in that is diagonally dominant, because that is when Jacobi and Gauss-Seidel iteration are the most effective. This is to show that the functionality works.\n",
        "In order to do the required test on the convergence of the residual I modified the function to store the rate of change that is the basis for the stopping criteria. \n",
        "\n"
      ],
      "metadata": {
        "id": "6Qx_XozMlSBX"
      }
    },
    {
      "cell_type": "code",
      "source": [
        "A = np.array(([5,0,2,2],[0,4,0,1], [1,0,-4,0], [0,1,0,-5]), dtype = float)\n",
        "b = np.array([2,1,4,1])\n",
        "x, convergence = jacobi(A, b)\n",
        "x_axis = np.arange(0,len(convergence))\n",
        "plt.plot(x_axis, convergence, '*-')\n",
        "plt.xlabel(\"Iteration\")\n",
        "plt.ylabel(\"Rate of change\")\n",
        "plt.show()\n"
      ],
      "metadata": {
        "colab": {
          "base_uri": "https://localhost:8080/",
          "height": 279
        },
        "id": "-ntKIy8llIeG",
        "outputId": "64d296f3-6583-4d42-c85e-30439d9202af"
      },
      "execution_count": 100,
      "outputs": [
        {
          "output_type": "display_data",
          "data": {
            "text/plain": [
              "<Figure size 432x288 with 1 Axes>"
            ],
            "image/png": "[encoded data removed]"
          },
          "metadata": {
            "needs_background": "light"
          }
        }
      ]
    },
    {
      "cell_type": "markdown",
      "source": [
        "#### 2.2\n",
        "To test gauss_seidel I again use the same matrices A and b which should result in the same solution x as using jacobi did. We can see that it finds the same solution in roughly one third of the number of iterations that jacobi-iteration needed. \n"
      ],
      "metadata": {
        "id": "46eEb87ew-Cn"
      }
    },
    {
      "cell_type": "code",
      "source": [
        "#2.2\n",
        "\n",
        "if __name__ == \"__main__\":\n",
        "  A = np.array(([5,0,2,2],[0,4,0,1], [1,0,-4,0], [0,1,0,-5]), dtype = float)\n",
        "  #I = np.identity(4)\n",
        "  b = np.array([2,1,4,1])\n",
        "  iter = 500\n",
        "  a1 = 1\n",
        "  a2 = 1\n",
        "  x, convergence = gauss_seidel(A, b, iter)\n",
        "  print(\"Solution x : \", x, \" \\n\")\n",
        "  x_axis = np.arange(0,len(convergence))\n",
        "  plt.plot(x_axis, convergence, '*-')\n",
        "  plt.xlabel(\"Iteration\")\n",
        "  plt.ylabel(\"Rate of change\")\n",
        "   "
      ],
      "metadata": {
        "colab": {
          "base_uri": "https://localhost:8080/",
          "height": 314
        },
        "id": "ncQX5M1Rw9SW",
        "outputId": "75272f54-1c49-4b8e-dd50-f15ab433a21b"
      },
      "execution_count": 102,
      "outputs": [
        {
          "output_type": "stream",
          "name": "stdout",
          "text": [
            "Solution x :  [ 0.77922082  0.28571429 -0.80519479 -0.14285714]  \n",
            "\n"
          ]
        },
        {
          "output_type": "display_data",
          "data": {
            "text/plain": [
              "<Figure size 432x288 with 1 Axes>"
            ],
            "image/png": "[encoded data removed]"
          },
          "metadata": {
            "needs_background": "light"
          }
        }
      ]
    },
    {
      "cell_type": "code",
      "source": [
        "#2.3\n",
        "if __name__ == \"__main__\":\n",
        "\n",
        "  def f(x):\n",
        "    return x*x -(3 * x) + 1\n",
        "\n",
        "  def df(x):\n",
        "    return 2*x - 3\n",
        "\n",
        "  print(\"Test to see that we get both solutions to f(x) = 0 when using different start-values for x \\n\")\n",
        "  x1, conv1 = newtons_method(f, df, 1) \n",
        "  print(x1)\n",
        "  x2, conv2 = newtons_method(f, df, 10)\n",
        "  print(x2, \"\\n\")\n",
        "    \n",
        "  print(\"Test to verify that the function completes its search even though we start the guess at the point where the df = 0\")\n",
        "  print(\"\\n\")\n",
        "  x3, conv3 = newtons_method(f, df, 1.5)\n",
        "  print(x3)\n",
        "  ##Plot of the function\n",
        "  xs = np.arange(-3, 5, 0.05)\n",
        "  ys = []\n",
        "  for x in xs:\n",
        "    ys.append(f(x))\n",
        "  plt.plot(xs, ys)  \n",
        "  print(\"\\n\\n\\n Plot of the function, with the two zero-intersections found by the function\\n\")\n",
        "  #x_axis = np.arange(0,len(conv1))\n",
        "  #plt.plot( conv1, '*')\n",
        "\n",
        "  plt.plot(0.3819660112500109, 0,'*')\n",
        "  plt.plot(2.618033988749989 ,0, '*')\n",
        "  plt.grid()\n",
        "  plt.xlabel(\"f(x) = x^2 -3x +1\")\n",
        "  plt.ylabel(\"y = f(x)\")\n"
      ],
      "metadata": {
        "colab": {
          "base_uri": "https://localhost:8080/",
          "height": 526
        },
        "id": "5TcnFnuaLVVM",
        "outputId": "7f29606d-2e1f-4afd-96c7-cab350696d61"
      },
      "execution_count": 98,
      "outputs": [
        {
          "output_type": "stream",
          "name": "stdout",
          "text": [
            "Test to see that we get both solutions to f(x) = 0 when using different start-values for x \n",
            "\n",
            "0.3819660112500109\n",
            "2.6180340875988275 \n",
            "\n",
            "Test to verify that the function completes its search even though we start the guess at the point where the df = 0\n",
            "\n",
            "\n",
            "2.618033988989035\n",
            "\n",
            "\n",
            "\n",
            " Plot of the function, with the two zero-intersections found by the function\n",
            "\n"
          ]
        },
        {
          "output_type": "display_data",
          "data": {
            "text/plain": [
              "<Figure size 432x288 with 1 Axes>"
            ],
            "image/png": "[encoded data removed]"
          },
          "metadata": {
            "needs_background": "light"
          }
        }
      ]
    },
    {
      "cell_type": "code",
      "source": [
        "plt.plot([0,1,2,3,4,5], [0,0,0,0,0,0],'-', color = 'white') #just to adjust x-axis\n",
        "conv1.append(0)\n",
        "conv2.append(0)\n",
        "plt.plot(conv1, '*-')\n",
        "plt.plot(conv2, '^-')\n",
        "plt.xlabel('Iteration i')\n",
        "plt.ylabel('f(x) at iteration i')"
      ],
      "metadata": {
        "colab": {
          "base_uri": "https://localhost:8080/",
          "height": 296
        },
        "id": "IBKkyuaSwhaw",
        "outputId": "0461cdf1-5a4d-443c-92c0-bce3808d310a"
      },
      "execution_count": 101,
      "outputs": [
        {
          "output_type": "execute_result",
          "data": {
            "text/plain": [
              "Text(0, 0.5, 'f(x) at iteration i')"
            ]
          },
          "metadata": {},
          "execution_count": 101
        },
        {
          "output_type": "display_data",
          "data": {
            "text/plain": [
              "<Figure size 432x288 with 1 Axes>"
            ],
            "image/png": "[encoded data removed]"
          },
          "metadata": {
            "needs_background": "light"
          }
        }
      ]
    },
    {
      "cell_type": "code",
      "source": [],
      "metadata": {
        "id": "hBDqdXhZ9P-h"
      },
      "execution_count": null,
      "outputs": []
    },
    {
      "cell_type": "markdown",
      "metadata": {
        "id": "_4GLBv0zWr7m"
      },
      "source": [
        "# **Discussion**"
      ]
    },
    {
      "cell_type": "markdown",
      "metadata": {
        "id": "6bcsDSoRXHZe"
      },
      "source": [
        "Some useful code for solving linear and non-linear systems of equations was implemented in this lab. Theoretically it is not difficult to understand what the Jacobi and Gauss-Seidel iterative methods are doing, but I did find it confusing to implement in code. I am glad that we had the assignment otherwise I don't think I ever would have thought to try doing so. \n",
        "\n",
        "In the Jacobi Iteration if the tolerance for error is decreased by one order of magnitude - every decrease causes the algorithm to require two more iterations to complete. This pattern holds for all tolerances that I tested [1e-2, 1e-11], where TOL = 1e-2 stops on its fifth iteration, and TOL = 1e-11 stops on its twenty-third. \n",
        "\n",
        "We see in the last plot that Newton's method in this example needs only one more iteration before it converges when the starting-value is far away from the solution.  "
      ]
    }
  ]
}