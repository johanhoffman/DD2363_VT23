{
  "cells": [
    {
      "cell_type": "markdown",
      "metadata": {
        "id": "view-in-github",
        "colab_type": "text"
      },
      "source": [
        "<a href=\"https://colab.research.google.com/github/johanhoffman/DD2363_VT23/blob/ViktorB9898-Lab2/Lab2/ViktorB9898_lab2.ipynb\" target=\"_parent\"><img src=\"https://colab.research.google.com/assets/colab-badge.svg\" alt=\"Open In Colab\"/></a>"
      ]
    },
    {
      "cell_type": "markdown",
      "metadata": {
        "id": "6RgtXlfYO_i7"
      },
      "source": [
        "# **Lab 2: Iterative Methods**\n",
        "**Viktor Beck**"
      ]
    },
    {
      "cell_type": "markdown",
      "metadata": {
        "id": "9x_J5FVuPzbm"
      },
      "source": [
        "# **Abstract**"
      ]
    },
    {
      "cell_type": "markdown",
      "metadata": {
        "id": "6UFTSzW7P8kL"
      },
      "source": [
        "This programming assingment features iterative methods to solve matrix equations\n",
        "\n",
        "Conclusion: "
      ]
    },
    {
      "cell_type": "markdown",
      "metadata": {
        "id": "OkT8J7uOWpT3"
      },
      "source": [
        "#**About the code**"
      ]
    },
    {
      "cell_type": "code",
      "execution_count": null,
      "metadata": {
        "colab": {
          "base_uri": "https://localhost:8080/",
          "height": 35
        },
        "id": "Pdll1Xc9WP0e",
        "outputId": "8eee1d32-a208-4335-96e7-9c4fa342c4a5"
      },
      "outputs": [
        {
          "output_type": "execute_result",
          "data": {
            "text/plain": [
              "'KTH Royal Institute of Technology, Stockholm, Sweden.'"
            ],
            "application/vnd.google.colaboratory.intrinsic+json": {
              "type": "string"
            }
          },
          "metadata": {},
          "execution_count": 1
        }
      ],
      "source": [
        "\"\"\"This program is a lab report in the course\"\"\"\n",
        "\"\"\"DD2363 Methods in Scientific Computing, \"\"\"\n",
        "\"\"\"KTH Royal Institute of Technology, Stockholm, Sweden.\"\"\"\n",
        "\n",
        "# Copyright (C) 2023 Viktor Beck (vbeck@kth.se / viktor.beck98@gmail.com)\n",
        "\n",
        "# This file is part of the course DD2363 Methods in Scientific Computing\n",
        "# KTH Royal Institute of Technology, Stockholm, Sweden"
      ]
    },
    {
      "cell_type": "markdown",
      "metadata": {
        "id": "28xLGz8JX3Hh"
      },
      "source": [
        "# **Set up environment**"
      ]
    },
    {
      "cell_type": "markdown",
      "metadata": {
        "id": "D2PYNusD08Wa"
      },
      "source": [
        "To have access to the neccessary modules you have to run this cell."
      ]
    },
    {
      "cell_type": "code",
      "execution_count": null,
      "metadata": {
        "id": "Xw7VlErAX7NS"
      },
      "outputs": [],
      "source": [
        "# Load neccessary modules.\n",
        "from google.colab import files\n",
        "\n",
        "import time\n",
        "import numpy as np\n",
        "\n",
        "from matplotlib import pyplot as plt\n",
        "from scipy.misc import derivative"
      ]
    },
    {
      "cell_type": "markdown",
      "metadata": {
        "id": "gnO3lhAigLev"
      },
      "source": [
        "# **Introduction**"
      ]
    },
    {
      "cell_type": "markdown",
      "metadata": {
        "id": "l5zMzgPlRAF6"
      },
      "source": [
        "This report is about iterative methods. Function 1 is for solving the typical matrix equation Ax=b and function 3 and 5 are the Newton method for 1D and for multiple dimensions.\n",
        "\n",
        "The input for this Lab report was taken from the book of Professor Hoffman (https://doi-org.focus.lib.kth.se/10.1137/1.9781611976724) which corresponds to the content of the course:\n",
        "\n",
        "[Hyperlink to DD2363 course website.](https://kth.instructure.com/courses/17068)"
      ]
    },
    {
      "cell_type": "markdown",
      "metadata": {
        "id": "jOQvukXZq5U5"
      },
      "source": [
        "# **Method**"
      ]
    },
    {
      "cell_type": "markdown",
      "metadata": {
        "id": "vFJhjaCygfrw"
      },
      "source": [
        "### **1. Function: Jacobi iteration for Ax=b**"
      ]
    },
    {
      "cell_type": "markdown",
      "metadata": {
        "id": "INJidSZ7gfrw"
      },
      "source": [
        "From chapter (7.7) in the book: The Jacobi iteration is based on spitting the matrix A into two matrices with $A_2 = A - A_1$ where $A_1 = D = diag(A)$ which gives $M_J = I-D^{-1}A$ and $c = D^{-1}b$. In index notation this gives\n",
        "\\begin{equation}\n",
        "x_i^{k+1} = a_{ii}^{-1}\\Big(b_i-\\sum_{j \\neq i}a_{ij}x_j^{k}\\Big)\n",
        "\\end{equation}"
      ]
    },
    {
      "cell_type": "code",
      "execution_count": null,
      "metadata": {
        "id": "VuNgxSHtgfrw"
      },
      "outputs": [],
      "source": [
        "def jacobi_iteration(A, b, iterations = 100):\n",
        "    n = len(b)\n",
        "    x = np.zeros(n)\n",
        "    x_old = np.ones(n)\n",
        "    for k in range(iterations):\n",
        "        for i in range(n):\n",
        "                sum = 0\n",
        "                for j in range(n): \n",
        "                    if j != i:\n",
        "                        sum += A[i][j] * x_old[j]\n",
        "                x[i] = 1/A[i][i] * (b[i] - sum)\n",
        "        x_old = x\n",
        "    return x"
      ]
    },
    {
      "cell_type": "markdown",
      "metadata": {
        "id": "G8aeTIFsgfrx"
      },
      "source": [
        "The function could have also been written in vector / matrix form instead of iterating over the index."
      ]
    },
    {
      "cell_type": "markdown",
      "metadata": {
        "id": "E469b2Ctgfrx"
      },
      "source": [
        "### **3. Function: Newton's method for scalar nonlinear equation f(x)=0**"
      ]
    },
    {
      "cell_type": "markdown",
      "metadata": {
        "id": "nRcK6eYRgfry"
      },
      "source": [
        "From chapter (8.4): The Newton method is one of the simplest algorithms there is for solving $f(x)=0$ and still has quadratic convergence. In each iteration the zero of the tangent is calculated and used as the new x in the next iteration. The formula is:\n",
        "\\begin{equation}\n",
        "x^{k+1} = x^k - f(x^k)/f'(x^k)\n",
        "\\end{equation}"
      ]
    },
    {
      "cell_type": "code",
      "execution_count": null,
      "metadata": {
        "id": "269QxALNgfry"
      },
      "outputs": [],
      "source": [
        "def newton_scalar(f, x0=1, tol=10**-6):\n",
        "    x = x0\n",
        "    x_list = []\n",
        "    while np.linalg.norm(f(x)) > tol:\n",
        "        x = x - f(x)/derivative(f, x, 10**-6)\n",
        "        x_list.append(x)\n",
        "    #return list to show convergence behavior\n",
        "    return np.array(x_list)"
      ]
    },
    {
      "cell_type": "markdown",
      "metadata": {
        "id": "NaTdZGpzgfry"
      },
      "source": [
        "### **5. Function: Newton's method for vector nonlinear equation f(x)=0**"
      ]
    },
    {
      "cell_type": "markdown",
      "metadata": {
        "id": "K5N-Y4_ugfry"
      },
      "source": [
        "Newton's method in multiple dimensions is given by the following function:\n",
        "\\begin{equation}\n",
        "x_{k+1} = x_{k} - (f'(x))^{-1}f(x)\n",
        "\\end{equation}\n",
        "where $f'$ is the Jacobian. If we translate this to code we get:"
      ]
    },
    {
      "cell_type": "code",
      "execution_count": null,
      "metadata": {
        "id": "jibpVB7sgfrz"
      },
      "outputs": [],
      "source": [
        "def newton_vector(f, df, x0, N=12):\n",
        "    x = x0\n",
        "    err = []\n",
        "    for n in range(0, N):\n",
        "        x_old = x\n",
        "        x = x - np.linalg.solve(df(x), f(x))\n",
        "        # here we are calculating the stepwise error (for visualization)\n",
        "        err.append(np.linalg.norm(x-x_old))\n",
        "    return x, err"
      ]
    },
    {
      "cell_type": "markdown",
      "metadata": {
        "id": "dyAqWCwwgfrz"
      },
      "source": [
        "Since it is very complicated to compute the Jacobian we take df as an input parameter. There are some machine learning libraries for computing the Jacobian but no standard numpy or scipy function for that."
      ]
    },
    {
      "cell_type": "markdown",
      "metadata": {
        "id": "SsQLT38gVbn_"
      },
      "source": [
        "# **Results**"
      ]
    },
    {
      "cell_type": "markdown",
      "metadata": {
        "id": "TOiHvDdQgfrz"
      },
      "source": [
        "### **1. Function: Jacobi iteration for Ax=b**"
      ]
    },
    {
      "cell_type": "markdown",
      "metadata": {
        "id": "CgF9N5s9gfrz"
      },
      "source": [
        "Convergence of the Jacobi iteration is dependent on a diagonally dominant matrix A."
      ]
    },
    {
      "cell_type": "code",
      "execution_count": null,
      "metadata": {
        "id": "A_7FuDzDgfr0",
        "outputId": "455139c8-e48b-4c1d-b6ac-b29f30354089",
        "colab": {
          "base_uri": "https://localhost:8080/"
        }
      },
      "outputs": [
        {
          "output_type": "stream",
          "name": "stdout",
          "text": [
            "norm(Ax-b) = 4.121799234506996e-14\n",
            "norm(x-y) = 2.7406322543077535e-14\n"
          ]
        }
      ],
      "source": [
        "n = 5\n",
        "\n",
        "# add identity matrix to make sure the matrix is diagonally dominant\n",
        "A = np.eye(n) + np.random.rand(n,n)\n",
        "b = np.arange(n)\n",
        "\n",
        "\n",
        "x = jacobi_iteration(A,b, iterations=50)\n",
        "\n",
        "# manufactured solution\n",
        "y = np.linalg.solve(A,b)\n",
        "\n",
        "print(\"norm(Ax-b) =\", np.linalg.norm(np.matmul(A,x) - b))\n",
        "print(\"norm(x-y) =\", np.linalg.norm(x-y))\n"
      ]
    },
    {
      "cell_type": "markdown",
      "metadata": {
        "id": "iV43-KDwgfr0"
      },
      "source": [
        "### **3. Function: Newton's method for scalar nonlinear equation f(x)=0**"
      ]
    },
    {
      "cell_type": "code",
      "execution_count": null,
      "metadata": {
        "id": "VN-9DSjkgfr0",
        "outputId": "134f9a91-df49-44d5-eeae-6bba7cdb444d",
        "colab": {
          "base_uri": "https://localhost:8080/"
        }
      },
      "outputs": [
        {
          "output_type": "stream",
          "name": "stdout",
          "text": [
            "norm(f(x*)) = 4.734604819311983e-08\n",
            "norm(x*-y) = 2.36730235414484e-08\n"
          ]
        }
      ],
      "source": [
        "# some nonlinear function\n",
        "def f(x):\n",
        "    return x**3 + x**2 + x + 1\n",
        "\n",
        "# function f has a zero at x = -1\n",
        "y = -1\n",
        "\n",
        "res = newton_scalar(f) #res[-1] is x*\n",
        "\n",
        "# L2 norms\n",
        "print(\"norm(f(x*)) =\",np.linalg.norm(f(res[-1])))\n",
        "print(\"norm(x*-y) =\",np.linalg.norm(res[-1]-y))"
      ]
    },
    {
      "cell_type": "markdown",
      "metadata": {
        "id": "iJ6asiQHgfr0"
      },
      "source": [
        "... we can see, that the method converges as the norms are almost 0."
      ]
    },
    {
      "cell_type": "code",
      "execution_count": null,
      "metadata": {
        "id": "BXVJO4rAgfr1",
        "outputId": "56550581-d5a0-4e47-a70d-eeda25819b95",
        "colab": {
          "base_uri": "https://localhost:8080/",
          "height": 347
        }
      },
      "outputs": [
        {
          "output_type": "stream",
          "name": "stdout",
          "text": [
            "Values of x* for each of the 7 steps: [ 0.33333333 -0.40740741 -1.41886063 -1.11848844 -1.01248218 -1.00015387\n",
            " -1.00000002]\n"
          ]
        },
        {
          "output_type": "execute_result",
          "data": {
            "text/plain": [
              "Text(0.5, 1.0, 'x* for each step')"
            ]
          },
          "metadata": {},
          "execution_count": 8
        },
        {
          "output_type": "display_data",
          "data": {
            "text/plain": [
              "<Figure size 432x288 with 1 Axes>"
            ],
            "image/png": "[encoded data removed]"
          },
          "metadata": {
            "needs_background": "light"
          }
        }
      ],
      "source": [
        "print(\"Values of x* for each of the\", len(res), \"steps:\" , res)\n",
        "plt.plot(range(len(res)), res)\n",
        "plt.xlabel(\"steps\")\n",
        "plt.ylabel(\"x\")\n",
        "plt.title(\"x* for each step\")"
      ]
    },
    {
      "cell_type": "markdown",
      "metadata": {
        "id": "kR9kj8-ygfr1"
      },
      "source": [
        "### **5. Function: Newton's method for vector nonlinear equation f(x)=0**"
      ]
    },
    {
      "cell_type": "markdown",
      "metadata": {
        "id": "KOr-coEcgfr1"
      },
      "source": [
        "\n",
        "\n"
      ]
    },
    {
      "cell_type": "code",
      "execution_count": null,
      "metadata": {
        "id": "TQAV5CPEgfr1",
        "outputId": "ccdbe289-f128-42c6-ae78-036ab0d27925",
        "colab": {
          "base_uri": "https://localhost:8080/"
        }
      },
      "outputs": [
        {
          "output_type": "stream",
          "name": "stdout",
          "text": [
            "norm(f(x)) = 1.4695066510871083e-05\n",
            "norm(x-y) = 7.370047098576815e-07\n"
          ]
        }
      ],
      "source": [
        "#I used these input functions already in another course, just recycled it here\n",
        "\n",
        "def f(x):\n",
        "    F = np.array([3*x[0] - np.cos(x[1]*x[2]) - 3/2,\n",
        "                  4*x[0]**2 - 625*x[1]**2 + 2*x[2] - 1,\n",
        "                  20*x[2] + np.exp(-x[0]*x[1]) + 9])\n",
        "    return F\n",
        "\n",
        "def df(x):\n",
        "    DF = np.array([[3, np.sin(x[1]*x[2])*x[2], np.sin(x[1]*x[2])*x[1]],\n",
        "                  [8*x[0], -1250*x[1], 2],\n",
        "                  [-np.exp(-x[0]*x[1])*x[1], -np.exp(-x[0]*x[1])*x[2], 20]])\n",
        "    return DF\n",
        "\n",
        "x_zero, err = newton_vector(f, df, x0=np.array([1,1,1]), N=8)\n",
        "\n",
        "# we assume that the exact value is reached after 20 iterations\n",
        "y = newton_vector(f, df, x0=np.array([1,1,1]), N=20)[0]\n",
        "\n",
        "#print(\"x* =\", x_zero)\n",
        "#print(\"y =\", y)\n",
        "\n",
        "print(\"norm(f(x)) =\", np.linalg.norm(f(x_zero)))\n",
        "print(\"norm(x-y) =\",np.linalg.norm(x_zero-y))"
      ]
    },
    {
      "cell_type": "code",
      "execution_count": null,
      "metadata": {
        "id": "9vvR0dlugfr2",
        "outputId": "440936da-99f4-4c2d-84ef-fa8df985b55c",
        "colab": {
          "base_uri": "https://localhost:8080/",
          "height": 296
        }
      },
      "outputs": [
        {
          "output_type": "execute_result",
          "data": {
            "text/plain": [
              "Text(0, 0.5, 'stepwise error$||x_{k+1}-x_{k}||$')"
            ]
          },
          "metadata": {},
          "execution_count": 10
        },
        {
          "output_type": "display_data",
          "data": {
            "text/plain": [
              "<Figure size 432x288 with 1 Axes>"
            ],
            "image/png": "[encoded data removed]"
          },
          "metadata": {
            "needs_background": "light"
          }
        }
      ],
      "source": [
        "plt.semilogy(np.arange(len(err)), err)\n",
        "plt.xlabel('steps k')\n",
        "plt.ylabel('stepwise error$||x_{k+1}-x_{k}||$')"
      ]
    },
    {
      "cell_type": "markdown",
      "metadata": {
        "id": "_4GLBv0zWr7m"
      },
      "source": [
        "# **Discussion**"
      ]
    },
    {
      "cell_type": "markdown",
      "metadata": {
        "id": "6bcsDSoRXHZe"
      },
      "source": [
        "The Jacobi method seems to be quite a good algorithm in terms of efficiency since it is not using any matrix multiplications or similar. But the algorithm is limited by the matrix A which has to be diagonally dominant.\n",
        "\n",
        "The Newton method is also a very good algorithm since it has quadratic convergence. In multiple dimensions it becomes more difficult because we have to compute the Jacobian. "
      ]
    }
  ],
  "metadata": {
    "colab": {
      "provenance": [],
      "include_colab_link": true
    },
    "kernelspec": {
      "display_name": "Python 3",
      "language": "python",
      "name": "python3"
    },
    "language_info": {
      "codemirror_mode": {
        "name": "ipython",
        "version": 3
      },
      "file_extension": ".py",
      "mimetype": "text/x-python",
      "name": "python",
      "nbconvert_exporter": "python",
      "pygments_lexer": "ipython3",
      "version": "3.10.6"
    },
    "vscode": {
      "interpreter": {
        "hash": "916dbcbb3f70747c44a77c7bcd40155683ae19c65e1c03b4aa3499c5328201f1"
      }
    }
  },
  "nbformat": 4,
  "nbformat_minor": 0
}