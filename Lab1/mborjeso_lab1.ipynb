{
  "nbformat": 4,
  "nbformat_minor": 0,
  "metadata": {
    "colab": {
      "provenance": []
    },
    "kernelspec": {
      "name": "python3",
      "display_name": "Python 3"
    }
  },
  "cells": [
    {
      "cell_type": "markdown",
      "metadata": {
        "id": "6RgtXlfYO_i7"
      },
      "source": [
        "# **Lab 1: Matrix factorization**\n",
        "**Martin Börjeson**"
      ]
    },
    {
      "cell_type": "markdown",
      "metadata": {
        "id": "9x_J5FVuPzbm"
      },
      "source": [
        "# **Abstract**"
      ]
    },
    {
      "cell_type": "markdown",
      "metadata": {
        "id": "6UFTSzW7P8kL"
      },
      "source": [
        "\n",
        "\n",
        "```\n",
        "# This is formatted as code\n",
        "```\n",
        "\n",
        "Short summary of the lab report. State the objectives, methods used, main results and conlusions. "
      ]
    },
    {
      "cell_type": "markdown",
      "metadata": {
        "id": "yJipbXtnjrJZ"
      },
      "source": []
    },
    {
      "cell_type": "markdown",
      "metadata": {
        "id": "OkT8J7uOWpT3"
      },
      "source": [
        "#**About the code**"
      ]
    },
    {
      "cell_type": "markdown",
      "metadata": {
        "id": "HmB2noTr1Oyo"
      },
      "source": [
        "The code is written by me, Martin Börjeson."
      ]
    },
    {
      "cell_type": "code",
      "metadata": {
        "id": "Pdll1Xc9WP0e",
        "colab": {
          "base_uri": "https://localhost:8080/",
          "height": 35
        },
        "outputId": "9c50c8e7-a464-453e-ff08-fab13d0548ee"
      },
      "source": [
        "\"\"\"DD2363 Methods in Scientific Computing, \"\"\"\n",
        "\"\"\"KTH Royal Institute of Technology, Stockholm, Sweden.\"\"\"\n",
        "\n",
        "# This file is part of the course DD2365 Advanced Computation in Fluid Mechanics\n",
        "# KTH Royal Institute of Technology, Stockholm, Sweden\n",
        "#\n",
        "# Report by Martin Börjeson"
      ],
      "execution_count": 11,
      "outputs": [
        {
          "output_type": "execute_result",
          "data": {
            "text/plain": [
              "'KTH Royal Institute of Technology, Stockholm, Sweden.'"
            ],
            "application/vnd.google.colaboratory.intrinsic+json": {
              "type": "string"
            }
          },
          "metadata": {},
          "execution_count": 11
        }
      ]
    },
    {
      "cell_type": "markdown",
      "metadata": {
        "id": "28xLGz8JX3Hh"
      },
      "source": [
        "# **Set up environment**"
      ]
    },
    {
      "cell_type": "markdown",
      "metadata": {
        "id": "D2PYNusD08Wa"
      },
      "source": [
        "To have access to the neccessary modules you have to run this cell. If you need additional modules, this is where you add them. "
      ]
    },
    {
      "cell_type": "code",
      "metadata": {
        "id": "Xw7VlErAX7NS"
      },
      "source": [
        "# Load neccessary modules.\n",
        "from google.colab import files\n",
        "\n",
        "import time\n",
        "import numpy as np\n",
        "import unittest\n",
        "\n",
        "from matplotlib import pyplot as plt\n",
        "from matplotlib import tri\n",
        "from matplotlib import axes\n",
        "from mpl_toolkits.mplot3d import Axes3D"
      ],
      "execution_count": 12,
      "outputs": []
    },
    {
      "cell_type": "markdown",
      "metadata": {
        "id": "gnO3lhAigLev"
      },
      "source": [
        "# **Introduction**"
      ]
    },
    {
      "cell_type": "markdown",
      "metadata": {
        "id": "l5zMzgPlRAF6"
      },
      "source": [
        "Matrix factorization (or matrix decomposition) is a factorization of a matrix into a product of matrices. When inverting a matrix, it is sometimes easier to first decompose the matrix into a product of matrices which are easier to invert.\n",
        "\n",
        "In this report, I've decided to use Gram-Schmidt QR factorization, in which a square matrix is rewritten as the product of an orthogonal matrix and an upper triangular matrix. I chose the Gram-Schmidt factorization over the Householder factorization due to it appearing to be slightly easier to implement.\n",
        "\n",
        "A class and a few methods from the Numpy library are used. They are the following:\n",
        "\n",
        "`numpy.ndarray` class\n",
        "\n",
        "`numpy.matmul()`\n",
        "\n",
        "`numpy.zeros()`\n",
        "\n",
        "`numpy.array()`\n",
        "\n",
        "`numpy.dot()`\n",
        "\n",
        "`numpy.linalg.norm()`\n",
        "\n",
        "`numpy.linalg.matrix_rank()`\n",
        "\n",
        "*Give a short description of the problem investigated in the report, and provide some background information so that the reader can understand the context. If appropriate, include a discussion on the state of the art.*\n",
        "\n",
        "*Briefly describe what method you have chosen to solve the problem, and justify why you selected that method.*\n",
        "\n",
        "*Here you can express mathematics through Latex syntax, and use hyperlinks for references.*\n",
        "\n",
        "$\n",
        "{\\displaystyle \\frac{\\partial u}{\\partial t}} + u\\cdot \\nabla u +\\nabla p = f, \\quad \\nabla \\cdot u=0$\n",
        "\n"
      ]
    },
    {
      "cell_type": "markdown",
      "metadata": {
        "id": "jOQvukXZq5U5"
      },
      "source": [
        "## **Method**"
      ]
    },
    {
      "cell_type": "markdown",
      "metadata": {
        "id": "zF4iBj5VURZx"
      },
      "source": [
        "Describe the methods you used to solve the problem. This may be a combination of text, mathematical formulas (Latex), algorithms (code), data and output.  "
      ]
    },
    {
      "cell_type": "markdown",
      "source": [
        "#Sparse matrix implementation"
      ],
      "metadata": {
        "id": "ESV17MJqqH86"
      }
    },
    {
      "cell_type": "markdown",
      "source": [
        "In this cell the sparse matrix class is introduced together with some methods for converting from and to a dense matrix, as well as multiplication with a vector.\n",
        "\n",
        "Dense matrices are represented with a numpy ndarray.\n",
        "\n",
        "The number of columns in a sparse matrix is ambiguous. Columns containing only zeroes are omitted if they are to the right of any non-zero columns. Due to this ambiguity I felt that it would be good to allow multiplication with any vector that has more rows than the number of non-zero columns in the sparse matrix."
      ],
      "metadata": {
        "id": "OJSSrYZyqUl7"
      }
    },
    {
      "cell_type": "markdown",
      "source": [
        "Input: sparse matrix $A$, vector $x$\n",
        "\n",
        "Output: matrix-vector product $b=Ax$"
      ],
      "metadata": {
        "id": "HX3uAHaOq2ff"
      }
    },
    {
      "cell_type": "code",
      "source": [
        "class spMatrix:\n",
        "  def __init__(self, val: np.array, col_idx: np.array, row_ptr: np.array):\n",
        "    self.val = val\n",
        "    self.col_idx = col_idx\n",
        "    self.row_ptr = row_ptr\n",
        "\n",
        "  #Create and return a dense version of the matrix.\n",
        "  def dMatrix(self):\n",
        "    arr = np.zeros((len(self.row_ptr),np.max(self.col_idx)),dtype = self.val.dtype)\n",
        "    row = 0\n",
        "    for i in range(len(self.val)):\n",
        "      col = self.col_idx[i]-1\n",
        "      while (row+1 < len(self.row_ptr)) and (i>=self.row_ptr[row+1]-1):\n",
        "        row += 1\n",
        "      arr[row,col] = self.val[i]\n",
        "    return arr\n",
        "\n",
        "  def __str__(self):\n",
        "    return self.dMatrix().__str__()\n",
        "\n",
        "def spMatFromDMat(dMat: np.array) -> spMatrix:\n",
        "  val = []\n",
        "  col_idx = []\n",
        "  row_ptr = []\n",
        "  i = 1\n",
        "  for row in range(len(dMat)):\n",
        "    row_ptr.append(i)\n",
        "    for col in range(len(dMat[0])):\n",
        "      if(dMat[row,col] != 0):\n",
        "        val.append(dMat[row,col])\n",
        "        col_idx.append(col+1)\n",
        "        i += 1\n",
        "  return spMatrix(np.array(val),np.array(col_idx),np.array(row_ptr))\n",
        "\n",
        "def spMatrixProd(spMat: spMatrix, vec: np.array) -> np.array:\n",
        "  if(len(vec) < np.max(spMat.col_idx)):\n",
        "    raise Exception(\"Dimension mismatch\")\n",
        "  if (vec.dtype == \"complex128\" or spMat.val.dtype == \"complex128\"):\n",
        "    retVec = np.zeros(len(spMat.row_ptr), dtype = \"complex128\")\n",
        "  else:\n",
        "    retVec = np.zeros(len(spMat.row_ptr))\n",
        "  row = 0\n",
        "  for i in range(len(spMat.val)):\n",
        "    col = spMat.col_idx[i]-1\n",
        "    while (row+1 < len(spMat.row_ptr)) and (i>=spMat.row_ptr[row+1]-1):\n",
        "      row += 1\n",
        "    retVec[row] += vec[col]*spMat.val[i]\n",
        "  return retVec"
      ],
      "metadata": {
        "id": "v62zuu5lqVR6"
      },
      "execution_count": 13,
      "outputs": []
    },
    {
      "cell_type": "markdown",
      "source": [
        "# QR factorization implementation"
      ],
      "metadata": {
        "id": "mGeb7LhMqkLL"
      }
    },
    {
      "cell_type": "markdown",
      "source": [
        "I chose to use Gram-Schmidt QR factorization in this assignment. As I understand it, the input is a regular dense matrix, not the sparse matrix I just implemented.\n",
        "\n",
        "Gram-Schmidt QR factorization works by orthogonalizing the input matrix through projection, while preserving the scalings in a triangular matrix."
      ],
      "metadata": {
        "id": "sSJcSsIpuGwo"
      }
    },
    {
      "cell_type": "markdown",
      "source": [
        "Input: real quadratic matrix $A$\n",
        "\n",
        "Output: orthogonal matrix $Q$, upper triangular matrix $R$, such that $A = QR$."
      ],
      "metadata": {
        "id": "VUesy_K4AJPc"
      }
    },
    {
      "cell_type": "code",
      "source": [
        "def modified_gram_schmidt_iteration(A: np.ndarray):\n",
        "  dims = A.shape\n",
        "  if(dims[0] != dims[1]):\n",
        "    raise Exception(\"Matrix is not quadratic!\")\n",
        "  if(np.linalg.matrix_rank(A)!=A.shape[0]):\n",
        "    raise Exception(\"Matrix is singular!\")\n",
        "  A = np.copy(A)\n",
        "  n = dims[0]\n",
        "  R = np.zeros(A.shape, dtype = float)\n",
        "  Q = np.zeros(A.shape, dtype = float)\n",
        "  for j in range(n):\n",
        "    v = A[:,j]\n",
        "    for i in range(j):\n",
        "      R[i,j] = np.dot(Q[:,i],v)\n",
        "      v -= R[i,j]*Q[:,i]\n",
        "    R[j,j] = np.linalg.norm(v)\n",
        "    Q[:,j] = v/R[j,j]\n",
        "  return Q,R"
      ],
      "metadata": {
        "id": "oBlnsuC3AIfh"
      },
      "execution_count": 14,
      "outputs": []
    },
    {
      "cell_type": "markdown",
      "source": [
        "# Direct solver $Ax = b$"
      ],
      "metadata": {
        "id": "odg2nSw1qsmT"
      }
    },
    {
      "cell_type": "markdown",
      "source": [
        "A straightforward method solving a system of linear equations on the form $Ax = b$ is to find $A^{-1}$.\n",
        "\n",
        "$A^{-1}Ax = A^{-1}b$ can be simplified to $x = A^{-1}b$, which happens to be the solution.\n",
        "\n",
        "Inverting a general matrix $A$ can be done by decomposing A into a product of one orthogonal matrix $Q$ and one triangular matrix $R$ and finding the inversions of those instead.\n",
        "\n",
        "$Ax = b$ can be rewritten as $QRx = b$, which can be solved by multiplying both sides with $R^{-1}Q^{-1}$.\n",
        "\n",
        "The inverse of an orthogonal matrix is just the transpose of the matrix, which is very easy to compute. The inverse of a triangular matrix can be done through a substitution algorithm. As R is an upper triangular matrix in my implementation, a backwards substitution algorithm should be used.\n",
        "\n",
        "Instead of explicitly creating the inverse of the triangular matrix, the backwards substitution"
      ],
      "metadata": {
        "id": "PaNvofIqNI44"
      }
    },
    {
      "cell_type": "markdown",
      "source": [
        "Input: real, non-singular and quadratic matrix $A$, vector $b$.\n",
        "\n",
        "Output: vector $x=A^{-1}b$"
      ],
      "metadata": {
        "id": "18OArV0hP6he"
      }
    },
    {
      "cell_type": "code",
      "source": [
        "def backward_substitution(R: np.ndarray, v: np.ndarray) -> np.ndarray:\n",
        "  n = v.shape[0]\n",
        "  x = np.zeros(v.shape, dtype = float)\n",
        "  x[-1] = v[-1]/R[-1,-1]\n",
        "  for i in range(n-2,-1,-1):\n",
        "    sum = 0\n",
        "    for j in range(i+1,n):\n",
        "      sum += R[i,j]*x[j]\n",
        "    x[i] = (v[i]-sum)/R[i,i]\n",
        "  return x\n",
        "\n",
        "def solve(A: np.ndarray, b: np.ndarray) -> np.ndarray:\n",
        "  Q,R = modified_gram_schmidt_iteration(A)\n",
        "  return backward_substitution(R,np.dot(np.transpose(Q),b))"
      ],
      "metadata": {
        "id": "CVuslqYkQWkp"
      },
      "execution_count": 15,
      "outputs": []
    },
    {
      "cell_type": "markdown",
      "source": [
        "#Bonus assignment: Least squares solver for $Ax=b$"
      ],
      "metadata": {
        "id": "oTb3HDxKP1N_"
      }
    },
    {
      "cell_type": "markdown",
      "source": [],
      "metadata": {
        "id": "dC2F6IhXULwu"
      }
    },
    {
      "cell_type": "code",
      "source": [
        "def least_squares(A: np.ndarray, b: np.ndarray) -> np.ndarray:\n",
        "  ATA = np.matmul(A.transpose(),A)\n",
        "  print(ATA)\n",
        "  ATb = np.matmul(A.transpose(),b)\n",
        "  print(ATb)\n",
        "  return solve(ATA,ATb)"
      ],
      "metadata": {
        "id": "qzBlqe4IP7I8"
      },
      "execution_count": 16,
      "outputs": []
    },
    {
      "cell_type": "markdown",
      "metadata": {
        "id": "SsQLT38gVbn_"
      },
      "source": [
        "# **Results**"
      ]
    },
    {
      "cell_type": "markdown",
      "metadata": {
        "id": "RLwlnOzuV-Cd"
      },
      "source": [
        "Below are a limited set of tests for the varies methods."
      ]
    },
    {
      "cell_type": "markdown",
      "source": [
        "#Sparse matrix implementation"
      ],
      "metadata": {
        "id": "HLaz7s9EwlIi"
      }
    },
    {
      "cell_type": "markdown",
      "source": [
        "Test: verify accuracy against dense matrix-vector product. The method produces the same results as the numpy method in all test cases."
      ],
      "metadata": {
        "id": "0h223WH3yZ3R"
      }
    },
    {
      "cell_type": "code",
      "source": [
        "#TESTS\n",
        "\n",
        "x = np.array([1,2,3,4,5,6])\n",
        "print(\"x =\",x)\n",
        "print()\n",
        "\n",
        "val = np.array([3, 2, 2, 2, 1, 1, 3, 2, 1, 2, 3])\n",
        "col_idx = np.array([1, 2, 4, 2, 3, 3, 3, 4, 5, 5, 6])\n",
        "row_ptr = np.array([1, 4, 6, 7, 9, 10])\n",
        "A = spMatrix(val, col_idx, row_ptr)\n",
        "print(\"A =\\n\",A)\n",
        "print(\"|Ax -Ax| = \",np.linalg.norm(spMatrixProd(A,x) - np.dot(A.dMatrix(),x)))\n",
        "print()\n",
        "\n",
        "val = np.array([3, 2, 2, 3, 2, 1, 2, 3])\n",
        "col_idx = np.array([1,2,4,6,4,5,5,3])\n",
        "row_ptr = np.array([1,4,4,4,6,7])\n",
        "A2 = spMatrix(val, col_idx, row_ptr)\n",
        "print(\"B =\\n\",A2)\n",
        "print(\"|Bx -Bx| = \",np.linalg.norm(spMatrixProd(A2,x) - np.dot(A2.dMatrix(),x)))\n",
        "print()\n",
        "\n",
        "#The last column is omitted in the sparse matrix, but the multiplication still works!\n",
        "#This is not a bug, but a feature. But the output cannot be directly compared with a numpy method.\n",
        "A3 = spMatFromDMat(np.array([[1,2,0],[1,2,0],[4,3,0]]))\n",
        "print(\"C =\\n\",A3)\n",
        "print(\"|Cx -Cx| = \",np.linalg.norm(spMatrixProd(A3,x) - np.dot(A3.dMatrix(),x[:2])))\n",
        "print()\n",
        "\n",
        "#Complex numbers in matrix\n",
        "A4 = spMatFromDMat(np.array([[1+1j,0,2-2j],[0,3+2j,1-4j],[1+1j,0,0]]))\n",
        "print(\"D =\\n\", A4)\n",
        "print(\"|Dx -Dx| = \",np.linalg.norm(spMatrixProd(A4,x) - np.dot(A4.dMatrix(),x[:3])))\n",
        "print()\n",
        "\n",
        "#Complex numbers in vector\n",
        "x2 = np.array([1+1j,2+2j,3-1j])\n",
        "print(\"x2 = \", x2)\n",
        "print(\"|Cx2 -Cx2| = \",np.linalg.norm(spMatrixProd(A3,x2) - np.dot(A3.dMatrix(),x2[:2])))\n"
      ],
      "metadata": {
        "colab": {
          "base_uri": "https://localhost:8080/"
        },
        "id": "GhBbbQQ1wl1i",
        "outputId": "592f7af6-79e3-4fa7-cdb1-cb4c92f19b41"
      },
      "execution_count": 38,
      "outputs": [
        {
          "output_type": "stream",
          "name": "stdout",
          "text": [
            "x = [1 2 3 4 5 6]\n",
            "\n",
            "A =\n",
            " [[3 2 0 2 0 0]\n",
            " [0 2 1 0 0 0]\n",
            " [0 0 1 0 0 0]\n",
            " [0 0 3 2 0 0]\n",
            " [0 0 0 0 1 0]\n",
            " [0 0 0 0 2 3]]\n",
            "|Ax -Ax| =  0.0\n",
            "\n",
            "B =\n",
            " [[3 2 0 2 0 0]\n",
            " [0 0 0 0 0 0]\n",
            " [0 0 0 0 0 0]\n",
            " [0 0 0 2 0 3]\n",
            " [0 0 0 0 1 0]\n",
            " [0 0 3 0 2 0]]\n",
            "|Bx -Bx| =  0.0\n",
            "\n",
            "C =\n",
            " [[1 2]\n",
            " [1 2]\n",
            " [4 3]]\n",
            "|Cx -Cx| =  0.0\n",
            "\n",
            "D =\n",
            " [[1.+1.j 0.+0.j 2.-2.j]\n",
            " [0.+0.j 3.+2.j 1.-4.j]\n",
            " [1.+1.j 0.+0.j 0.+0.j]]\n",
            "|Dx -Dx| =  0.0\n",
            "\n",
            "x2 =  [1.+1.j 2.+2.j 3.-1.j]\n",
            "|Cx2 -Cx2| =  0.0\n"
          ]
        }
      ]
    },
    {
      "cell_type": "markdown",
      "source": [
        "# QR factorization implementation"
      ],
      "metadata": {
        "id": "X64lXdqFwuWq"
      }
    },
    {
      "cell_type": "markdown",
      "source": [
        "Tests: R is upper triangular, Frobenius norms $|| Q^TQ-I ||_F$, $|| QR-A ||_F$"
      ],
      "metadata": {
        "id": "0HKJ0n2o0ytS"
      }
    },
    {
      "cell_type": "code",
      "source": [
        "#TESTS\n",
        "\n",
        "A = np.array([[2,-1],[-1,2]], dtype = float)\n",
        "Q,R = modified_gram_schmidt_iteration(A)\n",
        "print(R)\n",
        "\n",
        "#|| Q^TQ-I || is close enough to 0\n",
        "print(np.linalg.norm(np.matmul(Q,Q.transpose())-np.identity(Q.shape[0])))\n",
        "\n",
        "#|| QR-A ||_F is exactly 0\n",
        "print(np.linalg.norm(np.matmul(Q,R)-A))"
      ],
      "metadata": {
        "colab": {
          "base_uri": "https://localhost:8080/"
        },
        "id": "fx2jUwGgw2t5",
        "outputId": "69f5f28a-0c07-421a-856d-d5c2331173d8"
      },
      "execution_count": 41,
      "outputs": [
        {
          "output_type": "stream",
          "name": "stdout",
          "text": [
            "[[ 2.23606798 -1.78885438]\n",
            " [ 0.          1.34164079]]\n",
            "3.1836122848239643e-16\n",
            "0.0\n"
          ]
        }
      ]
    },
    {
      "cell_type": "markdown",
      "source": [
        "# Direct solver $Ax = b$"
      ],
      "metadata": {
        "id": "0qR3kLWvw7XK"
      }
    },
    {
      "cell_type": "markdown",
      "source": [
        "Tests: Test: residual $|| Ax-b ||$, and $|| x-y ||$ where y is a manufactured solution with $b=Ay$"
      ],
      "metadata": {
        "id": "VO5msw9r1awB"
      }
    },
    {
      "cell_type": "code",
      "source": [
        "#TESTS\n",
        "\n",
        "A = np.array([[1,0,0],[1,2,0],[0,1,1]],dtype = float)\n",
        "b = np.array([1,2,3], dtype = float)\n",
        "x = solve(A,b)\n",
        "\n",
        "#|| Ax-b || is pretty much 0\n",
        "print(np.linalg.norm(np.dot(A,x)-b))\n",
        "\n",
        "#|| x-y || is pretty much 0\n",
        "y = np.array([1.0,0.5,2.5]) #Answer from wolframAlpha\n",
        "print(np.linalg.norm(x-y))\n",
        "\n",
        "#Stupid floats making my answers inexact"
      ],
      "metadata": {
        "colab": {
          "base_uri": "https://localhost:8080/"
        },
        "id": "MNV5m_MtxBCR",
        "outputId": "c55b923a-8272-4bf2-8b2e-82164a1f26cb"
      },
      "execution_count": 19,
      "outputs": [
        {
          "output_type": "stream",
          "name": "stdout",
          "text": [
            "8.95090418262362e-16\n",
            "1.0532500405730103e-15\n"
          ]
        }
      ]
    },
    {
      "cell_type": "markdown",
      "source": [
        "#Bonus assignment: Least squares solver for $Ax=b$"
      ],
      "metadata": {
        "id": "ShLrJxiHxIGi"
      }
    },
    {
      "cell_type": "markdown",
      "source": [
        "Tests: residual $|| Ax-b ||$ and plot the solutions"
      ],
      "metadata": {
        "id": "UXZ2hi7D1q1p"
      }
    },
    {
      "cell_type": "code",
      "source": [
        "#TESTS\n",
        "\n",
        "#Test 1: Exact solution does not exist -> residual should hopefully be low\n",
        "plt.figure()\n",
        "Xs = np.array([1,2,4,6,8])\n",
        "Ys = np.array([5,4,3,2,2])\n",
        "\n",
        "plt.plot(Xs,Ys, 'o')\n",
        "\n",
        "A = np.array([np.ones(len(Xs)),Xs]).transpose()\n",
        "b = Ys\n",
        "sol = least_squares(A,b)\n",
        "Xl = [Xs[0],Xs[-1]]\n",
        "Yl = [Xs[0]*sol[1]+sol[0],Xs[-1]*sol[1]+sol[0]]\n",
        "plt.plot(Xl,Yl)\n",
        "\n",
        "print(\"Residual Ax-b:\",np.linalg.norm(np.matmul(A,sol)-b))\n",
        "\n",
        "#Test 2: Exact solution exists -> residual should be 0\n",
        "plt.figure()\n",
        "Xs = np.array([1,2,4,6,8])\n",
        "Ys = np.array([7,9,13,17,21])\n",
        "\n",
        "plt.plot(Xs,Ys, 'o')\n",
        "\n",
        "A = np.array([np.ones(len(Xs)),Xs]).transpose()\n",
        "b = Ys\n",
        "sol = least_squares(A,b)\n",
        "Xl = [Xs[0],Xs[-1]]\n",
        "Yl = [Xs[0]*sol[1]+sol[0],Xs[-1]*sol[1]+sol[0]]\n",
        "plt.plot(Xl,Yl)\n",
        "\n",
        "print(\"Residual Ax-b:\",np.linalg.norm(np.matmul(A,sol)-b))\n",
        "\n",
        "#Test 3: Higher grade polynomial fit, for fun.\n",
        "plt.figure()\n",
        "Xs = np.array([1.0,2.0,3.0,4.0,5.0,6.0])\n",
        "Ys = np.array([2.0,4.0,3.0,2.0,5.0,13.0])\n",
        "\n",
        "plt.plot(Xs,Ys, 'o')\n",
        "A = np.array([np.power(Xs,0),np.power(Xs,1),np.power(Xs,2),np.power(Xs,3)]).transpose()\n",
        "b = Ys\n",
        "sol = least_squares(A,b)\n",
        "Xl = np.linspace(Xs[0],Xs[-1],100)\n",
        "Yl = sol[0]*np.power(Xl,0)+sol[1]*np.power(Xl,1)+sol[2]*np.power(Xl,2)+sol[3]*np.power(Xl,3)\n",
        "plt.plot(Xl,Yl)"
      ],
      "metadata": {
        "colab": {
          "base_uri": "https://localhost:8080/",
          "height": 1000
        },
        "id": "IcLapfSyxLri",
        "outputId": "139fefaf-889e-492c-89da-578fad2b4af5"
      },
      "execution_count": 20,
      "outputs": [
        {
          "output_type": "stream",
          "name": "stdout",
          "text": [
            "[[  5.  21.]\n",
            " [ 21. 121.]]\n",
            "[16. 53.]\n",
            "Residual Ax-b: 0.8077369772334579\n",
            "[[  5.  21.]\n",
            " [ 21. 121.]]\n",
            "[ 67. 347.]\n",
            "Residual Ax-b: 1.553169870994752e-13\n",
            "[[6.0000e+00 2.1000e+01 9.1000e+01 4.4100e+02]\n",
            " [2.1000e+01 9.1000e+01 4.4100e+02 2.2750e+03]\n",
            " [9.1000e+01 4.4100e+02 2.2750e+03 1.2201e+04]\n",
            " [4.4100e+02 2.2750e+03 1.2201e+04 6.7171e+04]]\n",
            "[  29.  130.  670. 3676.]\n"
          ]
        },
        {
          "output_type": "execute_result",
          "data": {
            "text/plain": [
              "[<matplotlib.lines.Line2D at 0x7f98e7e66a90>]"
            ]
          },
          "metadata": {},
          "execution_count": 20
        },
        {
          "output_type": "display_data",
          "data": {
            "text/plain": [
              "<Figure size 432x288 with 1 Axes>"
            ],
            "image/png": "[encoded data removed]"
          },
          "metadata": {
            "needs_background": "light"
          }
        },
        {
          "output_type": "display_data",
          "data": {
            "text/plain": [
              "<Figure size 432x288 with 1 Axes>"
            ],
            "image/png": "[encoded data removed]"
          },
          "metadata": {
            "needs_background": "light"
          }
        },
        {
          "output_type": "display_data",
          "data": {
            "text/plain": [
              "<Figure size 432x288 with 1 Axes>"
            ],
            "image/png": "[encoded data removed]"
          },
          "metadata": {
            "needs_background": "light"
          }
        }
      ]
    },
    {
      "cell_type": "markdown",
      "metadata": {
        "id": "_4GLBv0zWr7m"
      },
      "source": [
        "# **Discussion**"
      ]
    },
    {
      "cell_type": "markdown",
      "metadata": {
        "id": "6bcsDSoRXHZe"
      },
      "source": [
        "The algorithm appears to work correctly in the limited test cases. The time complexity is for the direct solver for $Ax = b$ is $O(n^3)$, as the Gram-Schmidt QR factorization has $O(n^3)$ complexity, and the other parts of the algorithm are quicker and done sequentially."
      ]
    }
  ]
}