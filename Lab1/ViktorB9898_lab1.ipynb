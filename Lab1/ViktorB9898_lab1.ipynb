{
  "cells": [
    {
      "cell_type": "markdown",
      "metadata": {
        "id": "view-in-github",
        "colab_type": "text"
      },
      "source": [
        "<a href=\"https://colab.research.google.com/github/johanhoffman/DD2363_VT23/blob/ViktorB9898-Lab1/Lab1/ViktorB9898_lab1.ipynb\" target=\"_parent\"><img src=\"https://colab.research.google.com/assets/colab-badge.svg\" alt=\"Open In Colab\"/></a>"
      ]
    },
    {
      "cell_type": "markdown",
      "metadata": {
        "id": "6RgtXlfYO_i7"
      },
      "source": [
        "# **Lab 1: Matrix Factorization**\n",
        "**Viktor Beck**"
      ]
    },
    {
      "cell_type": "markdown",
      "metadata": {
        "id": "9x_J5FVuPzbm"
      },
      "source": [
        "# **Abstract**"
      ]
    },
    {
      "cell_type": "markdown",
      "metadata": {
        "id": "6UFTSzW7P8kL"
      },
      "source": [
        "This programming assingment features three different functions concerning matrix factorization: a sparse matrix-vector product, QR factorization nad a solver for Ax=b.\n",
        "\n",
        "Each of the functions was implemented based on pseudocode from the book of Professor Hoffman (https://doi-org.focus.lib.kth.se/10.1137/1.9781611976724).\n",
        "\n",
        "Conclusion: testing of the algorithms delivered good results which means they are at least correct but especially function 2 and 3 are not very efficient."
      ]
    },
    {
      "cell_type": "markdown",
      "metadata": {
        "id": "OkT8J7uOWpT3"
      },
      "source": [
        "#**About the code**"
      ]
    },
    {
      "cell_type": "code",
      "execution_count": 1,
      "metadata": {
        "colab": {
          "base_uri": "https://localhost:8080/",
          "height": 35
        },
        "id": "Pdll1Xc9WP0e",
        "outputId": "d4bb01e1-6322-4d94-d37f-2e577a5440a3"
      },
      "outputs": [
        {
          "output_type": "execute_result",
          "data": {
            "text/plain": [
              "'KTH Royal Institute of Technology, Stockholm, Sweden.'"
            ],
            "application/vnd.google.colaboratory.intrinsic+json": {
              "type": "string"
            }
          },
          "metadata": {},
          "execution_count": 1
        }
      ],
      "source": [
        "\"\"\"This program is a lab report in the course\"\"\"\n",
        "\"\"\"DD2363 Methods in Scientific Computing, \"\"\"\n",
        "\"\"\"KTH Royal Institute of Technology, Stockholm, Sweden.\"\"\"\n",
        "\n",
        "# Copyright (C) 2023 Viktor Beck (vbeck@kth.se / viktor.beck98@gmail.com)\n",
        "\n",
        "# This file is part of the course DD2363 Methods in Scientific Computing\n",
        "# KTH Royal Institute of Technology, Stockholm, Sweden"
      ]
    },
    {
      "cell_type": "markdown",
      "metadata": {
        "id": "28xLGz8JX3Hh"
      },
      "source": [
        "# **Set up environment**"
      ]
    },
    {
      "cell_type": "markdown",
      "metadata": {
        "id": "D2PYNusD08Wa"
      },
      "source": [
        "To have access to the neccessary modules you have to run this cell. If you need additional modules, this is where you add them. "
      ]
    },
    {
      "cell_type": "code",
      "execution_count": 2,
      "metadata": {
        "id": "Xw7VlErAX7NS"
      },
      "outputs": [],
      "source": [
        "# Load neccessary modules.\n",
        "from google.colab import files\n",
        "\n",
        "import time\n",
        "import numpy as np\n",
        "\n",
        "from matplotlib import pyplot as plt\n",
        "from matplotlib import tri\n",
        "from matplotlib import axes"
      ]
    },
    {
      "cell_type": "markdown",
      "metadata": {
        "id": "gnO3lhAigLev"
      },
      "source": [
        "# **Introduction**"
      ]
    },
    {
      "cell_type": "markdown",
      "metadata": {
        "id": "l5zMzgPlRAF6"
      },
      "source": [
        "This programming assingment features three different functions concerning matrix factorization: a sparse matrix-vector product, QR factorization and a solver for Ax=b. Such methods are fundamental for solving linear algebra problems numerically. The examples of such problems are endless. Starting from machine learning algorithms to fluid simulations.\n",
        "\n",
        "The chosen algorithms produce correct results but are in general not the most efficient ones. Efficiency was not tested here but in general, one can say that dense matrix-vector multiplication brings a lot of computational effort. There are other algorithms that are more suitable for large simulations (except maybe function 1) or any other problem that has to work with large matrices and / or has to run a lot of iterations. A solution to this could be parallelizing some of the steps. E.g. matrix-vector multiplication of large matrices is often ported to the GPU for parallel computation.\n",
        "\n",
        "The input for this Lab report was taken from the book of Professor Hoffman (https://doi-org.focus.lib.kth.se/10.1137/1.9781611976724) which corresponds to the content of the course:\n",
        "\n",
        "[Hyperlink to DD2363 course website.](https://kth.instructure.com/courses/17068)"
      ]
    },
    {
      "cell_type": "markdown",
      "metadata": {
        "id": "jOQvukXZq5U5"
      },
      "source": [
        "# **Method**"
      ]
    },
    {
      "cell_type": "markdown",
      "metadata": {
        "id": "C49r7BC47PQh"
      },
      "source": [
        "### **1. Function: sparse matrix-vector product**"
      ]
    },
    {
      "cell_type": "markdown",
      "metadata": {
        "id": "gop-9eQMrZ5g"
      },
      "source": [
        "Here we simply implement the pseudo code from Lecture 1 (Chapter 5.8). The input is given as a matrix in CRS format and a vector. The output is the matrix-vector product of those.\n",
        "\n",
        "The function iterates over the rows of the matrix and multiplies each of the (non-zero) entries with the corresponding entry of the vector and sums them up."
      ]
    },
    {
      "cell_type": "code",
      "execution_count": 3,
      "metadata": {
        "id": "6aes6Sz2rZ5g"
      },
      "outputs": [],
      "source": [
        "def sparse_matvec_product(val, col_idx, row_ptr, x):\n",
        "    b = np.zeros(len(x))\n",
        "    for i in range(len(x)):\n",
        "        for j in range(row_ptr[i]-1,row_ptr[i+1]-1):\n",
        "            b[i] += val[j]*x[col_idx[j]-1]\n",
        "    return b"
      ]
    },
    {
      "cell_type": "markdown",
      "metadata": {
        "id": "6ah7oYwqrZ5h"
      },
      "source": [
        "### **2. Function: QR factorization**"
      ]
    },
    {
      "cell_type": "markdown",
      "metadata": {
        "id": "3Kjj0J-VrZ5h"
      },
      "source": [
        "Here we use the Gram-Schmidt QR factorization algorithm from Chapter 5.3. The algorithm uses the Gram-Schmidt method to produce the matrices Q and R. In each iteration one of the column vectors of A is taken and iteratively orthogonalized in another loop. After this inner loop the column vector is getting normalized and stored as a column vector of Q. Entries of R are produced as a byproduct along the way."
      ]
    },
    {
      "cell_type": "code",
      "execution_count": 4,
      "metadata": {
        "id": "W8IBlDHKrZ5h"
      },
      "outputs": [],
      "source": [
        "def QR_factorization(A):\n",
        "    n = A.shape[0]\n",
        "    Q = np.zeros([n,n])\n",
        "    R = np.zeros([n,n])\n",
        "    i = 0\n",
        "    for j in range(n):\n",
        "        v = A[:,j]\n",
        "        for i in range(j):\n",
        "            R[i,j] = np.dot(Q[:,i], v)\n",
        "            v = v - R[i,j]*Q[:,i]\n",
        "        R[j,j] = np.linalg.norm(v)\n",
        "        Q[:,j] = v/R[j,j]\n",
        "    return Q, R"
      ]
    },
    {
      "cell_type": "markdown",
      "metadata": {
        "id": "ocrZz1BXrZ5h"
      },
      "source": [
        "### **3. Function: direct solver Ax=b**"
      ]
    },
    {
      "cell_type": "markdown",
      "metadata": {
        "id": "BX7nRCigrZ5h"
      },
      "source": [
        "This function is called Richardson iteration solver. It is a rather simple solver for this problem but works nervertheless. The method converges as long as $||I-\\alpha A||<1$. \n",
        "\n",
        "In every iteration the residual is calculated as $r_{k}=Ax_{k}$ and from that x. By this x takes a step in the direction of the residual with each iteration. The function runs as long as the residual is greater than a certain tolerance."
      ]
    },
    {
      "cell_type": "code",
      "execution_count": 5,
      "metadata": {
        "id": "JFgZkaUfrZ5j"
      },
      "outputs": [],
      "source": [
        "def richardson_iteration(A, b, alpha, tol):\n",
        "    n = len(b)\n",
        "    x = np.zeros(n)\n",
        "    r = b\n",
        "    b_norm = np.linalg.norm(b)\n",
        "    while np.linalg.norm(r)/b_norm > tol:\n",
        "        r = np.matmul(A,x)\n",
        "        r = b - r\n",
        "        x = x + alpha * r\n",
        "    return x"
      ]
    },
    {
      "cell_type": "markdown",
      "metadata": {
        "id": "SsQLT38gVbn_"
      },
      "source": [
        "# **Results**"
      ]
    },
    {
      "cell_type": "markdown",
      "metadata": {
        "id": "Oy_RIBAkrZ5j"
      },
      "source": [
        "### **1. Function: sparse matrix-vector product**"
      ]
    },
    {
      "cell_type": "code",
      "execution_count": 6,
      "metadata": {
        "colab": {
          "base_uri": "https://localhost:8080/"
        },
        "id": "vDg9PtAFrZ5j",
        "outputId": "b9a17e06-89ad-44bd-dc0e-417c804073da"
      },
      "outputs": [
        {
          "output_type": "stream",
          "name": "stdout",
          "text": [
            "[7. 3. 1. 5. 1. 5.]\n"
          ]
        }
      ],
      "source": [
        "# input\n",
        "# matrix A\n",
        "val =     np.array([3,2,2,2,1,1,3,2,1,2,3])\n",
        "col_idx = np.array([1,2,4,2,3,3,3,4,5,5,6])\n",
        "row_ptr = np.array([1,4,6,7,9,10,12])\n",
        "# vector x\n",
        "n = len(row_ptr)-1\n",
        "x = np.ones(n)\n",
        "\n",
        "# execute function\n",
        "b_sparse = sparse_matvec_product(val, col_idx, row_ptr, x)\n",
        "print(b_sparse)"
      ]
    },
    {
      "cell_type": "markdown",
      "metadata": {
        "id": "RLwlnOzuV-Cd"
      },
      "source": [
        "To test if the algorithm works correctly the corresponding dense matrix-vector multiplication is performed:"
      ]
    },
    {
      "cell_type": "code",
      "execution_count": 7,
      "metadata": {
        "colab": {
          "base_uri": "https://localhost:8080/"
        },
        "id": "djMjrreerZ5k",
        "outputId": "e164d7e1-bdb1-46fa-b533-a77ea6ac4696"
      },
      "outputs": [
        {
          "output_type": "stream",
          "name": "stdout",
          "text": [
            "b with sparse matrix multiplication:\t [7. 3. 1. 5. 1. 5.]\n",
            "b with dense matrix multiplication:\t [7. 3. 1. 5. 1. 5.]\n"
          ]
        }
      ],
      "source": [
        "\n",
        "A = np.array([[3,2,0,2,0,0],\n",
        "              [0,2,1,0,0,0],\n",
        "              [0,0,1,0,0,0],\n",
        "              [0,0,3,2,0,0],\n",
        "              [0,0,0,0,1,0],\n",
        "              [0,0,0,0,2,3]])\n",
        "\n",
        "b_dense = np.matmul(A,x, out=None)\n",
        "\n",
        "print(\"b with sparse matrix multiplication:\\t\", b_sparse)\n",
        "print(\"b with dense matrix multiplication:\\t\", b_dense)"
      ]
    },
    {
      "cell_type": "markdown",
      "metadata": {
        "id": "EwjPXPVJrZ5k"
      },
      "source": [
        "### **2. Function: QR factorization**"
      ]
    },
    {
      "cell_type": "markdown",
      "metadata": {
        "id": "VRt7JtoGrZ5k"
      },
      "source": [
        "One can see that matrix R is upper trianguar:"
      ]
    },
    {
      "cell_type": "code",
      "execution_count": 8,
      "metadata": {
        "colab": {
          "base_uri": "https://localhost:8080/"
        },
        "id": "x8a3x6yBrZ5l",
        "outputId": "232cd8e6-0676-4238-e08d-b05714131b3b"
      },
      "outputs": [
        {
          "output_type": "stream",
          "name": "stdout",
          "text": [
            "Rank(A) = 4\n",
            "Q:\n",
            " [[ 0.68199924 -0.14289077  0.13514966 -0.70441027]\n",
            " [ 0.33606173  0.01977186  0.81180873  0.47711442]\n",
            " [ 0.6409567  -0.02104702 -0.56799993  0.51585619]\n",
            " [ 0.10542328  0.9893171  -0.00878792 -0.10030144]]\n",
            "R:\n",
            " [[1.35384788 0.89162028 1.26204609 0.79034448]\n",
            " [0.         0.73558047 0.74951318 0.03668232]\n",
            " [0.         0.         0.67203033 0.72197242]\n",
            " [0.         0.         0.         0.29381458]]\n"
          ]
        }
      ],
      "source": [
        "# arbitrary matrix A\n",
        "'''\n",
        "A = np.array([[1,0,0,0],\n",
        "              [1,0,0,5],\n",
        "              [0,3,8,3],\n",
        "              [3,3,3,3,]])\n",
        "'''\n",
        "A = np.random.rand(4,4)\n",
        "# check for rank\n",
        "print(\"Rank(A) =\", np.linalg.matrix_rank(A))\n",
        "\n",
        "Q, R = QR_factorization(A)\n",
        "print(\"Q:\\n\",Q)\n",
        "print(\"R:\\n\",R)"
      ]
    },
    {
      "cell_type": "markdown",
      "metadata": {
        "id": "Mi0iGCVerZ5l"
      },
      "source": [
        "Calulate Frobenius norms $||Q^TQ-I||_F, ||QR-A||_F$:"
      ]
    },
    {
      "cell_type": "code",
      "execution_count": 9,
      "metadata": {
        "colab": {
          "base_uri": "https://localhost:8080/"
        },
        "id": "aexDj9YNrZ5l",
        "outputId": "97fba14d-c4f1-48a4-af55-577cf0a60b17"
      },
      "outputs": [
        {
          "output_type": "stream",
          "name": "stdout",
          "text": [
            "Norm(A-QR): 2.0816681711721685e-16\n",
            "Norm(Q^T*Q-I): 1.4464646466968441e-15\n"
          ]
        }
      ],
      "source": [
        "print(\"Norm(A-QR):\", np.linalg.norm(A-np.matmul(Q,R), 'fro'))\n",
        "print(\"Norm(Q^T*Q-I):\", np.linalg.norm(np.matmul(Q.transpose(),Q)-np.eye(Q.shape[0]), 'fro'))"
      ]
    },
    {
      "cell_type": "markdown",
      "metadata": {
        "id": "u7mjSFCPrZ5l"
      },
      "source": [
        "... one can see that both norms are 0 (considering machine precision)."
      ]
    },
    {
      "cell_type": "markdown",
      "metadata": {
        "id": "urB3aECOrZ5l"
      },
      "source": [
        "### **3. Function: direct solver Ax=b**"
      ]
    },
    {
      "cell_type": "code",
      "execution_count": 10,
      "metadata": {
        "colab": {
          "base_uri": "https://localhost:8080/"
        },
        "id": "tJ1WCI8GrZ5m",
        "outputId": "517db233-c840-4047-c6b7-7ef131ef113f"
      },
      "outputs": [
        {
          "output_type": "stream",
          "name": "stdout",
          "text": [
            "x with solver:\t [ 1.  1. -0.]\n",
            "x custom :\t [ 9.99999998e-01  1.00000004e+00 -1.52235605e-08]\n"
          ]
        }
      ],
      "source": [
        "# input\n",
        "A = np.array([[1,0,0],\n",
        "              [1,1,0],\n",
        "              [0,3,8]])\n",
        "b = np.array([1,2,3])\n",
        "\n",
        "# excute function\n",
        "x = richardson_iteration(A, b, alpha=0.01, tol=10**-8)\n",
        "\n",
        "# calculate exact solution\n",
        "y = np.linalg.solve(A,b)\n",
        "\n",
        "print(\"x with solver:\\t\", y)\n",
        "print(\"x custom :\\t\", x)"
      ]
    },
    {
      "cell_type": "markdown",
      "metadata": {
        "id": "N33YqOftrZ5m"
      },
      "source": [
        "Calculate residual $||Ax-b||$ and $||x-y||$ where y is the exact solution:"
      ]
    },
    {
      "cell_type": "code",
      "execution_count": 11,
      "metadata": {
        "colab": {
          "base_uri": "https://localhost:8080/"
        },
        "id": "Y6VguIz3rZ5m",
        "outputId": "fc255c58-0cfc-4d13-eedc-415a59e8defd"
      },
      "outputs": [
        {
          "output_type": "stream",
          "name": "stdout",
          "text": [
            "Norm(Ax-b) = 3.691064427594355e-08\n",
            "Norm(x-y) = 3.8935891043404126e-08\n"
          ]
        }
      ],
      "source": [
        "print(\"Norm(Ax-b) =\", np.linalg.norm(np.matmul(A,x)-b))\n",
        "print(\"Norm(x-y) =\", np.linalg.norm(x-y))"
      ]
    },
    {
      "cell_type": "markdown",
      "metadata": {
        "id": "QBolikMgrZ5m"
      },
      "source": [
        "... one can see that both norms are in the value range of the chosen tolerance. Decreasing the tolerance will increase the precision but also increase computational cost.\n",
        "\n",
        "Let's visualize the convergence:"
      ]
    },
    {
      "cell_type": "code",
      "execution_count": 12,
      "metadata": {
        "colab": {
          "base_uri": "https://localhost:8080/",
          "height": 296
        },
        "id": "iKvB0cPVrZ5n",
        "outputId": "7580a108-3f4c-492d-f66b-56841f21b3c7"
      },
      "outputs": [
        {
          "output_type": "execute_result",
          "data": {
            "text/plain": [
              "Text(0, 0.5, 'error_norm')"
            ]
          },
          "metadata": {},
          "execution_count": 12
        },
        {
          "output_type": "display_data",
          "data": {
            "text/plain": [
              "<Figure size 432x288 with 1 Axes>"
            ],
            "image/png": "[encoded data removed]"
          },
          "metadata": {
            "needs_background": "light"
          }
        }
      ],
      "source": [
        "def richardson_iteration_error(A, b, alpha, tol):\n",
        "    y = np.linalg.solve(A,b)\n",
        "    n = len(b)\n",
        "    x = np.zeros(n)\n",
        "    r = b\n",
        "    b_norm = np.linalg.norm(b)\n",
        "    err = []\n",
        "    while np.linalg.norm(r)/b_norm > tol:\n",
        "        r = np.matmul(A,x)\n",
        "        r = b - r\n",
        "        x = x + alpha * r\n",
        "        err.append(np.linalg.norm(x-y))\n",
        "    return err\n",
        "\n",
        "error = richardson_iteration_error(A, b, alpha=0.01, tol=0.001)\n",
        "\n",
        "plt.plot(range(len(error)), error)\n",
        "plt.xlabel(\"iterations\")\n",
        "plt.ylabel(\"error_norm\")\n",
        "\n"
      ]
    },
    {
      "cell_type": "markdown",
      "metadata": {
        "id": "lGRIbBa4rZ5n"
      },
      "source": [
        "... one can see that for even a high tolerance a lot of iterations have to be done."
      ]
    },
    {
      "cell_type": "markdown",
      "metadata": {
        "id": "_4GLBv0zWr7m"
      },
      "source": [
        "# **Discussion**"
      ]
    },
    {
      "cell_type": "markdown",
      "metadata": {
        "id": "6bcsDSoRXHZe"
      },
      "source": [
        "Condluding one can say that each of the algorithms fulfills its purpose. As stated in the introduction the efficiency (time and memory) is usually a critical factor which is probably the biggest flaw concerning function 2 and 3. But the used functions are fairly simple and still useful for smaller caclulations that are not critical about efficiency."
      ]
    }
  ],
  "metadata": {
    "colab": {
      "provenance": [],
      "include_colab_link": true
    },
    "kernelspec": {
      "display_name": "Python 3",
      "language": "python",
      "name": "python3"
    },
    "language_info": {
      "codemirror_mode": {
        "name": "ipython",
        "version": 3
      },
      "file_extension": ".py",
      "mimetype": "text/x-python",
      "name": "python",
      "nbconvert_exporter": "python",
      "pygments_lexer": "ipython3",
      "version": "3.10.6"
    },
    "vscode": {
      "interpreter": {
        "hash": "916dbcbb3f70747c44a77c7bcd40155683ae19c65e1c03b4aa3499c5328201f1"
      }
    }
  },
  "nbformat": 4,
  "nbformat_minor": 0
}