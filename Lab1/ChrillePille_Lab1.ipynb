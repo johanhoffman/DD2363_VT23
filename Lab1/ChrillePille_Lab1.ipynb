{
  "nbformat": 4,
  "nbformat_minor": 0,
  "metadata": {
    "colab": {
      "provenance": [],
      "collapsed_sections": [
        "X09_q1ulmhQ4"
      ]
    },
    "kernelspec": {
      "name": "python3",
      "display_name": "Python 3"
    }
  },
  "cells": [
    {
      "cell_type": "markdown",
      "metadata": {
        "id": "6RgtXlfYO_i7"
      },
      "source": [
        "# **Lab 1: Matrix factorization**\n",
        "**Christian Weigelt**"
      ]
    },
    {
      "cell_type": "markdown",
      "metadata": {
        "id": "9x_J5FVuPzbm"
      },
      "source": [
        "# **Abstract**"
      ]
    },
    {
      "cell_type": "markdown",
      "metadata": {
        "id": "6UFTSzW7P8kL"
      },
      "source": [
        "This lab consisted of the implementation of a selection of linear algebra functions, and one simple method, as well as some functions related to matrix factorization and the direct solving of linear equation systems. Test code is written to verify the correctness and performance of output. \n",
        "  In the introduction section, the functions are given a brief description, both of input/output, and what is to be tested. \n",
        "  In the method section, short definitions of the functions are given, and their respective implementation and test function is presented.\n",
        "  In the results section, the output of the test cases is presented."
      ]
    },
    {
      "cell_type": "markdown",
      "metadata": {
        "id": "28xLGz8JX3Hh"
      },
      "source": [
        "# **Set up environment**"
      ]
    },
    {
      "cell_type": "code",
      "metadata": {
        "id": "Xw7VlErAX7NS"
      },
      "source": [
        "import numpy as np\n",
        "import scipy.sparse as sparse\n",
        "import math"
      ],
      "execution_count": 62,
      "outputs": []
    },
    {
      "cell_type": "markdown",
      "metadata": {
        "id": "gnO3lhAigLev"
      },
      "source": [
        "# **Introduction**"
      ]
    },
    {
      "cell_type": "markdown",
      "metadata": {
        "id": "l5zMzgPlRAF6"
      },
      "source": [
        "In this lab, the assignment was to implement 4 functions, with input and output as defined in the lab instructions, as well as write code tests to test output.\n",
        "  \n",
        "1. Function: sparse matrix-vector product\n",
        "\n",
        "  Input: vector x, sparse (real, quadratic) matrix A: CRS arrays val, col_idx, row_ptr</br>\n",
        "  Output: matrix-vector product b=Ax\n",
        "  \n",
        "  Test: verify accuracy against dense matrix-vector product. \n",
        "</br>\n",
        "2. Function: QR factorization\n",
        "\n",
        "  Input: (real quadratic) matrix A</br>\n",
        "  Output: orthogonal matrix Q, upper triangular matrix R, such that A=QR\n",
        "  \n",
        "  Test: R upper triangular, Frobenius norms || Q^TQ-I ||_F, || QR-A ||_F\n",
        "</br>\n",
        "3. Function: direct solver Ax=b\n",
        "\n",
        "  Input: (real, quadratic) matrix A, vector b</br>\n",
        "  Output: vector x=A^-1b\n",
        "  \n",
        "  Test: residual || Ax-b ||, and || x-y || where y is a manufactured solution with b=Ay\n",
        "</br>\n",
        "4. Function: least squares problem Ax=b\n",
        "\n",
        "  Input: rectangular matrix A, vector b</br>\n",
        "  Output: vector x \n",
        "\n",
        "  Test: residual || Ax-b ||\n",
        "  </br>"
      ]
    },
    {
      "cell_type": "markdown",
      "metadata": {
        "id": "jOQvukXZq5U5"
      },
      "source": [
        "# **Method**"
      ]
    },
    {
      "cell_type": "markdown",
      "metadata": {
        "id": "zF4iBj5VURZx"
      },
      "source": [
        "Here the code for the assignment is provided."
      ]
    },
    {
      "cell_type": "markdown",
      "metadata": {
        "id": "OP-tO3_Nh_Th"
      },
      "source": [
        "###Sparse matrix-vector product\n",
        "Function 1 is 'sparse matrix-vector product'\n",
        "\n",
        "Given a vector $x$ and a sparse, real, quadratic matrix $A$ represented by CRS arrays val, col_idx, and row_ptr, this function returns $b = Ax$. It is also assumed that correct input is provided to the function."
      ]
    },
    {
      "cell_type": "code",
      "metadata": {
        "id": "raTJGSSTj0Cm"
      },
      "source": [
        "def sparse_matrix_vector_product(x, val, col_idx, row_ptr):\n",
        "\n",
        "  b = np.zeros(x.shape[0])\n",
        "  for i in range(x.shape[0]):\n",
        "    for j in range(row_ptr[i], row_ptr[i+1], 1): # index by zero in row_ptr and col_idx\n",
        "      b[i] += val[j]*x[col_idx[j]]\n",
        "  return b"
      ],
      "execution_count": 14,
      "outputs": []
    },
    {
      "cell_type": "markdown",
      "metadata": {
        "id": "IW0fzTuhp_6d"
      },
      "source": [
        "To test the above code, we can run the following test function:"
      ]
    },
    {
      "cell_type": "code",
      "metadata": {
        "id": "_rkFEmytqCAx",
        "colab": {
          "base_uri": "https://localhost:8080/"
        },
        "outputId": "35c26874-2b77-4f5d-fb77-794e8ac13125"
      },
      "source": [
        "def test_sparse_matrix_vector_product():\n",
        "  print(\"Testing spare_matrix_vector_product()\")\n",
        "  dim = 20\n",
        "  a = sparse.random(dim, dim, density=0.4, format='csr', dtype='float')\n",
        "  val = a.data\n",
        "  col_idx = a.indices\n",
        "  row_ptr = a.indptr\n",
        "  x = np.random.random_sample([dim,])\n",
        "  test = sparse_matrix_vector_product(x, val, col_idx, row_ptr)\n",
        "  control = np.dot(a.todense(), x)\n",
        "  assert np.allclose(test, control) == True, \"incorrect result for sparse matrix-vector product\"\n",
        "\n",
        "if __name__ == '__main__':\n",
        "  test_sparse_matrix_vector_product()"
      ],
      "execution_count": 82,
      "outputs": [
        {
          "output_type": "stream",
          "name": "stdout",
          "text": [
            "Testing spare_matrix_vector_product()\n"
          ]
        }
      ]
    },
    {
      "cell_type": "markdown",
      "metadata": {
        "id": "vcsCWlNjrdF8"
      },
      "source": [
        "###QR factorization\n",
        "Function 2 is 'QR factorization'\n",
        "\n",
        "Given a real, quadratic matrix $A$, this function returns an orthogonal matrix $Q$ and an upper triangular matrix $R$, such that $A = QR$ "
      ]
    },
    {
      "cell_type": "code",
      "metadata": {
        "id": "2mYKlKEjtaaV"
      },
      "source": [
        "def qr_factorization(a):\n",
        "  if a.ndim != 2:\n",
        "      return \"error: a is not a matrix\"\n",
        "  if a.shape[0] != a.shape[1]:\n",
        "      return \"error: a is not a square matrix\"\n",
        "  r = np.zeros(a.shape)\n",
        "  q = np.zeros(a.shape)\n",
        "  for j in range(a.shape[0]):\n",
        "    v = a[:, j]\n",
        "    for i in range(j):\n",
        "      r[i,j] = np.dot(q[:, i], v)\n",
        "      v = np.subtract(v, r[i, j]*q[:, i])\n",
        "    r[j, j] = np.linalg.norm(v)\n",
        "    q[:, j] = v * (1 / r[j, j])\n",
        "  return q, r"
      ],
      "execution_count": 16,
      "outputs": []
    },
    {
      "cell_type": "markdown",
      "metadata": {
        "id": "is_OnqZyus4s"
      },
      "source": [
        "To test the above code, we can run the following test function:"
      ]
    },
    {
      "cell_type": "code",
      "metadata": {
        "id": "fICplWxkuvma"
      },
      "source": [
        "def test_qr_factorization():\n",
        "  print(\"Testing qr_factorization()\")\n",
        "  a = np.random.randint(10, size=(5, 5))\n",
        "  test_q, test_r = qr_factorization(a)\n",
        "  control = np.dot(test_q, test_r)\n",
        "  assert np.allclose(a, control) == True, \"incorrect result for qr factorization\"\n",
        "  # check if r is an upper triangular matrix\n",
        "  tri = True\n",
        "  for i in range(test_r.shape[0]):\n",
        "    for j in range(0, i - 1):\n",
        "      if test_r[i, j] != 0:\n",
        "        tri = False\n",
        "  assert tri, \"r is not a triangular matrix\"\n",
        "  # Calculate || Q^TQ-I ||_F\n",
        "  sum1 = 0\n",
        "  qt_q = np.dot(np.transpose(test_q), test_q)\n",
        "  id_m = np.identity(a.shape[0])\n",
        "  for i in range(a.shape[0]):\n",
        "    for j in range(a.shape[0]):\n",
        "      s = qt_q[i, j] - id_m[i,j]\n",
        "      sum1 += s*s\n",
        "  frob1 =  math.sqrt(sum1)\n",
        "  assert np.isclose(0, frob1), \"frobenius norm || Q^TQ-I ||_F is not very small\"\n",
        "  # Calculate || QR-A ||_F\n",
        "  sum2 = 0\n",
        "  for i in range(a.shape[0]):\n",
        "    for j in range(a.shape[0]):\n",
        "      s = control[i, j] - a[i, j]\n",
        "      sum2 += s*s\n",
        "  frob2 =  math.sqrt(sum2)\n",
        "  assert np.isclose(0, frob2), \"frobenius norm || QR-A ||_F is not very small\" "
      ],
      "execution_count": 17,
      "outputs": []
    },
    {
      "cell_type": "markdown",
      "metadata": {
        "id": "XuMq-KJr6y-Y"
      },
      "source": [
        "This test function will check if $A = QR$, as well as if $Q$ is orthogonal (i.e. the distance between $Q^T Q$ and $I$ (identity matrix) is small), and if the distance between $QR$ and $A$ is small."
      ]
    },
    {
      "cell_type": "markdown",
      "metadata": {
        "id": "BeigRko00fZo"
      },
      "source": [
        "###Direct solver Ax=b\n",
        "Function 3 is 'direct solver Ax=b'\n",
        "\n",
        "Given a real, quadratic matrix $A$, and a vector $b$, this function returns the solution to the linear equation system $Ax = b$,  $x = A^{-1}b$. This is done by QR factorization of $A$ into $A = QR$, computation of $y = Q^T b$, and then solving $Rx = y$ by back substitution."
      ]
    },
    {
      "cell_type": "code",
      "metadata": {
        "id": "6nbaWwpTJnmx"
      },
      "source": [
        "def direct_solve(a, b):\n",
        "  q, r = qr_factorization(a)\n",
        "  y = np.dot(np.transpose(q), b)\n",
        "  n = a.shape[0]\n",
        "  x = np.zeros(n)\n",
        "  x[n - 1] = y[n - 1]/r[n - 1, n - 1]\n",
        "  for i in range(n - 2, -1, -1):\n",
        "    sum = 0\n",
        "    for j in range(i + 1, n):\n",
        "      sum += r[i, j]*x[j]\n",
        "    x[i] = (y[i] - sum)/r[i, i]\n",
        "  return x"
      ],
      "execution_count": 18,
      "outputs": []
    },
    {
      "cell_type": "markdown",
      "metadata": {
        "id": "slnVKs9qMZLX"
      },
      "source": [
        "To test the above code, we can run the following test function:"
      ]
    },
    {
      "cell_type": "code",
      "metadata": {
        "id": "8-igllCYMbgt"
      },
      "source": [
        "def test_direct_solve():\n",
        "  print(\"Testing direct_solve()\")\n",
        "  a = np.random.randint(10, size=(10, 10))\n",
        "  b = np.random.randint(10, size=10)\n",
        "  x = direct_solve(a, b)\n",
        "  residual = np.linalg.norm(np.subtract(np.dot(a, x), b))\n",
        "  assert np.isclose(0, residual) == True, \"incorrect result for direct solve\"\n",
        "  man_a = np.zeros((3,3))\n",
        "  man_a[0, :] = [5, 3, 2]\n",
        "  man_a[1, :] = [1, 1, 1]\n",
        "  man_a[2, :] = [1, 3, 2]\n",
        "  #matrix([[5, 3, 2], [1, 1, 1], [1, 3, 2]])\n",
        "  man_b = np.array([60, 16, 36])\n",
        "  man_x = np.matrix([6, 10, 0])\n",
        "  y = direct_solve(man_a, man_b)\n",
        "  assert np.isclose(0, np.linalg.norm(np.subtract(man_x, y))) == True, \"distance to manufactured solution\""
      ],
      "execution_count": 19,
      "outputs": []
    },
    {
      "cell_type": "markdown",
      "metadata": {
        "id": "X09_q1ulmhQ4"
      },
      "source": [
        "###Least squares problem Ax = b\n",
        "Function 4 is 'least squares problem Ax = b'\n",
        "\n",
        "Given a rectangular matrix $A$, and a vector $b$, this function returns an approximation of the solution to the linear equation system $Ax = b$."
      ]
    },
    {
      "cell_type": "code",
      "metadata": {
        "id": "3qlfg7M3n_2o"
      },
      "source": [
        "def least_squares(a, b):\n",
        "  sq_a = np.dot(np.transpose(a), a)\n",
        "  new_b = np.dot(np.transpose(a), b)\n",
        "  return direct_solve(sq_a, new_b)\n"
      ],
      "execution_count": 20,
      "outputs": []
    },
    {
      "cell_type": "markdown",
      "metadata": {
        "id": "K_r-o301p9vb"
      },
      "source": [
        "To test the above code, we can run the following test function:"
      ]
    },
    {
      "cell_type": "code",
      "metadata": {
        "id": "k6sr83jFp_PA"
      },
      "source": [
        "def test_least_squares():\n",
        "  print(\"Testing least_squares()\")\n",
        "  sum = 0\n",
        "  k = 100\n",
        "  m = 20\n",
        "  n = 5\n",
        "  for i in range(k):\n",
        "    a = np.random.randint(10, size=(m, n))\n",
        "    b = np.random.randint(10, size=m)\n",
        "    x = least_squares(a, b)\n",
        "    sum += np.linalg.norm(np.subtract(np.dot(a, x), b))\n",
        "  sum = sum/100\n",
        "  print(f'Least squares method produced a mean norm of {sum} over {k} tests of {m}*{n}-matrices (A), and {m}-vectors (b)')\n"
      ],
      "execution_count": 21,
      "outputs": []
    },
    {
      "cell_type": "markdown",
      "metadata": {
        "id": "8wXdjY6B7BFN"
      },
      "source": [
        "###Testing\n",
        "Then to perform all the tests, we can run the following code:"
      ]
    },
    {
      "cell_type": "code",
      "metadata": {
        "id": "_ib6wHc-7Gr8",
        "colab": {
          "base_uri": "https://localhost:8080/"
        },
        "outputId": "c781f4fb-4b4b-4650-cc96-dc9d00396eb5"
      },
      "source": [
        "def run_all_tests():\n",
        "  test_sparse_matrix_vector_product()\n",
        "  test_qr_factorization()\n",
        "  test_direct_solve()\n",
        "  test_least_squares()\n",
        "  print(\"All tests OK\")\n",
        "\n",
        "if __name__ == '__main__':\n",
        "  run_all_tests()"
      ],
      "execution_count": 81,
      "outputs": [
        {
          "output_type": "stream",
          "name": "stdout",
          "text": [
            "Testing spare_matrix_vector_product()\n",
            "Testing qr_factorization()\n",
            "Testing direct_solve()\n",
            "Testing least_squares()\n",
            "Least squares method produced a mean norm of 11.847098864779085 over 100 tests of 20*5-matrices (A), and 20-vectors (b)\n",
            "All tests OK\n"
          ]
        }
      ]
    },
    {
      "cell_type": "markdown",
      "metadata": {
        "id": "SsQLT38gVbn_"
      },
      "source": [
        "# **Results**"
      ]
    },
    {
      "cell_type": "markdown",
      "metadata": {
        "id": "RLwlnOzuV-Cd"
      },
      "source": [
        "Running the test cases here in google colab, after importing required libraries, defining all functions, etc., generates the following output:\n",
        "```\n",
        "Testing spare_matrix_vector_product()\n",
        "Testing qr_factorization()\n",
        "Testing direct_solve()\n",
        "Testing least_squares()\n",
        "Least squares method produced a mean norm of 12.083311383755506 over 100 tests of 20*5-matrices (A), and 20-vectors (b)\n",
        "All tests OK\n",
        "```\n",
        "From which we can see that all test cases were passed, as well as the performance of the least squares method implementation."
      ]
    },
    {
      "cell_type": "markdown",
      "metadata": {
        "id": "_4GLBv0zWr7m"
      },
      "source": [
        "# **Discussion**"
      ]
    },
    {
      "cell_type": "markdown",
      "metadata": {
        "id": "6bcsDSoRXHZe"
      },
      "source": [
        "The functions have the correct input and output as required by the lab instructions, as verified by the test cases.\n",
        "\n",
        "I was not sure what the required margin of error would be for the least squares method, and I did not implement an extensive test case suite for plotting performance."
      ]
    }
  ]
}